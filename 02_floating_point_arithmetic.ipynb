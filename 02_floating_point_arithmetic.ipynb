{
 "cells": [
  {
   "attachments": {},
   "cell_type": "markdown",
   "metadata": {},
   "source": [
    "![UTFSM](https://github.com/tclaudioe/Scientific-Computing-V3/blob/main/images/Departamento%20de%20Inform%C3%A1tica%20cromatica%20negra%404x-8.png?raw=true)\n",
    "# INF-285 - Computación Científica\n",
    "## Floating Point Arithmetic and Loss of Significance\n",
    "## Version: 1.29\n",
    "## [Acknowledgements](#acknowledgements)\n",
    "\n",
    "[![Open In Colab](https://colab.research.google.com/assets/colab-badge.svg)](https://colab.research.google.com/github/tclaudioe/Scientific-Computing-V3/blob/main/02_floating_point_arithmetic.ipynb)\n"
   ]
  },
  {
   "cell_type": "markdown",
   "metadata": {},
   "source": [
    "<div id='toc' />\n",
    "\n",
    "# Table of Contents\n",
    "* [Introduction to double precision](#intro)\n",
    "* [The nature of floating point numbers](#nature)\n",
    "* [Visualization of floating point numbers](#visualization)\n",
    "* [What is the first integer that is not representable in double precision?](#firstinteger)\n",
    "* [Loss of significance](#loss)\n",
    "* [Loss of significance in funcion evaluation](#func)\n",
    "* [Acknowledgements](#acknowledgements)\n",
    "* [Extras](#extras) "
   ]
  },
  {
   "cell_type": "code",
   "execution_count": 1,
   "metadata": {},
   "outputs": [
    {
     "name": "stdout",
     "output_type": "stream",
     "text": [
      "numpy is already installed.\n",
      "scipy is already installed.\n",
      "matplotlib is already installed.\n",
      "colorama is already installed.\n",
      "bitstring is already installed.\n",
      "sympy is already installed.\n",
      "ipywidgets is already installed.\n",
      "pandas is already installed.\n",
      "Running on local environment\n"
     ]
    }
   ],
   "source": [
    "##########################\n",
    "# CoLab requirements\n",
    "# https://stackoverflow.com/questions/44210656/how-to-check-if-a-module-is-installed-in-python-and-if-not-install-it-within-t\n",
    "##########################\n",
    "\n",
    "# https://pypi.org/project/colorama/\n",
    "\n",
    "import importlib.util\n",
    "import sys\n",
    "import subprocess\n",
    "import os\n",
    "    \n",
    "# install_colab_requirements \n",
    "libraries = ['numpy', 'scipy', 'matplotlib', 'colorama', \n",
    "            'bitstring', 'sympy', 'ipywidgets','pandas']\n",
    "\n",
    "for library in libraries:\n",
    "    # Check if the library is already installed\n",
    "    if importlib.util.find_spec(library) is not None:\n",
    "        print(f\"{library} is already installed.\")\n",
    "    else:\n",
    "        print(f\"{library} is not installed. Installing...\")\n",
    "        # Install the library using pip\n",
    "        subprocess.check_call([sys.executable, \"-m\", \"pip\", \"install\", library])\n",
    "        print(f\"{library} has been installed.\")\n",
    "# https://stackoverflow.com/questions/53581278/test-if-notebook-is-running-on-google-colab\n",
    "if os.getenv(\"COLAB_RELEASE_TAG\"):\n",
    "    print('Installing LaTeX support in CoLab')\n",
    "    # Adding LaTeX dependencies to CoLab: https://stackoverflow.com/questions/55746749/latex-equations-do-not-render-in-google-colaboratory-when-using-matplotlib\n",
    "    !sudo apt install cm-super dvipng texlive-latex-extra texlive-latex-recommended\n",
    "else:\n",
    "   print('Running on local environment')"
   ]
  },
  {
   "cell_type": "code",
   "execution_count": 2,
   "metadata": {},
   "outputs": [],
   "source": [
    "import numpy as np\n",
    "import matplotlib.pyplot as plt\n",
    "%matplotlib inline\n",
    "\n",
    "import bitstring as bs\n",
    "\n",
    "# next_float(f) computes the next representable float number right after the float number \"f\".\n",
    "def next_float(f):\n",
    "    # Packing double-precision float\n",
    "    b = bs.pack('>d', f)\n",
    "    \n",
    "    # extracting mantisa as unsigned int and adding up 1.\n",
    "    # There are two cases, (1) if the bits of the mantissa are all 1,\n",
    "    # (2) all the other cases.\n",
    "    m = b[12:].uint\n",
    "    if m==4503599627370495:\n",
    "        # Case (1)\n",
    "        m=0\n",
    "        b[12:] = m\n",
    "        exp=b[1:12].uint\n",
    "        exp +=1\n",
    "        b[1:12] = exp\n",
    "        \n",
    "    else:\n",
    "        # Case (2)\n",
    "        m += 1\n",
    "        # putting the result in his place\n",
    "        b[12:] = m\n",
    "    \n",
    "    return b.float\n",
    "\n",
    "# gap_to_next_float(f) computes the difference between the float number \"f\" and the next representable float number.\n",
    "def gap_to_next_float(f):\n",
    "    next_f = next_float(f)\n",
    "    return next_f - f\n",
    "\n",
    "# This function shows the bits used for the sign, exponent and mantissa for a 64-bit double precision number.\n",
    "# Input:\n",
    "#   f:                  A double precision float number\n",
    "#   flagMoreReadable:   If True, it will print the number in a more readable format\n",
    "#   flagPrintNumber:    If True, it will print the number before showing the bits\n",
    "def to_fps_double(f, flagMoreReadable=False, flagPrintNumber=False):\n",
    "    if flagPrintNumber:\n",
    "        print(f'The number is: {f:.16f}', end=' -> ')\n",
    "    b = bs.pack('>d', f)\n",
    "    b = b.bin\n",
    "    sign = b[0]\n",
    "    exponent = b[1:12]\n",
    "    mantissa = b[12:]\n",
    "    if not flagMoreReadable:\n",
    "        print(sign+' '+exponent+' '+mantissa)\n",
    "    else:\n",
    "        exponent_value = int(exponent, 2)-1023\n",
    "        if exponent_value == -1023: # Special case 00000000000: SubNormal Representation\n",
    "            print('(',end='')\n",
    "            if sign == '0':\n",
    "                print('+0.', end='(')\n",
    "            else:\n",
    "                print('-0.', end='(')\n",
    "            print(mantissa+')_2)* 2^{-1022}')\n",
    "        else: # Normal Representation\n",
    "            if exponent_value == 1024: # Special case 111111111111: +-Inf and NaN\n",
    "                mantissa_value = int(mantissa, 2)\n",
    "                if mantissa_value == 0:\n",
    "                    if sign == '0':\n",
    "                        print('+Inf: ',end='')\n",
    "                    else:\n",
    "                        print('-Inf: ',end='')\n",
    "                else:\n",
    "                    print('NaN: ',end='')\n",
    "                print('(',end='')\n",
    "            # Printing the Normal Representation\n",
    "            print('(',end='') \n",
    "            if sign == '0':\n",
    "                print('+1.', end='(')\n",
    "            else:\n",
    "                print('-1.', end='(')\n",
    "            print(mantissa+')_2)* 2^{'+str(exponent_value)+'}')"
   ]
  },
  {
   "cell_type": "code",
   "execution_count": 3,
   "metadata": {},
   "outputs": [
    {
     "name": "stdout",
     "output_type": "stream",
     "text": [
      "0 01111111111 0000000000000000000000000000000000000000000000000000\n",
      "(+1.(0000000000000000000000000000000000000000000000000000)_2)* 2^{0}\n",
      "The number is: 1.0000000000000000 -> (+1.(0000000000000000000000000000000000000000000000000000)_2)* 2^{0}\n",
      "0 01111111111 0000000000000000000000000000000000000000000000000001\n",
      "0 01111111110 1111111111111111111111111111111111111111111111111110\n",
      "0 01111001011 0000000000000000000000000000000000000000000000000000\n",
      "0 00000000000 0000000000000000000000000000000000000000000000000000\n",
      "2.220446049250313e-16\n"
     ]
    }
   ],
   "source": [
    "eps = np.power(2.,-52)\n",
    "to_fps_double(1.)\n",
    "to_fps_double(1.,True)\n",
    "to_fps_double(1.,True,True)\n",
    "to_fps_double(1.+eps)\n",
    "to_fps_double(1.-eps)\n",
    "to_fps_double(eps)\n",
    "to_fps_double(0.)\n",
    "print(eps)"
   ]
  },
  {
   "cell_type": "code",
   "execution_count": 4,
   "metadata": {},
   "outputs": [
    {
     "name": "stdout",
     "output_type": "stream",
     "text": [
      "0 01111111111 0000000000000000000000000000000000000000000000000001\n",
      "0 01111111111 0000000000000000000000000000000000000000000000000000\n",
      "0 01111111111 0000000000000000000000000000000000000000000000000010\n",
      "0 01111111110 1111111111111111111111111111111111111111111111111111\n"
     ]
    }
   ],
   "source": [
    "to_fps_double(1.+np.power(2.,-52))\n",
    "to_fps_double(1.+np.power(2.,-53))\n",
    "to_fps_double(1.+3*np.power(2.,-52)/2)\n",
    "to_fps_double(1.-np.power(2.,-53))\n"
   ]
  },
  {
   "cell_type": "markdown",
   "metadata": {},
   "source": [
    "<div id='intro' />\n",
    "\n",
    "# Introduction to double precision\n",
    "[Back to TOC](#toc)\n",
    "\n",
    "Hello! This notebook is an introduction to how our computers handle the representation of real numbers using double-precision floating-point standard IEEE 754. \n",
    "To understand the contents of this notebook you should have at least a basic notion of how binary numbers work.\n",
    "\n",
    "The double-precision floating-point format occupies 64 bits which are divided as follows:\n",
    "\n",
    "* 1 bit for the sign\n",
    "* 11 bits for the exponent\n",
    "* 52 bits for the mantissa\n",
    "\n",
    "This means that the very next representable number after $1$ is $1 + 2^{-52}$, and their difference, $2^{-52}$, is the called $\\epsilon_{mach}$.\n",
    "\n",
    "Additionally, if you'd like to quickly go from a base-2 integer to a base-10 integer and viceversa, Python has some functions that can help you with that."
   ]
  },
  {
   "cell_type": "code",
   "execution_count": 5,
   "metadata": {},
   "outputs": [
    {
     "data": {
      "text/plain": [
       "3"
      ]
     },
     "execution_count": 5,
     "metadata": {},
     "output_type": "execute_result"
    }
   ],
   "source": [
    "# This code translate from a binary number using the prefix \"0b\" to a base 10 number.\n",
    "int('0b11', 2)"
   ]
  },
  {
   "cell_type": "code",
   "execution_count": 6,
   "metadata": {},
   "outputs": [
    {
     "data": {
      "text/plain": [
       "'0b1001'"
      ]
     },
     "execution_count": 6,
     "metadata": {},
     "output_type": "execute_result"
    }
   ],
   "source": [
    "# This code translate from base 10 to base 2.\n",
    "bin(9)"
   ]
  },
  {
   "cell_type": "code",
   "execution_count": 7,
   "metadata": {},
   "outputs": [
    {
     "data": {
      "text/plain": [
       "'0b100000000000000000000000000000000000000000000000000000'"
      ]
     },
     "execution_count": 7,
     "metadata": {},
     "output_type": "execute_result"
    }
   ],
   "source": [
    "# Just looking a large binary number\n",
    "bin(2**53)"
   ]
  },
  {
   "cell_type": "markdown",
   "metadata": {},
   "source": [
    "## An example of why we need to be aware of double precision in simple computations"
   ]
  },
  {
   "cell_type": "code",
   "execution_count": 8,
   "metadata": {},
   "outputs": [
    {
     "name": "stdout",
     "output_type": "stream",
     "text": [
      "0.1111111111111111\n",
      "0 01111111011 1100011100011100011100011100011100011100011100011100\n"
     ]
    }
   ],
   "source": [
    "# Definition of example value stored in double precision\n",
    "a = 1./9\n",
    "# We show the value stored in base 10\n",
    "print(a)\n",
    "# We show the value stored in double precision: sign+exponent+mantissa\n",
    "to_fps_double(a)"
   ]
  },
  {
   "cell_type": "markdown",
   "metadata": {},
   "source": [
    "We perform the following computation that in **exact arithmetic** should be exactly $0$"
   ]
  },
  {
   "cell_type": "code",
   "execution_count": 9,
   "metadata": {},
   "outputs": [
    {
     "name": "stdout",
     "output_type": "stream",
     "text": [
      "1.3877787807814457e-17\n"
     ]
    }
   ],
   "source": [
    "b = (a*10)/10 - a\n",
    "print(b)"
   ]
  },
  {
   "cell_type": "markdown",
   "metadata": {},
   "source": [
    "The issue is that it is not exactly zero but close. \n",
    "Let's look at each intermediate step."
   ]
  },
  {
   "cell_type": "code",
   "execution_count": 10,
   "metadata": {},
   "outputs": [
    {
     "name": "stdout",
     "output_type": "stream",
     "text": [
      "(a*10):\n",
      "0 01111111111 0001110001110001110001110001110001110001110001110010\n",
      "(a*10)/10:\n",
      "0 01111111011 1100011100011100011100011100011100011100011100011101\n",
      "b=(a*10)/10 - a\n",
      "0 01111000111 0000000000000000000000000000000000000000000000000000\n",
      "np.log2(b): -56.0\n"
     ]
    }
   ],
   "source": [
    "print('(a*10):')\n",
    "to_fps_double((a*10))\n",
    "print('(a*10)/10:')\n",
    "to_fps_double((a*10)/10)\n",
    "print('b=(a*10)/10 - a')\n",
    "to_fps_double(b)\n",
    "print('np.log2(b):',np.log2(b))"
   ]
  },
  {
   "cell_type": "markdown",
   "metadata": {},
   "source": [
    "The issue is that multiplying by $10$ and then dividing by $10$ in double precision does not cancel out exactly, only approximately given that we only have a finite number of bits to store each number computationally."
   ]
  },
  {
   "cell_type": "markdown",
   "metadata": {},
   "source": [
    "<div id='nature' />\n",
    "\n",
    "# The nature of floating point numbers\n",
    "[Back to TOC](#toc)"
   ]
  },
  {
   "attachments": {},
   "cell_type": "markdown",
   "metadata": {},
   "source": [
    "As we know until now, float representations of real numbers are just a finite and bounded representation of them. \n",
    "But another interesting thing is that these floating point numbers are distributed across the real numbers not uniformly.\n",
    "\n",
    "To see that, it's really important to keep in mind the following property of floating point numbers:\n",
    "$$\n",
    "\\begin{equation*} \n",
    "    \\left|\\frac{\\text{fl}(x)-x}{x}\\right| \\leq \\frac{1}{2} \\epsilon_{\\text{mach}}, \n",
    "\\end{equation*}\n",
    "$$\n",
    "where $\\text{fl}(x)$ means the floating point representation of $x \\in \\mathbb{R}$, this means that $\\text{fl}(x)$ is the actual number that is stored in memory when we try to store the number $x$. \n",
    "What it says is that **the relative error in representing any non-zero real number x is bounded by a quantity that depends on the precision bing used**, i.e. ($\\epsilon_{\\text{mach}}$).\n",
    "\n",
    "Maybe, now you're thinking: What does this relationship have to do with the distribution of floating point numbers? \n",
    "So, if we rewrite the previous as follows we get:\n",
    "$$\n",
    "\\begin{equation} \n",
    "    |\\text{fl}(x)-x| \\leq \\frac{1}{2} \\epsilon_{\\text{mach}}\\,|x|.\n",
    "\\end{equation}\n",
    "$$\n",
    "It's clear then: **The absolute error (distance) between a real number and its floating point representation is proportional to the real number's magnitude.**\n",
    "\n",
    "Intuitively speaking, the representation error of a number increases as its magnitude increases, this implies that **the distance between a floating point number and the next representable floating point number will increase as the magnitude of such number increases (and conversely)**. \n",
    "Could you prove that?  \n",
    "For now, we will prove it numerically.\n",
    "\n",
    "We will use a library named **bitstring** to visualize what it is being stored in double precision. "
   ]
  },
  {
   "cell_type": "markdown",
   "metadata": {},
   "source": [
    "The next two functions are self-explanatory:\n",
    "\n",
    "1. `next_float(f)` computes the next representable float number right after $f$.\n",
    "2. `gap_to_next_float(f)` computes the difference between $f$ and the next representable float number.\n",
    "\n",
    "Notice that here we are considering that we are using double-precision."
   ]
  },
  {
   "cell_type": "markdown",
   "metadata": {},
   "source": [
    "So if we compute `gap_to_next_float(1)` we should get machine epsilon. \n",
    "Let's try it:"
   ]
  },
  {
   "cell_type": "code",
   "execution_count": 11,
   "metadata": {},
   "outputs": [
    {
     "data": {
      "text/plain": [
       "2.220446049250313e-16"
      ]
     },
     "execution_count": 11,
     "metadata": {},
     "output_type": "execute_result"
    }
   ],
   "source": [
    "gap_to_next_float(1)"
   ]
  },
  {
   "cell_type": "code",
   "execution_count": 12,
   "metadata": {},
   "outputs": [
    {
     "data": {
      "text/plain": [
       "0.000244140625"
      ]
     },
     "execution_count": 12,
     "metadata": {},
     "output_type": "execute_result"
    }
   ],
   "source": [
    "# What happens when we increase the value?\n",
    "gap_to_next_float(2**40)"
   ]
  },
  {
   "cell_type": "code",
   "execution_count": 13,
   "metadata": {},
   "outputs": [
    {
     "name": "stdout",
     "output_type": "stream",
     "text": [
      "1.0\n",
      "2.0\n"
     ]
    }
   ],
   "source": [
    "# When will the gap be greater that 1?\n",
    "print(gap_to_next_float(2.**52))\n",
    "print(gap_to_next_float(2.**53))\n",
    "# What does it mean to have a gap larger than 1?"
   ]
  },
  {
   "cell_type": "markdown",
   "metadata": {},
   "source": [
    "In order to prove our hypothesis (that floating point numbers are not uniformly distributed), we will create an array of values: $[2^{-5},...,2^{60}]$ and compute their corresponding gaps."
   ]
  },
  {
   "cell_type": "code",
   "execution_count": 14,
   "metadata": {},
   "outputs": [],
   "source": [
    "# values = np.array([2**i for i in range(-5,60)]).astype(float) # Not vectorized form, included for reference.\n",
    "values = np.logspace(-5,59,65,base=2) # Vectorized form\n",
    "\n",
    "# Corresponding gaps:\n",
    "# The Numpy function \"vectorize\" is very useful to be use one wants to apply\n",
    "# a scalar function to each element of an array.\n",
    "vgap_to_next_float = np.vectorize(gap_to_next_float)\n",
    "gaps = vgap_to_next_float(values)"
   ]
  },
  {
   "cell_type": "markdown",
   "metadata": {},
   "source": [
    "We include now a comparison between a linear scale plot and a loglog scale plot. Which one is more useful here?"
   ]
  },
  {
   "cell_type": "code",
   "execution_count": 15,
   "metadata": {},
   "outputs": [
    {
     "data": {
      "image/png": "[encoded data removed]",
      "text/plain": [
       "<Figure size 1000x500 with 2 Axes>"
      ]
     },
     "metadata": {},
     "output_type": "display_data"
    }
   ],
   "source": [
    "fig = plt.figure(figsize=(10,5))\n",
    "\n",
    "plt.subplot(121)\n",
    "plt.plot(values, gaps,'.',markersize=20)\n",
    "plt.xlabel('float(x)')\n",
    "plt.ylabel('Gap between next representable number')\n",
    "plt.title('Linear scale')\n",
    "plt.grid(True)\n",
    "\n",
    "plt.subplot(122)\n",
    "plt.loglog(values, gaps,'.')\n",
    "plt.xlabel('float(x)')\n",
    "plt.ylabel('Gap between next representable number')\n",
    "plt.title('Log scale')\n",
    "plt.grid(True)\n",
    "\n",
    "fig.tight_layout()\n",
    "plt.show()"
   ]
  },
  {
   "cell_type": "markdown",
   "metadata": {},
   "source": [
    "As you can see, the hypothesis was right. In other words: Floating point numbers are not uniformly distributed across the real numbers, and the distance between them is proportional to their magnitude. \n",
    "**Tiny numbers (~ 0) are closer between each other than larger numbers are.**\n",
    "\n",
    "Moreover, we can conclude that for large values the gap is larger that $1$, **which means that there will be integers that will not be stored!!**."
   ]
  },
  {
   "cell_type": "markdown",
   "metadata": {},
   "source": [
    "<div id='visualization' />\n",
    "\n",
    "## Visualization of floating point numbers\n",
    "[Back to TOC](#toc)\n",
    "\n",
    "With the help of `bitstring` library we could write a function to visualize floating point numbers in its binary representation.\n",
    "\n",
    "Let's see some intereseting examples:"
   ]
  },
  {
   "cell_type": "code",
   "execution_count": 16,
   "metadata": {},
   "outputs": [
    {
     "name": "stdout",
     "output_type": "stream",
     "text": [
      "0 01111111111 0000000000000000000000000000000000000000000000000000\n"
     ]
    }
   ],
   "source": [
    "to_fps_double(1.)"
   ]
  },
  {
   "cell_type": "code",
   "execution_count": 17,
   "metadata": {},
   "outputs": [
    {
     "data": {
      "text/plain": [
       "1023"
      ]
     },
     "execution_count": 17,
     "metadata": {},
     "output_type": "execute_result"
    }
   ],
   "source": [
    "int('0b01111111111', 2)"
   ]
  },
  {
   "cell_type": "code",
   "execution_count": 18,
   "metadata": {},
   "outputs": [
    {
     "name": "stdout",
     "output_type": "stream",
     "text": [
      "0 01111111111 0000000000000000000000000000000000000000000000000001\n"
     ]
    }
   ],
   "source": [
    "to_fps_double(1.+gap_to_next_float(1))"
   ]
  },
  {
   "cell_type": "code",
   "execution_count": 19,
   "metadata": {},
   "outputs": [
    {
     "name": "stdout",
     "output_type": "stream",
     "text": [
      "0 00000000000 0000000000000000000000000000000000000000000000000000\n"
     ]
    }
   ],
   "source": [
    "to_fps_double(+0.)"
   ]
  },
  {
   "cell_type": "code",
   "execution_count": 20,
   "metadata": {},
   "outputs": [
    {
     "name": "stdout",
     "output_type": "stream",
     "text": [
      "1 00000000000 0000000000000000000000000000000000000000000000000000\n"
     ]
    }
   ],
   "source": [
    "to_fps_double(-0.)"
   ]
  },
  {
   "cell_type": "code",
   "execution_count": 21,
   "metadata": {},
   "outputs": [
    {
     "name": "stdout",
     "output_type": "stream",
     "text": [
      "0 11111111111 0000000000000000000000000000000000000000000000000000\n"
     ]
    }
   ],
   "source": [
    "to_fps_double(np.inf)"
   ]
  },
  {
   "cell_type": "code",
   "execution_count": 22,
   "metadata": {},
   "outputs": [
    {
     "name": "stdout",
     "output_type": "stream",
     "text": [
      "1 11111111111 0000000000000000000000000000000000000000000000000000\n"
     ]
    }
   ],
   "source": [
    "to_fps_double(-np.inf)"
   ]
  },
  {
   "cell_type": "code",
   "execution_count": 23,
   "metadata": {},
   "outputs": [
    {
     "name": "stdout",
     "output_type": "stream",
     "text": [
      "0 11111111111 1000000000000000000000000000000000000000000000000000\n"
     ]
    }
   ],
   "source": [
    "to_fps_double(np.nan)"
   ]
  },
  {
   "cell_type": "code",
   "execution_count": 24,
   "metadata": {},
   "outputs": [
    {
     "name": "stdout",
     "output_type": "stream",
     "text": [
      "1 11111111111 1000000000000000000000000000000000000000000000000000\n"
     ]
    }
   ],
   "source": [
    "to_fps_double(-np.nan)"
   ]
  },
  {
   "cell_type": "code",
   "execution_count": 25,
   "metadata": {},
   "outputs": [
    {
     "name": "stdout",
     "output_type": "stream",
     "text": [
      "0 00000000000 0000000000000000000000000000000000000000000000000001\n"
     ]
    }
   ],
   "source": [
    "to_fps_double(2.**-1074)"
   ]
  },
  {
   "cell_type": "code",
   "execution_count": 26,
   "metadata": {},
   "outputs": [
    {
     "name": "stdout",
     "output_type": "stream",
     "text": [
      "5e-324\n"
     ]
    }
   ],
   "source": [
    "print(2.**-1074)"
   ]
  },
  {
   "cell_type": "code",
   "execution_count": 27,
   "metadata": {},
   "outputs": [
    {
     "name": "stdout",
     "output_type": "stream",
     "text": [
      "0 00000000000 0000000000000000000000000000000000000000000000000000\n"
     ]
    }
   ],
   "source": [
    "to_fps_double(2.**-1075)"
   ]
  },
  {
   "cell_type": "code",
   "execution_count": 28,
   "metadata": {},
   "outputs": [
    {
     "name": "stdout",
     "output_type": "stream",
     "text": [
      "0.0\n"
     ]
    }
   ],
   "source": [
    "print(2.**-1075)"
   ]
  },
  {
   "cell_type": "code",
   "execution_count": 29,
   "metadata": {},
   "outputs": [
    {
     "name": "stdout",
     "output_type": "stream",
     "text": [
      "0 10000000010 0010110011001100110011001100110011001100110011001101\n"
     ]
    }
   ],
   "source": [
    "to_fps_double(9.4)"
   ]
  },
  {
   "cell_type": "markdown",
   "metadata": {},
   "source": [
    "<div id='firstinteger' />\n",
    "\n",
    "## What is the first integer that is not representable in double precision?\n",
    "[Back to TOC](#toc)"
   ]
  },
  {
   "cell_type": "markdown",
   "metadata": {},
   "source": [
    "Recall that $\\epsilon_{\\text{mach}}=2^{-52}$ in double precision."
   ]
  },
  {
   "cell_type": "code",
   "execution_count": 30,
   "metadata": {},
   "outputs": [
    {
     "name": "stdout",
     "output_type": "stream",
     "text": [
      "0 01111111111 0000000000000000000000000000000000000000000000000000\n",
      "0 01111111111 0000000000000000000000000000000000000000000000000001\n"
     ]
    }
   ],
   "source": [
    "to_fps_double(1)\n",
    "to_fps_double(1+2**-52)"
   ]
  },
  {
   "cell_type": "markdown",
   "metadata": {},
   "source": [
    "This means that if we want to store any number in the interval $[1,1+\\epsilon_{\\text{mach}}]$, only the numbers $1$ and $1+\\epsilon_{\\text{mach}}$ will be stored. For example, compare the exponent and the mantissa in the previous cell with the following outputs:"
   ]
  },
  {
   "cell_type": "code",
   "execution_count": 31,
   "metadata": {},
   "outputs": [
    {
     "name": "stdout",
     "output_type": "stream",
     "text": [
      "0 01111111111 0000000000000000000000000000000000000000000000000000\n",
      "0 01111111111 0000000000000000000000000000000000000000000000000000\n",
      "0 01111111111 0000000000000000000000000000000000000000000000000000\n",
      "0 01111111111 0000000000000000000000000000000000000000000000000000\n",
      "0 01111111111 0000000000000000000000000000000000000000000000000001\n",
      "0 01111111111 0000000000000000000000000000000000000000000000000001\n",
      "0 01111111111 0000000000000000000000000000000000000000000000000001\n",
      "0 01111111111 0000000000000000000000000000000000000000000000000001\n",
      "0 01111111111 0000000000000000000000000000000000000000000000000001\n",
      "0 01111111111 0000000000000000000000000000000000000000000000000001\n"
     ]
    }
   ],
   "source": [
    "for i in np.arange(1,11):\n",
    "    to_fps_double(1+i*2**-55)"
   ]
  },
  {
   "cell_type": "markdown",
   "metadata": {},
   "source": [
    "Now, we can scale this difference such that the scaling factor multiplied but $\\epsilon_{\\text{mach}}$ is one. The factor will be $2^{52}$. This means $2^{52}\\,\\epsilon_{\\text{mach}}=1$. Repeating the same example as before but with the scaling factor we obtain:"
   ]
  },
  {
   "cell_type": "code",
   "execution_count": 32,
   "metadata": {},
   "outputs": [
    {
     "name": "stdout",
     "output_type": "stream",
     "text": [
      "0 10000110011 0000000000000000000000000000000000000000000000000000\n",
      "0 10000110011 0000000000000000000000000000000000000000000000000000\n",
      "0 10000110011 0000000000000000000000000000000000000000000000000000\n",
      "0 10000110011 0000000000000000000000000000000000000000000000000000\n",
      "0 10000110011 0000000000000000000000000000000000000000000000000000\n",
      "0 10000110011 0000000000000000000000000000000000000000000000000001\n",
      "0 10000110011 0000000000000000000000000000000000000000000000000001\n",
      "0 10000110011 0000000000000000000000000000000000000000000000000001\n",
      "0 10000110011 0000000000000000000000000000000000000000000000000001\n",
      "0 10000110011 0000000000000000000000000000000000000000000000000001\n",
      "0 10000110011 0000000000000000000000000000000000000000000000000001\n"
     ]
    }
   ],
   "source": [
    "for i in np.arange(11):\n",
    "    to_fps_double((1+i*2**-55)*2**52)"
   ]
  },
  {
   "cell_type": "markdown",
   "metadata": {},
   "source": [
    "Which means we can only store exactly the numbers:"
   ]
  },
  {
   "cell_type": "code",
   "execution_count": 33,
   "metadata": {},
   "outputs": [
    {
     "name": "stdout",
     "output_type": "stream",
     "text": [
      "0 10000110011 0000000000000000000000000000000000000000000000000000\n",
      "0 10000110011 0000000000000000000000000000000000000000000000000001\n"
     ]
    }
   ],
   "source": [
    "to_fps_double(2**52)\n",
    "to_fps_double(2**52+1)"
   ]
  },
  {
   "cell_type": "markdown",
   "metadata": {},
   "source": [
    "This means, the distance now from $2^{52}$ and the following number representable is $1$ !!!! So, what would happend if I can to store $2^{53}+1$?"
   ]
  },
  {
   "cell_type": "code",
   "execution_count": 34,
   "metadata": {},
   "outputs": [
    {
     "name": "stdout",
     "output_type": "stream",
     "text": [
      "0 10000110100 0000000000000000000000000000000000000000000000000000\n",
      "0 10000110100 0000000000000000000000000000000000000000000000000000\n",
      "0 10000110100 0000000000000000000000000000000000000000000000000001\n",
      "0 10000110100 0000000000000000000000000000000000000000000000000010\n",
      "0 10000110100 0000000000000000000000000000000000000000000000000010\n"
     ]
    }
   ],
   "source": [
    "to_fps_double(2**53)\n",
    "to_fps_double(2**53+1)\n",
    "to_fps_double(2**53+2)\n",
    "to_fps_double(2**53+3)\n",
    "to_fps_double(2**53+4)"
   ]
  },
  {
   "cell_type": "markdown",
   "metadata": {},
   "source": [
    "I can't stored the **Integer** $2^{53}+1$! Thus, the first integer not representable is $2^{53}+1$."
   ]
  },
  {
   "cell_type": "markdown",
   "metadata": {},
   "source": [
    "<div id='loss' />\n",
    "\n",
    "# Loss of significance\n",
    "[Back to TOC](#toc)"
   ]
  },
  {
   "cell_type": "markdown",
   "metadata": {},
   "source": [
    "As we mentioned, there's a small gap between 1 and the next representable number, which means that if you want to represent a number between those two, you won't be able to do so; what you would need to do is to round it to a representable number before storing it in memory."
   ]
  },
  {
   "cell_type": "code",
   "execution_count": 35,
   "metadata": {},
   "outputs": [
    {
     "name": "stdout",
     "output_type": "stream",
     "text": [
      "1.0000000000000002220446049250313080847263336181640625\n",
      "2.220446049250313e-16\n",
      "2.220446049250313e-16\n"
     ]
    }
   ],
   "source": [
    "a = 1.\n",
    "b = 2.**(-52) #emach\n",
    "result_1 = a + b     # arithmetic result is 1.0000000000000002220446049250313080847263336181640625\n",
    "result_1b = result_1-1.0\n",
    "print(\"{0:.1000}\".format(result_1))\n",
    "print(result_1b)\n",
    "print(b)"
   ]
  },
  {
   "cell_type": "code",
   "execution_count": 36,
   "metadata": {},
   "outputs": [
    {
     "name": "stdout",
     "output_type": "stream",
     "text": [
      "1.0\n",
      "0.0\n"
     ]
    }
   ],
   "source": [
    "c = 2.**(-53)\n",
    "result_2 = a + c     # arithmetic result is 1.00000000000000011102230246251565404236316680908203125\n",
    "np.set_printoptions(precision=16)\n",
    "print(\"{0:.1000}\".format(result_2))\n",
    "print(result_2-a)"
   ]
  },
  {
   "cell_type": "code",
   "execution_count": 37,
   "metadata": {},
   "outputs": [
    {
     "name": "stdout",
     "output_type": "stream",
     "text": [
      "0 01111111111 0000000000000000000000000000000000000000000000000000\n",
      "0 00000000000 0000000000000000000000000000000000000000000000000000\n"
     ]
    }
   ],
   "source": [
    "to_fps_double(result_2)\n",
    "to_fps_double(result_2-a)"
   ]
  },
  {
   "cell_type": "code",
   "execution_count": 38,
   "metadata": {},
   "outputs": [
    {
     "name": "stdout",
     "output_type": "stream",
     "text": [
      "1.0000000000000002220446049250313080847263336181640625\n",
      "0 01111111111 0000000000000000000000000000000000000000000000000001\n",
      "0 01111001010 1000000000000000000000000000000000000000000000000000\n"
     ]
    }
   ],
   "source": [
    "d = 2.**(-53) + 2.**(-54)\n",
    "\n",
    "result_3 = a + d     # arithmetic result is 1.000000000000000166533453693773481063544750213623046875\n",
    "print(\"{0:.1000}\".format(result_3))\n",
    "to_fps_double(result_3)\n",
    "to_fps_double(d)"
   ]
  },
  {
   "cell_type": "markdown",
   "metadata": {},
   "source": [
    "As you can see, if you try to save a number between $1$ and $1 + \\epsilon _{mach}$, it will have to be rounded (according to IEEE rounding criteria) to a representable number before being stored, thus creating a difference between the _real_ number and the _stored_ number. \n",
    "This situation is an example of loss of significance.\n",
    "\n",
    "**Does that mean that the _gap_ between representable numbers is _always_ going to be $\\epsilon _{mach}$?** Of course not! Some numbers will have smaller gaps, and some others will require larger gaps, as studied before. \n",
    "\n",
    "In any interval of the form $[2^n,2^{n+1}]$ for representable $n\\in \\mathbb{Z}$, the gap is constant. \n",
    "For example, all the numbers between $2^{-1}$ and $2^0$ have a distance of $\\epsilon _{mach}/2$ between them. \n",
    "All the numbers between $2^0$ and $2^1$ have a distance of $\\epsilon _{mach}$ between them. \n",
    "Those between $2^1$ and $2^2$ have a distance of $2\\,\\epsilon _{mach}$ between them, and so on."
   ]
  },
  {
   "cell_type": "code",
   "execution_count": 39,
   "metadata": {},
   "outputs": [
    {
     "name": "stdout",
     "output_type": "stream",
     "text": [
      "0.50000000000000011102230246251565404236316680908203125\n",
      "0.5000000000000002220446049250313080847263336181640625\n"
     ]
    }
   ],
   "source": [
    "# What does it mean to store 0.5+delta?\n",
    "e = 2.**(-1)\n",
    "f = b/2. # emach/2\n",
    "\n",
    "result_4 = e + f     # 0.50000000000000011102230246251565404236316680908203125\n",
    "print(\"{0:.100}\".format(result_4))\n",
    "\n",
    "result_5 = e + b     # 0.5000000000000002220446049250313080847263336181640625\n",
    "print(\"{0:.100}\".format(result_5))"
   ]
  },
  {
   "cell_type": "code",
   "execution_count": 40,
   "metadata": {},
   "outputs": [
    {
     "name": "stdout",
     "output_type": "stream",
     "text": [
      "0.5\n"
     ]
    }
   ],
   "source": [
    "g = b/4.\n",
    "\n",
    "result_5 = e + g     # 0.500000000000000055511151231257827021181583404541015625\n",
    "print(\"{0:.100}\".format(result_5))"
   ]
  },
  {
   "cell_type": "markdown",
   "metadata": {},
   "source": [
    "We'll let the students find some representable numbers and some non-representable numbers."
   ]
  },
  {
   "cell_type": "code",
   "execution_count": 41,
   "metadata": {},
   "outputs": [
    {
     "name": "stdout",
     "output_type": "stream",
     "text": [
      "1.0000000000000002220446049250313080847263336181640625\n"
     ]
    }
   ],
   "source": [
    "num_1 = a\n",
    "num_2 = b\n",
    "result = a + b\n",
    "print(\"{0:.100}\".format(result))"
   ]
  },
  {
   "cell_type": "markdown",
   "metadata": {},
   "source": [
    "<div id='func' />\n",
    "\n",
    "## Loss of significance in function evaluation\n",
    "[Back to TOC](#toc)"
   ]
  },
  {
   "cell_type": "markdown",
   "metadata": {},
   "source": [
    "Loss of Significance is present too in the representation of **functions**. A classical example (which you can see in the guide book), is the next function: \n",
    "\n",
    "$$\n",
    "\\begin{equation}\n",
    "    f_1(x)= \\frac{1 - \\cos x}{\\sin^{2}x} \n",
    "\\end{equation}\n",
    "$$\n",
    "\n",
    "Applying trigonometric identities, we can obtain the 'equivalent' function:\n",
    "$$\n",
    "\\begin{equation}\n",
    "    f_2(x)= \\frac{1}{1 + \\cos x} \n",
    "\\end{equation}\n",
    "$$\n",
    "\n",
    "Both of these functions are apparently equals in exact arithmetic. Nevertheless, its graphics say to us another thing when $x$ is equal to zero.\n",
    "\n",
    "Before we analize the behaviour about $x=0$, let's take a look at them in the range $x\\in[-10,10]$."
   ]
  },
  {
   "cell_type": "code",
   "execution_count": 42,
   "metadata": {},
   "outputs": [],
   "source": [
    "f1 = lambda x: (1.-np.cos(x))/(np.power(np.sin(x),2))\n",
    "f2 = lambda x: 1./(1+np.cos(x))"
   ]
  },
  {
   "cell_type": "code",
   "execution_count": 43,
   "metadata": {
    "scrolled": true
   },
   "outputs": [
    {
     "data": {
      "image/png": "[encoded data removed]",
      "text/plain": [
       "<Figure size 640x480 with 1 Axes>"
      ]
     },
     "metadata": {},
     "output_type": "display_data"
    }
   ],
   "source": [
    "x = np.arange(-10,10,0.1)\n",
    "plt.figure()\n",
    "plt.plot(x,f1(x),'-')\n",
    "plt.grid(True)\n",
    "plt.show()"
   ]
  },
  {
   "cell_type": "markdown",
   "metadata": {},
   "source": [
    "The first plot shows some spikes, are these expected? or is it an artifact?\n",
    "Notice that we mean that something it is an artifact when it only appears due to a numerical computation but it should not be there theoretically.\n",
    "Are these spikes real or not?"
   ]
  },
  {
   "cell_type": "code",
   "execution_count": 44,
   "metadata": {},
   "outputs": [
    {
     "data": {
      "image/png": "[encoded data removed]",
      "text/plain": [
       "<Figure size 640x480 with 1 Axes>"
      ]
     },
     "metadata": {},
     "output_type": "display_data"
    }
   ],
   "source": [
    "plt.figure()\n",
    "plt.plot(x,f2(x),'-')\n",
    "plt.grid(True)\n",
    "plt.show()"
   ]
  },
  {
   "cell_type": "markdown",
   "metadata": {},
   "source": [
    "The second function also shows the spikes! It seems they are real.\n",
    "Actually, they are real!\n",
    "At which points do we expect them?\n",
    "Do we expect them at $x=0$?\n",
    "\n",
    "To answer the last question, we will plot the functions in the range $x\\in[-1,1]$."
   ]
  },
  {
   "cell_type": "code",
   "execution_count": 45,
   "metadata": {},
   "outputs": [
    {
     "data": {
      "image/png": "[encoded data removed]",
      "text/plain": [
       "<Figure size 640x480 with 1 Axes>"
      ]
     },
     "metadata": {},
     "output_type": "display_data"
    }
   ],
   "source": [
    "x = np.arange(-1,1,0.01)\n",
    "plt.figure()\n",
    "plt.plot(x,f1(x),'.',markersize=10)\n",
    "plt.grid(True)\n",
    "plt.show()"
   ]
  },
  {
   "cell_type": "markdown",
   "metadata": {},
   "source": [
    "In the previous function, we see an _outlier_ at $x=0$, this point is telling us that $f_1(x)$ at $x=0$ seems to be $0$.\n",
    "Is this real or it is an artifact?\n",
    "\n",
    "Let's look at the plot of $f_2(x)$ in the same range."
   ]
  },
  {
   "cell_type": "code",
   "execution_count": 46,
   "metadata": {},
   "outputs": [
    {
     "data": {
      "image/png": "[encoded data removed]",
      "text/plain": [
       "<Figure size 640x480 with 1 Axes>"
      ]
     },
     "metadata": {},
     "output_type": "display_data"
    }
   ],
   "source": [
    "plt.figure()\n",
    "plt.plot(x,f2(x),'.',markersize=10)\n",
    "plt.grid(True)\n",
    "plt.show()"
   ]
  },
  {
   "cell_type": "markdown",
   "metadata": {},
   "source": [
    "In this case we see a different behavior. Is this the correct one?\n",
    "Yes!\n",
    "\n",
    "This happens because when $x$ is equal to zero, the first function has an indetermination, but previously, the computer makes a subtraction between numbers that are almost equals. This generates a loss of significance, turning the expression close to this point to be zero. \n",
    "However, modifying this expression to make the second function, eliminates this substraction, fixing the error in its calculation when $x=0$.\n",
    "\n",
    "In conclusion, for us, two representations of a function can be equals in exact arithmetic, but for the computer they can be different!"
   ]
  },
  {
   "cell_type": "markdown",
   "metadata": {},
   "source": [
    "# Libraries\n",
    "### Please make sure you make all of them your BFF!!\n",
    "\n",
    "* Numpy - IEEE 754 Floating Point Special Values: https://docs.scipy.org/doc/numpy-1.10.0/user/misc.html\n",
    "* Matplotlib: http://matplotlib.org/examples/pylab_examples/simple_plot.html\n",
    "* Nice Trick: https://www.dataquest.io/blog/jupyter-notebook-tips-tricks-shortcuts/"
   ]
  },
  {
   "attachments": {},
   "cell_type": "markdown",
   "metadata": {
    "collapsed": true
   },
   "source": [
    "<div id='acknowledgements' />\n",
    "\n",
    "# Acknowledgements\n",
    "[Back to TOC](#toc)\n",
    "\n",
    "* _Material originally created by professor Claudio Torres_ (`ctorres@inf.utfsm.cl`) _and assistants: Laura Bermeo, Alvaro Salinas, Axel Simonsen and Martín Villanueva. v.1.1. DI UTFSM. March 2016._\n",
    "* _Update April 2020 - v1.14 - C.Torres_ : Fixing some issues.\n",
    "* _Update April 2020 - v1.15 - C.Torres_ : Adding subplot.\n",
    "* _Update April 2020 - v1.16 - C.Torres_ : Adding value of numerator and denominator in example of f1 = lambda x: (1.-np.cos(x))/(np.sin(x)** 2).\n",
    "* _Update April 2020 - v1.17 - C.Torres_ : Adding section \"What is the first integer that is not representable in double precision?\"\n",
    "* _Update April 2021 - v1.18 - C.Torres_ : Function \"epsilon\" renamed to function \"gap\" and fixed special case for function \"next_float\".\n",
    "* _Update June 2021 - v1.19 - C.Torres_ : Removing last call to function 'epsilon' that was replaced by 'gap' in the current version, this was generating a bud in the execution of the notebook. Thanks Nicolás Cerpa for pointing this out!\n",
    "* _Update September 2021 - v1.20 - C.Torres_ : Adding back to Table of Content (TOC) link on each other section. Fixing to typos. Adding \\$\\$ before each LaTeX equation staring with begin-equation and begin-align, for instance. Few changes of text in several sections.\n",
    "* _Update March 2022 - v1.21 - C.Torres_ : Adding missing _math mode_ and adding an example with the quadratic formula. Replacing to\\_binary by to\\_fps\\_double. General improvements in the explanation. Updating suggested command to install bitstring. Fixing more _math mode_ issues. Fixing the text.\n",
    "* _Update March 2023 - v1.22 - C.Torres_ : Updating bitstring installing reference, now we are back to pip.\n",
    "* _Update April 2024 - v1.23 - C.Torres_ : Fixing issue in _Acknowledgements_ section, thank Vicente Lineros!\n",
    "* _Update August 2024 - v1.24 - C.Torres_ : Reviewing notebook completely.\n",
    "* _Update March 2025 - v1.25 - C.Torres_ : Moved to new github repo and making the installation of bitstring automatically.\n",
    "* _Update March 2025 - v1.26 - C.Torres_ : Adding Colab link.\n",
    "* _Update March 2025 - v1.27 - C.Torres_ : Adding Colab section for package dependency.\n",
    "* _Update August 2025 - v1.28 - C.Torres_ : Updating the code that checks Colab's dependecies and updating the `to_fps_double` function.\n",
    "* _Update August 2025 - v1.29 - C.Torres_ : Updating title cell."
   ]
  },
  {
   "cell_type": "markdown",
   "metadata": {},
   "source": [
    "<div id='extras' />\n",
    "\n",
    "# Extras\n",
    "[Back to TOC](#toc)"
   ]
  },
  {
   "cell_type": "markdown",
   "metadata": {},
   "source": [
    "## Understanding the error bound between |fl(x)-x|\n",
    "[Back to TOC](#toc)\n",
    "\n",
    "The following code shows a plot of the upper bound of the absolute error we are making when storing the value $x$ as a floating point in double precision, i.e. fl $(x)$.\n",
    "This means:\n",
    "$$\n",
    "    \\begin{equation*} \n",
    "        |\\text{fl}(x)-x| \\leq \\frac{1}{2} \\epsilon_{\\text{mach}} |x| \n",
    "    \\end{equation*}.\n",
    "$$"
   ]
  },
  {
   "cell_type": "code",
   "execution_count": 47,
   "metadata": {},
   "outputs": [
    {
     "data": {
      "image/png": "[encoded data removed]",
      "text/plain": [
       "<Figure size 640x480 with 1 Axes>"
      ]
     },
     "metadata": {},
     "output_type": "display_data"
    }
   ],
   "source": [
    "x = np.logspace(-200,800,1000, base=2, dtype=np.dtype(float))\n",
    "plt.figure()\n",
    "plt.loglog(x,x,'b',label='fl$(x)$: value stored')\n",
    "plt.loglog(x,np.power(2.,-52)*np.abs(x)/2,'r',label='Upper bound of $|$fl$(x)-x|$ estimated')\n",
    "plt.legend(loc='best')\n",
    "plt.grid(True)\n",
    "plt.show()"
   ]
  },
  {
   "cell_type": "markdown",
   "metadata": {},
   "source": [
    "As you may have expected, the error grows proportionally with the value of $x$.\n",
    "It is importnant however that you don't get confused with the apparently small difference between the blue and the red lines, actually that difference is about 16-order of magnitud!\n",
    "Just look at the $y$-axis scale, it is a logarithmic scale.\n",
    "\n",
    "The outcome of this example is that it tells us that the absolute error we are making when we store the value $x$ as a double precision floating point fl $(x)$ is proportional to $x$, this is what it is.\n",
    "The key point is that we must always remember this."
   ]
  },
  {
   "cell_type": "markdown",
   "metadata": {},
   "source": [
    "## Another example: quadratic formula\n",
    "[Back to TOC](#toc)\n",
    "\n",
    "Find the _positive_ root from the quadratic formula of:\n",
    "$$\n",
    "x^2+10^{10}\\,x-1=0.\n",
    "$$\n",
    "The positive root is:\n",
    "$$\n",
    "x_+ = \\dfrac{-10^{10}+\\sqrt{(10^{10})^2+4}}{2}\n",
    "$$\n"
   ]
  },
  {
   "cell_type": "code",
   "execution_count": 48,
   "metadata": {},
   "outputs": [
    {
     "name": "stdout",
     "output_type": "stream",
     "text": [
      "0.0\n"
     ]
    }
   ],
   "source": [
    "xp = lambda a,b,c: (-b+np.sqrt((b**2)-4*a*c))/(2*a)\n",
    "print(xp(1,np.power(10.,10),-1))"
   ]
  },
  {
   "cell_type": "markdown",
   "metadata": {},
   "source": [
    "Is the root found a root of the quadratic equation? \n",
    "If so, evaluate the solution and make sure it satisfies the previous equation.\n",
    "\n",
    "Recall that the computation must be done using double precision all the way along, otherwise the outcome could be different.\n",
    "\n",
    "**We strongly suggest you to look at the bonus Jupyter Notebook called _\"Bonus - 02 - Quadratic formula.ipynb\"_ to review this problem with more detail.**"
   ]
  },
  {
   "cell_type": "markdown",
   "metadata": {},
   "source": [
    "## Another analysis for the \"Loss of significance in function evaluation\" example\n",
    "[Back to TOC](#toc)\n",
    "\n",
    "The following code tries to explain why $f_1(x)$ gives $0$ near $x=0$."
   ]
  },
  {
   "cell_type": "code",
   "execution_count": 49,
   "metadata": {},
   "outputs": [
    {
     "name": "stdout",
     "output_type": "stream",
     "text": [
      "x,            f1(x),        f2(x),        f3(x),                       f4(x)\n",
      "1.0000000000, 0.6492232052, 0.6492232052, 0.4596976941318602349895173, 0.7080734182735711756961905\n",
      "0.1000000000, 0.5012520863, 0.5012520863, 0.0049958347219741794376091, 0.0099667110793791851425238\n",
      "0.0100000000, 0.5000125002, 0.5000125002, 0.0000499995833347366414046, 0.0000999966667111107946004\n",
      "0.0010000000, 0.5000001250, 0.5000001250, 0.0000004999999583255032576, 0.0000009999996666667110814\n",
      "0.0001000000, 0.4999999986, 0.5000000012, 0.0000000049999999696126451, 0.0000000099999999666666680\n",
      "0.0000100000, 0.5000000414, 0.5000000000, 0.0000000000500000041370185, 0.0000000000999999999966667\n",
      "0.0000010000, 0.5000444503, 0.5000000000, 0.0000000000005000444502912, 0.0000000000009999999999997\n",
      "0.0000001000, 0.4996003611, 0.5000000000, 0.0000000000000049960036108, 0.0000000000000100000000000\n",
      "0.0000000100, 0.0000000000, 0.5000000000, 0.0000000000000000000000000, 0.0000000000000001000000000\n",
      "0.0000000010, 0.0000000000, 0.5000000000, 0.0000000000000000000000000, 0.0000000000000000010000000\n",
      "0.0000000001, 0.0000000000, 0.5000000000, 0.0000000000000000000000000, 0.0000000000000000000100000\n",
      "0.0000000000, 0.0000000000, 0.5000000000, 0.0000000000000000000000000, 0.0000000000000000000001000\n",
      "0.0000000000, 0.0000000000, 0.5000000000, 0.0000000000000000000000000, 0.0000000000000000000000010\n",
      "0.0000000000, 0.0000000000, 0.5000000000, 0.0000000000000000000000000, 0.0000000000000000000000000\n",
      "0.0000000000, 0.0000000000, 0.5000000000, 0.0000000000000000000000000, 0.0000000000000000000000000\n",
      "0.0000000000, 0.0000000000, 0.5000000000, 0.0000000000000000000000000, 0.0000000000000000000000000\n",
      "0.0000000000, 0.0000000000, 0.5000000000, 0.0000000000000000000000000, 0.0000000000000000000000000\n",
      "0.0000000000, 0.0000000000, 0.5000000000, 0.0000000000000000000000000, 0.0000000000000000000000000\n",
      "0.0000000000, 0.0000000000, 0.5000000000, 0.0000000000000000000000000, 0.0000000000000000000000000\n",
      "0.0000000000, 0.0000000000, 0.5000000000, 0.0000000000000000000000000, 0.0000000000000000000000000\n"
     ]
    }
   ],
   "source": [
    "# This function corresponds to the numerator of f1(x)\n",
    "f3 = lambda x: (1.-np.cos(x))\n",
    "# This function corresponds to the denominator of f2(x)\n",
    "f4 = lambda x: np.power(np.sin(x),2)\n",
    "x = np.flip(np.logspace(-19,0,20))\n",
    "o1 = f1(x)\n",
    "o2 = f2(x)\n",
    "o3 = f3(x)\n",
    "o4 = f4(x)\n",
    "\n",
    "print(\"x,            f1(x),        f2(x),        f3(x),                       f4(x)\")\n",
    "for i in np.arange(len(x)):\n",
    "    print(\"%1.10f, %1.10f, %1.10f, %1.25f, %1.25f\" % (x[i],o1[i],o2[i],o3[i],o4[i]))"
   ]
  },
  {
   "cell_type": "markdown",
   "metadata": {},
   "source": [
    "From the previous table, we see that the numerator of $f_1(x)$ becomes $0$. What is happening with $1-\\cos(x)$ about $x=0$?\n",
    "\n",
    "In the following code we study numerically what happens with $1-\\cos(x)$ as $x$ tends to $0^+$."
   ]
  },
  {
   "cell_type": "code",
   "execution_count": 50,
   "metadata": {},
   "outputs": [
    {
     "data": {
      "image/png": "[encoded data removed]",
      "text/plain": [
       "<Figure size 640x480 with 1 Axes>"
      ]
     },
     "metadata": {},
     "output_type": "display_data"
    }
   ],
   "source": [
    "x = np.logspace(-20,0,40)\n",
    "plt.figure()\n",
    "plt.loglog(x,1-np.cos(x),'.',label=r'$1-\\cos(x)$')\n",
    "plt.loglog(x,0*x+1e-20,'.', label=r'$10^{-20}$')\n",
    "plt.grid(True)\n",
    "plt.xlabel('$x$')\n",
    "plt.legend(loc='best')\n",
    "plt.show()"
   ]
  },
  {
   "cell_type": "markdown",
   "metadata": {},
   "source": [
    "For this value of $x=1e-7$ we obtain an outcome greater than $0$"
   ]
  },
  {
   "cell_type": "code",
   "execution_count": 51,
   "metadata": {},
   "outputs": [
    {
     "name": "stdout",
     "output_type": "stream",
     "text": [
      "0 01111001111 0110100000000000000000000000000000000000000000000000\n"
     ]
    }
   ],
   "source": [
    "to_fps_double(1-np.cos(1.e-7))"
   ]
  },
  {
   "cell_type": "markdown",
   "metadata": {},
   "source": [
    "But for $x=1e-8$ we actually get $0$. \n",
    "This explains why in the previous plot the blue dots stop appearing for values less or equal than 1e-8 approximately."
   ]
  },
  {
   "cell_type": "code",
   "execution_count": 52,
   "metadata": {},
   "outputs": [
    {
     "name": "stdout",
     "output_type": "stream",
     "text": [
      "0 00000000000 0000000000000000000000000000000000000000000000000000\n"
     ]
    }
   ],
   "source": [
    "to_fps_double(1-np.cos(1.e-8))"
   ]
  },
  {
   "cell_type": "code",
   "execution_count": null,
   "metadata": {},
   "outputs": [],
   "source": []
  }
 ],
 "metadata": {
  "anaconda-cloud": {},
  "kernelspec": {
   "display_name": "base",
   "language": "python",
   "name": "python3"
  },
  "language_info": {
   "codemirror_mode": {
    "name": "ipython",
    "version": 3
   },
   "file_extension": ".py",
   "mimetype": "text/x-python",
   "name": "python",
   "nbconvert_exporter": "python",
   "pygments_lexer": "ipython3",
   "version": "3.13.5"
  }
 },
 "nbformat": 4,
 "nbformat_minor": 1
}
