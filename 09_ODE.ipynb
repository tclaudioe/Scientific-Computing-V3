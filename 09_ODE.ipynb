{
 "cells": [
  {
   "attachments": {},
   "cell_type": "markdown",
   "metadata": {},
   "source": [
    "<center>\n",
    "    <img src=\"http://sct.inf.utfsm.cl/wp-content/uploads/2020/04/logo_di.png\" style=\"width:60%\">\n",
    "    <h1> INF285 - Computación Científica </h1>\n",
    "    <h2> ODE </h2>\n",
    "    <h2> <a href=\"#acknowledgements\"> [S]cientific [C]omputing [T]eam </a> </h2>\n",
    "    <h2> Version: 1.25</h2>\n",
    "</center>"
   ]
  },
  {
   "attachments": {},
   "cell_type": "markdown",
   "metadata": {},
   "source": [
    "## Some algorithms in this jupyter notebook have been obtained from the textbook \"Lloyd N. Trefethen, Spectral Methods in MATLAB, SIAM, Philadelphia, 2000\" and translated to Python."
   ]
  },
  {
   "attachments": {},
   "cell_type": "markdown",
   "metadata": {},
   "source": [
    "<div id='toc' />\n",
    "\n",
    "## Table of Contents\n",
    "\n",
    "* [Introduction](#intro)\n",
    "* [Initial Value Problemsl](#IVP)\n",
    "    * [Four solvers](#solver)\n",
    "        * [Convergence](#conver)\n",
    "    * [High order, higher dimensions and dynamical systems](#high)\n",
    "* [Boundary Value Problems](#bvp)\n",
    "    * [Shooting Method](#MD)\n",
    "    * [Finite Differences](#DD)\n",
    "* [Acknowledgements](#acknowledgements)"
   ]
  },
  {
   "cell_type": "code",
   "execution_count": 1,
   "metadata": {},
   "outputs": [],
   "source": [
    "# %matplotlib inline\n",
    "import matplotlib.pyplot as plt # type: ignore\n",
    "from matplotlib import pyplot # type: ignore\n",
    "import numpy as np # type: ignore\n",
    "\n",
    "from scipy.integrate import solve_ivp # type: ignore\n",
    "from scipy import optimize # type: ignore\n",
    "from pylab import * # type: ignore\n",
    "from numpy import linalg as LA # type: ignore\n",
    "from matplotlib.legend_handler import HandlerLine2D # type: ignore\n",
    "from scipy.linalg import toeplitz # type: ignore\n",
    "from scipy.optimize import root # type: ignore\n",
    "from ipywidgets import interact, RadioButtons, Checkbox # type: ignore\n",
    "import sympy as sym # type: ignore\n",
    "import matplotlib as mpl # type: ignore\n",
    "mpl.rcParams['font.size'] = 14\n",
    "mpl.rcParams['axes.labelsize'] = 20\n",
    "mpl.rcParams['xtick.labelsize'] = 14\n",
    "mpl.rcParams['ytick.labelsize'] = 14\n",
    "from mpl_toolkits.axes_grid1 import make_axes_locatable # type: ignore\n",
    "sym.init_printing()\n",
    "\n",
    "# Global parameter that controls the figure's size\n",
    "L = 15\n",
    "\n",
    "# Source: https://github.com/tclaudioe/Scientific-Computing/blob/master/SC5/02%20Differentiation%20matrices.ipynb\n",
    "def plot_matrices_with_values(ax,M,FLAG_test=True):\n",
    "    N=M.shape[0]\n",
    "    cmap = plt.get_cmap('GnBu')\n",
    "    im = ax.matshow(M, cmap=cmap)\n",
    "    divider = make_axes_locatable(ax)\n",
    "    cax = divider.append_axes(\"right\", size=\"5%\", pad=0.05)\n",
    "    plt.colorbar(im, cax=cax)\n",
    "    if FLAG_test:\n",
    "        for i in np.arange(0, N):\n",
    "            for j in np.arange(0, N):\n",
    "                ax.text(i, j, '{:.2f}'.format(M[i,j]), va='center', ha='center', color='r')\n",
    "    return"
   ]
  },
  {
   "attachments": {},
   "cell_type": "markdown",
   "metadata": {},
   "source": [
    "<div id='intro' />\n",
    "\n",
    "# Introduction\n",
    "[Back to TOC](#toc)\n",
    "\n",
    "In this jupyter noteboon we will study several numerical methods for solving ordinary differential equations (ODEs).\n",
    "In particular we will study Initial Value Problems (IVP) and Boundary Value Problems (BVP), their principal numerical methods of numerical resolution, and their stability and convergence."
   ]
  },
  {
   "attachments": {},
   "cell_type": "markdown",
   "metadata": {},
   "source": [
    "<div id='IVP' />\n",
    "\n",
    "# Initial Value Problems\n",
    "[Back to TOC](#toc)\n",
    "\n",
    "An IVP corresponds to an ordinary differential equation of the form:\n",
    "$$ \\dot{y}(t) = f(t,y(t)), \\quad t\\in]t_0,T]$$\n",
    "subject to an initial condition,\n",
    "$$ y(t_0) = y_0. $$"
   ]
  },
  {
   "attachments": {},
   "cell_type": "markdown",
   "metadata": {},
   "source": [
    "<div id='solver' />\n",
    "\n",
    "# Four solvers\n",
    "[Back to TOC](#toc)\n",
    "\n",
    "Here we list a few solvers, just notice that we are only hightliting their one-time-step version:\n",
    "\n",
    "- **Euler's Method**:\n",
    "\n",
    "$$\n",
    "\\begin{align*}\n",
    "    y_{i+1} &= y_i + h\\,f(t_i,y_i)\n",
    "\\end{align*}\n",
    "$$\n",
    "\n",
    "- **Backward Euler Method**:\n",
    "$$\n",
    "\\begin{align*}\n",
    "    y_{i+1} &= y_i + h\\,f(t_i+h,y_{i+1})\n",
    "\\end{align*}\n",
    "$$\n",
    "\n",
    "- **Runge-Kutta of second order (RK2)**:\n",
    "\n",
    "$$\n",
    "\\begin{align*}\n",
    "    k_{1} &= f(t_i,y_i) \\\\\n",
    "    y_{i+1} &= y_i + h\\,f\\left(t_i + \\dfrac{h}{2}, y_i + \\dfrac{h}{2}\\,k_1\\right)\n",
    "\\end{align*}\n",
    "$$\n",
    "\n",
    "- **Runge-Kutta of 4th order (RK4)**:\n",
    "\n",
    "$$\n",
    "\\begin{align*}\n",
    "    k_{1} &= f(t_i,y_i) \\\\\n",
    "    k_{2} &= f(t_i + \\dfrac{h}{2}, y_i + \\dfrac{h}{2}k_1) \\\\\n",
    "    k_{3} &= f(t_i + \\dfrac{h}{2}, y_i + \\dfrac{h}{2}k_2) \\\\\n",
    "    k_{4} &= f(t_i + h, y + h\\,k_3) \\\\\n",
    "    y_{i+1} &= y_i + \\dfrac{h}{6}(k_1 + 2k_2 + 2k_3 + k_4) \n",
    "\\end{align*}\n",
    "$$\n",
    "\n",
    "For all this methods $h$ is the time-step it will advance the solution.\n",
    "The previous algorithms only advance one time step the solution, so it should be applied the corresponding time steps expected such that it goes from the initial time $t_0$ until the final time $T$."
   ]
  },
  {
   "cell_type": "code",
   "execution_count": 2,
   "metadata": {},
   "outputs": [],
   "source": [
    "# Forward Euler Method\n",
    "def eulerMethod_one_step(yi,ti,f,h):\n",
    "    return yi+h*f(ti,yi)\n",
    "\n",
    "# Backward Euler for 1D and nD problems\n",
    "def backwardEuler_one_step(yi,ti,f,h):\n",
    "    f_hat = lambda x:  x - yi - f(ti+h,x)*h\n",
    "    if isinstance(yi,(int,float)):\n",
    "        out = optimize.root_scalar(f_hat,x0=yi)\n",
    "        if out.converged:\n",
    "            return out.root\n",
    "        else:\n",
    "            raise Exception(\"Backward Euler 1D: We couldn't find the root. Select/build another solver.\")\n",
    "    else:\n",
    "        out = optimize.root(f_hat,yi)\n",
    "        if out.success:\n",
    "            return out.x\n",
    "        else:\n",
    "            raise Exception(\"Backward Euler nD: We couldn't find the root. Select/build another solver.\")\n",
    "\n",
    "# Runge-Kutta of Second order\n",
    "def RK2_one_step(yi,ti,f,h):\n",
    "    k1=f(ti,yi)\n",
    "    return yi+h*f(ti+h/2.0,yi+h/2.0*k1)\n",
    "\n",
    "# Runge-Kutta \n",
    "def RK4_one_step(yi,ti,f,h):\n",
    "    k1=f(ti,yi)\n",
    "    k2=f(ti+h/2.0,yi+(h/2.0)*k1)\n",
    "    k3=f(ti+h/2.0,yi+(h/2.0)*k2)\n",
    "    k4=f(ti+h,yi+h*k3)\n",
    "    return yi+(h/6.0)*(k1+2.0*k2+2.0*k3+k4)"
   ]
  },
  {
   "attachments": {},
   "cell_type": "markdown",
   "metadata": {},
   "source": [
    "Here we define the several steps solvers.\n",
    "These are the version that will be used later on in the code."
   ]
  },
  {
   "cell_type": "code",
   "execution_count": 3,
   "metadata": {},
   "outputs": [],
   "source": [
    "# This implemantions have been upgraded respect to the ones included in the classnotes to handle\n",
    "def eulerMethod(t0,T,N,y0,f):\n",
    "    t = np.linspace(t0,T,N+1)\n",
    "    h = (T-t0)/N\n",
    "    if isinstance(y0,(int,float)):\n",
    "        y = np.zeros(N+1)\n",
    "    else:\n",
    "        y = np.zeros((N+1,len(y0)))\n",
    "    y[0] = y0\n",
    "    for i in np.arange(N):\n",
    "        y[i+1] = eulerMethod_one_step(y[i],t[i],f,h)\n",
    "    return t, y\n",
    "\n",
    "def backwardEulerMethod(t0,T,N,y0,f):\n",
    "    t = np.linspace(t0,T,N+1)\n",
    "    h = (T-t0)/N\n",
    "    if isinstance(y0,(int,float)):\n",
    "        y = np.zeros(N+1)\n",
    "    else:\n",
    "        y = np.zeros((N+1,len(y0)))\n",
    "    y[0] = y0\n",
    "    for i in np.arange(N):\n",
    "        y[i+1] = backwardEuler_one_step(y[i],t[i],f,h)\n",
    "    return t, y\n",
    "\n",
    "def RK2(t0,T,N,y0,f):\n",
    "    t = np.linspace(t0,T,N+1)\n",
    "    h = (T-t0)/N\n",
    "    if isinstance(y0,(int,float)):\n",
    "        y = np.zeros(N+1)\n",
    "    else:\n",
    "        y = np.zeros((N+1,len(y0)))\n",
    "    y[0] = y0\n",
    "    for i in np.arange(N):\n",
    "        y[i+1] = RK2_one_step(y[i],t[i],f,h)\n",
    "    return t, y\n",
    "\n",
    "def RK4(t0,T,N,y0,f):\n",
    "    t = np.linspace(t0,T,N+1)\n",
    "    h = (T-t0)/N\n",
    "    if isinstance(y0,(int,float)):\n",
    "        y = np.zeros(N+1)\n",
    "    else:\n",
    "        y = np.zeros((N+1,len(y0)))\n",
    "    y[0] = y0\n",
    "    for i in np.arange(N):\n",
    "        y[i+1] = RK4_one_step(y[i],t[i],f,h)\n",
    "    return t, y"
   ]
  },
  {
   "attachments": {},
   "cell_type": "markdown",
   "metadata": {},
   "source": [
    "### 1D Example\n",
    "\n",
    "In this example we will solve the logistic equation $\\dot{y}(t) = y(t)(1-y(t))$ for several inital conditions $y_0$."
   ]
  },
  {
   "cell_type": "code",
   "execution_count": 4,
   "metadata": {},
   "outputs": [
    {
     "data": {
      "application/vnd.jupyter.widget-view+json": {
       "model_id": "72e2de5a19304b47a64402128d87a214",
       "version_major": 2,
       "version_minor": 0
      },
      "text/plain": [
       "interactive(children=(IntSlider(value=20, description='N', min=3), FloatSlider(value=0.1, description='y0', ma…"
      ]
     },
     "metadata": {},
     "output_type": "display_data"
    },
    {
     "data": {
      "text/plain": [
       "<function __main__.change_N_and_y0_1st_Example(N=20, y0=0.1, ODEsolver=<function eulerMethod at 0x11fe3d760>)>"
      ]
     },
     "execution_count": 4,
     "metadata": {},
     "output_type": "execute_result"
    }
   ],
   "source": [
    "# Logistic Equation\n",
    "def f(t,y):\n",
    "    return np.array(y*(1-y))\n",
    "\n",
    "# First Example\n",
    "def change_N_and_y0_1st_Example(N=20,y0=0.1, ODEsolver=eulerMethod):\n",
    "    t0 = 0\n",
    "    T  = 4\n",
    "    t, y = ODEsolver(t0,T,N,y0,f)\n",
    "    fig = plt.figure()\n",
    "    ax  = fig.gca()\n",
    "    ax.axis([0, 4, -1, 2])\n",
    "    # Plotting stationary states for this problem.\n",
    "    t = np.linspace(t0,T,N+1)\n",
    "    plt.plot(t,t*0+1,'b-',lw=5, alpha=0.5, label='Stationary state y=1')\n",
    "    plt.plot(t,t*0,'r-',lw=5, alpha=0.5, label='Stationary state y=0')\n",
    "    # Plotting numerical solution.\n",
    "    plt.plot(t,y,'.',label=r'$y_i$')\n",
    "    \n",
    "    plt.grid(True)\n",
    "    ax.legend(loc='lower left', ncol=1, fancybox=True, shadow=True, numpoints=1, bbox_to_anchor=(1,0))\n",
    "    plt.show()\n",
    "    \n",
    "radio_button_ODEsolvers=RadioButtons(\n",
    "    options=[('Euler\\'s Method',eulerMethod),('Backward Euler Method',backwardEulerMethod),('RK2',RK2),('RK4',RK4)],\n",
    "    value=eulerMethod,\n",
    "    description='ODE solver:',\n",
    "    disabled=False\n",
    ")    \n",
    "\n",
    "interact(change_N_and_y0_1st_Example,N=(3,100,1),y0=(-0.5,2,0.1), ODEsolver=radio_button_ODEsolvers)"
   ]
  },
  {
   "attachments": {},
   "cell_type": "markdown",
   "metadata": {},
   "source": [
    "Now, solve several initial conditions at the same time."
   ]
  },
  {
   "cell_type": "code",
   "execution_count": 5,
   "metadata": {},
   "outputs": [
    {
     "data": {
      "application/vnd.jupyter.widget-view+json": {
       "model_id": "4292a242b37f4143a787c1315ce8b0da",
       "version_major": 2,
       "version_minor": 0
      },
      "text/plain": [
       "interactive(children=(IntSlider(value=30, description='N', min=5), RadioButtons(description='ODE solver:', opt…"
      ]
     },
     "metadata": {},
     "output_type": "display_data"
    },
    {
     "data": {
      "text/plain": [
       "<function __main__.plot_log_eq(N=30, ODEsolver=<function eulerMethod at 0x11fe3d760>)>"
      ]
     },
     "execution_count": 5,
     "metadata": {},
     "output_type": "execute_result"
    }
   ],
   "source": [
    "def plot_log_eq(N=30,ODEsolver=eulerMethod):\n",
    "    t0 = 0\n",
    "    T = 4\n",
    "    fig = plt.figure(figsize=(L/2,L/2))\n",
    "    fig.clf()\n",
    "    ax = fig.gca()\n",
    "    ax.axis(\"equal\")\n",
    "    ax.grid(True)\n",
    "    ax.set_title(\"Numerical Approximations and Direction Field\")\n",
    "    ax.axis([0, 4, -2, 2])\n",
    "    \n",
    "    # Plotting the stationary states\n",
    "    t = np.linspace(t0,T,N+1)\n",
    "    plt.plot(t,t*0+1,'b-',lw=5, alpha=0.5, label='Stationary state y=1')\n",
    "    plt.plot(t,t*0,'r-',lw=5, alpha=0.5, label='Stationary state y=0')\n",
    "    plt.legend(loc='best')\n",
    "\n",
    "    # Solving over time for each method.\n",
    "    for y0 in np.linspace(0,5,40): \n",
    "        t_times, y_output = ODEsolver(t0,T,N,y0,f)\n",
    "            \n",
    "        if y0>=1:\n",
    "            plt.plot(t_times,y_output,'k-',alpha=0.2)\n",
    "        else:\n",
    "            plt.plot(t_times,y_output,'k-',alpha=0.8)\n",
    "        plt.plot(t_times,y_output,'.')\n",
    "        \n",
    "    X,Y = np.meshgrid(np.arange(0,4,.2), np.arange(-2,2,.2))\n",
    "    theta = np.arctan(f(0,Y))\n",
    "    U = np.cos(theta)\n",
    "    V = np.sin(theta)\n",
    "    plt.quiver(X,Y,U,V,alpha=0.5)\n",
    "    \n",
    "interact(plot_log_eq,N=(5,100,1),ODEsolver=radio_button_ODEsolvers)"
   ]
  },
  {
   "attachments": {},
   "cell_type": "markdown",
   "metadata": {},
   "source": [
    "<div id='conver' />\n",
    "\n",
    "## Convergence\n",
    "[Back to TOC](#toc)\n",
    "\n",
    "This is very important! Let's study it!\n",
    "\n",
    "To talk about the convergence, we need to have in mind the order of each method.\n",
    "In particular, we will consider that $y(T)$ denotes the exact solution at the final time $T$ that need to solve the ODE, and $y_N$ be the approximation of the solution at the final time $T=t_N$.\n",
    "In simple words, we can say the following:\n",
    "\n",
    "- Euler's method is a first order method since $y(T)=y_N+\\mathcal{O}(h)$. This means that if $h$ is reduce by half, then the error is reduced by half.\n",
    "- Backward Euler method is a first order method since $y(T)=y_N+\\mathcal{O}(h)$. This means that if $h$ is reduce by half, then the error is reduced by half.\n",
    "- RK2 is a second order method since $y(T)=y_N+\\mathcal{O}(h^2)$. This means that if $h$ is reduce by half, then the error is reduced by 4.\n",
    "- RK4 is a forth order method since $y(T)=y_N+\\mathcal{O}(h^4)$. This means that if $h$ is reduce by half, then the error is reduced by 16.\n",
    "\n",
    "To validate this, we will solve numerically the following problem,\n",
    "$$\n",
    "\\begin{align*}\n",
    "    \\dot{y}(t)&=-3\\,y(t)+6\\,t+5, \\quad t\\in]0,0.5]\\\\\n",
    "    y(0)&=3,\n",
    "\\end{align*}\n",
    "$$\n",
    "for which we know the solution $y(t)=2\\exp(-3t)+2t+1$."
   ]
  },
  {
   "cell_type": "code",
   "execution_count": 6,
   "metadata": {},
   "outputs": [],
   "source": [
    "t0 = 0\n",
    "T  = 0.5\n",
    "y0 = 3.0\n",
    "def f(t,y):\n",
    "    return np.array(-3*y+6*t+5)\n",
    "y_sol = lambda t: 2.*np.exp(-3.*t)+2.*t+1"
   ]
  },
  {
   "cell_type": "code",
   "execution_count": 7,
   "metadata": {},
   "outputs": [
    {
     "data": {
      "text/plain": [
       "Text(0, 0.5, 'Error$=|y(T)-y_{N}|$')"
      ]
     },
     "execution_count": 7,
     "metadata": {},
     "output_type": "execute_result"
    },
    {
     "data": {
      "image/png": "[encoded data removed]",
      "text/plain": [
       "<Figure size 750x750 with 1 Axes>"
      ]
     },
     "metadata": {},
     "output_type": "display_data"
    }
   ],
   "source": [
    "fig = plt.figure(figsize=(L/2,L/2))\n",
    "fig.clf()\n",
    "ax = fig.gca()\n",
    "ax.axis('equal')\n",
    "ax.grid(True)\n",
    "ax.set_title('Convergence Analysis')\n",
    "\n",
    "N_list = np.logspace(1,5,5,dtype=int)\n",
    "for N in N_list:\n",
    "    \n",
    "    h = (T-t0)/N\n",
    "    t_times, y_output = eulerMethod(t0,T,N,y0,f)\n",
    "    plt.loglog(h,abs(y_output[-1]-y_sol(t_times[-1])),'b.',ms=20,label='Euler',alpha=.5)\n",
    "    \n",
    "    h = (T-t0)/N\n",
    "    t_times, y_output = backwardEulerMethod(t0,T,N,y0,f)\n",
    "    plt.loglog(h,abs(y_output[-1]-y_sol(t_times[-1])),'*', color='purple',ms=20,label='Back. Euler',alpha=.5)\n",
    "\n",
    "    t_times, y_output = RK2(t0,T,N,y0,f)\n",
    "    plt.loglog(h,abs(y_output[-1]-y_sol(t_times[-1])),'rs',ms=20,label='RK2',alpha=.5)\n",
    "\n",
    "    t_times, y_output = RK4(t0,T,N,y0,f)\n",
    "    plt.loglog(h,abs(y_output[-1]-y_sol(t_times[-1])),'gd',ms=20,label='RK4',alpha=.5)\n",
    "    if N==N_list[0]:\n",
    "        plt.legend(numpoints=1, loc='lower right')\n",
    "\n",
    "h_list=T/N_list\n",
    "\n",
    "plt.loglog(h_list,h_list,'k-')\n",
    "plt.text(10**(-6),10**(-3),r'$\\mathcal{O}(h)$', fontsize=25, horizontalalignment='center', color='b')\n",
    "plt.loglog(h_list,np.power(h_list,2.),'k-')\n",
    "plt.text(10**(-7),10**(-8),r'$\\mathcal{O}(h^2)$', fontsize=25, horizontalalignment='center', color='r')\n",
    "plt.loglog(h_list[:-2],np.power(h_list[:-2],4.),'k-')\n",
    "plt.text(10**(0),10**(-11),r'$\\mathcal{O}(h^4)$', fontsize=25, horizontalalignment='center', color='g')\n",
    "plt.xlabel(r'$h$')\n",
    "plt.ylabel(r'Error$=|y(T)-y_{N}|$')"
   ]
  },
  {
   "attachments": {},
   "cell_type": "markdown",
   "metadata": {},
   "source": [
    "<div id='high' />\n",
    "\n",
    "# High order, higher dimensions and dynamical systems\n",
    "[Back to TOC](#toc)"
   ]
  },
  {
   "attachments": {},
   "cell_type": "markdown",
   "metadata": {},
   "source": [
    "Why do we study higher order problems?\n",
    "\n",
    "Because they are so cool!"
   ]
  },
  {
   "attachments": {},
   "cell_type": "markdown",
   "metadata": {},
   "source": [
    "### The Van der Pol oscillator"
   ]
  },
  {
   "attachments": {},
   "cell_type": "markdown",
   "metadata": {},
   "source": [
    "The equation that model de Van der Pol oscillator is the following:\n",
    "$$\\ddot{y}-\\mu\\,(1-y^2)\\,\\dot{y} + y = 0,$$ \n",
    "with $y(0)=2$ and $\\dot{y}(0)=0$,\n",
    "where $\\mu$ is a scalar parameter that regulates the non-linearity of the problem and the strength of the damping.\n",
    "See https://en.wikipedia.org/wiki/Van_der_Pol_oscillator.\n",
    "\n",
    "So, since it has second derivatives respecto to time, we need to translate it to a dynamical system with the following change of variables:\n",
    "$$\n",
    "\\begin{align*}\n",
    "    y_1(t) &= y(t),\\\\\n",
    "    y_2(t) &= \\dot{y}(t).\n",
    "\\end{align*}\n",
    "$$\n",
    "Thus,\n",
    "$$\n",
    "\\begin{align*}\n",
    "    \\dot{y}_1 &= \\dot{y} = y_2,\\\\\n",
    "    \\dot{y}_2 &= \\ddot{y} = \\mu (1-y^2) \\dot{y} - y = \\mu (1-y_1^2) y_2 - y_1,\n",
    "\\end{align*}\n",
    "$$\n",
    "with $y_1(0)=2$ and $y_2(0)=0$."
   ]
  },
  {
   "cell_type": "code",
   "execution_count": 8,
   "metadata": {},
   "outputs": [],
   "source": [
    "def f_vdp(t,y,mu=10):\n",
    "    y1 = y[0]\n",
    "    y2 = y[1]\n",
    "    return np.array([y2, mu*(1-y1**2)*y2-y1])\n",
    "\n",
    "def f_vdp_eig_jacobian(t,y,mu=10):\n",
    "    J=[[0,1],[-(2*mu*y[0]*y[1]+1), mu*(1-y[0]**2)]]\n",
    "    lambs,vs= LA.eig(J)\n",
    "    return lambs"
   ]
  },
  {
   "cell_type": "code",
   "execution_count": 9,
   "metadata": {},
   "outputs": [
    {
     "data": {
      "application/vnd.jupyter.widget-view+json": {
       "model_id": "fe77d125dcab4a95aad98afd7af55294",
       "version_major": 2,
       "version_minor": 0
      },
      "text/plain": [
       "interactive(children=(FloatSlider(value=2.0, description='y01', max=3.0, min=-3.0), FloatSlider(value=0.0, des…"
      ]
     },
     "metadata": {},
     "output_type": "display_data"
    },
    {
     "data": {
      "text/plain": [
       "<function __main__.plotting_vdp(y01=2, y02=0, N=20000, T=200, mu=10, ODEsolver=<function eulerMethod at 0x11fe3d760>)>"
      ]
     },
     "execution_count": 9,
     "metadata": {},
     "output_type": "execute_result"
    }
   ],
   "source": [
    "def plotting_vdp(y01=2, y02=0, N=20000, T=200, mu=10, ODEsolver=eulerMethod):\n",
    "    \n",
    "    y0=np.array([y01, y02])\n",
    "        \n",
    "    f= lambda t,y: f_vdp(t,y,mu)\n",
    "    \n",
    "    t0=0\n",
    "    \n",
    "    t_times, y_output = ODEsolver(t0,T,N,y0,f)\n",
    "\n",
    "    fig = plt.figure(figsize=(L,L/2))\n",
    "    ax1 = fig.add_subplot(121)\n",
    "    ax2 = fig.add_subplot(122)\n",
    "    \n",
    "    ax1.grid(True)\n",
    "    ax1.set_title('Numerical Approximation')\n",
    "    ax1.plot(t_times,y_output[:,0],'-', label=r'$y_1(t)$', alpha=0.5)\n",
    "    ax1.set(xlabel='t')\n",
    "    ax1.plot(t_times,y_output[:,1],'-r', label=r'$y_2(t)$', alpha=0.5)\n",
    "    ax1.legend(loc='best')\n",
    "\n",
    "    ax2.grid(True)\n",
    "    ax2.set_title('Phase Portrait')\n",
    "    ax2.plot(y_output[:,0],y_output[:,1],'-')\n",
    "    ax2.set(xlabel='$y=y_1$', ylabel=r'$\\dot{y}=y_2$')\n",
    "\n",
    "interact(plotting_vdp,y01=(-3,3,0.1), y02=(-3,3,0.1),\n",
    "         N=(10,10000,10),T=(10,200,10),\n",
    "         mu=(1,50,0.1),ODEsolver=radio_button_ODEsolvers)"
   ]
  },
  {
   "attachments": {},
   "cell_type": "markdown",
   "metadata": {},
   "source": [
    "### Lotka-Volterra model"
   ]
  },
  {
   "attachments": {},
   "cell_type": "markdown",
   "metadata": {},
   "source": [
    "This instance models the evolution of the average population of two species living in a closed system.\n",
    "The species number 1 is considered that feeds itself with an unlimited amount of food and the species number 2 feeds itself with species number 1.\n",
    "We will denote the average population of species number 1 as $y_1(t)$ and the average population of species number 2 as $y_2(t)$.\n",
    "\n",
    "So, if we consider that there is no presence of species number 2 in the system, then species number 1 will grow exponentially, this means $\\dot{y}_1=y_1$.\n",
    "On the other case, if no presence of species number 1 in the system, then species number 2 will decay exponentially as follows $\\dot{y}_2=-y_2$.\n",
    "However, we are not interested in the extreme cases, how can we understand the dynamics when there exists these two species together interacting?\n",
    "This is modeled by the Lotka-Volterra dynamical system:\n",
    "$$\n",
    "\\begin{align*}\n",
    "    \\dot{y}_1(t)&=(1-y_2(t)/\\mu_2)\\,y_1(t),\\\\\n",
    "    \\dot{y}_2(t)&=-(1-y_1(t)/\\mu_1)\\,y_2(t),\\\\\n",
    "    y_1(0)&=400,\\\\\n",
    "    y_2(0)&=100,\n",
    "\\end{align*}\n",
    "$$\n",
    "where $\\mu_1$ and $\\mu_2$ are normalization constants."
   ]
  },
  {
   "cell_type": "code",
   "execution_count": 10,
   "metadata": {},
   "outputs": [],
   "source": [
    "mu1=300\n",
    "mu2=200\n",
    "def f_predprey(t,y,mu1=mu1,mu2=mu2):\n",
    "    y1 = y[0]\n",
    "    y2 = y[1]\n",
    "    return np.array([(1-y2/mu2)*y1, -(1-y1/mu1)*y2])\n",
    "\n",
    "def f_predprey_jacobian(t,y,mu1=mu1,mu2=mu2):\n",
    "    J=[[1-y[1]/mu2,-y[0]/mu2],[y[1]/mu1, -(1-y[0]/mu1)]]\n",
    "    lambs,vs= LA.eig(J)\n",
    "    return lambs"
   ]
  },
  {
   "cell_type": "code",
   "execution_count": 11,
   "metadata": {
    "scrolled": false
   },
   "outputs": [
    {
     "data": {
      "application/vnd.jupyter.widget-view+json": {
       "model_id": "402865461ce449ea8a022a6883efaa31",
       "version_major": 2,
       "version_minor": 0
      },
      "text/plain": [
       "interactive(children=(IntSlider(value=70, description='y01', max=1000, step=10), IntSlider(value=100, descript…"
      ]
     },
     "metadata": {},
     "output_type": "display_data"
    },
    {
     "data": {
      "text/plain": [
       "<function __main__.plotting_predprey(y01=70, y02=100, N=1000, T=30, ODEsolver=<function eulerMethod at 0x11fe3d760>)>"
      ]
     },
     "execution_count": 11,
     "metadata": {},
     "output_type": "execute_result"
    }
   ],
   "source": [
    "def plotting_predprey(y01=70, y02=100, N=1000, T=30, ODEsolver=eulerMethod):\n",
    "    \n",
    "    y0  = np.array([y01, y02])\n",
    "    f   = lambda t,y: f_predprey(t,y)\n",
    "    t0  = 0\n",
    "    \n",
    "    t_times, y_output = ODEsolver(t0,T,N,y0,f)\n",
    "    \n",
    "    plt.figure(figsize=(L,L/2))\n",
    "    plt.title('Numerical Approximation')\n",
    "    plt.plot(t_times,y_output[:,0],'-')\n",
    "    plt.plot(t_times,y_output[:,1],'r-')\n",
    "    plt.grid(True)\n",
    "\n",
    "interact(plotting_predprey,y01=(0,1000,10),y02=(0,1000,10),\n",
    "         N=(10,1000,10),T=(10,200,10),\n",
    "         ODEsolver=radio_button_ODEsolvers)"
   ]
  },
  {
   "attachments": {},
   "cell_type": "markdown",
   "metadata": {},
   "source": [
    "## Now solving the following equation\n",
    "$$\n",
    "\\begin{align*}\n",
    "    \\dot{y}_1(t) &= y_2(t),\\\\\n",
    "    \\dot{y}_2(t) &= -y_1(t),\n",
    "\\end{align*}\n",
    "$$\n",
    "with $y_1(0)=1$ and $y_2(0)=0$.\n",
    "\n",
    "What functions are these? Do you recognize them?"
   ]
  },
  {
   "cell_type": "code",
   "execution_count": 12,
   "metadata": {
    "scrolled": false
   },
   "outputs": [
    {
     "data": {
      "application/vnd.jupyter.widget-view+json": {
       "model_id": "dc6d04c19f4d417b8bde0e812018b8db",
       "version_major": 2,
       "version_minor": 0
      },
      "text/plain": [
       "interactive(children=(FloatSlider(value=1.0, description='y01', max=2.0, min=-2.0), FloatSlider(value=0.0, des…"
      ]
     },
     "metadata": {},
     "output_type": "display_data"
    },
    {
     "data": {
      "text/plain": [
       "<function __main__.plotting_f_trig(y01=1, y02=0, N=100, T=6.283185307179586, ODEsolver=<function eulerMethod at 0x11fe3d760>)>"
      ]
     },
     "execution_count": 12,
     "metadata": {},
     "output_type": "execute_result"
    }
   ],
   "source": [
    "def f_trig(t,y):\n",
    "    y1 = y[0]\n",
    "    y2 = y[1]\n",
    "    return np.array([y2, -y1])\n",
    "\n",
    "def f_trig_jacobian(t,y):\n",
    "    return np.array([0.+1.j, 0.-1.j])\n",
    "\n",
    "def plotting_f_trig(y01=1, y02=0, N=100, T=2*np.pi, ODEsolver=eulerMethod):\n",
    "\n",
    "    y0  = np.array([y01, y02])\n",
    "    f   = lambda t,y: f_trig(t,y)\n",
    "    t0  = 0\n",
    "    t_times, y_output = ODEsolver(t0,T,N,y0,f)\n",
    "\n",
    "    plt.figure(figsize=(L,L/2))\n",
    "    plt.title('Numerical Approximation')\n",
    "    plt.plot(t_times,y_output[:,0],'-')\n",
    "    plt.plot(t_times,y_output[:,1],'r-')\n",
    "    plt.grid(True)\n",
    "\n",
    "interact(plotting_f_trig,y01=(-2,2,0.1),y02=(-2,2,0.1),\n",
    "         N=(10,1000,10),T=(1,10*np.pi,0.1),\n",
    "         ODEsolver=radio_button_ODEsolvers)"
   ]
  },
  {
   "attachments": {},
   "cell_type": "markdown",
   "metadata": {},
   "source": [
    "## Last but not least, solving:\n",
    "$$\n",
    "\\begin{align*}\n",
    "    \\dot{y}(t) &= \\lambda\\,y(t),\\\\\n",
    "\\end{align*}\n",
    "$$\n",
    "with $y(0)=1$.\n",
    "\n",
    "What function is this? Do you recognize it?"
   ]
  },
  {
   "cell_type": "code",
   "execution_count": 13,
   "metadata": {},
   "outputs": [
    {
     "data": {
      "application/vnd.jupyter.widget-view+json": {
       "model_id": "c8e92a10facc4484be97af8b1577447b",
       "version_major": 2,
       "version_minor": 0
      },
      "text/plain": [
       "interactive(children=(FloatSlider(value=1.0, description='y0', max=2.0, min=-2.0), IntSlider(value=100, descri…"
      ]
     },
     "metadata": {},
     "output_type": "display_data"
    },
    {
     "data": {
      "text/plain": [
       "<function __main__.plotting_f_exp(y0=1, N=100, T=10, lam=-1, ODEsolver=<function eulerMethod at 0x11fe3d760>)>"
      ]
     },
     "execution_count": 13,
     "metadata": {},
     "output_type": "execute_result"
    }
   ],
   "source": [
    "def f_exp(t,y,lam=-1):\n",
    "    return lam*y\n",
    "\n",
    "def f_exp_jac(t,y,lam=-1):\n",
    "    return lam\n",
    "\n",
    "def plotting_f_exp(y0=1, N=100, T=10, lam=-1, ODEsolver=eulerMethod):\n",
    "    \n",
    "    f   = lambda t,y: f_exp(t,y, lam)\n",
    "    t0  = 0\n",
    "    t_times, y_output = ODEsolver(t0,T,N,y0,f)\n",
    "    \n",
    "    # Plotting \n",
    "    plt.figure(figsize=(L,L/2))\n",
    "    plt.title('Numerical Approximation')\n",
    "    plt.plot(t_times,y_output[:],'.b')\n",
    "    plt.plot(t_times,y_output[:],'k-',alpha=0.5)\n",
    "    plt.grid(True)\n",
    "\n",
    "interact(plotting_f_exp,y0=(-2,2,0.1),\n",
    "         N=(5,1000,10),T=(1,20,1), lam=(-2,2,0.1),\n",
    "         ODEsolver=radio_button_ODEsolvers)"
   ]
  },
  {
   "attachments": {},
   "cell_type": "markdown",
   "metadata": {},
   "source": [
    "<div id='bvp' />\n",
    "\n",
    "# Boundary Value Problems\n",
    "[Back to TOC](#toc)"
   ]
  },
  {
   "attachments": {},
   "cell_type": "markdown",
   "metadata": {},
   "source": [
    "An instance of a BVP corresponds to a ordinary differential equation of the following form:\n",
    "$$ y''(x) = f(x,y(x),y'(x)),$$\n",
    "with the following boundary conditions,\n",
    "$$\n",
    "\\begin{align*}\n",
    "    y(a) &= y_a,\\\\\n",
    "    y(b) &= y_b.\n",
    "\\end{align*}\n",
    "$$\n",
    "To undertand them better, let's find a numerical approximation of the following problem:\n",
    "$$\n",
    "\\begin{align*}\n",
    "    y''(x) &= 4\\,y(x),\\\\\n",
    "    y(0)   &= y_0,\\\\\n",
    "    y(1)   &= y_n.\n",
    "\\end{align*}\n",
    "$$"
   ]
  },
  {
   "attachments": {},
   "cell_type": "markdown",
   "metadata": {},
   "source": [
    "<div id='MD' />\n",
    "\n",
    "## Shooting Method\n",
    "[Back to TOC](#toc)\n",
    "\n",
    "This method takes advantage that we already know how to handle IVP and uses that knowledge to find a numerical approximation of an BVP.\n",
    "The main steps are the followings:\n",
    "- We have a BVP on the form: \n",
    "    $$\n",
    "    \\begin{align*}\n",
    "        y''(x) &= f(x,y(x),y'(x)),\\\\\n",
    "        y(a)   &= y_a,\\\\\n",
    "        y(b)   &= y_b.\n",
    "    \\end{align*}\n",
    "    $$\n",
    "- Let's considerer the following steps to translate the BVP to an IVP:\n",
    "    1. $x \\rightarrow t$, this implies that $t_0=a$ and $T=b$.\n",
    "    2. $$\\begin{align*}\n",
    "            \\ddot{y}(t)   &= f(t,y(t),\\dot{y}(t)),\\\\\n",
    "            y(t_0)        &= y_a,\\\\ \n",
    "            \\dot{y}(t_0)  &= \\alpha.\n",
    "       \\end{align*}\n",
    "       $$\n",
    "       **Warning**: We actually don't know $\\alpha$ but we do need it since we treating the previous problem as a IVP. What we do have is $y(b)=y(T)=y_b$.\n",
    "    3. So, since we don't have $\\alpha$, we need to find it by solving the following 1D root: $F(\\alpha) = y_N^{(\\alpha)} - y_b$, where $y_N^{(\\alpha)}$ denotes the IVP approximation at time $t=T$ considering $\\alpha$ for the initial condition of $\\dot{y}(t_0)$.\n",
    "    4. After we find the root for $F(\\alpha)$, we can say we have found a numerical approximation of $y(x)$ since we have a numerical approximation that satisfies the ODE and also the boundary condition defined on the interval $[a,b]$. This is wonderful!\n",
    "\n",
    "Notice however that the function $F(\\alpha)$ is the output of the execution of an algorithm, so we only expect it to be continuous.\n",
    "For instance it will be interesting to apply the Bisection method here!\n",
    "The main disadvantage of this algorithm is that we need to solve several IVPs to actually find the right one, the good news is that we are re-using previous knowledge in a new type of problems!"
   ]
  },
  {
   "cell_type": "code",
   "execution_count": 14,
   "metadata": {},
   "outputs": [],
   "source": [
    "# BVP: y''(x)= 4*y(x), y(0)=1, and y(1)=3, x \\in [0,1].\n",
    "# Dynamical system:\n",
    "# y1=y  -> y1'=y'=y2\n",
    "# y2=y' -> y2'=y''=4*y=4*y1.\n",
    "# y1(0) = 1, (and we know y(1)=3)\n",
    "# y1(1) = 3.\n",
    "# y2(0) = alpha, we don't know it.\n",
    "def f(t,y):\n",
    "    return np.array([y[1],4*y[0]])\n",
    "    #return np.array([y[1],t])"
   ]
  },
  {
   "cell_type": "code",
   "execution_count": 15,
   "metadata": {
    "scrolled": false
   },
   "outputs": [
    {
     "data": {
      "application/vnd.jupyter.widget-view+json": {
       "model_id": "dddbace7a8a94d13955f7fb525245935",
       "version_major": 2,
       "version_minor": 0
      },
      "text/plain": [
       "interactive(children=(FloatSlider(value=-1.0, description='alpha', max=20.0, min=-20.0), IntSlider(value=50, d…"
      ]
     },
     "metadata": {},
     "output_type": "display_data"
    },
    {
     "data": {
      "text/plain": [
       "<function __main__.shooting_method_101(alpha=-1, N=50, ya=1, yb=3, ODEsolver=<function eulerMethod at 0x11fe3d760>)>"
      ]
     },
     "execution_count": 15,
     "metadata": {},
     "output_type": "execute_result"
    }
   ],
   "source": [
    "def shooting_method_101(alpha=-1, N=50, ya=1, yb=3, ODEsolver=eulerMethod):\n",
    "#def shooting_method_101(alpha=0, N=50, ya=-1, yb=2, ODEsolver=eulerMethod):\n",
    "    t0 = 0\n",
    "    T  = 1\n",
    "    y0 = np.array([ya,alpha])\n",
    "    t_times, y_output = ODEsolver(t0,T,N,y0,f)\n",
    "    h = (T-t0)/N\n",
    "    \n",
    "    fig = plt.figure(figsize=(L/2,L/2))\n",
    "    ax = fig.gca()\n",
    "    plt.grid(True)\n",
    "    plt.title(\"Numerical Approximation\")\n",
    "    plt.plot(t_times,y_output[:,0],'r.',ms=12,alpha=0.5,label=r'$y1_i$')\n",
    "    plt.plot(t_times,y_output[:,1],'m.',ms=12,alpha=0.5,label=r'$y2_i$')\n",
    "    \n",
    "    plt.plot(0,ya,'*k',ms=16,label='Left BC')\n",
    "    plt.plot(1,yb,'*g',ms=16,label='Right BC')\n",
    "    plt.plot(0,alpha,'darkorange',ms=16,label=r'$\\alpha$', marker=r'$\\alpha$')\n",
    "    \n",
    "    plt.legend(loc='best')\n",
    "\n",
    "interact(shooting_method_101, alpha=(-20,20,0.1),\n",
    "         N=(5,100,1), ya=(-5,5,0.1), yb=(-5,5,0.1),\n",
    "         ODEsolver=radio_button_ODEsolvers)"
   ]
  },
  {
   "attachments": {},
   "cell_type": "markdown",
   "metadata": {},
   "source": [
    "### Now, let's find $\\alpha$ automatically"
   ]
  },
  {
   "cell_type": "code",
   "execution_count": 16,
   "metadata": {},
   "outputs": [],
   "source": [
    "y0 = np.array([1, 1.1])"
   ]
  },
  {
   "cell_type": "code",
   "execution_count": 17,
   "metadata": {},
   "outputs": [],
   "source": [
    "def F(alpha, ya=1, yb=3, N=100, ODEsolver=eulerMethod):\n",
    "    t0 = 0\n",
    "    T  = 1\n",
    "    y0 = np.zeros(2)\n",
    "    y0[0] = ya\n",
    "    if isinstance(alpha,ndarray): \n",
    "        y0[1] = alpha[0]\n",
    "    else:\n",
    "        y0[1] = alpha \n",
    "    t_times, y_output = ODEsolver(t0,T,N,y0,f)\n",
    "    # Notice that we don use absolute value for the error since\n",
    "    # we want to look at this problem as a rootfinding problem\n",
    "    # and not as a minimization, that could be another approach.\n",
    "    return y_output[-1,0]-yb "
   ]
  },
  {
   "cell_type": "code",
   "execution_count": 18,
   "metadata": {},
   "outputs": [
    {
     "name": "stdout",
     "output_type": "stream",
     "text": [
      "-0.4203060487266359\n"
     ]
    },
    {
     "data": {
      "image/png": "[encoded data removed]",
      "text/plain": [
       "<Figure size 750x750 with 1 Axes>"
      ]
     },
     "metadata": {},
     "output_type": "display_data"
    }
   ],
   "source": [
    "t0 = 0\n",
    "T  = 1\n",
    "ya = 1\n",
    "yb = 3\n",
    "N  = 100\n",
    "ODEsolver = RK4\n",
    "\n",
    "F_root = lambda alpha: F(alpha, ya=ya, yb=yb, N=N, ODEsolver=ODEsolver)\n",
    "alpha = root(F_root, 0.).x[0]\n",
    "\n",
    "y0 = np.array([ya,alpha])\n",
    "t_times, y_output = ODEsolver(t0,T,N,y0,f)\n",
    "\n",
    "fig = plt.figure(figsize=(L/2,L/2))\n",
    "plt.grid(True)\n",
    "plt.title(\"Numerical Approximation\")\n",
    "plt.plot(t_times,y_output[:,0],'r.',ms=12,alpha=0.5,label=r'$y1_i$')\n",
    "plt.plot(t_times,y_output[:,1],'m.',ms=12,alpha=0.5,label=r'$y2_i$')\n",
    "plt.plot(0,ya,'*k',ms=16,label='Left BC')\n",
    "plt.plot(1,yb,'*g',ms=16,label='Right BC')\n",
    "plt.plot(0,alpha,'darkorange',ms=16,label=r'$\\alpha$', marker=r'$\\alpha$')\n",
    "plt.legend(loc='best')\n",
    "print(alpha)"
   ]
  },
  {
   "attachments": {},
   "cell_type": "markdown",
   "metadata": {},
   "source": [
    "### Let's take a look to $F(\\alpha, \\dots)$, find the 'BUG'!"
   ]
  },
  {
   "cell_type": "code",
   "execution_count": 19,
   "metadata": {},
   "outputs": [
    {
     "data": {
      "image/png": "[encoded data removed]",
      "text/plain": [
       "<Figure size 1000x1000 with 1 Axes>"
      ]
     },
     "metadata": {},
     "output_type": "display_data"
    }
   ],
   "source": [
    "ODEsolver = eulerMethod\n",
    "\n",
    "several_alphas = np.linspace(-1,0,100)\n",
    "Fv = np.vectorize(lambda x: F(x,ODEsolver=ODEsolver))\n",
    "F_alphas = Fv(several_alphas)\n",
    "\n",
    "plt.figure(figsize=(10,10))\n",
    "plt.plot(several_alphas,F_alphas,'.b',label=r'$F(\\alpha)$')\n",
    "plt.plot(several_alphas,F_alphas*0,'-g',alpha=0.8,linewidth=3,label=r'$0$')\n",
    "plt.grid(True)\n",
    "plt.plot(alpha,F(alpha,ODEsolver=ODEsolver),'.r',ms=20,label=r'Root: $\\alpha$='+str(alpha))\n",
    "plt.xlabel(r'$\\alpha$')\n",
    "plt.ylabel(r'$F(\\alpha)=y_N^{(\\alpha)} - y_b$')\n",
    "plt.legend(loc='best')\n",
    "plt.show()"
   ]
  },
  {
   "attachments": {},
   "cell_type": "markdown",
   "metadata": {},
   "source": [
    "<div id='DD' />\n",
    "\n",
    "## Finite Differences\n",
    "[Back to TOC](#toc)\n",
    "\n",
    "This method opens a new door of algorithms for solving BVP.\n",
    "The main idea is to approximate each derivative of $y(x)$ by a finite difference approximation and then solve the linear or possible non-linear system of equations associated.\n",
    "\n",
    "Here we list a few finite difference approximation for the first and one for the second derivative:\n",
    "\n",
    "- Forward Difference:\n",
    "$$ y'(x) = \\dfrac{y(x+h) - y(x)}{h} + O(h)$$\n",
    "\n",
    "- Backward Difference:\n",
    "$$ y'(x) = \\dfrac{y(x) - y(x-h)}{h} + O(h)$$\n",
    "\n",
    "- Central Difference:\n",
    "$$ y'(x) = \\dfrac{y(x+h) - y(x-h)}{2h} + O(h^2)$$\n",
    "\n",
    "And for the second derivative:\n",
    "$$\n",
    "\\begin{align*}\n",
    "y''(x) &= \\dfrac{\\text{Forward Difference } - \\text{ Backward Difference}}{h} + O(h^2) \\\\\n",
    "y''(x) &= \\dfrac{\\dfrac{y(x+h) - y(x)}{h} - \\dfrac{y(x) - y(x-h)}{h}}{h} + O(h^2) \\\\\n",
    "y''(x) &= \\dfrac{y(x+h) - 2\\,y(x) + y(x-h)}{h^2} + O(h^2) \\\\\n",
    "\\end{align*}\n",
    "$$\n",
    "\n",
    "Notice that in all the previous cases we first need to define the function on a grid, it does not have to be regular, but for simplicity we will consider it regular.\n",
    "Recall that the BVP will be defined on $[a,b]$, thus the regular grid will be defined as follows: $x_i=i\\,h$, where $h=\\dfrac{b-a}{N}$.\n",
    "This also help us to define the approximation of the function over the grid, this means the following,\n",
    "- Traditionally we say $y(x)$ is the function defined on $x\\in[a,b]$.\n",
    "- Now, we will have a grid function $y_i\\approx y(x_i)$ for $i\\in\\{0,1,2,\\dots,N\\}$. In particular we would like to point out that the vector $\\mathbf{y}$ will be the representation of all the scalar values $y_i$ and the vector $\\mathbf{x}$ will store the grid values $x_i$. Thus in this discrete world $\\mathbf{y}$ will apporximate the continuous function $y(x)$ on $[a,b]$.\n",
    "\n",
    "On the other hand, the finite difference operator over the finite grid will be then defined as follows:\n",
    "- Forward Difference: $ y'(x_i)=\\dfrac{y_{i+1} - y_i}{h} + O(h) $.\n",
    "- Backward Difference: $ y'(x_i) = \\dfrac{y_i - y_{i-1}}{h} + O(h) $.\n",
    "- Central Difference: $ y'(x_i) = \\dfrac{y_{i+1} - y_{i-1}}{2h} + O(h^2)$.\n",
    "- Second derivative finite difference: $y''(x_i) = \\dfrac{y_{i+1} - 2\\,y_i + y_{i-1}}{h^2} + O(h^2)$.\n",
    "\n",
    "Now, let's apply them!"
   ]
  },
  {
   "cell_type": "code",
   "execution_count": 20,
   "metadata": {},
   "outputs": [
    {
     "data": {
      "application/vnd.jupyter.widget-view+json": {
       "model_id": "f441d43e61104f5e900def5d8a2e8196",
       "version_major": 2,
       "version_minor": 0
      },
      "text/plain": [
       "interactive(children=(IntSlider(value=4, description='M', max=25, min=3), FloatSlider(value=1.0, description='…"
      ]
     },
     "metadata": {},
     "output_type": "display_data"
    },
    {
     "data": {
      "text/plain": [
       "<function __main__.plot_solution_finite_difference_eq(M=4, ya=1, yb=3, FLAG_test=True)>"
      ]
     },
     "execution_count": 20,
     "metadata": {},
     "output_type": "execute_result"
    }
   ],
   "source": [
    "def solve_finite_difference_eq(M=4,ya=1,yb=3):\n",
    "    # Spatial discretization, \n",
    "    # 'M' represents the number of intervals to be used.\n",
    "    h=(1.-0.)/M\n",
    "    \n",
    "    # Building Finite Difference Discretization\n",
    "    deltas=-(2.+4.*(h**2.))\n",
    "    A=toeplitz(np.append(np.array([deltas, 1.]), np.zeros(M-3)))\n",
    "    # Building RHS\n",
    "    b=np.append(-ya, np.zeros(M-3))\n",
    "    b=np.append(b,-yb)\n",
    "    # Solving the linear system of equations\n",
    "    y=np.linalg.solve(A, b)\n",
    "    # Adding back the boundary conditions into the solution\n",
    "    y=np.append([ya], y)\n",
    "    y=np.append(y,[yb])\n",
    "    x_FD = np.linspace(0,1,M+1) # xi, i.e. the spatial grid.\n",
    "    y_FD = y                    # yi, i.e. the approximation of y(x_i).\n",
    "    return x_FD, y_FD, A, b\n",
    "\n",
    "def plot_solution_finite_difference_eq(M=4,ya=1,yb=3, FLAG_test=True):\n",
    "    \n",
    "    # Solving with Finite Difference\n",
    "    x_FD, y_FD, A, b = solve_finite_difference_eq(M,ya,yb)\n",
    "    \n",
    "    # Plotting\n",
    "    fig = plt.figure(figsize=(L,L/2))\n",
    "    ax1 = fig.add_subplot(121)\n",
    "    ax2 = fig.add_subplot(122)\n",
    "    \n",
    "    # Plotting the discrete solution\n",
    "    ax1.grid(True)\n",
    "    ax1.set_title(\"FD\")\n",
    "    ax1.plot(x_FD,y_FD,'.',ms=20)\n",
    "    ax1.grid(\"on\")\n",
    "    \n",
    "    # Plotting the pattern and coefficients of the tri-diagonal matrix\n",
    "    plot_matrices_with_values(ax2,A,FLAG_test)\n",
    "    \n",
    "interact(plot_solution_finite_difference_eq, M=(3,25,1),\n",
    "         ya=(-5,5,0.1), yb=(-5,5,0.1), \n",
    "         FLAG_test=Checkbox(value=True, description='Show numerical values'))"
   ]
  },
  {
   "attachments": {},
   "cell_type": "markdown",
   "metadata": {},
   "source": [
    "## Comparing the Shooting Method with Finite Differences"
   ]
  },
  {
   "cell_type": "code",
   "execution_count": null,
   "metadata": {},
   "outputs": [
    {
     "data": {
      "application/vnd.jupyter.widget-view+json": {
       "model_id": "7020bed727754b86b20d1967f31aa2f9",
       "version_major": 2,
       "version_minor": 0
      },
      "text/plain": [
       "interactive(children=(FloatSlider(value=-0.420306048726636, description='alpha', max=2.0, min=-2.0, step=0.01)…"
      ]
     },
     "metadata": {},
     "output_type": "display_data"
    },
    {
     "data": {
      "text/plain": [
       "<function __main__.shooting_method_vs_FD(alpha=-0.420306048726636, N=50, ya=1, yb=3, ODEsolver=<function eulerMethod at 0x11fe3d760>, M=4)>"
      ]
     },
     "execution_count": 21,
     "metadata": {},
     "output_type": "execute_result"
    }
   ],
   "source": [
    "def shooting_method_vs_FD(alpha=-0.420306048726636, N=50, ya=1, yb=3, ODEsolver=eulerMethod, M=4):\n",
    "    # Shooting Method\n",
    "    t0 = 0\n",
    "    T  = 1\n",
    "    y0 = np.array([ya,alpha])\n",
    "    t_times, y_output = ODEsolver(t0,T,N,y0,f)\n",
    "    h = (T-t0)/N\n",
    "    \n",
    "    # Finite Differences\n",
    "    x_FD, y_FD, A, b = solve_finite_difference_eq(M,ya,yb)\n",
    "    \n",
    "    \n",
    "    fig = plt.figure(figsize=(L/2,L/2))\n",
    "    ax = fig.gca()\n",
    "    plt.grid(True)\n",
    "    plt.title(\"Numerical Approximations\")\n",
    "    plt.plot(t_times,y_output[:,0],'r.',ms=12,alpha=0.5,label=r'SM: $y1_i$')\n",
    "    plt.plot(t_times,y_output[:,1],'m.',ms=12,alpha=0.5,label=r'SM: $y2_i$')\n",
    "    \n",
    "    plt.plot(x_FD,y_FD,'b.',ms=20,label=r'FD: $y_i$')\n",
    "    \n",
    "    plt.plot(0,1,'*k',ms=16,label='Left BC')\n",
    "    plt.plot(1,3,'*g',ms=16,label='Right BC')\n",
    "    plt.plot(0,alpha,'r',ms=16,label=r'$\\alpha$', marker=r'$\\alpha$')\n",
    "    \n",
    "    plt.legend(loc='best')\n",
    "\n",
    "interact(shooting_method_vs_FD, alpha=(-2,2,0.01),\n",
    "         N=(5,100,1), ya=(-5,5,0.1), yb=(-5,5,0.1),\n",
    "         ODEsolver=radio_button_ODEsolvers,\n",
    "         M=(3,25,1))"
   ]
  },
  {
   "attachments": {},
   "cell_type": "markdown",
   "metadata": {},
   "source": [
    "In summary,\n",
    "- Both methods find a reasonable approximation.\n",
    "- The Shooting Method requires to solve several IVP until it find the missing slope $\\alpha$, but it uses previous knowledge.\n",
    "- Finite Different requieres to solve a linear (or possible non-linear) system of equations but we requires few points to get a reasonable approximation.\n",
    "- Therefore, depending on the numerical problem that needs to be solve, one or the other would be better choice!"
   ]
  },
  {
   "attachments": {},
   "cell_type": "markdown",
   "metadata": {},
   "source": [
    "<div id='acknowledgements' />\n",
    "\n",
    "# Acknowledgements\n",
    "[Back to TOC](#toc)\n",
    "\n",
    "*  _Material creado por profesor Claudio Torres_ (`ctorres@inf.utfsm.cl`) _y ayudantes: Álvaro Salinas y Martín \n",
    "Villanueva. DI UTFSM. Abril 2016._\n",
    "* **DISCLAIMER**: El presente notebook ha sido creado para el curso **ILI286 - Computación Científica 2**, del [Departamento de Informática](http://www.inf.utfsm.cl/), [Universidad Técnica Federico Santa María](http://www.utfsm.cl/). El material ha sido creado por Claudio Torres <ctorres@inf.utfsm.cl> y Sebastian Flores <sebastian.flores@usm.cl>, y es distribuido sin restricciones. En caso de encontrar un error, por favor no dude en contactarnos.\n",
    "* [Update 2015] Se ha actualizado los notebooks a Python 3 e includio el \"magic\" \"%matplotlib inline\" antes de cargar matplotlib para que los gráficos se generen en el notebook. \n",
    "* [Update 2016] (Álvaro) Modificaciones mayores al formato original. Agregado contexto: Introducción, Tabla de Contenidos, Explicaciones de cada método.\n",
    "* [Update 2019] (C. Torres) Small changes. Fixing issue with title of sections and identation. Adding 'interact' to the logistic equation! Adding interact to everything, work in progress. All done, Enjoy!\n",
    "* _Update July 2021 - v1.16 - C.Torres_ : Updating format and translating to English. Several updates in several functions! Major update!\n",
    "* _Update July 2021 - v1.17 - C.Torres_ : Minor update, removing commented code.\n",
    "* _Update July 2021 - v1.18 - C.Torres_ : Removing warning and changing the name of some variables.\n",
    "* _Update June 2022 - v1.19 - C.Torres_ : Fixing markdown.\n",
    "* _Update June 2022 - v1.20 - C.Torres_ : Fixing more markdown.\n",
    "* _Update October 2023 - v1.21 - C.Torres_ : Removing _odeint_ reference and adding solve_ivp. Notice it is not used but it is better to have the recommended reference.\n",
    "* _Update October 2023 - v1.22 - C.Torres_ : Removing deprecated issues.\n",
    "* _Update June 2024 - v1.23 - C.Torres_ : Updating the **theoretical definition** of RK4. Thanks Jan Jorquera C.!!\n",
    "* _Update June 2024 - v1.24 - C.Torres_ : Adding Backward Euler method and removing references to the Stability Regions parts.\n",
    "* _Update March 2025 - v1.25 - C.Torres_ : Moved to new github repo and some changes on the Acknowledgements section."
   ]
  },
  {
   "cell_type": "code",
   "execution_count": null,
   "metadata": {},
   "outputs": [],
   "source": []
  }
 ],
 "metadata": {
  "anaconda-cloud": {},
  "kernelspec": {
   "display_name": "base",
   "language": "python",
   "name": "python3"
  },
  "language_info": {
   "codemirror_mode": {
    "name": "ipython",
    "version": 3
   },
   "file_extension": ".py",
   "mimetype": "text/x-python",
   "name": "python",
   "nbconvert_exporter": "python",
   "pygments_lexer": "ipython3",
   "version": "3.12.2"
  }
 },
 "nbformat": 4,
 "nbformat_minor": 4
}
