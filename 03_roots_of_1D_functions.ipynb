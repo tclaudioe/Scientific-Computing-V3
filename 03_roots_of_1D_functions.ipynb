{
 "cells": [
  {
   "attachments": {},
   "cell_type": "markdown",
   "metadata": {
    "nbpresent": {
     "id": "de7417b4-3b4b-44c6-b72c-242cf788c74d"
    }
   },
   "source": [
    "![UTFSM](https://github.com/tclaudioe/Scientific-Computing-V3/blob/main/images/Departamento%20de%20Inform%C3%A1tica%20cromatica%20negra%404x-8.png?raw=true)\n",
    "# INF-285 - Computación Científica\n",
    "## Roots of 1D functions\n",
    "## Version: 1.45\n",
    "## [Acknowledgements](#acknowledgements)\n",
    "\n",
    "[![Open In Colab](https://colab.research.google.com/assets/colab-badge.svg)](https://colab.research.google.com/github/tclaudioe/Scientific-Computing-V3/blob/main/03_roots_of_1D_functions.ipynb)"
   ]
  },
  {
   "attachments": {},
   "cell_type": "markdown",
   "metadata": {
    "nbpresent": {
     "id": "0bf960ac-5485-453f-a7fa-b127626d0722"
    }
   },
   "source": [
    "<div id='toc' />\n",
    "\n",
    "## Table of Contents\n",
    "* [Introduction](#intro)\n",
    "* [Bisection Method](#bisection)\n",
    "* [Fixed Point Iteration and Cobweb diagram](#fpi)\n",
    "* [FPI - example from textbook](#fpi-textbook-example)\n",
    "* [Newton Method](#nm)\n",
    "* [Wilkinson Polynomial](#wilkinson)\n",
    "* [Acknowledgements](#acknowledgements)\n",
    "* [Extra Examples](#extraexamples)"
   ]
  },
  {
   "cell_type": "code",
   "execution_count": null,
   "metadata": {},
   "outputs": [],
   "source": [
    "##########################\n",
    "# CoLab requirements\n",
    "# https://stackoverflow.com/questions/44210656/how-to-check-if-a-module-is-installed-in-python-and-if-not-install-it-within-t\n",
    "##########################\n",
    "\n",
    "# https://pypi.org/project/colorama/\n",
    "\n",
    "import importlib.util\n",
    "import sys\n",
    "import subprocess\n",
    "import os\n",
    "    \n",
    "# install_colab_requirements \n",
    "libraries = ['numpy', 'scipy', 'matplotlib', 'colorama', \n",
    "            'bitstring', 'sympy', 'ipywidgets','pandas']\n",
    "\n",
    "for library in libraries:\n",
    "    # Check if the library is already installed\n",
    "    if importlib.util.find_spec(library) is not None:\n",
    "        print(f\"{library} is already installed.\")\n",
    "    else:\n",
    "        print(f\"{library} is not installed. Installing...\")\n",
    "        # Install the library using pip\n",
    "        subprocess.check_call([sys.executable, \"-m\", \"pip\", \"install\", library])\n",
    "        print(f\"{library} has been installed.\")\n",
    "# https://stackoverflow.com/questions/53581278/test-if-notebook-is-running-on-google-colab\n",
    "if os.getenv(\"COLAB_RELEASE_TAG\"):\n",
    "    print('Installing LaTeX support in CoLab')\n",
    "    # Adding LaTeX dependencies to CoLab: https://stackoverflow.com/questions/55746749/latex-equations-do-not-render-in-google-colaboratory-when-using-matplotlib\n",
    "    !sudo apt install cm-super dvipng texlive-latex-extra texlive-latex-recommended\n",
    "else:\n",
    "   print('Running on local environment')"
   ]
  },
  {
   "cell_type": "code",
   "execution_count": null,
   "metadata": {
    "nbpresent": {
     "id": "933f781f-471c-4576-bc44-cacb85f3d74e"
    }
   },
   "outputs": [],
   "source": [
    "import numpy as np # type: ignore\n",
    "import matplotlib.pyplot as plt # type: ignore\n",
    "import sympy as sym # type: ignore\n",
    "%matplotlib inline\n",
    "from ipywidgets import interact # type: ignore\n",
    "from ipywidgets import widgets # type: ignore\n",
    "sym.init_printing()\n",
    "from scipy import optimize # type: ignore\n",
    "import pandas as pd # type: ignore\n",
    "pd.set_option(\"display.colheader_justify\",\"center\")\n",
    "pd.set_option('display.width', 5)\n",
    "pd.options.display.float_format = '{:.10f}'.format\n",
    "\n",
    "from colorama import Fore, Back, Style # type: ignore\n",
    "# Fore: BLACK, RED, GREEN, YELLOW, BLUE, MAGENTA, CYAN, WHITE, RESET.\n",
    "# Back: BLACK, RED, GREEN, YELLOW, BLUE, MAGENTA, CYAN, WHITE, RESET.\n",
    "# Style: DIM, NORMAL, BRIGHT, RESET_ALL\n",
    "textBold = lambda x: Style.BRIGHT+x+Style.RESET_ALL\n",
    "textBoldH = lambda x: Style.BRIGHT+Back.YELLOW+x+Style.RESET_ALL\n",
    "\n",
    "plt.rcParams.update({\n",
    "        \"text.usetex\": True,\n",
    "        \"font.family\": \"sans-serif\",\n",
    "        \"font.sans-serif\": \"Helvetica\",\n",
    "        \"font.size\": 18,\n",
    "    })"
   ]
  },
  {
   "cell_type": "markdown",
   "metadata": {
    "nbpresent": {
     "id": "b67d6f1e-9141-4fdb-a380-7143377bb257"
    }
   },
   "source": [
    "<div id='intro' />\n",
    "\n",
    "# Introduction\n",
    "[Back to TOC](#toc)\n",
    "\n",
    "In this document we're going to study how to find roots of 1D equations using numerical methods. \n",
    "First, let's start with the definition of a root:\n",
    "\n",
    "<b>Definition</b>: The function $f(x)$ has a <b>root</b> in $x = r$ if $f(r) = 0$.\n",
    "\n",
    "Example: Let's say we want to solve the equation $r + \\log(r) = 3$.\n",
    "We can re-arrange the equation as follows: $r + \\log(r) - 3 = 0$. \n",
    "Thus, solving the previous equation is equivalent to find the root of $f(x) = x + \\log(x) - 3$.\n",
    "This example shows how we can translate an equation into a root-finding problem!\n",
    "We will study now several numerical methods to find roots."
   ]
  },
  {
   "cell_type": "markdown",
   "metadata": {
    "nbpresent": {
     "id": "6ad27f67-ce50-4034-8ad6-87fc8e891710"
    }
   },
   "source": [
    "We will start by defining a function $f(x)$ using a __lambda__ definition."
   ]
  },
  {
   "cell_type": "code",
   "execution_count": null,
   "metadata": {
    "nbpresent": {
     "id": "303a1805-24d2-40c6-85f9-d0d40f2092e1"
    }
   },
   "outputs": [],
   "source": [
    "f = lambda x: x+np.log(x)-3"
   ]
  },
  {
   "cell_type": "markdown",
   "metadata": {},
   "source": [
    "Notice that we have used the NumPy implementation for the logarithmic function. _**Quick question**: what is the base for this implementation? Is it the natural logarithm or logarithm base 10?_"
   ]
  },
  {
   "cell_type": "markdown",
   "metadata": {
    "nbpresent": {
     "id": "1fbf0be0-90c4-413c-983f-e4d6ea6f76bc"
    }
   },
   "source": [
    "But before we start working on a numerical implementation, we should always consider in solving the problem algebraically.\n",
    "This can be done with SymPy, i.e. using symbolic computation.\n",
    "For instance, we will start by defining a symbolic variable:"
   ]
  },
  {
   "cell_type": "code",
   "execution_count": null,
   "metadata": {
    "nbpresent": {
     "id": "e91bbbf7-6c90-4f31-ae8c-55555844daa8"
    }
   },
   "outputs": [],
   "source": [
    "# Definition of symbolic variable\n",
    "x = sym.Symbol('x')\n",
    "# Defining 'symbolic' function\n",
    "fsym = lambda x: x+sym.log(x)-3\n",
    "# Finding the root 'symbolically' and obtaining the only root\n",
    "r=sym.solve(sym.Eq(fsym(x), 0), x)[0]\n",
    "print(textBoldH('Root obtained:'),r)\n",
    "print(textBoldH('Numerical root:'),r.evalf())"
   ]
  },
  {
   "cell_type": "markdown",
   "metadata": {},
   "source": [
    "**Lamber W function**: https://en.wikipedia.org/wiki/Lambert_W_function"
   ]
  },
  {
   "cell_type": "markdown",
   "metadata": {},
   "source": [
    "We will now obtain the root 'manually'.\n",
    "This is not a recommended path but it is useful initially."
   ]
  },
  {
   "cell_type": "code",
   "execution_count": null,
   "metadata": {
    "nbpresent": {
     "id": "1e499efa-b348-449b-95da-6ae6f7d8bc13"
    }
   },
   "outputs": [],
   "source": [
    "def find_root_manually(r=2.0):\n",
    "    # Defining a vector to evaluate f(x) in a vectorized fashion\n",
    "    x = np.linspace(1.5,2.5,1000)\n",
    "    # reating the figure\n",
    "    plt.figure(figsize=(5,5))\n",
    "    # Plotting the function in a vectorized way\n",
    "    plt.plot(x,f(x),'b-')\n",
    "    # Plotting the x-axis. \n",
    "    # Quick question: Why do we have to multiply 'x' by '0'? What would happen if we only put '0' instead of 'x*0'?\n",
    "    plt.plot(x,x*0,'r--')\n",
    "    # Adding the background grid to the plot. We strongly recommend it!\n",
    "    plt.grid(True)\n",
    "    # Just adding labels.\n",
    "    plt.ylabel(r'$f(x)$',fontsize=16)\n",
    "    plt.xlabel(r'$x$',fontsize=16)\n",
    "    plt.title(r'$r='+str(r)+', f(r)='+str(f(r))+'$',fontsize=16)\n",
    "    plt.plot(r,f(r),'k.',markersize=20)\n",
    "    plt.show()\n",
    "interact(find_root_manually,r=(1,3,1e-3))"
   ]
  },
  {
   "cell_type": "markdown",
   "metadata": {
    "nbpresent": {
     "id": "0205cfe4-30cb-4064-a6bb-d6bb7ba0c4e4"
    }
   },
   "source": [
    "<div id='bisection' />\n",
    "\n",
    "# Bisection Method\n",
    "[Back to TOC](#toc)"
   ]
  },
  {
   "cell_type": "markdown",
   "metadata": {
    "nbpresent": {
     "id": "876cd550-d494-49e9-8009-7c7ff260fadf"
    }
   },
   "source": [
    "**Bolzano's theorem** [_Page 85, Mathematical Analysis, Thomas Apostol, Second Edition. Addison Wesley_]\n",
    "Let $f$ be a real-valued and continuous on a compact interval $[a,b]\\in\\mathbb{R}$, and suppose that $f(a)$ and $f(b)$ hace opposite signs; that is, assume $f(a)\\,f(b)<0$. Then there is at least one point $c$ in the open interval $]a,b[$ such that $f(c)=0$.\n",
    "\n",
    "The bisection method finds the root of a function $f$. \n",
    "It requires that:\n",
    "1. $f$ be a **continuous** function.\n",
    "2. The interval $[a,b]$, such that $f(a)\\cdot f(b) < 0$.\n",
    "\n",
    "If these 2 conditions are satisfied, it means that there is a value $r$, between $a$ and $b$, for which $f(r) = 0$.\n",
    "To summarize how this method works, start with the aforementioned interval (checking that there's a root in it), and split it into two smaller intervals $[a,c]$ and $[c,b]$. \n",
    "Then, check which of the two intervals contains a root. \n",
    "Keep splitting each \"eligible\" interval until the algorithm converges or the tolerance is achived."
   ]
  },
  {
   "cell_type": "code",
   "execution_count": null,
   "metadata": {
    "nbpresent": {
     "id": "1261a3bc-1a85-41f6-834e-5882848b6265"
    }
   },
   "outputs": [],
   "source": [
    "def bisect(f, a, b, tol=1e-5, maxNumberIterations=100, usePandas=True):\n",
    "    # Evaluating the extreme points of the interval provided\n",
    "    fa = f(a)\n",
    "    fb = f(b)\n",
    "    # Iteration counter.\n",
    "    i = 0\n",
    "    # Just checking if the sign is not negative => not root  necessarily \n",
    "    if np.sign(f(a)*f(b)) >= 0:\n",
    "        print('f(a)f(b)<0 not satisfied!')\n",
    "        return None\n",
    "  \n",
    "    # Output table to store the numerical evolution of the algorithm\n",
    "    output_table = []\n",
    "    if not usePandas:\n",
    "        #Printing the evolution of the computation of the root\n",
    "        print(' i |     a     |     c     |     b     |     fa    |     fc     |     fb     |   b-a')\n",
    "        print('----------------------------------------------------------------------------------------')\n",
    "    \n",
    "    # Main loop: it will iterate until it satisfies one of the two criterias:\n",
    "    # The tolerance 'tol' is achived or the max number of iterations is reached.\n",
    "    while ((b-a)/2 > tol) and i<=maxNumberIterations:\n",
    "        # Obtaining the midpoint of the interval. Quick question: What could happen if a different point is used?\n",
    "        c = (a+b)/2.\n",
    "        # Evaluating the mid point\n",
    "        fc = f(c)\n",
    "        # Saving the output data\n",
    "        output_table.append([i, a, c, b, fa, fc, fb, b-a])\n",
    "        if not usePandas:\n",
    "            print('%2d | %.7f | %.7f | %.7f | %.7f | %.7f | %.7f | %.7f' % (i+1, a, c, b, fa, fc, fb, b-a))\n",
    "\n",
    "        # Did we find the root?\n",
    "        if fc == 0:\n",
    "            print('f(c)==0')\n",
    "            break\n",
    "        elif np.sign(fa*fc) < 0:\n",
    "            # This first case consider that the new inetrval is defined by [a,c]\n",
    "            b = c\n",
    "            fb = fc\n",
    "        else:\n",
    "            # This second case consider that the new interval is defined by [c,b]\n",
    "            a = c\n",
    "            fa = fc\n",
    "        # Increasing the iteration counter\n",
    "        i += 1\n",
    "    \n",
    "    if usePandas:\n",
    "        # Showing final output table\n",
    "        columns    = ['$i$', '$a_i$', '$c_i$', '$b_i$', '$f(a_i)$', '$f(c_i)$', '$f(b_i)$', '$b_i-a_i$']\n",
    "        df = pd.DataFrame(data=output_table, columns=columns)\n",
    "        display(df)\n",
    "    \n",
    "    # Computing the best approximation obtaind for the root, which is the midpoint of the final interval.\n",
    "    xc = (a+b)/2.\n",
    "    return xc"
   ]
  },
  {
   "cell_type": "code",
   "execution_count": null,
   "metadata": {
    "scrolled": false
   },
   "outputs": [],
   "source": [
    "# Initial example\n",
    "f1 = lambda x: x+np.log(x)-3\n",
    "# A different function, notice that x is multiplied to the exponential now and not added, as before.\n",
    "f2 = lambda x: x*np.exp(x)-3\n",
    "# This is the introductory example about Fixed Point Iteration\n",
    "f3 = lambda x: np.cos(x)-x\n",
    "f4 = lambda x: np.power(x,3.)+4*np.power(x,2.)-2\n",
    "f5 = lambda x: x-np.cos(x)\n",
    "f6 = lambda x: x*x-2.\n",
    "bisect(f6,0,2,tol=1e-12) # Recall to change the 'tol'!"
   ]
  },
  {
   "cell_type": "markdown",
   "metadata": {
    "nbpresent": {
     "id": "8f1dcc0b-4e83-4eb0-9020-30ea3107c233"
    }
   },
   "source": [
    "It's very important to define a concept called **convergence rate**. \n",
    "This rate shows how fast the convergence of a method is at a specified point.\n",
    "\n",
    "The convergence rate for the bisection is always 0.5 because this method uses the half of the interval for each iteration.\n",
    "\n",
    "In this particular case we observe $e_{i+1} \\approx \\dfrac{e_{i}}{2}$, why? where?"
   ]
  },
  {
   "cell_type": "markdown",
   "metadata": {
    "nbpresent": {
     "id": "55bcc6fb-d884-4d44-b569-078ce0ad1459"
    }
   },
   "source": [
    "<div id='fpi' />\n",
    "\n",
    "# Fixed Point Iteration and Cobweb diagram\n",
    "[Back to TOC](#toc)"
   ]
  },
  {
   "cell_type": "markdown",
   "metadata": {
    "nbpresent": {
     "id": "ef495f98-a04f-404f-8e91-460af809e7bd"
    }
   },
   "source": [
    "To learn about the Fixed-Point Iteration we will first learn about the concept of a Fixed Point.\n",
    "\n",
    "A Fixed Point of a function $g$ is a real number $r$, where $g(r) = r$\n",
    "\n",
    "The Fixed-Point Iteration is based in the Fixed Point concept and works like this to find the root of a function:\n",
    "\n",
    "\\begin{align*} \n",
    "    x_{0} &= initial\\_guess \\\\ \n",
    "    x_{i+1} &= g(x_{i})\n",
    "\\end{align*}\n",
    "\n",
    "To find an equation's root using this method, we'll have to rearrange the equation to make it of the following form $x = g(x)$.\n",
    "For example, if we want to obtain the root of $f(r)=0$, one could add a zero convenient this way, $f(r)+r=r$, i.e. we add it $r$ on both sides.\n",
    "This way we have $g(r)=r+f(r)$ and the fixed point iteration could be performed.\n",
    "In the following example, we'll find the root of $f(x) = x - \\cos(x)$ by iterating over the funcion $g(x) = \\cos(x)$."
   ]
  },
  {
   "cell_type": "code",
   "execution_count": null,
   "metadata": {
    "nbpresent": {
     "id": "1cd6c7c7-0b0d-4537-8361-c712ccec3478"
    }
   },
   "outputs": [],
   "source": [
    "# Just plotting the Cobweb diagram: https://en.wikipedia.org/wiki/Cobweb_plot\n",
    "def cobweb(x,g=None):\n",
    "    min_x = np.amin(x)\n",
    "    max_x = np.amax(x)\n",
    "    \n",
    "    plt.figure(figsize=(5,5))\n",
    "    ax = plt.axes()\n",
    "    plt.plot(np.array([min_x,max_x]),np.array([min_x,max_x]),'b-')\n",
    "    for i in np.arange(x.size-1):\n",
    "        delta_x = x[i+1]-x[i]\n",
    "        head_length =  np.abs(delta_x)*0.04\n",
    "        arrow_length = delta_x-np.sign(delta_x)*head_length\n",
    "        ax.arrow(x[i], x[i], 0, arrow_length, head_width=1.5*head_length, head_length=head_length, fc='k', ec='k')\n",
    "        ax.arrow(x[i], x[i+1], arrow_length, 0, head_width=1.5*head_length, head_length=head_length, fc='k', ec='k')\n",
    "    \n",
    "    if g!=None:\n",
    "        y = np.linspace(min_x,max_x,1000)\n",
    "        plt.plot(y,g(y),'r')\n",
    "    \n",
    "    plt.title(r'$\\mathrm{Cobweb\\,diagram}$')\n",
    "    plt.grid(True)\n",
    "    plt.show()\n",
    "\n",
    "# This code performs the fixed point iteration.\n",
    "def fpi(g, x0, k, flag_cobweb=False):\n",
    "    # This is where we store all the approximation, \n",
    "    # this is technically not needed but we store them because we need them for the cobweb diagram at the end.\n",
    "    x = np.empty(k+1)\n",
    "    # Just starting the fixed point iteration from the 'initial guess'\n",
    "    x[0] = x0\n",
    "    # Initializing the error in NaN\n",
    "    error_i = np.nan\n",
    "    \n",
    "    # Output table to store the numerical evolution of the algorithm\n",
    "    output_table = []\n",
    "    \n",
    "    # Main loop\n",
    "    for i in range(k):\n",
    "        # Iteration\n",
    "        x[i+1] = g(x[i])\n",
    "        # Storing error from previous iteration\n",
    "        error_iminus1 = error_i\n",
    "        # Computing error for current iteration.\n",
    "        # Notice that from the theory we need to compute e_i=|x_i-r|, i.e. we need the root 'r'\n",
    "        # but we don't have it, so we approximate it by 'x_{i+1}'.\n",
    "        error_i = abs(x[i]-x[i+1])\n",
    "        output_table.append([i,x[i],x[i+1],error_i,error_i/error_iminus1,error_i/(error_iminus1**((1+np.sqrt(5))/2.)),error_i/(error_iminus1**2)])\n",
    "    \n",
    "    # Showing final output table\n",
    "    columns    = ['$i$', '$x_i$', '$x_{i+1}$', '$e_i$', r'$\\frac{e_i}{e_{i-1}}$', r'$\\frac{e_i}{e_{i-1}^\\alpha}$', r'$\\frac{e_i}{e_{i-1}^2}$']\n",
    "    df = pd.DataFrame(data=output_table, columns=columns)\n",
    "    display(df)\n",
    "    \n",
    "    # Just showing cobweb if required\n",
    "    if flag_cobweb:\n",
    "        cobweb(x,g)\n",
    "    return x[-1]"
   ]
  },
  {
   "cell_type": "code",
   "execution_count": null,
   "metadata": {
    "nbpresent": {
     "id": "a3a27d8e-4cec-407f-8aa4-5301d152d7a2"
    },
    "scrolled": false
   },
   "outputs": [],
   "source": [
    "# First example\n",
    "g = lambda x: np.cos(x)\n",
    "# Examples from classnotes\n",
    "g1 = lambda x: -(3/2)*x+5/2\n",
    "g2 = lambda x: -(1/2)*x+3/2\n",
    "g3 = lambda x: -x+2\n",
    "g4 = lambda x: x/2.+1./x\n",
    "g4_p = lambda x: 2./x\n",
    "\n",
    "g = lambda x: np.cos(x)\n",
    "r=fpi(g, 1.1, 100, False)\n",
    "print(r)\n",
    "print('S=|g\\'(r)|=',np.abs(-np.sin(r)))\n",
    "\n",
    "# Suggestions:\n",
    "# 1.- A very useful and simple 'limit cicle' example! Try it. Credit: anonymous student from class 20210922.\n",
    "# fpi(lambda x: -x, 2, 10, True)\n",
    "# 2.- Try the next example. Why do we see 1.0000 for e_{i+1}/e_i over 90 iterations?\n",
    "# fpi(g, 1, 100, True)\n",
    "# 3.- The following fixed-point iteration obtain sqrt(2). Credits: Anonymous student from class 20210921 and 20210922.\n",
    "# gD = lambda x: (x+2)/(x+1)\n",
    "# fpi(gD, 1, 10, True)"
   ]
  },
  {
   "cell_type": "code",
   "execution_count": null,
   "metadata": {},
   "outputs": [],
   "source": [
    "g = lambda x: np.cos(x)\n",
    "r=fpi(g, -1, 20, True)\n",
    "print(r)\n",
    "print('S=|g\\'(r)|=',np.abs(-np.sin(r)))"
   ]
  },
  {
   "cell_type": "code",
   "execution_count": null,
   "metadata": {},
   "outputs": [],
   "source": [
    "m = 1\n",
    "f = lambda x: np.power(x-np.cos(x),m)\n",
    "fp = lambda x: m*np.power(x-np.cos(x),m-1)*(1+np.sin(x))\n",
    "gN = lambda x: x-m*f(x)/fp(x)\n",
    "r=fpi(gN, 0.7, 20, True)"
   ]
  },
  {
   "cell_type": "markdown",
   "metadata": {
    "nbpresent": {
     "id": "f3e3319f-ad4b-4c0b-89e7-7bd915c819ac"
    }
   },
   "source": [
    "Let's quickly explain the Cobweb Diagram we have here. The <font color=\"blue\">blue</font> line is the function $y=x$ and the <font color=\"red\">red</font> is the function $y=g(x)$. \n",
    "The point in which they meet is $r=g(r)$, i.e. the fixed point. \n",
    "In this particular example, we start at $\\color{blue}{y = x = 1.5}$ (the top right corner) and then we \"jump\" **vertically** to $\\color{red}{y = \\cos(1.5) \\approx 0.07}$. \n",
    "After this, we jump **horizontally** to $\\color{blue}{x = \\cos(1.5) \\approx 0.07}$. \n",
    "Then, we jump again **vertically** to $\\color{red}{y = \\cos\\left(\\cos(1.5)\\right) \\approx 0.997}$ and so on. \n",
    "See the pattern here? We're just iterating over $x = \\cos(x)$, getting closer to the center of the diagram where the fixed point resides, in $x \\approx 0.739$."
   ]
  },
  {
   "cell_type": "markdown",
   "metadata": {
    "nbpresent": {
     "id": "39bab94c-eca7-4f81-b21d-c47784e1820d"
    }
   },
   "source": [
    "It's very important to mention that the algorithm will converge only if the rate of convergence $S < 1$, where $S = \\left| g'(r) \\right|$. \n",
    "If you want to use this method, you'll have to construct $g(x)$ starting from $f(x)$ accordingly. \n",
    "In this example, $g(x) = \\cos(x) \\Rightarrow g'(x) = -\\sin(x)$ and $|-\\sin(0.739)| \\approx 0.67$.\n",
    "**Quick question:** Do you see the value 0.67 in the previous table?"
   ]
  },
  {
   "attachments": {},
   "cell_type": "markdown",
   "metadata": {},
   "source": [
    "### Another example. Look at this web page to undertand the context: https://divisbyzero.com/2008/12/18/sharkovskys-theorem/"
   ]
  },
  {
   "cell_type": "code",
   "execution_count": null,
   "metadata": {},
   "outputs": [],
   "source": [
    "# Consider this funtion\n",
    "g = lambda x: -(3/2)*x**2+(11/2)*x-2\n",
    "# Here we compute the derivative of it.\n",
    "gp = lambda x: -3*x+11/2\n",
    "\n",
    "# We plot now the funcion itself (red), its derivative (magenta) and the function y=x (blue).\n",
    "# We also plot the values -1 and 1 with green dashed curves.\n",
    "# This analyis shows that the fixed point, which is the intersection between the red and blue curves, \n",
    "# does not generate a convergent fix-point-iteration since the derivative (magenta curve) has a value\n",
    "# lower than -1 about the fixed point.\n",
    "x=np.linspace(2,3,100)\n",
    "plt.figure(figsize=(8,8))\n",
    "plt.plot(x,g(x),'r-',label=r'$g(x)$')\n",
    "plt.plot(x,x,'b-',label=r'$x$')\n",
    "plt.plot(x,gp(x),'m-',label=r\"$g'(x)$\")\n",
    "plt.plot(x,gp(x)*0+1,'g--')\n",
    "plt.plot(x,gp(x)*0-1,'g--')\n",
    "plt.grid(True)\n",
    "plt.legend(loc='best')\n",
    "plt.show()"
   ]
  },
  {
   "cell_type": "markdown",
   "metadata": {},
   "source": [
    "What it is interesting about the previous example is that it generates an interesting limit cicle! In the next cell we evaluate the fixed point with initial guess equal to 1. The iteration oscilates generating the following sequence: 1, 2, 3, 1, 2, 3, .... Which is nice!"
   ]
  },
  {
   "cell_type": "code",
   "execution_count": null,
   "metadata": {
    "scrolled": false
   },
   "outputs": [],
   "source": [
    "fpi(g, 2.5, 12, True)\n",
    "\n",
    "# Suggestion, try the following alternative.\n",
    "#fpi(g, 2.5, 100, True)"
   ]
  },
  {
   "cell_type": "markdown",
   "metadata": {},
   "source": [
    "However, we prefer **convergent** fixed-point-iterations! Here is interesting way to make a non-convergent FPI into a convergent one."
   ]
  },
  {
   "cell_type": "code",
   "execution_count": null,
   "metadata": {},
   "outputs": [],
   "source": [
    "# This is a \"palta\" hidden in the code! Think about it. Quick question: what is it doing?\n",
    "a=-1/(1-(-1.7)) # a = -1 / (1 - g'(r)), where does \"a\" come from?\n",
    "G = lambda x: x+a*(x-g(x))\n",
    "fpi(G, 1, 14, True)"
   ]
  },
  {
   "cell_type": "markdown",
   "metadata": {},
   "source": [
    "<div id='fpi-textbook-example' />\n",
    "\n",
    "# FPI - example from textbook\n",
    "[Back to TOC](#toc)\n"
   ]
  },
  {
   "cell_type": "markdown",
   "metadata": {},
   "source": [
    "This example is from the textbook. We are trying to find a root of $f(x)=x^3+x-1$."
   ]
  },
  {
   "cell_type": "code",
   "execution_count": null,
   "metadata": {},
   "outputs": [],
   "source": [
    "# These are the three functions proposed.\n",
    "g1 = lambda x: 1-x**3\n",
    "g2 = lambda x: (1-x)**(1/3)\n",
    "g3 = lambda x: (1+2*x**3)/(1+3*x**2)\n",
    "gNew = lambda x: 1/(x**2+1) # by Daniel Roco\n",
    "# Change the input function to evaluate different functions.\n",
    "# Are the three functions convergent fixed point iterations?\n",
    "r=fpi(g3, 0.75, 20, True)\n",
    "# print(r**3+r-1)"
   ]
  },
  {
   "cell_type": "code",
   "execution_count": null,
   "metadata": {},
   "outputs": [],
   "source": [
    "# This is a \"hack\" to improve the convergence of g2!\n",
    "a  = -0.6\n",
    "g4 = lambda x: x+a*(x-g2(x))\n",
    "fpi(g4, 0.75, 10, True)\n",
    "# Why does this hack works?"
   ]
  },
  {
   "cell_type": "markdown",
   "metadata": {},
   "source": [
    "Now that we have found the root, let's compute the derivative of each $g(x)$ used previously and understand what exactly was going on."
   ]
  },
  {
   "cell_type": "code",
   "execution_count": null,
   "metadata": {},
   "outputs": [],
   "source": [
    "g1p = lambda x: -3*x**2\n",
    "g2p = lambda x: -(1/3)*(1-x)**(-2/3)\n",
    "g3p = lambda x: ((1+3*x**2)*(6*x**2)-(1+2*x**3)*6*x)/((1+3*x**2)**2)\n",
    "g4p = lambda x: 1+a*(1-g2p(x))\n",
    "r=0.6823278038280194\n",
    "print('What is the conclusion then?')\n",
    "print([g1p(r), g2p(r), g3p(r), g4p(r)])"
   ]
  },
  {
   "cell_type": "code",
   "execution_count": null,
   "metadata": {},
   "outputs": [],
   "source": [
    "# Or it may be better to apply the absolute value.\n",
    "print(np.abs([g1p(r), g2p(r), g3p(r), g4p(r)]))"
   ]
  },
  {
   "cell_type": "markdown",
   "metadata": {
    "nbpresent": {
     "id": "206edc54-dc0d-4831-a4c1-de99c755ca83"
    }
   },
   "source": [
    "<div id='nm' />\n",
    "\n",
    "# Newton's Method\n",
    "[Back to TOC](#toc)\n",
    "\n",
    "The Newton's method also finds a root of a function $f(x)$ but it requires its derivative, i.e. $f'(x)$.\n",
    "The algorithm is as follows:\n",
    "\\begin{align*}\n",
    "    x_0 &= \\text{initial guess},\\\\\n",
    "    x_{i+1} &= x_i - \\dfrac{f(x_i)}{f'(x_i)}.\n",
    "\\end{align*}\n",
    "For roots with multiplicity equal to 1, Newton's method convergens quadratically. However, when the multiplicity is larger that 1, it will show linear convergence. Fortunately, we can modify Newton's method if we know the multiplicity of the root, say $m$, this is as follows:\n",
    "\\begin{align*}\n",
    "    x_0 &= \\text{initial guess},\\\\\n",
    "    x_{i+1} &= x_i - m\\,\\dfrac{f(x_i)}{f'(x_i)}.\n",
    "\\end{align*}\n",
    "This modified version will also show quadratic convergence!"
   ]
  },
  {
   "cell_type": "code",
   "execution_count": null,
   "metadata": {
    "nbpresent": {
     "id": "9aa7ed8c-a5f0-4474-a1f9-3faed0af85ba"
    }
   },
   "outputs": [],
   "source": [
    "def newton_method(f, fp, x0, rel_error=1e-8, m=1, maxNumberIterations=100):\n",
    "    #Initialization of hybrid error and absolute\n",
    "    hybrid_error = 100\n",
    "    error_i = np.inf\n",
    "        \n",
    "    # Output table to store the numerical evolution of the algorithm\n",
    "    output_table = []\n",
    "    \n",
    "    #Iteration counter\n",
    "    i = 0\n",
    "    while (rel_error < hybrid_error and hybrid_error < 1e20 and i<=maxNumberIterations):\n",
    "        # Newton's iteration\n",
    "        x1 = x0-m*f(x0)/fp(x0)\n",
    "        \n",
    "        # Checking if root was found\n",
    "        if f(x1) == 0.0:\n",
    "            hybrid_error = 0.0\n",
    "            break\n",
    "        \n",
    "        # Computation of hybrid error\n",
    "        hybrid_error = abs(x1-x0)/np.max([abs(x1),1e-12])\n",
    "        \n",
    "        # Computation of absolute error\n",
    "        error_iminus1 = error_i\n",
    "        error_i = abs(x1-x0)\n",
    "        \n",
    "        # Storing output data\n",
    "        output_table.append([i,x0,x1,error_i,error_i/error_iminus1,error_i/(error_iminus1**((1+np.sqrt(5))/2.)),error_i/(error_iminus1**2)])\n",
    "        \n",
    "        # Updating solution\n",
    "        x0 = x1\n",
    "        # Increasing iteration counter\n",
    "        i += 1\n",
    "    \n",
    "    # Showing final output table\n",
    "    columns    = ['$i$', '$x_i$', '$x_{i+1}$', '$e_i$', r'$\\frac{e_i}{e_{i-1}}$', r'$\\frac{e_i}{e_{i-1}^\\alpha}$', r'$\\frac{e_i}{e_{i-1}^2}$']\n",
    "    df = pd.DataFrame(data=output_table, columns=columns)\n",
    "    display(df)\n",
    "    \n",
    "    # Checking if solution was obtained\n",
    "    if hybrid_error < rel_error: \n",
    "        return x1\n",
    "    elif i>=maxNumberIterations:\n",
    "        print('Newton''s Method did not converge. Too many iterations!!')\n",
    "        return None\n",
    "    else:\n",
    "        print('Newton''s Method did not converge!')\n",
    "        return None"
   ]
  },
  {
   "cell_type": "markdown",
   "metadata": {},
   "source": [
    "First example, let's compute a root of $\\sin(x)$, near $x_0=3.1$."
   ]
  },
  {
   "cell_type": "code",
   "execution_count": null,
   "metadata": {
    "nbpresent": {
     "id": "cd221273-2a77-491b-ba4c-7dce1842b806"
    }
   },
   "outputs": [],
   "source": [
    "# Example funtion\n",
    "f = lambda x: np.sin(x)\n",
    "# The derivative of f\n",
    "fp = lambda x: np.cos(x)\n",
    "newton_method(f, fp, 3.1,rel_error=1e-15)"
   ]
  },
  {
   "cell_type": "markdown",
   "metadata": {},
   "source": [
    "Now, we will look at the example when Newton's method shows linear convergence."
   ]
  },
  {
   "cell_type": "code",
   "execution_count": null,
   "metadata": {},
   "outputs": [],
   "source": [
    "f = lambda x: x**4\n",
    "fp = lambda x: 4*x**3 # the derivative of f\n",
    "newton_method(f, fp, 1.1, rel_error=1e-1, m=1, maxNumberIterations=20)"
   ]
  },
  {
   "attachments": {},
   "cell_type": "markdown",
   "metadata": {},
   "source": [
    "So, in the previous example Newton's method showed linear convergence.\n",
    "But, how can we use its outcome to improve the convergence?\n",
    "This can be fixed by understanding the following facts:\n",
    "1. Linear convergence definition: $e_{i+1}/e_i=S$\n",
    "2. Linear convergence exhibit by Newton's method when the root has multiplicity greater than 1: $S=(m-1)/m$\n",
    "\n",
    "Connecting the two previous two facts we get, \n",
    "$$\n",
    "e_{i+1}/e_i=(m-1)/m.\n",
    "$$\n",
    "\n",
    "From the table we obtain that $e_{i+1}/e_i\\approx 0.5$, this implies the following equation,\n",
    "$$\n",
    "0.5=(m-1)/m.\n",
    "$$\n",
    "Solving for $m$ we get $m=2$.\n",
    "Knowing this is very useful because we can use it with the Newton's method and recover its quadratic convergence!"
   ]
  },
  {
   "cell_type": "markdown",
   "metadata": {},
   "source": [
    "<div id='wilkinson' />\n",
    "\n",
    "# Wilkinson Polynomial\n",
    "[Back to TOC](#toc)\n",
    "\n",
    "https://en.wikipedia.org/wiki/Wilkinson%27s_polynomial\n",
    "\n",
    "**Final question: Why is the root far far away from $16$?**"
   ]
  },
  {
   "cell_type": "code",
   "execution_count": null,
   "metadata": {},
   "outputs": [],
   "source": [
    "x = sym.symbols('x', reals=True)\n",
    "W=1\n",
    "for i in np.arange(1,21):\n",
    "        W*=(x-i)\n",
    "W # Printing W nicely"
   ]
  },
  {
   "cell_type": "code",
   "execution_count": null,
   "metadata": {},
   "outputs": [],
   "source": [
    "# Expanding the Wilkinson polynomial\n",
    "We=sym.expand(W)\n",
    "We "
   ]
  },
  {
   "cell_type": "code",
   "execution_count": null,
   "metadata": {},
   "outputs": [],
   "source": [
    "# Just computiong the derivative\n",
    "Wep=sym.diff(We,x)\n",
    "Wep"
   ]
  },
  {
   "cell_type": "code",
   "execution_count": null,
   "metadata": {},
   "outputs": [],
   "source": [
    "# Lamdifying the polynomial to be used with sympy\n",
    "P=sym.lambdify(x,We)\n",
    "Pp=sym.lambdify(x,Wep)"
   ]
  },
  {
   "cell_type": "code",
   "execution_count": null,
   "metadata": {},
   "outputs": [],
   "source": [
    "# Using scipy function to compute a root\n",
    "# root = optimize.newton(P,16)\n",
    "# print(root)"
   ]
  },
  {
   "cell_type": "code",
   "execution_count": null,
   "metadata": {},
   "outputs": [],
   "source": [
    "newton_method(P, Pp, 16.01, rel_error=1e-10, maxNumberIterations=10)"
   ]
  },
  {
   "attachments": {},
   "cell_type": "markdown",
   "metadata": {},
   "source": [
    "<div id='acknowledgements' />\n",
    "\n",
    "# Acknowledgements\n",
    "[Back to TOC](#toc)\n",
    "\n",
    "* _Material created by professor Claudio Torres_ (`claudio.torres@usm.cl`) _and assistants: Laura Bermeo, Alvaro Salinas, Axel Simonsen and Martín Villanueva. DI UTFSM. March 2016._ v1.1.\n",
    "* _Update April 2020 - v1.32 - C.Torres_ : Re-ordering the notebook.\n",
    "* _Update April 2021 - v1.33 - C.Torres_ : Updating format and re-re-ordering the notebook. Adding 'maxNumberIterations' to bisection, fpi and Newton's method. Adding more explanations.\n",
    "* _Update April 2021 - v1.33 - C.Torres_ : Updating description and solution of 'Proposed classwork'.\n",
    "* _Update September 2021 - v1.35 - C.Torres_ : Updating and commeting code more.\n",
    "* _Update September 2021 - v1.36 - C.Torres_ : Updating the way we show the output tables.\n",
    "* _Update September 2021 - v1.37 - C.Torres_ : Fixing typo suggested by Nicolás Tapia 2021-2. Thanks Nicolás! And removing extra code.\n",
    "* _Update April 2023 - v1.38 - C.Torres_ : Fixing typo in section \"Fixed Point Iteration and Cobweb diagram\" suggested by Ricardo Olalquiaga 2023-1. Thanks Ricardo! Fixing another type in the Table of Content.\n",
    "* _Update April 2023 - v1.39 - C.Torres_ : Fixing typo in section \"Fixed Point Iteration and Cobweb diagram\" and in \"Newton's method\" suggested by José Llanos Gaete 2023-1. Thanks José!\n",
    "* _Update August 2023 - v1.40 - C.Torres_ : Updating bisection method to provide support for visualization without using Pandas.\n",
    "* _Update March 2025 - v1.41 - C.Torres_ : Moved to new github repo, making the installation of library colorama automatically, updating code for coloring some equation in blue and red, and change the file name/title.\n",
    "* _Update March 2025 - v1.42 - C.Torres_ : Adding Colab link.\n",
    "* _Update August 2025 - v1.43 - C.Torres_ : Updating how to handle Colab's dependencies, updating some plots and updating `cobweb`.\n",
    "* _Update August 2025 - v1.44 - C.Torres_ : Making small improvements in notation and adding Bolzano's theorem reference at the beginning of the bisection method.\n",
    "* _Update August 2025 - v1.45 - C.Torres_ : Updating title format and adding support for LaTeX in CoLab."
   ]
  },
  {
   "cell_type": "markdown",
   "metadata": {},
   "source": [
    "<div id='extraexamples' />\n",
    "\n",
    "# Extra examples\n",
    "[Back to TOC](#toc)"
   ]
  },
  {
   "cell_type": "markdown",
   "metadata": {},
   "source": [
    "## Propose Classwork\n",
    "1. Build a FPI such that given $a$ computes $\\displaystyle \\frac{1}{a}$. The constraint is that you can't use a division in the 'final' FPI. Write down your solution below or go and see the [solution](#sol1). \n",
    "\n",
    "_Hint: I strongly suggest to use Newton's method._"
   ]
  },
  {
   "cell_type": "code",
   "execution_count": null,
   "metadata": {},
   "outputs": [],
   "source": [
    "print('Please try to solve it before you see the solution!!!')"
   ]
  },
  {
   "cell_type": "markdown",
   "metadata": {},
   "source": [
    "2. Build an algorithm that computes $\\log(x_i)$ for $x_i=0.1*i+0.5$, for $i\\in{0,1,2,\\dots,10}$. The only special function available is $\\exp(x)$, in particular use _np.exp(x)_. You can also use $*$, $÷$, $+$, and $-$. It would be nice to use the result from previous example to replace $÷$."
   ]
  },
  {
   "cell_type": "markdown",
   "metadata": {},
   "source": [
    "# In class"
   ]
  },
  {
   "cell_type": "markdown",
   "metadata": {},
   "source": [
    "Which function shows quadratic convergence? Why?"
   ]
  },
  {
   "cell_type": "code",
   "execution_count": null,
   "metadata": {},
   "outputs": [],
   "source": [
    "g1 = lambda x: (4./5.)*x+1./x\n",
    "g2 = lambda x: x/2.+5./(2*x)\n",
    "g3 = lambda x: (x+5.)/(x+1)\n",
    "fpi(g1, 3.0, 10, True)"
   ]
  },
  {
   "cell_type": "markdown",
   "metadata": {},
   "source": [
    "### Building a FPI to compute the cubic root of 7"
   ]
  },
  {
   "cell_type": "code",
   "execution_count": null,
   "metadata": {},
   "outputs": [],
   "source": [
    "# What is 'a'? Can we find another 'a'?\n",
    "a = -3*(1.7**2)\n",
    "print(a)"
   ]
  },
  {
   "cell_type": "code",
   "execution_count": null,
   "metadata": {},
   "outputs": [],
   "source": [
    "f = lambda x: x**3-7\n",
    "g =  lambda x: f(x)/a+x\n",
    "r=fpi(g, 1.7, 14, True)\n",
    "print(f(r))"
   ]
  },
  {
   "cell_type": "markdown",
   "metadata": {},
   "source": [
    "### Playing with some roots"
   ]
  },
  {
   "cell_type": "markdown",
   "metadata": {},
   "source": [
    "The following example proposed a particular function $f(x)$. \n",
    "The idea here is first obtain an initial guess for applying the Newton's method from the plot in semilogy scale.\n",
    "The plot of $f(x)$ (blue) shows that there seems to be 2 roots in the interval plotted.\n",
    "Now, the plot of $f'(x)$ (magenta) indicates that the derivative may also have a 0 together with a root, this means that the multiplicity of that root may be higher than 1. **Do you see it?**"
   ]
  },
  {
   "cell_type": "code",
   "execution_count": null,
   "metadata": {},
   "outputs": [],
   "source": [
    "f = lambda x: 8*x**4-12*x**3+6*x**2-x\n",
    "fp = lambda x: 32*x**3-36*x**2+12*x-1\n",
    "\n",
    "x = np.linspace(-1,1,10000)\n",
    "plt.figure(figsize=(10,10))\n",
    "\n",
    "plt.title('What are we seeing with the semiloigy plot? Is this function differentiable?')\n",
    "plt.semilogy(x,np.abs(f(x)),'b-',label=r'$|f(x)|$')\n",
    "plt.semilogy(x,np.abs(fp(x)),'m-',label=r\"$|f'(x)|$\")\n",
    "plt.grid()\n",
    "plt.legend()\n",
    "plt.xlabel(r'$x$',fontsize=16)\n",
    "plt.show()"
   ]
  },
  {
   "cell_type": "code",
   "execution_count": null,
   "metadata": {
    "scrolled": false
   },
   "outputs": [],
   "source": [
    "r=newton_method(f, fp, 0.4, rel_error=1e-8, m=1)\n",
    "print([r,f(r)])\n",
    "# Is this showing quadratic convergence? If not, can you fix it?"
   ]
  },
  {
   "cell_type": "markdown",
   "metadata": {},
   "source": [
    "<div id='sol1' />\n",
    "\n",
    "## Solutions\n",
    "Problem: Build a FPI such that given $a$ computes $\\displaystyle \\frac{1}{a}$\n",
    "\n",
    "Solution: Apply Newton's method to the following function: $f(x)=a-\\frac{1}{x}$. Make sure you simplify the final expression."
   ]
  },
  {
   "cell_type": "code",
   "execution_count": null,
   "metadata": {
    "scrolled": false
   },
   "outputs": [],
   "source": [
    "# We are finding the 1/a\n",
    "# Solution code:\n",
    "a = 2.1\n",
    "g = lambda x: 2*x-a*x**2\n",
    "gp = lambda x: 2-2*a*x\n",
    "r=fpi(g, 0.7, 7, flag_cobweb=False)\n",
    "print('Reciprocal found :',r)\n",
    "print('Reciprocal computed explicitly: ', 1/a)\n",
    "# Are we seeing quadratic convergence?"
   ]
  },
  {
   "cell_type": "markdown",
   "metadata": {},
   "source": [
    "### What is this plot telling us?"
   ]
  },
  {
   "cell_type": "markdown",
   "metadata": {},
   "source": [
    "This plots shows that, even if we don't know the exact value of $g'(r)$, we can determine if the FPI will convergan by looking at the plot.\n",
    "In this plot we observe that when plotting $g'(x)$ (magenta), we can determine that the value of $|g'(r)|$ will be less than 1 since it is between the black lines, that are located at $y=-1$ and $y=1$."
   ]
  },
  {
   "cell_type": "code",
   "execution_count": null,
   "metadata": {},
   "outputs": [],
   "source": [
    "xx=np.linspace(0.2,0.8,1000)\n",
    "plt.figure(figsize=(5,5))\n",
    "plt.plot(xx,g(xx),'r-',label=r'$g(x)$')\n",
    "plt.plot(xx,gp(xx),'m-',label=r'$\\displaystyle\\frac{\\mathrm{d} g}{\\mathrm{d}x}(x)$')\n",
    "plt.plot(xx,xx,'b-',label=r'$x$')\n",
    "plt.plot(xx,0*xx+1,'k--')\n",
    "plt.plot(xx,0*xx-1,'k--')\n",
    "plt.legend(loc='lower left')\n",
    "plt.grid()\n",
    "plt.show()"
   ]
  },
  {
   "cell_type": "code",
   "execution_count": null,
   "metadata": {},
   "outputs": [],
   "source": []
  }
 ],
 "metadata": {
  "anaconda-cloud": {},
  "kernelspec": {
   "display_name": "base",
   "language": "python",
   "name": "python3"
  },
  "language_info": {
   "codemirror_mode": {
    "name": "ipython",
    "version": 3
   },
   "file_extension": ".py",
   "mimetype": "text/x-python",
   "name": "python",
   "nbconvert_exporter": "python",
   "pygments_lexer": "ipython3",
   "version": "3.13.5"
  },
  "nbpresent": {
   "slides": {},
   "themes": {}
  },
  "widgets": {
   "state": {
    "94da59a7c7f048fab84c37a6defdb254": {
     "views": [
      {
       "cell_index": 8
      }
     ]
    }
   },
   "version": "1.2.0"
  }
 },
 "nbformat": 4,
 "nbformat_minor": 4
}
