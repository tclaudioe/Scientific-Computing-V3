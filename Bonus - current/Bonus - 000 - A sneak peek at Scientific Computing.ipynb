{
 "cells": [
  {
   "cell_type": "markdown",
   "id": "1b2d1eda",
   "metadata": {},
   "source": [
    "<center>\n",
    "    <img src=\"http://sct.inf.utfsm.cl/wp-content/uploads/2020/04/logo_di.png\" style=\"width:60%\">\n",
    "    <h1> INF-285 - Computación Científica </h1>\n",
    "    <h2> A sneak peek at Scientific Computing </h3> \n",
    "    <h2> <a href=\"#acknowledgements\"> [S]cientific [C]omputing [T]eam </a> </h2>\n",
    "    <h2> Version: 1.01 </h2>\n",
    "</center>\n",
    "\n",
    "[![Open In Colab](https://colab.research.google.com/assets/colab-badge.svg)](https://github.com/tclaudioe/Scientific-Computing-V3/blob/main/Bonus%20-%20current/Bonus%20-%20000%20-%20A%20sneak%20peek%20at%20Scientific%20Computing.ipynb)"
   ]
  },
  {
   "cell_type": "markdown",
   "id": "597f6463",
   "metadata": {},
   "source": [
    "## Checking some libraries dependencies"
   ]
  },
  {
   "cell_type": "code",
   "execution_count": 55,
   "id": "275389f8",
   "metadata": {},
   "outputs": [
    {
     "name": "stdout",
     "output_type": "stream",
     "text": [
      "numpy is already installed.\n",
      "scipy is already installed.\n",
      "matplotlib is already installed.\n",
      "colorama is already installed.\n",
      "bitstring is already installed.\n",
      "sympy is already installed.\n",
      "ipywidgets is already installed.\n",
      "pandas is already installed.\n"
     ]
    }
   ],
   "source": [
    "import importlib.util\n",
    "import sys\n",
    "import subprocess\n",
    "\n",
    "##########################\n",
    "# CoLab requirements\n",
    "# https://stackoverflow.com/questions/44210656/how-to-check-if-a-module-is-installed-in-python-and-if-not-install-it-within-t\n",
    "##########################\n",
    "    \n",
    "# install_colab_requirements \n",
    "libraries = ['numpy', 'scipy', 'matplotlib', 'colorama', \n",
    "            'bitstring', 'sympy', 'ipywidgets','pandas']\n",
    "\n",
    "for library in libraries:\n",
    "    # Check if the library is already installed\n",
    "    if importlib.util.find_spec(library) is not None:\n",
    "        print(f\"{library} is already installed.\")\n",
    "    else:\n",
    "        print(f\"{library} is not installed. Installing...\")\n",
    "        # Install the library using pip\n",
    "        subprocess.check_call([sys.executable, \"-m\", \"pip\", \"install\", library])\n",
    "        print(f\"{library} has been installed.\")"
   ]
  },
  {
   "cell_type": "markdown",
   "id": "0a166a11",
   "metadata": {},
   "source": [
    "## Importing the required libraries"
   ]
  },
  {
   "cell_type": "code",
   "execution_count": 56,
   "id": "f11c9267",
   "metadata": {},
   "outputs": [],
   "source": [
    "import numpy as np # type: ignore\n",
    "import matplotlib.pyplot as plt # type: ignore\n",
    "import sympy as sym # type: ignore\n",
    "from sympy.interactive import init_printing\n",
    "init_printing(use_latex=True, pretty_print=True,order='lex') # type: ignore\n",
    "from sympy import cos, sin, latex, Eq, Add, Mul, Pow # type: ignore\n",
    "from matplotlib.patches import Wedge, Rectangle # type: ignore\n",
    "from ipywidgets import widgets, interact, fixed, interactive, HBox, VBox, Layout # type: ignore\n",
    "from scipy import optimize, integrate # type: ignore\n",
    "from scipy.interpolate import BarycentricInterpolator\n",
    "from scipy.integrate import solve_ivp\n",
    "import pandas as pd\n",
    "\n",
    "##############################################################################\n",
    "# Certain characters require special escaping in TeX, such as: $ % & ~ ^ \\ { } \\( \\) \\[ \\]\n",
    "# https://stackoverflow.com/questions/65426069/use-of-mathbb-in-matplotlib\n",
    "import matplotlib \n",
    "FS = 20\n",
    "matplotlib.rc('xtick', labelsize=FS)\n",
    "matplotlib.rc('ytick', labelsize=FS)\n",
    "plt.rcParams.update({\n",
    "    'font.size': FS,\n",
    "    'text.usetex': True,\n",
    "    'font.family': 'sans-serif',\n",
    "    'font.sans-serif': 'Helvetica',\n",
    "    'text.latex.preamble': r'\\usepackage{amsfonts}'\n",
    "})\n",
    "##############################################################################\n",
    "from colorama import Fore, Back, Style # type: ignore\n",
    "# Fore: BLACK, RED, GREEN, YELLOW, BLUE, MAGENTA, CYAN, WHITE, RESET.\n",
    "# Back: BLACK, RED, GREEN, YELLOW, BLUE, MAGENTA, CYAN, WHITE, RESET.\n",
    "# Style: DIM, NORMAL, BRIGHT, RESET_ALL\n",
    "textBold = lambda x: Style.BRIGHT+x+Style.RESET_ALL\n",
    "textBoldH = lambda x: Style.BRIGHT+Back.YELLOW+x+Style.RESET_ALL\n",
    "\n",
    "# This put the controls in a row when we have too many\n",
    "def interact_row(func, **kwargs):\n",
    "    widget = interactive(func, **kwargs)\n",
    "    controls = HBox(widget.children[:-1], layout=Layout(flex_flow='row wrap'))\n",
    "    output = widget.children[-1]\n",
    "    display(VBox([controls, output]))  \n",
    "\n",
    "# This is the length use in figsize\n",
    "fig_size_length = 8"
   ]
  },
  {
   "cell_type": "markdown",
   "id": "bafbe552",
   "metadata": {},
   "source": [
    "# A story of some trigonometric functions: how to handle high level functions by only using **elementals operations** ($\\oplus$, $\\ominus$, $\\otimes$, and $\\oslash$) and the implications of the approximations"
   ]
  },
  {
   "cell_type": "markdown",
   "id": "7bdd3d4f",
   "metadata": {},
   "source": [
    "In this jupyter notebook we will quickly review several aspects we will study in the course called _Scientific Computing_.\n",
    "\n",
    "The story we will tell you will be connected to the computation of the trigonemetric **functions** $\\sin(x)$ and $\\cos(x)$ for $x\\in[0,2\\,\\pi]$.\n",
    "\n",
    "The outline is the following:\n",
    "1. What is the traditional presentation of the $\\sin(x)$ and $\\cos(x)$ functions?\n",
    "1. First attempt: Recalling the very useful Taylor's series expansion to approximate a function about a point $x_0$\n",
    "1. Simple and advance computations with the **functions**: Cancelation errors\n",
    "1. What else can I do with these trigonemetric functions? Find a root numerically!\n",
    "1. Is there another way to build the trigonometric functions $\\verb|sin(x)|$ and $\\verb|cos(x)|$ using **elementals operations** ($\\oplus$, $\\ominus$, $\\otimes$, and $\\oslash$)? **An piecewise linear interpolation approach**\n",
    "1. Building the polynomial interpolation by means of solving a linear system of equations? It requires to know the values of $\\sin(x)$ and $\\cos(x)$ at certain points\n",
    "1. Adjusting a periodic but noisy signal\n",
    "1. Integrating numerically functions that don't have anti-derivative using only **elementals operations**\n",
    "1. Finally, getting the approximated values of $\\sin(x)$ and $\\cos(x)$ using ODEs!\n"
   ]
  },
  {
   "cell_type": "markdown",
   "id": "66ee680c",
   "metadata": {},
   "source": [
    "# What is the traditional presentation of the $\\sin(x)$ and $\\cos(x)$ functions?"
   ]
  },
  {
   "cell_type": "code",
   "execution_count": 81,
   "id": "0eeecd99",
   "metadata": {},
   "outputs": [],
   "source": [
    "def only_circle_plot(x,theta_inf=0.,theta_sup=2*np.pi,input_sin=np.sin,input_cos=np.cos):\n",
    "        eps = 0.1\n",
    "        theta = np.linspace(theta_inf, theta_sup, 400)\n",
    "        plt.title(r'$\\textrm{Circle with radius 1}$', fontsize=FS)\n",
    "\n",
    "        # Plotting a circle with radius 1 centered at the origin\n",
    "        plt.plot(input_cos(theta), input_sin(theta), '-', color='blue')\n",
    "        plt.grid(True)\n",
    "        plt.axis((-1.5, 1.5, -1.5, 1.5))\n",
    "\n",
    "        # cos\n",
    "        plt.plot([0, input_cos(x)], [0, 0], 'm--', linewidth=2)\n",
    "        if input_cos(x)/2<=1.5 or input_cos(x)/2>=-1.5: \n",
    "            plt.text(input_cos(x)/2, -eps/2, r'$\\cos(x)$', fontsize=15, ha='center', va='top',color='magenta')\n",
    "\n",
    "        # sin\n",
    "        plt.plot([input_cos(x), input_cos(x)], [0, input_sin(x)], 'g--', linewidth=2)\n",
    "        if (input_sin(x)/2<=1.5 or input_sin(x)/2>=-1.5) and (input_cos(x)/2<=1.5 or input_cos(x)/2>=-1.5):\n",
    "            plt.text(input_cos(x)+eps, input_sin(x)/2, r'$\\sin(x)$', fontsize=15, ha='left', va='center', color='green')\n",
    "\n",
    "        # Plotting angle\n",
    "        theta_x = np.linspace(0, x, 100)\n",
    "        plt.plot(0.3*input_cos(theta_x), 0.3*input_sin(theta_x), 'k-')\n",
    "        plt.text(0.15*input_cos(x/2), 0.15*input_sin(x/2), r'$x$', fontsize=15, ha='center', va='center')\n",
    "        \n",
    "        # Plotting the point on the circle at angle x\n",
    "        plt.plot([0, input_cos(x)], [0, input_sin(x)], '-', color='red', linewidth=2)\n",
    "        plt.plot(input_cos(x), input_sin(x), 'o', color='black', markersize=10)\n",
    "        \n",
    "def plot_circle(x,show_more=False): \n",
    "    theta = np.linspace(0, 2*np.pi, 100) \n",
    "    plt.figure(figsize=(fig_size_length, fig_size_length))\n",
    "    \n",
    "    if not show_more:\n",
    "        only_circle_plot(x)\n",
    "    else:\n",
    "        ##############################################################################\n",
    "        plt.subplot(221)\n",
    "        only_circle_plot(x)\n",
    "        ##############################################################################\n",
    "        plt.subplot(222)\n",
    "        plt.plot(theta, np.sin(theta), 'g-', label=r'$\\sin(\\theta)$')\n",
    "        # plt.title(r'$\\sin(\\theta)$', fontsize=FS)\n",
    "        plt.legend(loc='best')\n",
    "        plt.yticks(fontsize=15)\n",
    "        plt.xticks(fontsize=15)\n",
    "        plt.xlabel(r'$\\theta$', fontsize=FS)\n",
    "        plt.xticks(np.arange(0, 2*np.pi+0.1, np.pi/2),\n",
    "               [r'$0$', r'$\\frac{\\pi}{2}$', r'$\\pi$', r'$\\frac{3\\pi}{2}$', r'$2\\pi$'], fontsize=FS)\n",
    "        plt.vlines(x, -1, 1, color='red', linestyle='-', linewidth=2)\n",
    "        plt.text(x+0.1, -1, r'$x$', fontsize=20, ha='left', va='bottom')\n",
    "        plt.plot(x, np.sin(x), 'o', color='black', markersize=10)\n",
    "        plt.ylim(-1.5,1.5)\n",
    "        plt.grid(True)\n",
    "        \n",
    "        ##############################################################################\n",
    "        plt.subplot(223)\n",
    "        plt.plot(np.cos(theta), theta, 'm-', label=r'$\\cos(\\theta)$')\n",
    "        # plt.title(r'$\\cos(\\theta)$', fontsize=FS)\n",
    "        plt.legend(loc='best')\n",
    "        # plt.yticks(fontsize=15)\n",
    "        plt.yticks(np.arange(0, 2*np.pi+0.1, np.pi/2),\n",
    "               [r'$0$', r'$\\frac{\\pi}{2}$', r'$\\pi$', r'$\\frac{3\\pi}{2}$', r'$2\\pi$'], fontsize=FS)\n",
    "        plt.xticks(fontsize=15)\n",
    "        plt.ylabel(r'$\\theta$', fontsize=FS)\n",
    "        plt.hlines(x, -1, 1, color='red', linestyle='-', linewidth=2)\n",
    "        plt.text(1+0.1,x+0.1, r'$x$', fontsize=20, ha='center', va='center')\n",
    "        plt.plot(np.cos(x), x, 'o', color='black', markersize=10)\n",
    "        plt.xlim(-1.5,1.5)\n",
    "        plt.grid(True)\n",
    "        \n",
    "        ##############################################################################\n",
    "        plt.subplot(224)\n",
    "        plt.plot(theta, np.cos(theta), 'm-', label=r'$\\cos(\\theta)$')\n",
    "        plt.plot(theta, np.sin(theta), 'g-', label=r'$\\sin(\\theta)$')\n",
    "        plt.legend(loc='upper right', fontsize=FS, bbox_to_anchor=(1.75, 0.5))\n",
    "        plt.yticks(fontsize=15)\n",
    "        plt.xticks(fontsize=15)\n",
    "        plt.xlabel(r'$\\theta$', fontsize=FS)\n",
    "        plt.xticks(np.arange(0, 2*np.pi+0.1, np.pi/2),\n",
    "               [r'$0$', r'$\\frac{\\pi}{2}$', r'$\\pi$', r'$\\frac{3\\pi}{2}$', r'$2\\pi$'], fontsize=FS)\n",
    "        plt.vlines(x, -1, 1, color='red', linestyle='-', linewidth=2)\n",
    "        plt.text(x+0.1, -1, r'$x$', fontsize=20, ha='left', va='bottom')\n",
    "        plt.grid(True)\n",
    "        \n",
    "    ##############################################################################\n",
    "    plt.subplots_adjust(hspace=0.3, wspace=0.3)\n",
    "    plt.show()\n",
    "    ##############################################################################"
   ]
  },
  {
   "cell_type": "code",
   "execution_count": 82,
   "id": "7e8a78d5",
   "metadata": {},
   "outputs": [
    {
     "data": {
      "application/vnd.jupyter.widget-view+json": {
       "model_id": "429f3be54f584d28a3cc11901d6cde9c",
       "version_major": 2,
       "version_minor": 0
      },
      "text/plain": [
       "interactive(children=(FloatSlider(value=0.7853981633974483, description='x', max=6.283185307179586, step=0.05)…"
      ]
     },
     "metadata": {},
     "output_type": "display_data"
    },
    {
     "data": {
      "text/plain": [
       "<function __main__.plot_circle(x, show_more=False)>"
      ]
     },
     "execution_count": 82,
     "metadata": {},
     "output_type": "execute_result"
    }
   ],
   "source": [
    "x_widget = widgets.FloatSlider(min=0, max=2*np.pi, step=0.05, value=np.pi/4)\n",
    "interact(plot_circle, x=x_widget, show_more=False, input_cos=fixed(np.cos), input_sin=fixed(np.sin))"
   ]
  },
  {
   "cell_type": "markdown",
   "id": "4ddce6f6",
   "metadata": {},
   "source": [
    "# First attempt: Recalling the very useful Taylor's series expansion to approximate a function about a point $x_0$"
   ]
  },
  {
   "cell_type": "code",
   "execution_count": 83,
   "id": "b41eb55c",
   "metadata": {},
   "outputs": [
    {
     "name": "stdout",
     "output_type": "stream",
     "text": [
      "\u001b[1m\u001b[43mTaylor series of f(x) around x0 up to order n with the residue:\u001b[0m\n"
     ]
    },
    {
     "data": {
      "image/png": "[encoded data removed]",
      "text/latex": [
       "$\\displaystyle f{\\left(x \\right)} = f{\\left(x_{0} \\right)} + \\left(x - x_{0}\\right) \\left. \\frac{d}{d \\xi_{1}} f{\\left(\\xi_{1} \\right)} \\right|_{\\substack{ \\xi_{1}=x_{0} }} + \\frac{\\left(x - x_{0}\\right)^{2} \\left. \\frac{d^{2}}{d \\xi_{1}^{2}} f{\\left(\\xi_{1} \\right)} \\right|_{\\substack{ \\xi_{1}=x_{0} }}}{2} + \\frac{\\left(x - x_{0}\\right)^{3} \\left. \\frac{d^{3}}{d \\xi_{1}^{3}} f{\\left(\\xi_{1} \\right)} \\right|_{\\substack{ \\xi_{1}=x_{0} }}}{6} + \\frac{\\left(x - x_{0}\\right)^{4} \\left. \\frac{d^{4}}{d \\xi_{1}^{4}} f{\\left(\\xi_{1} \\right)} \\right|_{\\substack{ \\xi_{1}=x_{0} }}}{24} + O\\left(\\left(x - x_{0}\\right)^{5}; x\\rightarrow x_{0}\\right)$"
      ],
      "text/plain": [
       "                                                       ⎛  2        ⎞│          ↪\n",
       "                                                     2 ⎜ d         ⎟│          ↪\n",
       "                                             (x - x₀) ⋅⎜────(f(ξ₁))⎟│        ( ↪\n",
       "                                                       ⎜   2       ⎟│          ↪\n",
       "                        ⎛ d        ⎞│                  ⎝dξ₁        ⎠│ξ₁=x₀     ↪\n",
       "f(x) = f(x₀) + (x - x₀)⋅⎜───(f(ξ₁))⎟│      + ───────────────────────────── + ─ ↪\n",
       "                        ⎝dξ₁       ⎠│ξ₁=x₀                 2                   ↪\n",
       "\n",
       "↪          ⎛  3        ⎞│                  ⎛  4        ⎞│                      ↪\n",
       "↪        3 ⎜ d         ⎟│                4 ⎜ d         ⎟│                      ↪\n",
       "↪ x - x₀) ⋅⎜────(f(ξ₁))⎟│        (x - x₀) ⋅⎜────(f(ξ₁))⎟│                      ↪\n",
       "↪          ⎜   3       ⎟│                  ⎜   4       ⎟│                      ↪\n",
       "↪          ⎝dξ₁        ⎠│ξ₁=x₀             ⎝dξ₁        ⎠│ξ₁=x₀    ⎛        5   ↪\n",
       "↪ ──────────────────────────── + ───────────────────────────── + O⎝(x - x₀) ;  ↪\n",
       "↪              6                              24                               ↪\n",
       "\n",
       "↪        \n",
       "↪        \n",
       "↪        \n",
       "↪        \n",
       "↪       ⎞\n",
       "↪ x → x₀⎠\n",
       "↪        "
      ]
     },
     "metadata": {},
     "output_type": "display_data"
    },
    {
     "name": "stdout",
     "output_type": "stream",
     "text": [
      "\u001b[1m\u001b[43mTaylor series of f(x) around x0 up to order\u001b[0m\u001b[1m WITHOUT \u001b[0m\u001b[1m\u001b[43mthe residue:\u001b[0m\n"
     ]
    },
    {
     "data": {
      "image/png": "[encoded data removed]",
      "text/latex": [
       "$\\displaystyle f{\\left(x \\right)} = \\frac{\\left(x - x_{0}\\right)^{4} \\left. \\frac{d^{4}}{d \\xi_{1}^{4}} f{\\left(\\xi_{1} \\right)} \\right|_{\\substack{ \\xi_{1}=x_{0} }}}{24} + \\frac{\\left(x - x_{0}\\right)^{3} \\left. \\frac{d^{3}}{d \\xi_{1}^{3}} f{\\left(\\xi_{1} \\right)} \\right|_{\\substack{ \\xi_{1}=x_{0} }}}{6} + \\frac{\\left(x - x_{0}\\right)^{2} \\left. \\frac{d^{2}}{d \\xi_{1}^{2}} f{\\left(\\xi_{1} \\right)} \\right|_{\\substack{ \\xi_{1}=x_{0} }}}{2} + \\left(x - x_{0}\\right) \\left. \\frac{d}{d \\xi_{1}} f{\\left(\\xi_{1} \\right)} \\right|_{\\substack{ \\xi_{1}=x_{0} }} + f{\\left(x_{0} \\right)}$"
      ],
      "text/plain": [
       "                 ⎛  4        ⎞│                  ⎛  3        ⎞│                ↪\n",
       "               4 ⎜ d         ⎟│                3 ⎜ d         ⎟│                ↪\n",
       "       (x - x₀) ⋅⎜────(f(ξ₁))⎟│        (x - x₀) ⋅⎜────(f(ξ₁))⎟│        (x - x₀ ↪\n",
       "                 ⎜   4       ⎟│                  ⎜   3       ⎟│                ↪\n",
       "                 ⎝dξ₁        ⎠│ξ₁=x₀             ⎝dξ₁        ⎠│ξ₁=x₀           ↪\n",
       "f(x) = ───────────────────────────── + ───────────────────────────── + ─────── ↪\n",
       "                    24                               6                         ↪\n",
       "\n",
       "↪    ⎛  2        ⎞│                                           \n",
       "↪  2 ⎜ d         ⎟│                                           \n",
       "↪ ) ⋅⎜────(f(ξ₁))⎟│                                           \n",
       "↪    ⎜   2       ⎟│                                           \n",
       "↪    ⎝dξ₁        ⎠│ξ₁=x₀            ⎛ d        ⎞│             \n",
       "↪ ────────────────────── + (x - x₀)⋅⎜───(f(ξ₁))⎟│      + f(x₀)\n",
       "↪        2                          ⎝dξ₁       ⎠│ξ₁=x₀        "
      ]
     },
     "metadata": {},
     "output_type": "display_data"
    }
   ],
   "source": [
    "def show_taylor_series_example():\n",
    "    x =sym.symbols('x')\n",
    "    x0 =sym.symbols('x0')\n",
    "    f = sym.Function('f', real=True)\n",
    "    n = 5\n",
    "    f_Taylor_n=sym.series(f(x), x, x0, n)\n",
    "    print(textBoldH('Taylor series of f(x) around x0 up to order n with the residue:'))\n",
    "    display(Eq(f(x), f_Taylor_n, evaluate=False))\n",
    "    print(textBoldH('Taylor series of f(x) around x0 up to order')+textBold(' WITHOUT ')+textBoldH('the residue:'))\n",
    "    display(Eq(f(x), f_Taylor_n.removeO(),evaluate=False))\n",
    "\n",
    "show_taylor_series_example()"
   ]
  },
  {
   "cell_type": "code",
   "execution_count": 84,
   "id": "b27b3b05",
   "metadata": {},
   "outputs": [],
   "source": [
    "def show_Taylor_expansion(n=1,x00=0.0, show_explicit=False, x_left=-2*np.pi, x_right=4*np.pi,x_value=np.pi/4):\n",
    "    x =sym.symbols('x')\n",
    "    x0 =sym.symbols('x0')\n",
    "    sin_Taylor_n=sym.series(sym.sin(x), x, x0, n).removeO()\n",
    "    cos_Taylor_n=sym.series(sym.cos(x), x, x0, n).removeO()\n",
    "    sin_Taylor_n_numpy = np.vectorize(sym.lambdify([x,x0], sin_Taylor_n))\n",
    "    cos_Taylor_n_numpy = np.vectorize(sym.lambdify([x,x0], cos_Taylor_n))\n",
    "\n",
    "    plt.figure(figsize=(fig_size_length, fig_size_length))\n",
    "    ######################################################################################\n",
    "    xx = np.linspace(0, 2*np.pi, 100)\n",
    "    plt.subplot(221)\n",
    "    if n<=10:\n",
    "        if show_explicit:\n",
    "            plt.plot(xx, sin_Taylor_n_numpy(xx,x00), label=r'$'+latex(sym.N(sin_Taylor_n.evalf(subs={x0: x00}),3))+'$', color='blue', linestyle='--')\n",
    "            plt.plot(xx, cos_Taylor_n_numpy(xx,x00), label=r'$'+latex(sym.N(cos_Taylor_n.evalf(subs={x0: x00}),3))+'$', color='red', linestyle='--') \n",
    "        else:\n",
    "            plt.plot(xx, sin_Taylor_n_numpy(xx,x00), label=r'$'+latex(sin_Taylor_n)+'$', color='blue', linestyle='--')\n",
    "            plt.plot(xx, cos_Taylor_n_numpy(xx,x00), label=r'$'+latex(cos_Taylor_n)+'$', color='red', linestyle='--')\n",
    "    else:\n",
    "        plt.plot(xx, sin_Taylor_n_numpy(xx,x00), label=r'Taylor expansion of $\\sin(x)$', color='blue', linestyle='--')\n",
    "        plt.plot(xx, cos_Taylor_n_numpy(xx,x00), label=r'Taylor expansion of $\\cos(x)$', color='red', linestyle='--') \n",
    "\n",
    "    plt.plot(xx, np.sin(xx), label=r'$\\sin(x)$', color='green', alpha=0.8)\n",
    "    plt.plot(xx, np.cos(xx), label=r'$\\cos(x)$', color='magenta',alpha=0.8)\n",
    "\n",
    "    \n",
    "    plt.xticks(np.arange(0, 2*np.pi+0.1, np.pi/2),\n",
    "               [r'$0$', r'$\\frac{\\pi}{2}$', r'$\\pi$', r'$\\frac{3\\pi}{2}$', r'$2\\pi$'], fontsize=FS)\n",
    "    plt.title(r'$\\textrm{Looking at the Taylor}$'+'\\n'+r'$\\textrm{expansion of }\\sin(x)\\textrm{ and }\\cos(x)$',fontsize=16)\n",
    "    plt.vlines(x00, -1, 1.5, color='orange', linestyle='--', linewidth=2, label=r\"$\\textrm{Center of Taylor's series expansion}$\")\n",
    "    plt.text(x00, -1.2, r'$x_0$', fontsize=FS, ha='center', va='center')\n",
    "    plt.text(3*np.pi/2,1.2, r'$n='+str(n)+'$', fontsize=FS, ha='center', va='center')\n",
    "    \n",
    "    plt.ylim(-1.5, 1.5)\n",
    "    plt.xlim(-0.4, 2*np.pi+0.4)\n",
    "    plt.grid(True)\n",
    "    plt.legend(loc='best', fontsize=12, bbox_to_anchor=(1.05, 1), borderaxespad=0.)\n",
    "    \n",
    "    ######################################################################################\n",
    "    plt.subplot(223)\n",
    "    xx = np.linspace(-2*np.pi, 4*np.pi, 600)\n",
    "    \n",
    "    plt.plot(xx, sin_Taylor_n_numpy(xx,x00), color='blue', linestyle='--')\n",
    "    plt.plot(xx, cos_Taylor_n_numpy(xx,x00), color='red', linestyle='--')\n",
    "\n",
    "    plt.plot(xx, np.sin(xx), label=r'$\\sin(x)$', color='green', alpha=0.8)\n",
    "    plt.plot(xx, np.cos(xx), label=r'$\\cos(x)$', color='magenta',alpha=0.8)\n",
    "\n",
    "    plt.ylim(np.min([-1.5,np.min(sin_Taylor_n_numpy(xx,x00)),np.min(cos_Taylor_n_numpy(xx,x00))]), \n",
    "             np.max([1.5,np.max(sin_Taylor_n_numpy(xx,x00)),np.max(cos_Taylor_n_numpy(xx,x00))]))\n",
    "    plt.grid(True)\n",
    "    plt.xticks(np.arange(-2*np.pi, 4*np.pi+0.1, 2*np.pi),\n",
    "                [r'$-2\\pi$', r'$0$', r'$2\\pi$', r'$4\\pi$'], fontsize=FS)\n",
    "    plt.title(r'$\\textrm{Wider domain of previous}$'+'\\n'+r'$\\textrm{defined functions}$',fontsize=16)\n",
    "    plt.vlines(x00, -1, 1.5, color='orange', linestyle='--', linewidth=2)\n",
    "    plt.text(x00, -1.2, r'$x_0$', fontsize=FS, ha='center', va='center')\n",
    "    \n",
    "    rectangle=Rectangle((-0.4, -1.5), 2*np.pi+0.8, 3, edgecolor='k', facecolor='none', linewidth=2,alpha=0.8)\n",
    "    plt.gca().add_patch(rectangle)\n",
    "    \n",
    "    plt.xlim(np.min([x_left,x_right]), np.max([x_left,x_right]))\n",
    "    ###################################################################################### \n",
    "    plt.subplot(224)\n",
    "    only_circle_plot(x_value, theta_inf=-2*np.pi, theta_sup=4*np.pi, \n",
    "                     input_sin=lambda z: sin_Taylor_n_numpy(z,x00),\n",
    "                     input_cos=lambda z: cos_Taylor_n_numpy(z,x00))\n",
    "    \n",
    "    plt.subplots_adjust(hspace=0.5)\n",
    "    plt.show()"
   ]
  },
  {
   "cell_type": "code",
   "execution_count": null,
   "id": "5fd0ed9d",
   "metadata": {},
   "outputs": [
    {
     "data": {
      "application/vnd.jupyter.widget-view+json": {
       "model_id": "d8fd0a80cb8b40919df1bf07b684c341",
       "version_major": 2,
       "version_minor": 0
      },
      "text/plain": [
       "VBox(children=(HBox(children=(IntSlider(value=1, description='n', min=1), FloatSlider(value=1.5707963267948966…"
      ]
     },
     "metadata": {},
     "output_type": "display_data"
    }
   ],
   "source": [
    "interact_row(show_Taylor_expansion, n=widgets.IntSlider(min=1, max=100, step=1, value=0), \n",
    "         x00=widgets.FloatSlider(min=-2*np.pi, max=4*np.pi, step=6*np.pi/300, value=np.pi/2,description='x0'),\n",
    "         show_explicit=widgets.Checkbox(value=False, description='Show explicit Taylor expansion'),\n",
    "         x_left=widgets.FloatSlider(min=-2*np.pi, max=4*np.pi, step=6*np.pi/300, value=-2*np.pi, description='x_left'),\n",
    "         x_right=widgets.FloatSlider(min=-2*np.pi, max=4*np.pi, step=6*np.pi/300, value=4*np.pi, description='x_right'),\n",
    "         x_value=widgets.FloatSlider(min=-2*np.pi, max=4*np.pi, step=6*np.pi/300, value=np.pi/4, description='x'))"
   ]
  },
  {
   "cell_type": "markdown",
   "id": "d9c988ca",
   "metadata": {},
   "source": [
    "# Simple and advance computations with the **functions**: Cancelation errors"
   ]
  },
  {
   "cell_type": "code",
   "execution_count": 86,
   "id": "6a3ee330",
   "metadata": {},
   "outputs": [
    {
     "data": {
      "image/png": "[encoded data removed]",
      "text/latex": [
       "$\\displaystyle \\frac{- \\sqrt{- \\sin{\\left(x \\right)} + 1} + 1}{2 \\sin{\\left(x \\right)}}$"
      ],
      "text/plain": [
       "    _____________    \n",
       "- ╲╱ -sin(x) + 1  + 1\n",
       "─────────────────────\n",
       "      2⋅sin(x)       "
      ]
     },
     "metadata": {},
     "output_type": "display_data"
    }
   ],
   "source": [
    "def show_example_function(show=True):\n",
    "    x = sym.symbols('x')\n",
    "    f = (1 - sym.sqrt(1 - sym.sin(x)))/(2 * sym.sin(x)) # type: ignore\n",
    "    if show:\n",
    "        display(f)\n",
    "    return x, f\n",
    "\n",
    "show_example_function();"
   ]
  },
  {
   "cell_type": "code",
   "execution_count": null,
   "id": "81b73d14",
   "metadata": {},
   "outputs": [
    {
     "data": {
      "application/vnd.jupyter.widget-view+json": {
       "model_id": "ed13c31645f34162b0c6575cd2370828",
       "version_major": 2,
       "version_minor": 0
      },
      "text/plain": [
       "interactive(children=(IntSlider(value=-100, description='n_min', max=-10, min=-1075), IntSlider(value=-10, des…"
      ]
     },
     "metadata": {},
     "output_type": "display_data"
    },
    {
     "data": {
      "text/plain": [
       "<function __main__.show_evaluation_example_function(n_min=-100, log2_x_hat=-10)>"
      ]
     },
     "execution_count": 87,
     "metadata": {},
     "output_type": "execute_result"
    }
   ],
   "source": [
    "def show_evaluation_example_function(n_min=-100,log2_x_hat=-10):\n",
    "    plt.figure(figsize=(fig_size_length/2, fig_size_length/2))\n",
    "    x, f = show_example_function(show=False)\n",
    "    f_numpy = sym.lambdify(x, f, modules='numpy') # type: ignore\n",
    "    x_vals = np.logspace(n_min, 0, 1-n_min, base=2)\n",
    "    plt.loglog(x_vals, f_numpy(x_vals), 'd', label=r'$f(x)=\\displaystyle\\frac{1-\\sqrt{1-\\sin(x)}}{2\\,\\sin(x)}$', color='red', base=2, alpha=0.5)\n",
    "    plt.grid(True)\n",
    "    plt.ylim(2**-3, 1)\n",
    "    plt.legend(loc='center left', fontsize=FS, bbox_to_anchor=(1, 0.5))\n",
    "    plt.xlabel(r'$x$', fontsize=FS)\n",
    "    plt.vlines(np.power(2.,log2_x_hat),np.power(2.,-2.5), np.power(2.,0), color='orange', linestyle='--', linewidth=2)\n",
    "    plt.text(np.power(2.,log2_x_hat), np.power(2.,-2.7), r'$\\widehat{x}$', fontsize=FS, ha='center', va='center')\n",
    "    plt.title(r'$f(\\widehat{x})=$'+f'${np.round(f_numpy(np.power(2.,log2_x_hat)),3)}$', fontsize=FS, pad=20)\n",
    "    plt.show()\n",
    "\n",
    "n_min_widget=widgets.IntSlider(min=-1075, max=-10, step=1, value=-100, description='n_min')\n",
    "log2_x_hat_widget=widgets.IntSlider(min=-100, max=-1, step=1, value=-10, description='log2_x_hat')\n",
    "def update_log2_x_hat(*args):\n",
    "    log2_x_hat_widget.min = n_min_widget.value\n",
    "n_min_widget.observe(update_log2_x_hat, 'value')\n",
    "\n",
    "interact(show_evaluation_example_function, n_min=n_min_widget, log2_x_hat=log2_x_hat_widget)"
   ]
  },
  {
   "cell_type": "code",
   "execution_count": 88,
   "id": "6f2f047d",
   "metadata": {},
   "outputs": [
    {
     "name": "stdout",
     "output_type": "stream",
     "text": [
      "\u001b[1mStep 1: Multiplying by (1+sqrt(1-sin(x))) and simplify\u001b[0m\n"
     ]
    },
    {
     "data": {
      "image/png": "[encoded data removed]",
      "text/latex": [
       "$\\displaystyle \\frac{1}{2}$"
      ],
      "text/plain": [
       "1/2"
      ]
     },
     "metadata": {},
     "output_type": "display_data"
    },
    {
     "name": "stdout",
     "output_type": "stream",
     "text": [
      "\u001b[1mStep 2: Now, divide by (1+sqrt(1-sin(x))). This means basically multiplying by 1 \"convenient\".\u001b[0m\n"
     ]
    },
    {
     "data": {
      "image/png": "[encoded data removed]",
      "text/latex": [
       "$\\displaystyle f_{rewritten}{\\left(x \\right)} = \\frac{1}{2 \\left(\\sqrt{- \\sin{\\left(x \\right)} + 1} + 1\\right)}$"
      ],
      "text/plain": [
       "                            1           \n",
       "f_rewritten(x) = ───────────────────────\n",
       "                   ⎛  _____________    ⎞\n",
       "                 2⋅⎝╲╱ -sin(x) + 1  + 1⎠"
      ]
     },
     "metadata": {},
     "output_type": "display_data"
    },
    {
     "name": "stdout",
     "output_type": "stream",
     "text": [
      "\u001b[1m\u001b[43mThis means basically multiplying by a \"convenient\" 1.\u001b[0m\u001b[1m The convenient 1 in this case is the following:\u001b[0m\n"
     ]
    },
    {
     "data": {
      "image/png": "[encoded data removed]",
      "text/latex": [
       "$\\displaystyle \\frac{\\sqrt{- \\sin{\\left(x \\right)} + 1} + 1}{\\sqrt{- \\sin{\\left(x \\right)} + 1} + 1}$"
      ],
      "text/plain": [
       "  _____________    \n",
       "╲╱ -sin(x) + 1  + 1\n",
       "───────────────────\n",
       "  _____________    \n",
       "╲╱ -sin(x) + 1  + 1"
      ]
     },
     "metadata": {},
     "output_type": "display_data"
    },
    {
     "name": "stdout",
     "output_type": "stream",
     "text": [
      "\u001b[1mNow, for completeness, we substract both function:\u001b[0m\n"
     ]
    },
    {
     "data": {
      "image/png": "[encoded data removed]",
      "text/latex": [
       "$\\displaystyle \\frac{- \\sqrt{- \\sin{\\left(x \\right)} + 1} + 1}{2 \\sin{\\left(x \\right)}} - f_{rewritten}{\\left(x \\right)} = 0$"
      ],
      "text/plain": [
       "    _____________                         \n",
       "- ╲╱ -sin(x) + 1  + 1                     \n",
       "───────────────────── - f_rewritten(x) = 0\n",
       "      2⋅sin(x)                            "
      ]
     },
     "metadata": {},
     "output_type": "display_data"
    },
    {
     "name": "stdout",
     "output_type": "stream",
     "text": [
      "\u001b[1mSince the outcome is zero,\u001b[0m\u001b[1m\u001b[43m we can conclude that the function \"f\" is equivalent to \"f_rewritten\".\u001b[0m\n"
     ]
    }
   ],
   "source": [
    "def fixing_evaluation_of_f(show=True):\n",
    "    x, f = show_example_function(show=False)\n",
    "    step1 = sym.simplify(f*(1+sym.sqrt(1-sym.sin(x)))) # type: ignore\n",
    "    if show:\n",
    "        print(textBold('Step 1: Multiplying by (1+sqrt(1-sin(x))) and simplify'))\n",
    "        display(step1)\n",
    "        print(textBold('Step 2: Now, divide by (1+sqrt(1-sin(x))). This means basically multiplying by 1 \"convenient\".'))\n",
    "    step2 = sym.simplify(step1/(1+sym.sqrt(1-sym.sin(x)))) # type: ignore\n",
    "    f_rewritten = sym.Function('f_rewritten', real=True)(x) # type: ignore\n",
    "    if show:\n",
    "        display(Eq(f_rewritten,step2,evaluate=False))\n",
    "        print(textBoldH('This means basically multiplying by a \"convenient\" 1.')+textBold(' The convenient 1 in this case is the following:'))\n",
    "        display(Mul(1+sym.sqrt(1-sym.sin(x)),Pow(1+sym.sqrt(1-sym.sin(x)),-1), evaluate=False)) # type: ignore\n",
    "        print(textBold('Now, for completeness, we substract both function:')) # type: ignore\n",
    "        display(Eq(f-f_rewritten,sym.simplify(f-step2),evaluate=False)) # type: ignore\n",
    "        print(textBold('Since the outcome is zero,')+textBoldH(' we can conclude that the function \"f\" is equivalent to \"f_rewritten\".')) # type: ignore\n",
    "    f_rewritten = step2\n",
    "    return f_rewritten\n",
    "\n",
    "fixing_evaluation_of_f();"
   ]
  },
  {
   "cell_type": "code",
   "execution_count": null,
   "id": "9365debf",
   "metadata": {},
   "outputs": [
    {
     "data": {
      "application/vnd.jupyter.widget-view+json": {
       "model_id": "35345e9cae1e44c8873f0e015cc42378",
       "version_major": 2,
       "version_minor": 0
      },
      "text/plain": [
       "interactive(children=(IntSlider(value=-100, description='n_min', max=-10, min=-1075), IntSlider(value=-10, des…"
      ]
     },
     "metadata": {},
     "output_type": "display_data"
    },
    {
     "data": {
      "text/plain": [
       "<function __main__.show_cancelattion_errors_fixed(n_min=-100, log2_x_hat=-2)>"
      ]
     },
     "execution_count": 89,
     "metadata": {},
     "output_type": "execute_result"
    }
   ],
   "source": [
    "def show_cancelattion_errors_fixed(n_min=-100,log2_x_hat=-2):\n",
    "    \n",
    "    x, f = show_example_function(show=False)\n",
    "    f_numpy = sym.lambdify(x, f, modules='numpy') # type: ignore\n",
    "    x_vals = np.logspace(n_min, 0, 1-n_min, base=2)\n",
    "    f_rewritten = fixing_evaluation_of_f(show=False)\n",
    "    \n",
    "    plt.figure(figsize=(fig_size_length/2, fig_size_length/2))\n",
    "    f_rewritten_numpy = sym.lambdify(x, f_rewritten, modules='numpy') # type: ignore\n",
    "    plt.loglog(x_vals, f_numpy(x_vals), 'd', label=r'$f(x)=\\displaystyle\\frac{1-\\sqrt{1-\\sin(x)}}{2\\,\\sin(x)}$', color='red', base=2, alpha=0.5)\n",
    "    plt.loglog(x_vals, f_rewritten_numpy(x_vals), '.', label=r'$f_{\\textrm{rewritten}}(x)='+latex(sym.N(f_rewritten))+'$', color='blue', base=2, alpha=0.5, markersize=10)\n",
    "    plt.grid(True)\n",
    "    plt.ylim(2**-3, 1)\n",
    "    plt.legend(loc='center left', fontsize=FS, bbox_to_anchor=(1, 0.5))\n",
    "    plt.xlabel(r'$x$', fontsize=FS)\n",
    "    \n",
    "    plt.vlines(np.power(2.,log2_x_hat),np.power(2.,-2.5), np.power(2.,0), color='orange', linestyle='--', linewidth=2)\n",
    "    plt.text(np.power(2.,log2_x_hat), np.power(2.,-2.7), r'$\\widehat{x}$', fontsize=FS, ha='center', va='center')\n",
    "    \n",
    "    plt.title(r'$f(\\widehat{x})=$'+f'${np.round(f_numpy(np.power(2.,log2_x_hat)),3)}$'+r', $f_{\\textrm{rewritten}}(\\widehat{x})=$'+f'${np.round(f_rewritten_numpy(np.power(2.,log2_x_hat)),3)}$', fontsize=FS, pad=20)\n",
    "    plt.show()\n",
    "\n",
    "n_min_widget=widgets.IntSlider(min=-1075, max=-10, step=1, value=-100, description='n_min')\n",
    "log2_x_hat_widget=widgets.IntSlider(min=-100, max=-1, step=1, value=-10, description='log2_x_hat')\n",
    "def update_log2_x_hat(*args):\n",
    "    log2_x_hat_widget.min = n_min_widget.value\n",
    "n_min_widget.observe(update_log2_x_hat, 'value')\n",
    "\n",
    "interact(show_cancelattion_errors_fixed,n_min=n_min_widget, log2_x_hat=log2_x_hat_widget)"
   ]
  },
  {
   "cell_type": "code",
   "execution_count": 66,
   "id": "c63efd20",
   "metadata": {},
   "outputs": [],
   "source": [
    "# symbolsToBeDeleted = ('x', 'f', 'f_rewritten', 'step1', 'step2')\n",
    "\n",
    "# for local_sym_var in symbolsToBeDeleted:\n",
    "#     try:\n",
    "#         del(globals()[local_sym_var])\n",
    "#         print(f\"Variable {local_sym_var} deleted.\")\n",
    "#     except Exception as e:\n",
    "#         print(f\"Variable {local_sym_var} already deleted.\")"
   ]
  },
  {
   "cell_type": "markdown",
   "id": "cff7451e",
   "metadata": {},
   "source": [
    "# What else can I do with these trigonemetric functions? Find a root numerically!\n",
    "\n",
    "A root of a function is a value $r$ such that $f(r)=0$."
   ]
  },
  {
   "cell_type": "code",
   "execution_count": 90,
   "id": "e392dfda",
   "metadata": {},
   "outputs": [],
   "source": [
    "# Just plotting the Cobweb diagram: https://en.wikipedia.org/wiki/Cobweb_plot\n",
    "def cobweb(x,g=None):\n",
    "    min_x = np.amin(x)\n",
    "    max_x = np.amax(x)\n",
    "    \n",
    "    plt.figure(figsize=(fig_size_length/2,fig_size_length/2))\n",
    "    ax = plt.axes()\n",
    "    plt.plot(np.array([min_x,max_x]),np.array([min_x,max_x]),'b-')\n",
    "    for i in np.arange(x.size-1):\n",
    "        delta_x = x[i+1]-x[i]\n",
    "        head_length =  np.abs(delta_x)*0.04\n",
    "        arrow_length = delta_x-np.sign(delta_x)*head_length\n",
    "        ax.arrow(x[i], x[i], 0, arrow_length, head_width=1.5*head_length, head_length=head_length, fc='k', ec='k')\n",
    "        ax.arrow(x[i], x[i+1], arrow_length, 0, head_width=1.5*head_length, head_length=head_length, fc='k', ec='k')\n",
    "    \n",
    "    if g!=None:\n",
    "        y = np.linspace(min_x,max_x,1000)\n",
    "        plt.plot(y,g(y),'r')\n",
    "    \n",
    "    plt.title('Cobweb diagram')\n",
    "    plt.grid(True)\n",
    "    plt.show()\n",
    "\n",
    "# This code performs the fixed point iteration.\n",
    "def fpi(g, x0, k, flag_cobweb=False, show_output_Table=True):\n",
    "    # This is where we store all the approximation, \n",
    "    # this is technically not needed but we store them because we need them for the cobweb diagram at the end.\n",
    "    x = np.empty(k+1)\n",
    "    # Just starting the fixed point iteration from the 'initial guess'\n",
    "    x[0] = x0\n",
    "    # Initializing the error in NaN\n",
    "    error_i = np.nan\n",
    "    \n",
    "    # Output table to store the numerical evolution of the algorithm\n",
    "    output_table = []\n",
    "    \n",
    "    # Main loop\n",
    "    for i in range(k):\n",
    "        # Iteration\n",
    "        x[i+1] = g(x[i])\n",
    "        # Storing error from previous iteration\n",
    "        error_iminus1 = error_i\n",
    "        # Computing error for current iteration.\n",
    "        # Notice that from the theory we need to compute e_i=|x_i-r|, i.e. we need the root 'r'\n",
    "        # but we don't have it, so we approximate it by 'x_{i+1}'.\n",
    "        error_i = abs(x[i]-x[i+1])\n",
    "        if show_output_Table:\n",
    "            output_table.append([i,x[i],x[i+1],error_i,error_i/error_iminus1,error_i/(error_iminus1**((1+np.sqrt(5))/2.)),error_i/(error_iminus1**2)])\n",
    "    \n",
    "    if show_output_Table:\n",
    "        # Showing final output table\n",
    "        columns    = ['$i$', '$x_i$', '$x_{i+1}$', '$e_i$', r'$\\frac{e_i}{e_{i-1}}$', r'$\\frac{e_i}{e_{i-1}^\\alpha}$', r'$\\frac{e_i}{e_{i-1}^2}$']\n",
    "        df = pd.DataFrame(data=output_table, columns=columns)\n",
    "        display(df)\n",
    "    \n",
    "    # Just showing cobweb if required\n",
    "    if flag_cobweb:\n",
    "        cobweb(x,g)\n",
    "    return x[-1], x"
   ]
  },
  {
   "cell_type": "code",
   "execution_count": 92,
   "id": "72bb7256",
   "metadata": {},
   "outputs": [
    {
     "name": "stdout",
     "output_type": "stream",
     "text": [
      "      converged: True\n",
      "           flag: converged\n",
      " function_calls: 10\n",
      "     iterations: 5\n",
      "           root: 0.7390851332151607\n",
      "         method: newton\n"
     ]
    }
   ],
   "source": [
    "g = lambda x: np.cos(x)\n",
    "f = lambda x: x-g(x)\n",
    "\n",
    "x0=2.**-4\n",
    "out=optimize.root_scalar(f,x0=x0)\n",
    "print(out)"
   ]
  },
  {
   "cell_type": "code",
   "execution_count": 69,
   "id": "bc3c9b4d",
   "metadata": {},
   "outputs": [
    {
     "data": {
      "application/vnd.microsoft.datawrangler.viewer.v0+json": {
       "columns": [
        {
         "name": "index",
         "rawType": "int64",
         "type": "integer"
        },
        {
         "name": "$i$",
         "rawType": "int64",
         "type": "integer"
        },
        {
         "name": "$x_i$",
         "rawType": "float64",
         "type": "float"
        },
        {
         "name": "$x_{i+1}$",
         "rawType": "float64",
         "type": "float"
        },
        {
         "name": "$e_i$",
         "rawType": "float64",
         "type": "float"
        },
        {
         "name": "$\\frac{e_i}{e_{i-1}}$",
         "rawType": "float64",
         "type": "float"
        },
        {
         "name": "$\\frac{e_i}{e_{i-1}^\\alpha}$",
         "rawType": "float64",
         "type": "float"
        },
        {
         "name": "$\\frac{e_i}{e_{i-1}^2}$",
         "rawType": "float64",
         "type": "float"
        }
       ],
       "ref": "d4ec9b71-147a-4c15-a4a2-983b1dc884a5",
       "rows": [
        [
         "0",
         "0",
         "0.0625",
         "0.9980475107000991",
         "0.9355475107000991",
         null,
         null,
         null
        ],
        [
         "1",
         "1",
         "0.9980475107000991",
         "0.5419442380444603",
         "0.45610327265563877",
         "0.4875255050535302",
         "0.5080186201363486",
         "0.5211125030824996"
        ],
        [
         "2",
         "2",
         "0.5419442380444603",
         "0.8567074581432825",
         "0.3147632200988222",
         "0.6901139258793932",
         "1.1210663804167853",
         "1.5130650605974367"
        ],
        [
         "3",
         "3",
         "0.8567074581432825",
         "0.6549291555355403",
         "0.2017783026077422",
         "0.6410479043402608",
         "1.30964457498079",
         "2.0366035909119216"
        ],
        [
         "4",
         "4",
         "0.6549291555355403",
         "0.7930910816718585",
         "0.13816192613631817",
         "0.6847214212367793",
         "1.841302412952529",
         "3.393434340499337"
        ],
        [
         "5",
         "5",
         "0.7930910816718585",
         "0.7016461966250168",
         "0.09144488504684167",
         "0.6618674739422575",
         "2.2492629932839927",
         "4.79052002567786"
        ],
        [
         "6",
         "6",
         "0.7016461966250168",
         "0.763780642434066",
         "0.062134445809049144",
         "0.6794742623080715",
         "2.979969363433163",
         "7.430423931967524"
        ],
        [
         "7",
         "7",
         "0.763780642434066",
         "0.7222262711687991",
         "0.04155437126526684",
         "0.6687815546463752",
         "3.7243103027984987",
         "10.763458914587682"
        ],
        [
         "8",
         "8",
         "0.7222262711687991",
         "0.7503358981888213",
         "0.028109627020022177",
         "0.6764541530560364",
         "4.830367667253898",
         "16.278772424152873"
        ],
        [
         "9",
         "9",
         "0.7503358981888213",
         "0.7314598663758575",
         "0.018876031812963823",
         "0.671514844345627",
         "6.105424957471652",
         "23.88914103582073"
        ],
        [
         "10",
         "10",
         "0.7314598663758575",
         "0.7442000680720846",
         "0.012740201696227138",
         "0.6749406772814044",
         "7.84894687532057",
         "35.75649182885269"
        ],
        [
         "11",
         "11",
         "0.7442000680720846",
         "0.7356299984328258",
         "0.00857006963925877",
         "0.6726792749126331",
         "9.974094863179696",
         "52.799735118152746"
        ],
        [
         "12",
         "12",
         "0.7356299984328258",
         "0.7414081373575736",
         "0.005778138924747767",
         "0.6742231006243633",
         "12.772901259126613",
         "78.6718345363034"
        ],
        [
         "13",
         "13",
         "0.7414081373575736",
         "0.737518336908875",
         "0.003889800448698577",
         "0.673192614327524",
         "16.271606960972584",
         "116.50682392634076"
        ],
        [
         "14",
         "14",
         "0.737518336908875",
         "0.7401396384509111",
         "0.002621301542036103",
         "0.6738910071628791",
         "20.801588038486273",
         "173.24565001486"
        ],
        [
         "15",
         "15",
         "0.7401396384509111",
         "0.7383743950107848",
         "0.0017652434401262962",
         "0.6734225009287328",
         "26.52967130193536",
         "256.9038663158341"
        ],
        [
         "16",
         "16",
         "0.7383743950107848",
         "0.7395637083049462",
         "0.001189313294161387",
         "0.6737389683069982",
         "33.889097100066884",
         "381.6691528159962"
        ],
        [
         "17",
         "17",
         "0.7395637083049462",
         "0.7387626746522657",
         "0.0008010336526804718",
         "0.6735261907967652",
         "43.243496138571565",
         "566.3151955866132"
        ],
        [
         "18",
         "18",
         "0.7387626746522657",
         "0.7393023067534154",
         "0.0005396321011496008",
         "0.673669700821992",
         "55.21995966020638",
         "841.0004980036904"
        ],
        [
         "19",
         "19",
         "0.7393023067534154",
         "0.7389388250792887",
         "0.00036348167412669774",
         "0.6735731127787942",
         "70.47894409077092",
         "1248.208013096058"
        ]
       ],
       "shape": {
        "columns": 7,
        "rows": 20
       }
      },
      "text/html": [
       "<div>\n",
       "<style scoped>\n",
       "    .dataframe tbody tr th:only-of-type {\n",
       "        vertical-align: middle;\n",
       "    }\n",
       "\n",
       "    .dataframe tbody tr th {\n",
       "        vertical-align: top;\n",
       "    }\n",
       "\n",
       "    .dataframe thead th {\n",
       "        text-align: right;\n",
       "    }\n",
       "</style>\n",
       "<table border=\"1\" class=\"dataframe\">\n",
       "  <thead>\n",
       "    <tr style=\"text-align: right;\">\n",
       "      <th></th>\n",
       "      <th>$i$</th>\n",
       "      <th>$x_i$</th>\n",
       "      <th>$x_{i+1}$</th>\n",
       "      <th>$e_i$</th>\n",
       "      <th>$\\frac{e_i}{e_{i-1}}$</th>\n",
       "      <th>$\\frac{e_i}{e_{i-1}^\\alpha}$</th>\n",
       "      <th>$\\frac{e_i}{e_{i-1}^2}$</th>\n",
       "    </tr>\n",
       "  </thead>\n",
       "  <tbody>\n",
       "    <tr>\n",
       "      <th>0</th>\n",
       "      <td>0</td>\n",
       "      <td>0.062500</td>\n",
       "      <td>0.998048</td>\n",
       "      <td>0.935548</td>\n",
       "      <td>NaN</td>\n",
       "      <td>NaN</td>\n",
       "      <td>NaN</td>\n",
       "    </tr>\n",
       "    <tr>\n",
       "      <th>1</th>\n",
       "      <td>1</td>\n",
       "      <td>0.998048</td>\n",
       "      <td>0.541944</td>\n",
       "      <td>0.456103</td>\n",
       "      <td>0.487526</td>\n",
       "      <td>0.508019</td>\n",
       "      <td>0.521113</td>\n",
       "    </tr>\n",
       "    <tr>\n",
       "      <th>2</th>\n",
       "      <td>2</td>\n",
       "      <td>0.541944</td>\n",
       "      <td>0.856707</td>\n",
       "      <td>0.314763</td>\n",
       "      <td>0.690114</td>\n",
       "      <td>1.121066</td>\n",
       "      <td>1.513065</td>\n",
       "    </tr>\n",
       "    <tr>\n",
       "      <th>3</th>\n",
       "      <td>3</td>\n",
       "      <td>0.856707</td>\n",
       "      <td>0.654929</td>\n",
       "      <td>0.201778</td>\n",
       "      <td>0.641048</td>\n",
       "      <td>1.309645</td>\n",
       "      <td>2.036604</td>\n",
       "    </tr>\n",
       "    <tr>\n",
       "      <th>4</th>\n",
       "      <td>4</td>\n",
       "      <td>0.654929</td>\n",
       "      <td>0.793091</td>\n",
       "      <td>0.138162</td>\n",
       "      <td>0.684721</td>\n",
       "      <td>1.841302</td>\n",
       "      <td>3.393434</td>\n",
       "    </tr>\n",
       "    <tr>\n",
       "      <th>5</th>\n",
       "      <td>5</td>\n",
       "      <td>0.793091</td>\n",
       "      <td>0.701646</td>\n",
       "      <td>0.091445</td>\n",
       "      <td>0.661867</td>\n",
       "      <td>2.249263</td>\n",
       "      <td>4.790520</td>\n",
       "    </tr>\n",
       "    <tr>\n",
       "      <th>6</th>\n",
       "      <td>6</td>\n",
       "      <td>0.701646</td>\n",
       "      <td>0.763781</td>\n",
       "      <td>0.062134</td>\n",
       "      <td>0.679474</td>\n",
       "      <td>2.979969</td>\n",
       "      <td>7.430424</td>\n",
       "    </tr>\n",
       "    <tr>\n",
       "      <th>7</th>\n",
       "      <td>7</td>\n",
       "      <td>0.763781</td>\n",
       "      <td>0.722226</td>\n",
       "      <td>0.041554</td>\n",
       "      <td>0.668782</td>\n",
       "      <td>3.724310</td>\n",
       "      <td>10.763459</td>\n",
       "    </tr>\n",
       "    <tr>\n",
       "      <th>8</th>\n",
       "      <td>8</td>\n",
       "      <td>0.722226</td>\n",
       "      <td>0.750336</td>\n",
       "      <td>0.028110</td>\n",
       "      <td>0.676454</td>\n",
       "      <td>4.830368</td>\n",
       "      <td>16.278772</td>\n",
       "    </tr>\n",
       "    <tr>\n",
       "      <th>9</th>\n",
       "      <td>9</td>\n",
       "      <td>0.750336</td>\n",
       "      <td>0.731460</td>\n",
       "      <td>0.018876</td>\n",
       "      <td>0.671515</td>\n",
       "      <td>6.105425</td>\n",
       "      <td>23.889141</td>\n",
       "    </tr>\n",
       "    <tr>\n",
       "      <th>10</th>\n",
       "      <td>10</td>\n",
       "      <td>0.731460</td>\n",
       "      <td>0.744200</td>\n",
       "      <td>0.012740</td>\n",
       "      <td>0.674941</td>\n",
       "      <td>7.848947</td>\n",
       "      <td>35.756492</td>\n",
       "    </tr>\n",
       "    <tr>\n",
       "      <th>11</th>\n",
       "      <td>11</td>\n",
       "      <td>0.744200</td>\n",
       "      <td>0.735630</td>\n",
       "      <td>0.008570</td>\n",
       "      <td>0.672679</td>\n",
       "      <td>9.974095</td>\n",
       "      <td>52.799735</td>\n",
       "    </tr>\n",
       "    <tr>\n",
       "      <th>12</th>\n",
       "      <td>12</td>\n",
       "      <td>0.735630</td>\n",
       "      <td>0.741408</td>\n",
       "      <td>0.005778</td>\n",
       "      <td>0.674223</td>\n",
       "      <td>12.772901</td>\n",
       "      <td>78.671835</td>\n",
       "    </tr>\n",
       "    <tr>\n",
       "      <th>13</th>\n",
       "      <td>13</td>\n",
       "      <td>0.741408</td>\n",
       "      <td>0.737518</td>\n",
       "      <td>0.003890</td>\n",
       "      <td>0.673193</td>\n",
       "      <td>16.271607</td>\n",
       "      <td>116.506824</td>\n",
       "    </tr>\n",
       "    <tr>\n",
       "      <th>14</th>\n",
       "      <td>14</td>\n",
       "      <td>0.737518</td>\n",
       "      <td>0.740140</td>\n",
       "      <td>0.002621</td>\n",
       "      <td>0.673891</td>\n",
       "      <td>20.801588</td>\n",
       "      <td>173.245650</td>\n",
       "    </tr>\n",
       "    <tr>\n",
       "      <th>15</th>\n",
       "      <td>15</td>\n",
       "      <td>0.740140</td>\n",
       "      <td>0.738374</td>\n",
       "      <td>0.001765</td>\n",
       "      <td>0.673423</td>\n",
       "      <td>26.529671</td>\n",
       "      <td>256.903866</td>\n",
       "    </tr>\n",
       "    <tr>\n",
       "      <th>16</th>\n",
       "      <td>16</td>\n",
       "      <td>0.738374</td>\n",
       "      <td>0.739564</td>\n",
       "      <td>0.001189</td>\n",
       "      <td>0.673739</td>\n",
       "      <td>33.889097</td>\n",
       "      <td>381.669153</td>\n",
       "    </tr>\n",
       "    <tr>\n",
       "      <th>17</th>\n",
       "      <td>17</td>\n",
       "      <td>0.739564</td>\n",
       "      <td>0.738763</td>\n",
       "      <td>0.000801</td>\n",
       "      <td>0.673526</td>\n",
       "      <td>43.243496</td>\n",
       "      <td>566.315196</td>\n",
       "    </tr>\n",
       "    <tr>\n",
       "      <th>18</th>\n",
       "      <td>18</td>\n",
       "      <td>0.738763</td>\n",
       "      <td>0.739302</td>\n",
       "      <td>0.000540</td>\n",
       "      <td>0.673670</td>\n",
       "      <td>55.219960</td>\n",
       "      <td>841.000498</td>\n",
       "    </tr>\n",
       "    <tr>\n",
       "      <th>19</th>\n",
       "      <td>19</td>\n",
       "      <td>0.739302</td>\n",
       "      <td>0.738939</td>\n",
       "      <td>0.000363</td>\n",
       "      <td>0.673573</td>\n",
       "      <td>70.478944</td>\n",
       "      <td>1248.208013</td>\n",
       "    </tr>\n",
       "  </tbody>\n",
       "</table>\n",
       "</div>"
      ],
      "text/plain": [
       "    $i$     $x_i$  $x_{i+1}$     $e_i$  $\\frac{e_i}{e_{i-1}}$  \\\n",
       "0     0  0.062500   0.998048  0.935548                    NaN   \n",
       "1     1  0.998048   0.541944  0.456103               0.487526   \n",
       "2     2  0.541944   0.856707  0.314763               0.690114   \n",
       "3     3  0.856707   0.654929  0.201778               0.641048   \n",
       "4     4  0.654929   0.793091  0.138162               0.684721   \n",
       "5     5  0.793091   0.701646  0.091445               0.661867   \n",
       "6     6  0.701646   0.763781  0.062134               0.679474   \n",
       "7     7  0.763781   0.722226  0.041554               0.668782   \n",
       "8     8  0.722226   0.750336  0.028110               0.676454   \n",
       "9     9  0.750336   0.731460  0.018876               0.671515   \n",
       "10   10  0.731460   0.744200  0.012740               0.674941   \n",
       "11   11  0.744200   0.735630  0.008570               0.672679   \n",
       "12   12  0.735630   0.741408  0.005778               0.674223   \n",
       "13   13  0.741408   0.737518  0.003890               0.673193   \n",
       "14   14  0.737518   0.740140  0.002621               0.673891   \n",
       "15   15  0.740140   0.738374  0.001765               0.673423   \n",
       "16   16  0.738374   0.739564  0.001189               0.673739   \n",
       "17   17  0.739564   0.738763  0.000801               0.673526   \n",
       "18   18  0.738763   0.739302  0.000540               0.673670   \n",
       "19   19  0.739302   0.738939  0.000363               0.673573   \n",
       "\n",
       "    $\\frac{e_i}{e_{i-1}^\\alpha}$  $\\frac{e_i}{e_{i-1}^2}$  \n",
       "0                            NaN                      NaN  \n",
       "1                       0.508019                 0.521113  \n",
       "2                       1.121066                 1.513065  \n",
       "3                       1.309645                 2.036604  \n",
       "4                       1.841302                 3.393434  \n",
       "5                       2.249263                 4.790520  \n",
       "6                       2.979969                 7.430424  \n",
       "7                       3.724310                10.763459  \n",
       "8                       4.830368                16.278772  \n",
       "9                       6.105425                23.889141  \n",
       "10                      7.848947                35.756492  \n",
       "11                      9.974095                52.799735  \n",
       "12                     12.772901                78.671835  \n",
       "13                     16.271607               116.506824  \n",
       "14                     20.801588               173.245650  \n",
       "15                     26.529671               256.903866  \n",
       "16                     33.889097               381.669153  \n",
       "17                     43.243496               566.315196  \n",
       "18                     55.219960               841.000498  \n",
       "19                     70.478944              1248.208013  "
      ]
     },
     "metadata": {},
     "output_type": "display_data"
    },
    {
     "name": "stdout",
     "output_type": "stream",
     "text": [
      "0.7389388250792887\n"
     ]
    }
   ],
   "source": [
    "r, xs = fpi(g, x0, 20, flag_cobweb=False)\n",
    "print(r)"
   ]
  },
  {
   "cell_type": "code",
   "execution_count": 93,
   "id": "cc5dcbc0",
   "metadata": {},
   "outputs": [
    {
     "data": {
      "text/plain": [
       "<matplotlib.legend.Legend at 0x13a89e490>"
      ]
     },
     "execution_count": 93,
     "metadata": {},
     "output_type": "execute_result"
    },
    {
     "data": {
      "image/png": "[encoded data removed]",
      "text/plain": [
       "<Figure size 640x480 with 1 Axes>"
      ]
     },
     "metadata": {},
     "output_type": "display_data"
    }
   ],
   "source": [
    "plt.plot(xs-g(xs),'.',label=r'$x_i-g(x_i)$')\n",
    "plt.grid(True)\n",
    "plt.xlabel(r'$i$')\n",
    "plt.legend(loc='best') "
   ]
  },
  {
   "cell_type": "code",
   "execution_count": null,
   "id": "a4cbe8a8",
   "metadata": {},
   "outputs": [
    {
     "data": {
      "application/vnd.jupyter.widget-view+json": {
       "model_id": "efea323a7ec842668deea259c7bbe231",
       "version_major": 2,
       "version_minor": 0
      },
      "text/plain": [
       "VBox(children=(HBox(children=(IntSlider(value=20, description='k', max=150, min=10), FloatSlider(value=0.0625,…"
      ]
     },
     "metadata": {},
     "output_type": "display_data"
    }
   ],
   "source": [
    "def show_iterations(k=20, x0=2.**-4):\n",
    "    r, xs = fpi(g, x0, k, flag_cobweb=False, show_output_Table=False)\n",
    "    \n",
    "    plt.figure(figsize=(3*fig_size_length/3, fig_size_length/2))\n",
    "    \n",
    "    plt.subplot(121)\n",
    "    plt.plot(xs,'.',label=r'$x_i$')\n",
    "    plt.grid(True)\n",
    "    plt.xlabel(r'$i$')\n",
    "    plt.legend(loc='best')\n",
    "    plt.title(f'$r={np.round(r,8)}$')\n",
    "\n",
    "    plt.subplot(122)\n",
    "    plt.semilogy(np.abs(np.diff(xs)),'.',label=r'$|x_{i+1}-x_i|$')\n",
    "    plt.grid(True)\n",
    "    plt.xlabel(r'$i$')\n",
    "    plt.legend(loc='best')\n",
    "\n",
    "    plt.subplots_adjust(hspace=0.3, wspace=0.3)\n",
    "    plt.show()\n",
    "\n",
    "interact_row(show_iterations, k=(10,150,1), x0=(-10,10,0.001))"
   ]
  },
  {
   "cell_type": "code",
   "execution_count": 95,
   "id": "9dadb656",
   "metadata": {},
   "outputs": [
    {
     "data": {
      "image/png": "[encoded data removed]",
      "text/plain": [
       "<Figure size 400x400 with 1 Axes>"
      ]
     },
     "metadata": {},
     "output_type": "display_data"
    }
   ],
   "source": [
    "fpi(g, x0, 20, flag_cobweb=True, show_output_Table=False);"
   ]
  },
  {
   "cell_type": "markdown",
   "id": "3d84c28f",
   "metadata": {},
   "source": [
    "# Is there another way to build the trigonometric functions $\\verb|sin(x)|$ and $\\verb|cos(x)|$ using **elementals operations** ($\\oplus$, $\\ominus$, $\\otimes$, and $\\oslash$)? **An piecewise linear interpolation approach**\n",
    "\n",
    "## We already built them with their Taylors' approximations. However, we can do something else. Interpolation!"
   ]
  },
  {
   "cell_type": "code",
   "execution_count": null,
   "id": "f749fcb0",
   "metadata": {},
   "outputs": [
    {
     "data": {
      "application/vnd.jupyter.widget-view+json": {
       "model_id": "122ffd775e1341029ae4b779bc5501be",
       "version_major": 2,
       "version_minor": 0
      },
      "text/plain": [
       "VBox(children=(HBox(children=(IntSlider(value=7, description='# of interpolation points', min=2), Checkbox(val…"
      ]
     },
     "metadata": {},
     "output_type": "display_data"
    }
   ],
   "source": [
    "def show_cosine_interpolation_piecewise_linear(n_interp_points=7, flag_show_cos_continuous=False, \n",
    "                              show_cos_approximation=False, show_sin_approximation=False,\n",
    "                              x_value=np.pi/4):\n",
    "    x = np.linspace(0,2*np.pi,n_interp_points)\n",
    "    xx = np.linspace(0,2*np.pi,700)\n",
    "    \n",
    "    # Piecewise linear interpolation\n",
    "    piecewise_linear_sin = lambda z: np.interp(z, x, np.sin(x))\n",
    "    piecewise_linear_cos = lambda z: np.interp(z, x, np.cos(x))\n",
    "    \n",
    "    ######################################################################\n",
    "    plt.figure(figsize=(6*fig_size_length/4, 3*fig_size_length/4))\n",
    "    ######################################################################\n",
    "    plt.subplot(121)\n",
    "    if flag_show_cos_continuous:\n",
    "        plt.plot(xx, np.cos(xx), '-', label=r'$\\cos(x)$', color='k', alpha=0.8)\n",
    "    plt.plot(x, np.cos(x), 'o', color='blue', markersize=10, alpha=0.5)\n",
    "    if show_cos_approximation:\n",
    "        plt.plot(xx, piecewise_linear_cos(xx), '--', color='magenta', markersize=10, label='cos approx')\n",
    "    if show_sin_approximation:\n",
    "        plt.plot(xx, piecewise_linear_sin(xx), '--', color='green', markersize=10, label='sin approx')\n",
    "        plt.plot(x, np.sin(x), 'o', color='green', markersize=10, alpha=0.5)\n",
    "    plt.axis((-0.5, 2*np.pi+0.5, -1.5, 1.5))\n",
    "    plt.xticks(np.arange(0, 2*np.pi+0.1, np.pi/2),\n",
    "               [r'$0$', r'$\\frac{\\pi}{2}$', r'$\\pi$', r'$\\frac{3\\pi}{2}$', r'$2\\pi$'], fontsize=FS)\n",
    "    plt.grid(True)\n",
    "    ######################################################################\n",
    "    plt.subplot(122)\n",
    "    only_circle_plot(x_value, theta_inf=0, theta_sup=2*np.pi, \n",
    "                    input_sin = piecewise_linear_sin,\n",
    "                    input_cos = piecewise_linear_cos)\n",
    "    plt.grid(True)\n",
    "    ######################################################################\n",
    "    if show_cos_approximation or show_sin_approximation:\n",
    "        plt.subplot(121)\n",
    "        plt.legend(loc='best', fontsize=10)\n",
    "    plt.show()\n",
    "\n",
    "interact_row(show_cosine_interpolation_piecewise_linear,\n",
    "             n_interp_points=widgets.IntSlider(min=2, max=100, step=1, value=7, description='# of interpolation points'),\n",
    "             x_value=widgets.FloatSlider(min=0, max=2*np.pi, step=6*np.pi/300, value=np.pi/4, description='x'))"
   ]
  },
  {
   "cell_type": "markdown",
   "id": "4cf31aac",
   "metadata": {},
   "source": [
    "# Building the polynomial interpolation by means of solving a linear system of equations? It requires to know the values of $\\sin(x)$ and $\\cos(x)$ at certain points\n",
    "\n",
    "A tradictional form of a polynomial interpolation is as follows:\n",
    "$$\n",
    "\\begin{align*}\n",
    "    P_n(x)  & = \\sum_{i=0}^n a_i\\,x^i\\\\\n",
    "            & = a_0+a_1\\,x+a_2\\,x^2+\\dots a_n\\,x^n.\n",
    "\\end{align*}\n",
    "$$\n",
    "So, the challenge is to obtain the coefficients $a_i$ from a given set the data points $(x_i,y_i)$ such that $y_i=P_n(x_i)$."
   ]
  },
  {
   "cell_type": "code",
   "execution_count": null,
   "id": "713b8b81",
   "metadata": {},
   "outputs": [
    {
     "data": {
      "application/vnd.jupyter.widget-view+json": {
       "model_id": "19ccf8bd504c419d9fdf9a9438d8125c",
       "version_major": 2,
       "version_minor": 0
      },
      "text/plain": [
       "VBox(children=(HBox(children=(IntSlider(value=7, description='# of interpolation points', min=2), Checkbox(val…"
      ]
     },
     "metadata": {},
     "output_type": "display_data"
    }
   ],
   "source": [
    "def show_cosine_polynomial_interpolation(n_interp_points=7, flag_show_cos_continuous=False, \n",
    "                              show_cos_approximation=False, show_sin_approximation=False,\n",
    "                              x_value=np.pi/4):\n",
    "    x = np.linspace(0,2*np.pi,n_interp_points)\n",
    "    xx = np.linspace(0,2*np.pi,700)\n",
    "    \n",
    "    # Polynomial interpolation using BarycentricInterpolator\n",
    "    P_sin = BarycentricInterpolator(x, np.sin(x))\n",
    "    P_cos = BarycentricInterpolator(x, np.cos(x))\n",
    "    \n",
    "    ######################################################################\n",
    "    plt.figure(figsize=(6*fig_size_length/4, 3*fig_size_length/4))\n",
    "    ######################################################################\n",
    "    plt.subplot(121)\n",
    "    if flag_show_cos_continuous:\n",
    "        plt.plot(xx, np.cos(xx), '-', label=r'$\\cos(x)$', color='k', alpha=0.8)\n",
    "    plt.plot(x, np.cos(x), 'o', color='blue', markersize=10, alpha=0.5)\n",
    "    if show_cos_approximation:\n",
    "        plt.plot(xx, P_cos(xx), '--', color='magenta', markersize=10, label='cos approx')\n",
    "    if show_sin_approximation:\n",
    "        plt.plot(xx, P_sin(xx), '--', color='green', markersize=10, label='sin approx')\n",
    "        plt.plot(x, np.sin(x), 'o', color='green', markersize=10, alpha=0.5)\n",
    "    plt.axis((-0.5, 2*np.pi+0.5, -1.5, 1.5))\n",
    "    plt.xticks(np.arange(0, 2*np.pi+0.1, np.pi/2),\n",
    "               [r'$0$', r'$\\frac{\\pi}{2}$', r'$\\pi$', r'$\\frac{3\\pi}{2}$', r'$2\\pi$'], fontsize=FS)\n",
    "    plt.grid(True)\n",
    "    ######################################################################\n",
    "    plt.subplot(122)\n",
    "    only_circle_plot(x_value, theta_inf=0, theta_sup=2*np.pi, \n",
    "                    input_sin=P_sin,\n",
    "                    input_cos=P_cos)\n",
    "    plt.grid(True)\n",
    "    ######################################################################\n",
    "    if show_cos_approximation or show_sin_approximation:\n",
    "        plt.subplot(121)\n",
    "        plt.legend(loc='best', fontsize=10)\n",
    "    plt.show()\n",
    "\n",
    "interact_row(show_cosine_polynomial_interpolation,\n",
    "             n_interp_points=widgets.IntSlider(min=2, max=100, step=1, value=7, description='# of interpolation points'),\n",
    "             x_value=widgets.FloatSlider(min=0, max=2*np.pi, step=6*np.pi/300, value=np.pi/4, description='x'))"
   ]
  },
  {
   "cell_type": "markdown",
   "id": "acc6eeb1",
   "metadata": {},
   "source": [
    "# Adjusting a periodic but noisy signal"
   ]
  },
  {
   "cell_type": "code",
   "execution_count": null,
   "id": "4eea42ac",
   "metadata": {},
   "outputs": [
    {
     "data": {
      "application/vnd.jupyter.widget-view+json": {
       "model_id": "4e8c9ce468094af4865af00cc048837e",
       "version_major": 2,
       "version_minor": 0
      },
      "text/plain": [
       "VBox(children=(HBox(children=(Checkbox(value=True, description='flag_pure_signal'), Checkbox(value=False, desc…"
      ]
     },
     "metadata": {},
     "output_type": "display_data"
    }
   ],
   "source": [
    "def generate_pure_and_noisy_signals():\n",
    "    rng = np.random.default_rng(12345)\n",
    "    n_samples = 50\n",
    "    x = np.linspace(0, 2*np.pi, n_samples)\n",
    "    f_pure_signal = np.sin(x) + 0.3*np.cos(4*x)\n",
    "    f_noisy_signal = f_pure_signal + 0.1 * rng.normal(size=n_samples)\n",
    "    return f_pure_signal, f_noisy_signal, x\n",
    "    \n",
    "def show_signals(flag_pure_signal=True,flag_noisy_signal=False):\n",
    "    f_pure_signal, f_noisy_signal, x = generate_pure_and_noisy_signals()\n",
    "\n",
    "    if flag_pure_signal or flag_noisy_signal:\n",
    "        plt.figure(figsize=(fig_size_length/2, fig_size_length/2))\n",
    "        if flag_pure_signal:\n",
    "            plt.plot(x, f_pure_signal, 'o', label=r'$\\textrm{Pure signal}$', color='blue', markersize=4, alpha=0.5)\n",
    "        if flag_noisy_signal:\n",
    "            plt.plot(x, f_noisy_signal, 'o', label=r'$\\textrm{Noisy signal}$', color='red', markersize=4, alpha=0.5)\n",
    "        plt.grid(True)\n",
    "        plt.legend(loc='center left', fontsize=FS, bbox_to_anchor=(1, 0.5))\n",
    "        plt.xticks(np.arange(0, 2*np.pi+0.1, np.pi/2),\n",
    "                    [r'$0$', r'$\\frac{\\pi}{2}$', r'$\\pi$', r'$\\frac{3\\pi}{2}$', r'$2\\pi$'], fontsize=FS)\n",
    "        plt.xlabel(r'$x$', fontsize=FS)\n",
    "        plt.show()\n",
    "\n",
    "interact_row(show_signals)"
   ]
  },
  {
   "cell_type": "markdown",
   "id": "fef4a77f",
   "metadata": {},
   "source": [
    "We will fit the following approximation, which generates a **linear system of equation** if we only pick two points:\n",
    "$$\n",
    "f_{\\textrm{linear}} = a_0\\,\\sin(x)+b_0\\,\\cos(4\\,x).\n",
    "$$\n",
    "For instance, if we pick the points $i$ and $j$ from the data, we get:\n"
   ]
  },
  {
   "cell_type": "code",
   "execution_count": null,
   "id": "ad60c9c4",
   "metadata": {},
   "outputs": [
    {
     "data": {
      "application/vnd.jupyter.widget-view+json": {
       "model_id": "d36997e01c1c4268a549983b98bfbd27",
       "version_major": 2,
       "version_minor": 0
      },
      "text/plain": [
       "VBox(children=(HBox(children=(IntSlider(value=0, description='i', max=49), IntSlider(value=1, description='j',…"
      ]
     },
     "metadata": {},
     "output_type": "display_data"
    }
   ],
   "source": [
    "def linear_fit_of_data(i,j, x_lim_sup=np.pi/4, show_noisy_signal=False, type_of_approximation='two_points', data_to_be_used='pure_signal'):\n",
    "    f_pure_signal, f_noisy_signal, x = generate_pure_and_noisy_signals()\n",
    "    \n",
    "    if data_to_be_used == 'pure_signal':\n",
    "        f_data = f_pure_signal\n",
    "    else:\n",
    "        f_data = f_noisy_signal \n",
    "    \n",
    "    xi = x[i]\n",
    "    xj = x[j]\n",
    "    yi = f_data[i]\n",
    "    yj = f_data[j]\n",
    "    \n",
    "    # Linear approximation\n",
    "    f_linear = lambda a0,b0,x: a0*np.sin(x)+b0*np.cos(4*x)\n",
    "    \n",
    "    if type_of_approximation == 'two_points':\n",
    "        # Matrix \"A\"\n",
    "        A = np.array([[np.sin(xi), np.cos(4*xi)],\n",
    "                    [np.sin(xj), np.cos(4*xj)]])\n",
    "        # Vector \"b\"\n",
    "        b = np.array([yi, yj])\n",
    "        # Solve the linear system\n",
    "        x_solution = np.linalg.solve(A, b)\n",
    "        a0, b0 = x_solution\n",
    "    else:\n",
    "        A = np.array([np.sin(x), np.cos(4*x)]).T\n",
    "        b = f_data\n",
    "        x_solution_least_square = np.linalg.lstsq(A,b)[0]\n",
    "        a0, b0 = x_solution_least_square\n",
    "    \n",
    "    xx = np.linspace(0, 2*np.pi, 500)\n",
    "    \n",
    "    ##################################################################################\n",
    "    plt.figure(figsize=(fig_size_length, fig_size_length/2))\n",
    "    plt.subplot(121)\n",
    "    plt.plot(x[x<=x_lim_sup], f_pure_signal[x<=x_lim_sup], 'o', label=r'$\\textrm{Pure signal}$', color='blue', markersize=4, alpha=0.5)\n",
    "    plt.plot(xx[xx<=x_lim_sup], f_linear(a0, b0, xx[xx<=x_lim_sup]), label=r'$\\textrm{Linear fit}$', color='magenta', linewidth=2, alpha=0.8)\n",
    "    if show_noisy_signal:\n",
    "        plt.plot(x[x<=x_lim_sup], f_noisy_signal[x<=x_lim_sup], 'o', label=r'$\\textrm{Noisy signal}$', color='red', markersize=4, alpha=0.5)\n",
    "    plt.xticks(np.arange(0, 2*np.pi+0.1, np.pi/8),\n",
    "                [r'$0$', r'$\\frac{\\pi}{8}$', r'$\\frac{\\pi}{4}$', r'$\\frac{3\\pi}{8}$', r'$\\frac{\\pi}{2}$',\n",
    "                 r'$\\frac{5\\pi}{8}$', r'$\\frac{3\\pi}{4}$', r'$\\frac{7\\pi}{8}$', r'$\\pi$', \n",
    "                 r'$\\frac{9\\pi}{8}$', r'$\\frac{5\\pi}{4}$', r'$\\frac{11\\pi}{8}$', r'$1.5\\pi$',\n",
    "                 r'$\\frac{13\\pi}{8}$', r'$\\frac{7\\pi}{4}$', r'$\\frac{15\\pi}{8}$', r'$2\\pi$'], fontsize=FS)\n",
    "    plt.xlabel(r'$x$', fontsize=FS)\n",
    "    plt.xlim(0, x_lim_sup)\n",
    "    \n",
    "    plt.vlines(xi, -2, 2, color='black', linestyle='--', linewidth=1)\n",
    "    plt.plot(xi,yi, 'o', color='black', markersize=5, label=r'$x_i$')\n",
    "    plt.vlines(xj, -2, 2, color='green', linestyle='--', linewidth=1)\n",
    "    plt.plot(xj,yj, 'd', color='green', markersize=5, label=r'$x_j$')\n",
    "    plt.ylim(-2,2)\n",
    "    plt.grid(True)\n",
    "    \n",
    "    \n",
    "    ##################################################################################\n",
    "    plt.subplot(122)\n",
    "    plt.plot(x, f_pure_signal, 'o', label=r'$\\textrm{Pure signal}$', color='blue', markersize=4, alpha=0.5)\n",
    "    if show_noisy_signal:\n",
    "        plt.plot(x, f_noisy_signal, 'o', label=r'$\\textrm{Noisy signal}$', color='red', markersize=4, alpha=0.5)\n",
    "    \n",
    "    plt.xticks(np.arange(0, 2*np.pi+0.1, np.pi/2),\n",
    "                [r'$0$', r'$\\frac{\\pi}{2}$', r'$\\pi$', r'$\\frac{3\\pi}{2}$', r'$2\\pi$'], fontsize=FS)\n",
    "    plt.xlabel(r'$x$', fontsize=FS)\n",
    "    \n",
    "    # Approximation\n",
    "    plt.plot(xx, f_linear(a0, b0, xx), label=r'$\\textrm{Linear fit}$', color='magenta', linewidth=2, alpha=0.8)\n",
    "    \n",
    "    plt.vlines(xi, -2, 2, color='black', linestyle='--', linewidth=1)\n",
    "    plt.plot(xi,yi, 'o', color='black', markersize=5, label=r'$x_i$')\n",
    "    plt.vlines(xj, -2, 2, color='green', linestyle='--', linewidth=1)\n",
    "    plt.plot(xj,yj, 'd', color='green', markersize=5, label=r'$x_j$')\n",
    "    \n",
    "    rectangle=Rectangle((0, -2), x_lim_sup, 4, edgecolor='k', facecolor='none', linewidth=2,alpha=0.8)\n",
    "    plt.gca().add_patch(rectangle)\n",
    "    \n",
    "    plt.ylim(-2,2)\n",
    "    plt.grid(True)\n",
    "    plt.legend(loc='center left', fontsize=FS, bbox_to_anchor=(1, 0.5))\n",
    "    \n",
    "    plt.show()\n",
    "    \n",
    "interact_row(linear_fit_of_data,\n",
    "             x_lim_sup=widgets.FloatSlider(min=0, max=2*np.pi, step=6*np.pi/300, value=np.pi/4, description='x_lim_sup'),\n",
    "             i=widgets.IntSlider(min=0, max=49, step=1, value=0, description='i'),\n",
    "             j=widgets.IntSlider(min=0, max=49, step=1, value=1, description='j'),\n",
    "             type_of_approximation=widgets.Dropdown(options=['two_points', 'all_data'], value='two_points', description='Type of approximation'),\n",
    "             data_to_be_used=widgets.Dropdown(options=['pure_signal', 'noisy_signal'], value='pure_signal', description='Data to be used'))"
   ]
  },
  {
   "cell_type": "markdown",
   "id": "72fdd7aa",
   "metadata": {},
   "source": [
    "# Integrating numerically functions that don't have anti-derivative using only **elementals operations**\n",
    "\n",
    "We know that the function $\\dfrac{\\sin(x)}{x}$ does not have an anti-derivative, but we can take a look to it numerically!"
   ]
  },
  {
   "cell_type": "code",
   "execution_count": 106,
   "id": "68bcb010",
   "metadata": {},
   "outputs": [
    {
     "name": "stdout",
     "output_type": "stream",
     "text": [
      "0.09994446110827694\n"
     ]
    }
   ],
   "source": [
    "f = lambda x: np.sin(x)/x\n",
    "y_forbidden = integrate.quad(f, 0, 0.1)\n",
    "print(y_forbidden[0])"
   ]
  },
  {
   "cell_type": "code",
   "execution_count": null,
   "id": "89376b77",
   "metadata": {},
   "outputs": [
    {
     "data": {
      "application/vnd.jupyter.widget-view+json": {
       "model_id": "3d054e4f5747429eb85542d2dced51c0",
       "version_major": 2,
       "version_minor": 0
      },
      "text/plain": [
       "interactive(children=(FloatSlider(value=1.0, description='x_hat', max=12.566370614359172, step=0.0628318530717…"
      ]
     },
     "metadata": {},
     "output_type": "display_data"
    },
    {
     "data": {
      "text/plain": [
       "<function __main__.show_forbidden_anti_derivative(x_hat=1)>"
      ]
     },
     "execution_count": 107,
     "metadata": {},
     "output_type": "execute_result"
    }
   ],
   "source": [
    "def show_forbidden_anti_derivative(x_hat=1):\n",
    "    f = lambda x: np.sinc(x/np.pi)\n",
    "    \n",
    "    n = 100\n",
    "    x_int_domain = np.linspace(0,x_hat,n)\n",
    "    \n",
    "    y_forbidden = np.zeros(n)\n",
    "    \n",
    "    for i in np.arange(1,n):\n",
    "        y_forbidden[i] = integrate.quad(f, 0, x_int_domain[i])[0]\n",
    "    \n",
    "    y_sinx_x = f(x_int_domain)\n",
    "    \n",
    "    plt.figure(figsize=(fig_size_length/2,fig_size_length/2))\n",
    "    plt.plot(x_int_domain,y_forbidden,'r-', label=r'$\\displaystyle\\int_0^{\\widehat{x}} \\frac{\\sin(x)}{x}\\,\\mathrm{d}x$')\n",
    "    plt.plot(x_int_domain,y_sinx_x,'b-', label=r'$\\displaystyle\\frac{\\sin(x)}{x}$')\n",
    "    plt.grid(True)\n",
    "    plt.legend(loc='center left', fontsize=FS, bbox_to_anchor=(1, 0.5))\n",
    "    plt.xlabel(r'$x$')\n",
    "    plt.show()\n",
    "\n",
    "interact(show_forbidden_anti_derivative,x_hat=widgets.FloatSlider(min=0, max=4*np.pi, step=6*np.pi/300, value=1, description='x_hat'))"
   ]
  },
  {
   "cell_type": "markdown",
   "id": "a24449b0",
   "metadata": {},
   "source": [
    "# Finally, getting the approximated values of $\\sin(x)$ and $\\cos(x)$ using ODEs!\n",
    "\n",
    "Consider the following diferential equation:\n",
    "$$\n",
    "\\begin{align}\n",
    "    \\ddot{y}(t)+y(t)&=0,\\quad t\\in\\left]0,2\\,\\pi\\right],\\\\\n",
    "    y(0) &= \\alpha,\\\\\n",
    "    \\dot{y}(0) &= \\beta,\n",
    "\\end{align}\n",
    "$$\n",
    "which has the following general solution:\n",
    "$$\n",
    "\\begin{align*}\n",
    "    y(t) &= \\alpha\\,\\cos(t)+\\beta\\,\\sin(t).\n",
    "\\end{align*}\n",
    "$$\n",
    "This means that if we solve this differential equation numerically, we will be getting $\\sin(x)$ or $\\cos(x)$ depending on how we set $\\alpha$ and $\\beta$."
   ]
  },
  {
   "cell_type": "code",
   "execution_count": null,
   "id": "0b94159f",
   "metadata": {},
   "outputs": [
    {
     "data": {
      "application/vnd.jupyter.widget-view+json": {
       "model_id": "0cf28afde2bf4e89b5271452e0a4c889",
       "version_major": 2,
       "version_minor": 0
      },
      "text/plain": [
       "VBox(children=(HBox(children=(FloatSlider(value=1.0, description='alpha', max=1.0, min=-1.0), FloatSlider(valu…"
      ]
     },
     "metadata": {},
     "output_type": "display_data"
    }
   ],
   "source": [
    "# Forward Euler Method\n",
    "def eulerMethod_one_step(yi,ti,f,h):\n",
    "    return yi+h*f(ti,yi)\n",
    "\n",
    "def eulerMethod(t0,T,N,y0,f):\n",
    "    t = np.linspace(t0,T,N+1)\n",
    "    h = (T-t0)/N\n",
    "    if isinstance(y0,(int,float)):\n",
    "        y = np.zeros(N+1)\n",
    "    else:\n",
    "        y = np.zeros((N+1,len(y0)))\n",
    "    y[0] = y0\n",
    "    for i in np.arange(N):\n",
    "        y[i+1] = eulerMethod_one_step(y[i],t[i],f,h)\n",
    "    return t, y\n",
    "\n",
    "def show_numerical_sin_cos(alpha=1,beta=0,T=1):\n",
    "    # Defning f(t,y) for dynamical system\n",
    "    f_ivp = lambda t,y: np.array([y[1],-y[0]])\n",
    "    \n",
    "    N = 50\n",
    "    y0 = np.array([alpha,beta])\n",
    "    \n",
    "    # solve_ivp\n",
    "    out = solve_ivp(f_ivp, [0,T], y0, t_eval=np.linspace(0,T,N+1))\n",
    "    y_solve_ivp = out.y[0,:]\n",
    "    t_solve_ivp  = out.t\n",
    "    \n",
    "    # Euler's method\n",
    "    t_euler, y_euler = eulerMethod(0,T,N,y0,f_ivp)\n",
    "    \n",
    "    plt.figure(figsize=(fig_size_length/2,fig_size_length/2))\n",
    "    plt.plot(t_solve_ivp,y_solve_ivp,'b.', label=r'Numericall $y(t)$ with solve_ivp')\n",
    "    plt.plot(t_euler,y_euler[:,0],'rx', label=r\"Numericall $y(t)$ with Euler's method\")\n",
    "    \n",
    "    xx = np.linspace(0,np.max([2*np.pi,T]),1000)\n",
    "    plt.plot(xx,np.cos(xx),'m-',label=r'$\\cos(x)$')\n",
    "    plt.plot(xx,np.sin(xx),'g-',label=r'$\\sin(x)$')\n",
    "    plt.grid(True)\n",
    "    plt.legend(loc='center left', fontsize=FS, bbox_to_anchor=(1, 0.5))\n",
    "    plt.show()\n",
    "\n",
    "interact_row(show_numerical_sin_cos,alpha=(-1,1,0.1),beta=(-1,1,0.1),T=(0.1,4*np.pi+0.1,0.1))\n",
    "    "
   ]
  },
  {
   "cell_type": "markdown",
   "id": "82ef0c94",
   "metadata": {},
   "source": [
    "<div id='acknowledgements' />\n",
    "\n",
    "# Acknowledgements\n",
    "[Back to TOC](#toc)\n",
    "\n",
    "* _Material originally created by professor Claudio Torres_ (`claudio.torres@usm.cl`). v.1.00. DI UTFSM. August 2025._\n",
    "* _Update August 2025 - v1.01 - C.Torres_ : Fixing title and removing extra cells."
   ]
  },
  {
   "cell_type": "markdown",
   "id": "f895e2bf",
   "metadata": {},
   "source": []
  }
 ],
 "metadata": {
  "kernelspec": {
   "display_name": "base",
   "language": "python",
   "name": "python3"
  },
  "language_info": {
   "codemirror_mode": {
    "name": "ipython",
    "version": 3
   },
   "file_extension": ".py",
   "mimetype": "text/x-python",
   "name": "python",
   "nbconvert_exporter": "python",
   "pygments_lexer": "ipython3",
   "version": "3.13.5"
  }
 },
 "nbformat": 4,
 "nbformat_minor": 5
}
