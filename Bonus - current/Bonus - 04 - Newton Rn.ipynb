{
 "cells": [
  {
   "cell_type": "markdown",
   "metadata": {},
   "source": [
    "![UTFSM](https://github.com/tclaudioe/Scientific-Computing-V3/blob/main/images/Departamento%20de%20Inform%C3%A1tica%20cromatica%20negra%404x-8.png?raw=true)\n",
    "# INF-285 - Computación Científica\n",
    "## Newton's Method in $\\mathbb{R}^n$\n",
    "## Version: 1.09\n",
    "\n",
    "[![Open In Colab](https://colab.research.google.com/assets/colab-badge.svg)](https://colab.research.google.com/github/tclaudioe/Scientific-Computing-V3/blob/main/Bonus%20-%20current/Bonus%20-%2004%20-%20Newton%20Rn.ipynb)"
   ]
  },
  {
   "cell_type": "markdown",
   "metadata": {},
   "source": [
    "<a id=\"toc\"></a>\n",
    "\n",
    "# Table of Contents\n",
    "* [Newton's method](#newton)\n",
    "* [Python Modules and Functions](#py)\n",
    "* [Acknowledgements](#acknowledgements)"
   ]
  },
  {
   "cell_type": "code",
   "execution_count": 1,
   "metadata": {},
   "outputs": [
    {
     "name": "stdout",
     "output_type": "stream",
     "text": [
      "numpy is already installed.\n",
      "scipy is already installed.\n",
      "matplotlib is already installed.\n",
      "colorama is already installed.\n",
      "bitstring is already installed.\n",
      "sympy is already installed.\n",
      "ipywidgets is already installed.\n",
      "pandas is already installed.\n",
      "Running on local environment\n"
     ]
    }
   ],
   "source": [
    "##########################\n",
    "# CoLab requirements\n",
    "# https://stackoverflow.com/questions/44210656/how-to-check-if-a-module-is-installed-in-python-and-if-not-install-it-within-t\n",
    "##########################\n",
    "\n",
    "# https://pypi.org/project/colorama/\n",
    "\n",
    "import importlib.util\n",
    "import sys\n",
    "import subprocess\n",
    "import os\n",
    "    \n",
    "# install_colab_requirements \n",
    "libraries = ['numpy', 'scipy', 'matplotlib', 'colorama', \n",
    "            'bitstring', 'sympy', 'ipywidgets','pandas']\n",
    "\n",
    "for library in libraries:\n",
    "    # Check if the library is already installed\n",
    "    if importlib.util.find_spec(library) is not None:\n",
    "        print(f\"{library} is already installed.\")\n",
    "    else:\n",
    "        print(f\"{library} is not installed. Installing...\")\n",
    "        # Install the library using pip\n",
    "        subprocess.check_call([sys.executable, \"-m\", \"pip\", \"install\", library])\n",
    "        print(f\"{library} has been installed.\")\n",
    "# https://stackoverflow.com/questions/53581278/test-if-notebook-is-running-on-google-colab\n",
    "if os.getenv(\"COLAB_RELEASE_TAG\"):\n",
    "    print('Installing LaTeX support in CoLab')\n",
    "    # Adding LaTeX dependencies to CoLab: https://stackoverflow.com/questions/55746749/latex-equations-do-not-render-in-google-colaboratory-when-using-matplotlib\n",
    "    !sudo apt install cm-super dvipng texlive-latex-extra texlive-latex-recommended\n",
    "else:\n",
    "   print('Running on local environment')"
   ]
  },
  {
   "cell_type": "code",
   "execution_count": 2,
   "metadata": {},
   "outputs": [],
   "source": [
    "import numpy as np # type: ignore\n",
    "import matplotlib.pyplot as plt # type: ignore\n",
    "%matplotlib inline\n",
    "from ipywidgets import interact # type: ignore\n",
    "\n",
    "import matplotlib # type: ignore\n",
    "FS = 14\n",
    "matplotlib.rc('xtick', labelsize=FS)\n",
    "matplotlib.rc('ytick', labelsize=FS)\n",
    "plt.rcParams.update({\n",
    "    'font.size': FS,\n",
    "    'text.usetex': True,\n",
    "    'font.family': 'sans-serif',\n",
    "    'font.sans-serif': 'Helvetica',\n",
    "    'text.latex.preamble': r'\\usepackage{amsfonts}\\usepackage{amsmath}'\n",
    "})"
   ]
  },
  {
   "cell_type": "markdown",
   "metadata": {},
   "source": [
    "<a id=\"newton\"></a>\n",
    "\n",
    "# Newton's method\n",
    "[Back to TOC](#toc)"
   ]
  },
  {
   "cell_type": "markdown",
   "metadata": {},
   "source": [
    "We will find the root of the following function $\\mathbf{F}:\\mathbb{R}^2\\rightarrow \\mathbb{R}^2$:\n",
    "$$\n",
    "\\begin{align*}\n",
    "    \\mathbf{F}(\\mathbf{x})&=\n",
    "    \\left(\n",
    "        \\begin{align*}\n",
    "            f_1(\\mathbf{x})\\\\\n",
    "            f_2(\\mathbf{x})\n",
    "        \\end{align*}\n",
    "    \\right)\n",
    "\\end{align*},\n",
    "$$\n",
    "where $\\mathbf{x}=\\langle x, y \\rangle^\\top$.\n",
    "In particular the functions we will be using are the followings:\n",
    "$$\n",
    "\\begin{align*}\n",
    "    f_1(x,y) &= x^2+y^2-1,\\\\\n",
    "    f_2(x,y) &= y-x^2.\n",
    "\\end{align*}\n",
    "$$\n",
    "Notice that we use sometimes the notation $f_1(\\mathrm{x})$ and other times the notation $f_1(x,y)$ depending on the context.\n",
    "Both of them are equivalent.\n",
    "\n",
    "Now, for completeness, we will compute the Jacobian matrix of $\\mathbf{F}(\\mathbf{x})$, as follows,\n",
    "$$\n",
    "\\begin{align*}\n",
    "    J_{\\mathbf{F}}(\\mathbf{x}) &=\n",
    "    \\begin{bmatrix}\n",
    "        \\nabla\\,f_1(\\mathbf{x})\\\\\n",
    "        \\nabla\\,f_2(\\mathbf{x})\n",
    "    \\end{bmatrix}\\\\\n",
    "    &= \n",
    "    \\begin{bmatrix}\n",
    "        \\dfrac{\\partial f_1}{\\partial x} & \\dfrac{\\partial f_1}{\\partial y} \\\\\n",
    "        \\dfrac{\\partial f_2}{\\partial x} & \\dfrac{\\partial f_2}{\\partial y}\n",
    "    \\end{bmatrix}\\\\\n",
    "    &= \n",
    "    \\begin{bmatrix}\n",
    "        2\\,x & 2\\,y \\\\\n",
    "        -2\\,x & 1\n",
    "    \\end{bmatrix}\n",
    "\\end{align*}\n",
    "$$\n",
    "\n",
    "\n",
    "Now, we will translate this to a code using a vectorized implementation."
   ]
  },
  {
   "cell_type": "code",
   "execution_count": 3,
   "metadata": {},
   "outputs": [],
   "source": [
    "f1 = lambda x: x[0]**2+x[1]**2-1\n",
    "f2 = lambda x: x[1]-x[0]**2\n",
    "F  = lambda x: np.array([f1(x),f2(x)], dtype=float)\n",
    "J  = lambda x: np.array([[2*x[0], 2*x[1]],[-2*x[0], 1.0]], dtype=float)"
   ]
  },
  {
   "cell_type": "markdown",
   "metadata": {},
   "source": [
    "The Newton Step takes advantage of the vectorized implementation!"
   ]
  },
  {
   "cell_type": "code",
   "execution_count": 4,
   "metadata": {},
   "outputs": [],
   "source": [
    "# Here we use 'np.linalg.solve', but we could use LU or PALU! Or iterative methods!\n",
    "NewtonStep = lambda xi: xi-np.linalg.solve(J(xi),F(xi))"
   ]
  },
  {
   "cell_type": "markdown",
   "metadata": {},
   "source": [
    "The next cell of code is just needed for plotting purposes."
   ]
  },
  {
   "cell_type": "code",
   "execution_count": 5,
   "metadata": {},
   "outputs": [],
   "source": [
    "n_delta = 50\n",
    "x = np.linspace(-1.5, 1.5, n_delta)\n",
    "# We could have used 'x' since it is the same, but for completeness we will define 'y'\n",
    "y = np.linspace(-1.5, 1.5, n_delta)\n",
    "X, Y = np.meshgrid(x, y)\n",
    "Z1 = np.zeros_like(X)\n",
    "Z2 = np.zeros_like(X)\n",
    "\n",
    "for i,xi in enumerate(x):\n",
    "    for j,yj in enumerate(y):\n",
    "        Z1[j,i] = f1([xi,yj])\n",
    "        Z2[j,i] = f2([xi,yj])"
   ]
  },
  {
   "cell_type": "markdown",
   "metadata": {},
   "source": [
    "Here we plot the curves we will be intersecting."
   ]
  },
  {
   "cell_type": "code",
   "execution_count": 6,
   "metadata": {},
   "outputs": [
    {
     "data": {
      "image/png": "[encoded data removed]",
      "text/plain": [
       "<Figure size 640x480 with 1 Axes>"
      ]
     },
     "metadata": {},
     "output_type": "display_data"
    }
   ],
   "source": [
    "plt.figure()\n",
    "CS1 = plt.contour(X, Y, Z1,levels=[0])\n",
    "CS2 = plt.contour(X, Y, Z2,levels=[0])\n",
    "plt.grid()\n",
    "plt.axis('equal')\n",
    "plt.title(r'Newton $\\mathbb{R}^n$')\n",
    "plt.show()"
   ]
  },
  {
   "cell_type": "markdown",
   "metadata": {},
   "source": [
    "Here we implement the Newton's method in higher dimension in a widget.\n",
    "Most of the code is for plotting and showing the outcome, but the core, i.e. the Newton steps, is just 1 line of code!"
   ]
  },
  {
   "cell_type": "code",
   "execution_count": 7,
   "metadata": {},
   "outputs": [],
   "source": [
    "def Show_Newton(x0=1.2,y0=0.3,n=0):\n",
    "    plt.figure()\n",
    "    CS1 = plt.contour(X, Y, Z1,levels=[0])\n",
    "    CS2 = plt.contour(X, Y, Z2,levels=[0])\n",
    "    plt.grid()\n",
    "    plt.axis('equal')\n",
    "    plt.title(r'Newton $\\mathbb{R}^n$')\n",
    "    plt.plot(x0,y0,'rx')\n",
    "    x_previous = np.array([x0,y0])\n",
    "    print('Initial guess: [%.10f, %.10f]' % (x0,y0))\n",
    "    for i in np.arange(n):\n",
    "        x_next=NewtonStep(x_previous)\n",
    "        x1,y1 = x_next\n",
    "        plt.plot(x1,y1,'rx')\n",
    "        plt.plot([x0, x1],[y0, y1],'r')\n",
    "        x0=x1\n",
    "        y0=y1\n",
    "        x_previous = x_next\n",
    "        print('Iteration %d  : [%.10f, %.10f]' % (i+1,x1,y1))\n",
    "    plt.show()"
   ]
  },
  {
   "cell_type": "code",
   "execution_count": 8,
   "metadata": {
    "scrolled": false
   },
   "outputs": [
    {
     "data": {
      "application/vnd.jupyter.widget-view+json": {
       "model_id": "298baab89b9b46a08b7b6a55f41e8a75",
       "version_major": 2,
       "version_minor": 0
      },
      "text/plain": [
       "interactive(children=(FloatSlider(value=1.2, description='x0', max=1.4, min=-1.4), FloatSlider(value=0.3, desc…"
      ]
     },
     "metadata": {},
     "output_type": "display_data"
    },
    {
     "data": {
      "text/plain": [
       "<function __main__.Show_Newton(x0=1.2, y0=0.3, n=0)>"
      ]
     },
     "execution_count": 8,
     "metadata": {},
     "output_type": "execute_result"
    }
   ],
   "source": [
    "interact(Show_Newton,x0=(-1.4,1.4,0.1),y0=(-1.4,1.4,0.1), n=(0,100,1))"
   ]
  },
  {
   "cell_type": "markdown",
   "metadata": {},
   "source": [
    "<a id=\"py\"></a>\n",
    "\n",
    "## Python Modules and Functions\n",
    "[Back to TOC](#toc)"
   ]
  },
  {
   "cell_type": "markdown",
   "metadata": {},
   "source": [
    "**Newton's method**:\n",
    "Here is the reference to the Newton's Method in Scipy, I suggest to take a look!\n",
    "\n",
    "https://docs.scipy.org/doc/scipy/reference/generated/scipy.optimize.newton.html\n",
    "\n",
    "**Broyden**:\n",
    "An alternative method is the Bryden's method. The Broyden's method is analogous to the Secant method in 1D, this means that we replace the approximation of the 'derivate' (which is actually the Jacobian matrix) for an approximation.\n",
    "\n",
    "https://docs.scipy.org/doc/scipy/reference/generated/scipy.optimize.broyden1.html#scipy.optimize.broyden1\n",
    "https://docs.scipy.org/doc/scipy/reference/generated/scipy.optimize.broyden2.html#scipy.optimize.broyden2\n",
    "\n",
    "**Minimization**:\n",
    "This is an alternative path for solving a square nonlinear system of equations, recall that if there exists a solution to a nonlinear system of equation, it means that there exists a vector $\\mathbf{r}$ such that $\\mathbf{F}(\\mathbf{r})=\\mathbf{0}$. \n",
    "So, this will be equivalent to finding the minimum of the following function $g(\\mathbf{x})=\\|\\mathbf{F}(\\mathbf{x})\\|$. \n",
    "Thus, we could tackle this problen then as a minimization of $g(\\mathbf{x})$.\n",
    "It depends on the context if this will be useful or not!\n",
    "But it is important to know this is an alternative.\n",
    "\n",
    "https://docs.scipy.org/doc/scipy/reference/optimize.html"
   ]
  },
  {
   "cell_type": "markdown",
   "metadata": {},
   "source": [
    "<a id=\"acknowledgements\"></a>\n",
    "\n",
    "# Acknowledgements\n",
    "[Back to TOC](#toc)\n",
    "* _Material created by professor Claudio Torres_ (`ctorres@inf.utfsm.cl`). DI UTFSM. April 2018._\n",
    "* _Update June 2020 - v1.15 - C.Torres_ : Fixing formatting issues.\n",
    "* _Update May 2021 - v1.02 - C.Torres_ : Fixing formatting issues. Adding link to toc.\n",
    "* _Update May 2021 - v1.03 - C.Torres_ : Improving implementation usign vectorization. Adding comments in the 'Python Modules and Functions' section.\n",
    "* _Update May 2021 - v1.04 - C.Torres_ : Bug found by Jorge Sanhueza Céspedes in function 'Show_Newton', it was missing the line 'x_previous = x_next'. Thanks Jorge! We also updated the way the iteration umber is showed, basically we added +1 to the iterator 'i' in the 'print' function.\n",
    "* _Update October 2021 - v1.05 - C.Torres_ : Fixing deprecated option np.float and replaceing it by float.\n",
    "* _Update April 2024 - v1.06 - C.Torres_ : Adding the mathematical initial notation and context.\n",
    "* _Update September 2024 - v1.07 - C.Torres_ : Changing from mathbb to mathbf at the very beginning.\n",
    "* _Update March 2025 - v1.08 - C.Torres_ : Adding Colab link.\n",
    "* _Update September 2025 - v1.09 - C.Torres_ : Adding Colab requirements, fixing anchors and updating title."
   ]
  },
  {
   "cell_type": "code",
   "execution_count": null,
   "metadata": {},
   "outputs": [],
   "source": []
  }
 ],
 "metadata": {
  "kernelspec": {
   "display_name": "base",
   "language": "python",
   "name": "python3"
  },
  "language_info": {
   "codemirror_mode": {
    "name": "ipython",
    "version": 3
   },
   "file_extension": ".py",
   "mimetype": "text/x-python",
   "name": "python",
   "nbconvert_exporter": "python",
   "pygments_lexer": "ipython3",
   "version": "3.13.5"
  }
 },
 "nbformat": 4,
 "nbformat_minor": 4
}
