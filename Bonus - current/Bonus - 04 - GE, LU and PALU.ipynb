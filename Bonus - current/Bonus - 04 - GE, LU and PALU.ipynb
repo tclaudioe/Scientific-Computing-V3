{
 "cells": [
  {
   "cell_type": "markdown",
   "metadata": {},
   "source": [
    "![UTFSM](https://github.com/tclaudioe/Scientific-Computing-V3/blob/main/images/Departamento%20de%20Inform%C3%A1tica%20cromatica%20negra%404x-8.png?raw=true)\n",
    "# INF-285 - Computación Científica\n",
    "## Gaussian Elimination, LU and PALU\n",
    "## Version: 1.07\n",
    "\n",
    "[![Open In Colab](https://colab.research.google.com/assets/colab-badge.svg)](https://colab.research.google.com/github/tclaudioe/Scientific-Computing-V3/blob/main/Bonus%20-%20current/Bonus%20-%2004%20-%20GE%2C%20LU%20and%20PALU.ipynb)"
   ]
  },
  {
   "cell_type": "markdown",
   "metadata": {},
   "source": [
    "<a id=\"toc\"></a>\n",
    "\n",
    "## Table of Contents\n",
    "* [Introduction](#introduction)\n",
    "* [GE](#ge)\n",
    "    * [Row Operations](#rowope)\n",
    "    * [Solving a linear system of equations with GE](#solvingwithge)\n",
    "* [From GE to LU](#fromGEtoLU)\n",
    "* [Numerical LU factorization](#lu)\n",
    "    * [Solving a linear system of equation with the Numerical LU Factorization](#luls)\n",
    "* [PALU factorization](#palu)\n",
    "* [Acknowledgements](#acknowledgements)\n",
    "* [BONUS: Computing time for a FLOP](#bonus)"
   ]
  },
  {
   "cell_type": "code",
   "execution_count": 134,
   "metadata": {},
   "outputs": [
    {
     "name": "stdout",
     "output_type": "stream",
     "text": [
      "numpy is already installed.\n",
      "scipy is already installed.\n",
      "matplotlib is already installed.\n",
      "colorama is already installed.\n",
      "bitstring is already installed.\n",
      "sympy is already installed.\n",
      "ipywidgets is already installed.\n",
      "pandas is already installed.\n",
      "Running on local environment\n"
     ]
    }
   ],
   "source": [
    "##########################\n",
    "# CoLab requirements\n",
    "# https://stackoverflow.com/questions/44210656/how-to-check-if-a-module-is-installed-in-python-and-if-not-install-it-within-t\n",
    "##########################\n",
    "\n",
    "# https://pypi.org/project/colorama/\n",
    "\n",
    "import importlib.util\n",
    "import sys\n",
    "import subprocess\n",
    "import os\n",
    "    \n",
    "# install_colab_requirements \n",
    "libraries = ['numpy', 'scipy', 'matplotlib', 'colorama', \n",
    "            'bitstring', 'sympy', 'ipywidgets','pandas']\n",
    "\n",
    "for library in libraries:\n",
    "    # Check if the library is already installed\n",
    "    if importlib.util.find_spec(library) is not None:\n",
    "        print(f\"{library} is already installed.\")\n",
    "    else:\n",
    "        print(f\"{library} is not installed. Installing...\")\n",
    "        # Install the library using pip\n",
    "        subprocess.check_call([sys.executable, \"-m\", \"pip\", \"install\", library])\n",
    "        print(f\"{library} has been installed.\")\n",
    "# https://stackoverflow.com/questions/53581278/test-if-notebook-is-running-on-google-colab\n",
    "if os.getenv(\"COLAB_RELEASE_TAG\"):\n",
    "    print('Installing LaTeX support in CoLab')\n",
    "    # Adding LaTeX dependencies to CoLab: https://stackoverflow.com/questions/55746749/latex-equations-do-not-render-in-google-colaboratory-when-using-matplotlib\n",
    "    !sudo apt install cm-super dvipng texlive-latex-extra texlive-latex-recommended\n",
    "else:\n",
    "   print('Running on local environment')"
   ]
  },
  {
   "cell_type": "code",
   "execution_count": 135,
   "metadata": {},
   "outputs": [],
   "source": [
    "import numpy as np\n",
    "import matplotlib.pyplot as plt\n",
    "from scipy.linalg import lu\n",
    "import pandas as pd\n",
    "%matplotlib inline\n",
    "from scipy.linalg import hilbert\n",
    "import sympy as sym\n",
    "\n",
    "a11,a12,a21,a22,a13,a23,a31,a32,a33 = sym.symbols(\"a11,a12,a21,a22,a13,a23,a31,a32,a33\")\n",
    "b1,b2,b3 = sym.symbols(\"b1,b2,b3\")\n",
    "x1,x2,x3 = sym.symbols(\"x1,x2,x3\")\n",
    "u11,u12,u13,u22,u23,u33 = sym.symbols(\"u11,u12,u13,u22,u23,u33\")\n",
    "c1,c2,c3 = sym.symbols(\"c1,c2,c3\")\n",
    "l1,l2,l3 = sym.symbols(\"l1,l2,l3\")\n",
    "sym.init_printing(use_unicode=True)\n",
    "\n",
    "from colorama import Fore, Back, Style\n",
    "# https://pypi.org/project/colorama/\n",
    "# conda install -c anaconda colorama\n",
    "# Fore: BLACK, RED, GREEN, YELLOW, BLUE, MAGENTA, CYAN, WHITE, RESET.\n",
    "# Back: BLACK, RED, GREEN, YELLOW, BLUE, MAGENTA, CYAN, WHITE, RESET.\n",
    "# Style: DIM, NORMAL, BRIGHT, RESET_ALL\n",
    "textBold = lambda x: Style.BRIGHT+x+Style.RESET_ALL\n",
    "textBoldH = lambda x: Style.BRIGHT+x+Style.RESET_ALL\n",
    "\n",
    "import matplotlib # type: ignore\n",
    "FS = 14\n",
    "matplotlib.rc('xtick', labelsize=FS)\n",
    "matplotlib.rc('ytick', labelsize=FS)\n",
    "plt.rcParams.update({\n",
    "    'font.size': FS,\n",
    "    'text.usetex': True,\n",
    "    'font.family': 'sans-serif',\n",
    "    'font.sans-serif': 'Helvetica',\n",
    "    'text.latex.preamble': r'\\usepackage{amsfonts}\\usepackage{amsmath}'\n",
    "})"
   ]
  },
  {
   "cell_type": "markdown",
   "metadata": {},
   "source": [
    "<a id=\"intro\"></a>\n",
    "\n",
    "## Introduction\n",
    "[Back to TOC](#toc)\n",
    "\n",
    "In this Jupyter Notebook we will learn about Gaussian Elimination (GE), LU and PALU.\n",
    "\n",
    "**WARNING: Please make sure you execute the cells from top to botton and avoid executing the same cell twice because you may encounter some problems. For instance, we sometimes add a column or remove a column from a matrix, so if you exceute twice that cell, it will remove or add extra columns, which may make the code fail.**"
   ]
  },
  {
   "cell_type": "markdown",
   "metadata": {},
   "source": [
    "<a id=\"ge\"></a>\n",
    "\n",
    "# Gaussian Elimination (GE)\n",
    "[Back to TOC](#toc)\n",
    "\n",
    "The probably first algorithm that one studies to find an inverse of a matrix or to solve a linear system of equations is the Gaussian Elimination.\n",
    "This algorithm has the advantage that it is more or less direct to understand.\n",
    "\n",
    "Note that in the **classnotes** we have put _**a lot**_ of emphasis into hightlight that it is not needed to compute the inverse of a matrix to solve a linear system of equations.\n",
    "Now, we will show that we don't need to compute the inverse of a matrix to solve a linear system of equations.\n",
    "But before, we will review how to perform a **row** operation."
   ]
  },
  {
   "cell_type": "markdown",
   "metadata": {},
   "source": [
    "<a id=\"rowope\"></a>\n",
    "\n",
    "## Row operations\n",
    "[Back to TOC](#toc)\n",
    "\n",
    "The simplest case one can use a **row operation** is in a $2\\times 2$ matrix, say $A=\\begin{bmatrix} a_{11} & a_{12}\\\\ a_{21} & a_{22} \\end{bmatrix}=\\begin{bmatrix}\n",
    "R_1 \\\\ R_2\\end{bmatrix}$, where $R_1$ and $R_2$ represent the first and second rows, respectively.\n",
    "For instance, if we want to make $0$ the first coefficient of the second row, we could perform the following row operation:\n",
    "$$\n",
    "R_2 = R_2-\\dfrac{a_{21}}{a_{11}}\\,R_1,\n",
    "$$\n",
    "which is interpreted as: **Multiply row $R_1$ by the coefficient $\\dfrac{a_{21}}{a_{11}}$ and substract it from row $R_2$**, this implies that the row $R_2$ gets modified.\n",
    "\n",
    "_Note: The previous expression only makes sense in a Computational context, because we are assigning a value to the left. On the other hand, this can't be interpreted as an equation, otherwise we would cancel out $R_2$, which does not make sense!_"
   ]
  },
  {
   "cell_type": "code",
   "execution_count": 187,
   "metadata": {},
   "outputs": [
    {
     "data": {
      "image/png": "[encoded data removed]",
      "text/latex": [
       "$\\displaystyle \\left[\\begin{matrix}a_{11} & a_{12}\\\\a_{21} & a_{22}\\end{matrix}\\right]$"
      ],
      "text/plain": [
       "⎡a₁₁  a₁₂⎤\n",
       "⎢        ⎥\n",
       "⎣a₂₁  a₂₂⎦"
      ]
     },
     "metadata": {},
     "output_type": "display_data"
    }
   ],
   "source": [
    "# We define the \"symbolic\" matrix \"A\"\n",
    "A=sym.Matrix([[a11, a12], [a21, a22]])\n",
    "display(A)"
   ]
  },
  {
   "cell_type": "code",
   "execution_count": 188,
   "metadata": {},
   "outputs": [
    {
     "data": {
      "image/png": "[encoded data removed]",
      "text/latex": [
       "$\\displaystyle \\left[\\begin{matrix}a_{11} & a_{12}\\\\0 & a_{22} - \\frac{a_{12} a_{21}}{a_{11}}\\end{matrix}\\right]$"
      ],
      "text/plain": [
       "⎡a₁₁       a₁₂     ⎤\n",
       "⎢                  ⎥\n",
       "⎢           a₁₂⋅a₂₁⎥\n",
       "⎢ 0   a₂₂ - ───────⎥\n",
       "⎣             a₁₁  ⎦"
      ]
     },
     "metadata": {},
     "output_type": "display_data"
    }
   ],
   "source": [
    "# We repeat the definition of \"A\" here to avoid errors\n",
    "A=sym.Matrix([[a11, a12], [a21, a22]])\n",
    "# Computing \"row operation\"\n",
    "############################\n",
    "# NOTE: This code is needed to perform the row\n",
    "# operation in sympy.\n",
    "R2new = A.row(1)-(a21/a11)*A.row(0)\n",
    "A.row_del(1)\n",
    "A = A.row_insert(1,R2new)\n",
    "############################\n",
    "# Showing the final output\n",
    "display(A)"
   ]
  },
  {
   "cell_type": "markdown",
   "metadata": {},
   "source": [
    "An alternative way to perform the row operation is by doing it with a matrix-matrix multiplication, this means,"
   ]
  },
  {
   "cell_type": "code",
   "execution_count": 189,
   "metadata": {},
   "outputs": [
    {
     "data": {
      "image/png": "[encoded data removed]",
      "text/latex": [
       "$\\displaystyle \\left[\\begin{matrix}1 & 0\\\\- \\frac{a_{21}}{a_{11}} & 1\\end{matrix}\\right]$"
      ],
      "text/plain": [
       "⎡  1    0⎤\n",
       "⎢        ⎥\n",
       "⎢-a₂₁    ⎥\n",
       "⎢─────  1⎥\n",
       "⎣ a₁₁    ⎦"
      ]
     },
     "metadata": {},
     "output_type": "display_data"
    }
   ],
   "source": [
    "# We repeat the definition of \"A\" here to avoid errors\n",
    "A=sym.Matrix([[a11, a12], [a21, a22]])\n",
    "# Note that the matrix Lij correspond the \"row operation\" to\n",
    "# make zero the coefficient at Aij, where we start\n",
    "# indexing the rows and columns from 0.\n",
    "# NOTE: This notation is used in the \"classnotes\".\n",
    "L10 = sym.Matrix([[1, 0], [-a21/a11, 1]])\n",
    "display(L10)"
   ]
  },
  {
   "cell_type": "code",
   "execution_count": 190,
   "metadata": {},
   "outputs": [
    {
     "data": {
      "image/png": "[encoded data removed]",
      "text/latex": [
       "$\\displaystyle \\left[\\begin{matrix}a_{11} & a_{12}\\\\0 & a_{22} - \\frac{a_{12} a_{21}}{a_{11}}\\end{matrix}\\right]$"
      ],
      "text/plain": [
       "⎡a₁₁       a₁₂     ⎤\n",
       "⎢                  ⎥\n",
       "⎢           a₁₂⋅a₂₁⎥\n",
       "⎢ 0   a₂₂ - ───────⎥\n",
       "⎣             a₁₁  ⎦"
      ]
     },
     "metadata": {},
     "output_type": "display_data"
    }
   ],
   "source": [
    "# Performing the *row* operation and showing the outcome\n",
    "A=sym.Matrix([[a11, a12], [a21, a22]]) # Repeting the definition to avoid errors\n",
    "A = L10*A\n",
    "display(A)"
   ]
  },
  {
   "cell_type": "markdown",
   "metadata": {},
   "source": [
    "In general, the same procedure applies for larger matrices, for instance, for a $3\\times 3$ matrix.\n",
    "Let's take a look to it."
   ]
  },
  {
   "cell_type": "code",
   "execution_count": 191,
   "metadata": {},
   "outputs": [
    {
     "data": {
      "image/png": "[encoded data removed]",
      "text/latex": [
       "$\\displaystyle \\left[\\begin{matrix}a_{11} & a_{12} & a_{13}\\\\a_{21} & a_{22} & a_{23}\\\\a_{31} & a_{32} & a_{33}\\end{matrix}\\right]$"
      ],
      "text/plain": [
       "⎡a₁₁  a₁₂  a₁₃⎤\n",
       "⎢             ⎥\n",
       "⎢a₂₁  a₂₂  a₂₃⎥\n",
       "⎢             ⎥\n",
       "⎣a₃₁  a₃₂  a₃₃⎦"
      ]
     },
     "metadata": {},
     "output_type": "display_data"
    }
   ],
   "source": [
    "A=sym.Matrix([[a11, a12, a13], [a21, a22, a23], [a31, a32, a33]])\n",
    "display(A)"
   ]
  },
  {
   "cell_type": "markdown",
   "metadata": {},
   "source": [
    "Now, let us compute the first two **row** operations a make zero the first coefficient of the second and third row."
   ]
  },
  {
   "cell_type": "code",
   "execution_count": 192,
   "metadata": {},
   "outputs": [
    {
     "name": "stdout",
     "output_type": "stream",
     "text": [
      "\u001b[1mL10:\u001b[0m\n"
     ]
    },
    {
     "data": {
      "image/png": "[encoded data removed]",
      "text/latex": [
       "$\\displaystyle \\left[\\begin{matrix}1 & 0 & 0\\\\- \\frac{a_{21}}{a_{11}} & 1 & 0\\\\0 & 0 & 1\\end{matrix}\\right]$"
      ],
      "text/plain": [
       "⎡  1    0  0⎤\n",
       "⎢           ⎥\n",
       "⎢-a₂₁       ⎥\n",
       "⎢─────  1  0⎥\n",
       "⎢ a₁₁       ⎥\n",
       "⎢           ⎥\n",
       "⎣  0    0  1⎦"
      ]
     },
     "metadata": {},
     "output_type": "display_data"
    },
    {
     "name": "stdout",
     "output_type": "stream",
     "text": [
      "\u001b[1mL20:\u001b[0m\n"
     ]
    },
    {
     "data": {
      "image/png": "[encoded data removed]",
      "text/latex": [
       "$\\displaystyle \\left[\\begin{matrix}1 & 0 & 0\\\\0 & 1 & 0\\\\- \\frac{a_{31}}{a_{11}} & 0 & 1\\end{matrix}\\right]$"
      ],
      "text/plain": [
       "⎡  1    0  0⎤\n",
       "⎢           ⎥\n",
       "⎢  0    1  0⎥\n",
       "⎢           ⎥\n",
       "⎢-a₃₁       ⎥\n",
       "⎢─────  0  1⎥\n",
       "⎣ a₁₁       ⎦"
      ]
     },
     "metadata": {},
     "output_type": "display_data"
    },
    {
     "name": "stdout",
     "output_type": "stream",
     "text": [
      "\u001b[1mWe see now that the first coefficients for the second and third row are 0\u001b[0m\n"
     ]
    },
    {
     "data": {
      "image/png": "[encoded data removed]",
      "text/latex": [
       "$\\displaystyle \\left[\\begin{matrix}a_{11} & a_{12} & a_{13}\\\\0 & a_{22} - \\frac{a_{12} a_{21}}{a_{11}} & a_{23} - \\frac{a_{13} a_{21}}{a_{11}}\\\\0 & a_{32} - \\frac{a_{12} a_{31}}{a_{11}} & a_{33} - \\frac{a_{13} a_{31}}{a_{11}}\\end{matrix}\\right]$"
      ],
      "text/plain": [
       "⎡a₁₁       a₁₂            a₁₃     ⎤\n",
       "⎢                                 ⎥\n",
       "⎢           a₁₂⋅a₂₁        a₁₃⋅a₂₁⎥\n",
       "⎢ 0   a₂₂ - ───────  a₂₃ - ───────⎥\n",
       "⎢             a₁₁            a₁₁  ⎥\n",
       "⎢                                 ⎥\n",
       "⎢           a₁₂⋅a₃₁        a₁₃⋅a₃₁⎥\n",
       "⎢ 0   a₃₂ - ───────  a₃₃ - ───────⎥\n",
       "⎣             a₁₁            a₁₁  ⎦"
      ]
     },
     "metadata": {},
     "output_type": "display_data"
    }
   ],
   "source": [
    "A=sym.Matrix([[a11, a12, a13], [a21, a22, a23], [a31, a32, a33]])\n",
    "L10 = sym.eye(3)\n",
    "L10[1,0] = -a21/a11\n",
    "print(textBoldH('L10:'))\n",
    "display(L10)\n",
    "L20 = sym.eye(3)\n",
    "L20[2,0] = -a31/a11\n",
    "print(textBoldH('L20:'))\n",
    "display(L20)\n",
    "\n",
    "# Applying the \"row\" operations\n",
    "A = L20*L10*A\n",
    "print(textBoldH('We see now that the first coefficients for the second and third row are 0'))\n",
    "display(A)"
   ]
  },
  {
   "cell_type": "markdown",
   "metadata": {},
   "source": [
    "Now, it only remains to make $0$ the third coefficient of the second column.\n",
    "**It is important to highlight that we can't define in advance the matrix $L_{2,1}$ since we don't know the coefficients we will get for the second and third rows of the second column.**\n",
    "Therefore, now that we know the coefficients, we can build the corresponding **row operation** as follows,"
   ]
  },
  {
   "cell_type": "code",
   "execution_count": 203,
   "metadata": {},
   "outputs": [
    {
     "data": {
      "image/png": "[encoded data removed]",
      "text/latex": [
       "$\\displaystyle \\left[\\begin{matrix}1 & 0 & 0\\\\0 & 1 & 0\\\\0 & - \\frac{a_{32}}{a_{22}} & 1\\end{matrix}\\right]$"
      ],
      "text/plain": [
       "⎡1    0    0⎤\n",
       "⎢           ⎥\n",
       "⎢0    1    0⎥\n",
       "⎢           ⎥\n",
       "⎢   -a₃₂    ⎥\n",
       "⎢0  ─────  1⎥\n",
       "⎣    a₂₂    ⎦"
      ]
     },
     "metadata": {},
     "output_type": "display_data"
    }
   ],
   "source": [
    "L21 = sym.eye(3)\n",
    "L21[2,1] = -A[2,1]/A[1,1] # type: ignore\n",
    "display(L21)"
   ]
  },
  {
   "cell_type": "markdown",
   "metadata": {},
   "source": [
    "Now, we compute the product.\n",
    "**Notice that the cells involved in this computation need to be executed in order, if they are ejecuted twice for instance, they will apply the computation twice and this may induce an unintended behavior**."
   ]
  },
  {
   "cell_type": "code",
   "execution_count": 194,
   "metadata": {},
   "outputs": [
    {
     "data": {
      "image/png": "[encoded data removed]",
      "text/latex": [
       "$\\displaystyle \\left[\\begin{matrix}a_{11} & a_{12} & a_{13}\\\\0 & a_{22} - \\frac{a_{12} a_{21}}{a_{11}} & a_{23} - \\frac{a_{13} a_{21}}{a_{11}}\\\\0 & 0 & a_{33} + \\frac{\\left(a_{23} - \\frac{a_{13} a_{21}}{a_{11}}\\right) \\left(- a_{32} + \\frac{a_{12} a_{31}}{a_{11}}\\right)}{a_{22} - \\frac{a_{12} a_{21}}{a_{11}}} - \\frac{a_{13} a_{31}}{a_{11}}\\end{matrix}\\right]$"
      ],
      "text/plain": [
       "⎡a₁₁       a₁₂                             a₁₃                       ⎤\n",
       "⎢                                                                    ⎥\n",
       "⎢           a₁₂⋅a₂₁                         a₁₃⋅a₂₁                  ⎥\n",
       "⎢ 0   a₂₂ - ───────                   a₂₃ - ───────                  ⎥\n",
       "⎢             a₁₁                             a₁₁                    ⎥\n",
       "⎢                                                                    ⎥\n",
       "⎢                          ⎛      a₁₃⋅a₂₁⎞ ⎛       a₁₂⋅a₃₁⎞          ⎥\n",
       "⎢                          ⎜a₂₃ - ───────⎟⋅⎜-a₃₂ + ───────⎟          ⎥\n",
       "⎢                          ⎝        a₁₁  ⎠ ⎝         a₁₁  ⎠   a₁₃⋅a₃₁⎥\n",
       "⎢ 0         0        a₃₃ + ──────────────────────────────── - ───────⎥\n",
       "⎢                                         a₁₂⋅a₂₁               a₁₁  ⎥\n",
       "⎢                                   a₂₂ - ───────                    ⎥\n",
       "⎣                                           a₁₁                      ⎦"
      ]
     },
     "metadata": {},
     "output_type": "display_data"
    }
   ],
   "source": [
    "A=L21*A\n",
    "display(A)"
   ]
  },
  {
   "cell_type": "markdown",
   "metadata": {},
   "source": [
    "Finally, we can conclude that the **row operations** used helped us to make the original matrix $A$ into its **upper triangular** form!"
   ]
  },
  {
   "cell_type": "markdown",
   "metadata": {},
   "source": [
    "<a id=\"solvingwithge\"></a>\n",
    "\n",
    "## Solving a linear system of equations with GE\n",
    "[Back to TOC](#toc)\n",
    "\n",
    "In this case, consider we have the following linear system of equations:\n",
    "$$\n",
    "\\underbrace{\\begin{bmatrix}\n",
    "    a_{11} & a_{12} & a_{13}\\\\\n",
    "    a_{21} & a_{22} & a_{23}\\\\\n",
    "    a_{31} & a_{32} & a_{33}\n",
    "\\end{bmatrix}}_{\\displaystyle{A}}\n",
    "\\underbrace{\\begin{bmatrix}\n",
    "    x_1\\\\\n",
    "    x_2\\\\\n",
    "    x_3\n",
    "\\end{bmatrix}}_{\\displaystyle{\\mathbf{x}}}\n",
    "=\n",
    "\\underbrace{\\begin{bmatrix}\n",
    "    b_1\\\\\n",
    "    b_2\\\\\n",
    "    b_3\n",
    "\\end{bmatrix}}_{\\displaystyle{\\mathbf{b}}}.\n",
    "$$\n",
    "\n",
    "Or in explicit form,"
   ]
  },
  {
   "cell_type": "code",
   "execution_count": 195,
   "metadata": {},
   "outputs": [
    {
     "data": {
      "image/png": "[encoded data removed]",
      "text/latex": [
       "$\\displaystyle \\text{True}$"
      ],
      "text/plain": [
       "True"
      ]
     },
     "metadata": {},
     "output_type": "display_data"
    },
    {
     "data": {
      "image/png": "[encoded data removed]",
      "text/latex": [
       "$\\displaystyle \\frac{a_{22} \\left(b_{2} - \\frac{\\left(a_{23} - \\frac{a_{13} a_{21}}{a_{11}}\\right) \\left(b_{3} + \\frac{\\left(- a_{32} + \\frac{a_{12} a_{31}}{a_{11}}\\right) \\left(b_{2} - \\frac{a_{21} b_{1}}{a_{11}}\\right)}{a_{22} - \\frac{a_{12} a_{21}}{a_{11}}} - \\frac{a_{31} b_{1}}{a_{11}}\\right)}{a_{33} + \\frac{\\left(a_{23} - \\frac{a_{13} a_{21}}{a_{11}}\\right) \\left(- a_{32} + \\frac{a_{12} a_{31}}{a_{11}}\\right)}{a_{22} - \\frac{a_{12} a_{21}}{a_{11}}} - \\frac{a_{13} a_{31}}{a_{11}}} - \\frac{a_{21} b_{1}}{a_{11}}\\right)}{a_{22} - \\frac{a_{12} a_{21}}{a_{11}}} + \\frac{a_{23} \\left(b_{3} + \\frac{\\left(- a_{32} + \\frac{a_{12} a_{31}}{a_{11}}\\right) \\left(b_{2} - \\frac{a_{21} b_{1}}{a_{11}}\\right)}{a_{22} - \\frac{a_{12} a_{21}}{a_{11}}} - \\frac{a_{31} b_{1}}{a_{11}}\\right)}{a_{33} + \\frac{\\left(a_{23} - \\frac{a_{13} a_{21}}{a_{11}}\\right) \\left(- a_{32} + \\frac{a_{12} a_{31}}{a_{11}}\\right)}{a_{22} - \\frac{a_{12} a_{21}}{a_{11}}} - \\frac{a_{13} a_{31}}{a_{11}}} + \\frac{a_{21} \\left(- \\frac{a_{12} \\left(b_{2} - \\frac{\\left(a_{23} - \\frac{a_{13} a_{21}}{a_{11}}\\right) \\left(b_{3} + \\frac{\\left(- a_{32} + \\frac{a_{12} a_{31}}{a_{11}}\\right) \\left(b_{2} - \\frac{a_{21} b_{1}}{a_{11}}\\right)}{a_{22} - \\frac{a_{12} a_{21}}{a_{11}}} - \\frac{a_{31} b_{1}}{a_{11}}\\right)}{a_{33} + \\frac{\\left(a_{23} - \\frac{a_{13} a_{21}}{a_{11}}\\right) \\left(- a_{32} + \\frac{a_{12} a_{31}}{a_{11}}\\right)}{a_{22} - \\frac{a_{12} a_{21}}{a_{11}}} - \\frac{a_{13} a_{31}}{a_{11}}} - \\frac{a_{21} b_{1}}{a_{11}}\\right)}{a_{22} - \\frac{a_{12} a_{21}}{a_{11}}} - \\frac{a_{13} \\left(b_{3} + \\frac{\\left(- a_{32} + \\frac{a_{12} a_{31}}{a_{11}}\\right) \\left(b_{2} - \\frac{a_{21} b_{1}}{a_{11}}\\right)}{a_{22} - \\frac{a_{12} a_{21}}{a_{11}}} - \\frac{a_{31} b_{1}}{a_{11}}\\right)}{a_{33} + \\frac{\\left(a_{23} - \\frac{a_{13} a_{21}}{a_{11}}\\right) \\left(- a_{32} + \\frac{a_{12} a_{31}}{a_{11}}\\right)}{a_{22} - \\frac{a_{12} a_{21}}{a_{11}}} - \\frac{a_{13} a_{31}}{a_{11}}} + b_{1}\\right)}{a_{11}} = b_{2}$"
      ],
      "text/plain": [
       "                                                                               ↪\n",
       "                                                                               ↪\n",
       "                                                                               ↪\n",
       "                                                                               ↪\n",
       "                                                                               ↪\n",
       "                                                                               ↪\n",
       "                                                                               ↪\n",
       "                                                                               ↪\n",
       "    ⎛                     ⎛     ⎛       a₁₂⋅a₃₁⎞ ⎛     a₂₁⋅b₁⎞         ⎞       ↪\n",
       "    ⎜                     ⎜     ⎜-a₃₂ + ───────⎟⋅⎜b₂ - ──────⎟         ⎟       ↪\n",
       "    ⎜     ⎛      a₁₃⋅a₂₁⎞ ⎜     ⎝         a₁₁  ⎠ ⎝      a₁₁  ⎠   a₃₁⋅b₁⎟       ↪\n",
       "    ⎜     ⎜a₂₃ - ───────⎟⋅⎜b₃ + ────────────────────────────── - ──────⎟       ↪\n",
       "    ⎜     ⎝        a₁₁  ⎠ ⎜                   a₁₂⋅a₂₁             a₁₁  ⎟       ↪\n",
       "    ⎜                     ⎜             a₂₂ - ───────                  ⎟       ↪\n",
       "    ⎜                     ⎝                     a₁₁                    ⎠   a₂₁ ↪\n",
       "a₂₂⋅⎜b₂ - ────────────────────────────────────────────────────────────── - ─── ↪\n",
       "    ⎜                  ⎛      a₁₃⋅a₂₁⎞ ⎛       a₁₂⋅a₃₁⎞                     a₁ ↪\n",
       "    ⎜                  ⎜a₂₃ - ───────⎟⋅⎜-a₃₂ + ───────⎟                        ↪\n",
       "    ⎜                  ⎝        a₁₁  ⎠ ⎝         a₁₁  ⎠   a₁₃⋅a₃₁              ↪\n",
       "    ⎜            a₃₃ + ──────────────────────────────── - ───────              ↪\n",
       "    ⎜                                 a₁₂⋅a₂₁               a₁₁                ↪\n",
       "    ⎜                           a₂₂ - ───────                                  ↪\n",
       "    ⎝                                   a₁₁                                    ↪\n",
       "────────────────────────────────────────────────────────────────────────────── ↪\n",
       "                                        a₁₂⋅a₂₁                                ↪\n",
       "                                  a₂₂ - ───────                                ↪\n",
       "                                          a₁₁                                  ↪\n",
       "                                                                               ↪\n",
       "                                                                               ↪\n",
       "                                                                               ↪\n",
       "                                                                               ↪\n",
       "\n",
       "↪                                                                 ⎛      ⎛     ↪\n",
       "↪                                                                 ⎜      ⎜     ↪\n",
       "↪                                                                 ⎜      ⎜     ↪\n",
       "↪                                                                 ⎜      ⎜     ↪\n",
       "↪                                                                 ⎜      ⎜     ↪\n",
       "↪                                                                 ⎜      ⎜     ↪\n",
       "↪                                                                 ⎜      ⎜     ↪\n",
       "↪                                                                 ⎜  a₁₂⋅⎜b₂ - ↪\n",
       "↪    ⎞                                                            ⎜      ⎜     ↪\n",
       "↪    ⎟                                                            ⎜      ⎜     ↪\n",
       "↪    ⎟                                                            ⎜      ⎜     ↪\n",
       "↪    ⎟                                                            ⎜      ⎜     ↪\n",
       "↪    ⎟                                                            ⎜      ⎜     ↪\n",
       "↪    ⎟                                                            ⎜      ⎜     ↪\n",
       "↪ ⋅b₁⎟                                                            ⎜      ⎝     ↪\n",
       "↪ ───⎟                                                        a₂₁⋅⎜- ───────── ↪\n",
       "↪ ₁  ⎟       ⎛     ⎛       a₁₂⋅a₃₁⎞ ⎛     a₂₁⋅b₁⎞         ⎞       ⎜            ↪\n",
       "↪    ⎟       ⎜     ⎜-a₃₂ + ───────⎟⋅⎜b₂ - ──────⎟         ⎟       ⎜            ↪\n",
       "↪    ⎟       ⎜     ⎝         a₁₁  ⎠ ⎝      a₁₁  ⎠   a₃₁⋅b₁⎟       ⎜            ↪\n",
       "↪    ⎟   a₂₃⋅⎜b₃ + ────────────────────────────── - ──────⎟       ⎜            ↪\n",
       "↪    ⎟       ⎜                   a₁₂⋅a₂₁             a₁₁  ⎟       ⎜            ↪\n",
       "↪    ⎟       ⎜             a₂₂ - ───────                  ⎟       ⎜            ↪\n",
       "↪    ⎠       ⎝                     a₁₁                    ⎠       ⎝            ↪\n",
       "↪ ──── + ────────────────────────────────────────────────── + ──────────────── ↪\n",
       "↪               ⎛      a₁₃⋅a₂₁⎞ ⎛       a₁₂⋅a₃₁⎞                               ↪\n",
       "↪               ⎜a₂₃ - ───────⎟⋅⎜-a₃₂ + ───────⎟                               ↪\n",
       "↪               ⎝        a₁₁  ⎠ ⎝         a₁₁  ⎠   a₁₃⋅a₃₁                     ↪\n",
       "↪         a₃₃ + ──────────────────────────────── - ───────                     ↪\n",
       "↪                              a₁₂⋅a₂₁               a₁₁                       ↪\n",
       "↪                        a₂₂ - ───────                                         ↪\n",
       "↪                                a₁₁                                           ↪\n",
       "\n",
       "↪                  ⎛     ⎛       a₁₂⋅a₃₁⎞ ⎛     a₂₁⋅b₁⎞         ⎞         ⎞    ↪\n",
       "↪                  ⎜     ⎜-a₃₂ + ───────⎟⋅⎜b₂ - ──────⎟         ⎟         ⎟    ↪\n",
       "↪  ⎛      a₁₃⋅a₂₁⎞ ⎜     ⎝         a₁₁  ⎠ ⎝      a₁₁  ⎠   a₃₁⋅b₁⎟         ⎟    ↪\n",
       "↪  ⎜a₂₃ - ───────⎟⋅⎜b₃ + ────────────────────────────── - ──────⎟         ⎟    ↪\n",
       "↪  ⎝        a₁₁  ⎠ ⎜                   a₁₂⋅a₂₁             a₁₁  ⎟         ⎟    ↪\n",
       "↪                  ⎜             a₂₂ - ───────                  ⎟         ⎟    ↪\n",
       "↪                  ⎝                     a₁₁                    ⎠   a₂₁⋅b₁⎟    ↪\n",
       "↪  ────────────────────────────────────────────────────────────── - ──────⎟    ↪\n",
       "↪               ⎛      a₁₃⋅a₂₁⎞ ⎛       a₁₂⋅a₃₁⎞                     a₁₁  ⎟    ↪\n",
       "↪               ⎜a₂₃ - ───────⎟⋅⎜-a₃₂ + ───────⎟                          ⎟    ↪\n",
       "↪               ⎝        a₁₁  ⎠ ⎝         a₁₁  ⎠   a₁₃⋅a₃₁                ⎟    ↪\n",
       "↪         a₃₃ + ──────────────────────────────── - ───────                ⎟    ↪\n",
       "↪                              a₁₂⋅a₂₁               a₁₁                  ⎟    ↪\n",
       "↪                        a₂₂ - ───────                                    ⎟    ↪\n",
       "↪                                a₁₁                                      ⎠    ↪\n",
       "↪ ───────────────────────────────────────────────────────────────────────── -  ↪\n",
       "↪                                a₁₂⋅a₂₁                                       ↪\n",
       "↪                          a₂₂ - ───────                                       ↪\n",
       "↪                                  a₁₁                                         ↪\n",
       "↪                                                                              ↪\n",
       "↪                                                                              ↪\n",
       "↪                                                                              ↪\n",
       "↪                                                                              ↪\n",
       "↪ ──────────────────────────────────────────────────────────────────────────── ↪\n",
       "↪                                                         a₁₁                  ↪\n",
       "↪                                                                              ↪\n",
       "↪                                                                              ↪\n",
       "↪                                                                              ↪\n",
       "↪                                                                              ↪\n",
       "↪                                                                              ↪\n",
       "↪                                                                              ↪\n",
       "\n",
       "↪                                                        ⎞     \n",
       "↪                                                        ⎟     \n",
       "↪                                                        ⎟     \n",
       "↪                                                        ⎟     \n",
       "↪                                                        ⎟     \n",
       "↪                                                        ⎟     \n",
       "↪                                                        ⎟     \n",
       "↪                                                        ⎟     \n",
       "↪     ⎛     ⎛       a₁₂⋅a₃₁⎞ ⎛     a₂₁⋅b₁⎞         ⎞     ⎟     \n",
       "↪     ⎜     ⎜-a₃₂ + ───────⎟⋅⎜b₂ - ──────⎟         ⎟     ⎟     \n",
       "↪     ⎜     ⎝         a₁₁  ⎠ ⎝      a₁₁  ⎠   a₃₁⋅b₁⎟     ⎟     \n",
       "↪ a₁₃⋅⎜b₃ + ────────────────────────────── - ──────⎟     ⎟     \n",
       "↪     ⎜                   a₁₂⋅a₂₁             a₁₁  ⎟     ⎟     \n",
       "↪     ⎜             a₂₂ - ───────                  ⎟     ⎟     \n",
       "↪     ⎝                     a₁₁                    ⎠     ⎟     \n",
       "↪ ────────────────────────────────────────────────── + b₁⎟     \n",
       "↪        ⎛      a₁₃⋅a₂₁⎞ ⎛       a₁₂⋅a₃₁⎞                ⎟     \n",
       "↪        ⎜a₂₃ - ───────⎟⋅⎜-a₃₂ + ───────⎟                ⎟     \n",
       "↪        ⎝        a₁₁  ⎠ ⎝         a₁₁  ⎠   a₁₃⋅a₃₁      ⎟     \n",
       "↪  a₃₃ + ──────────────────────────────── - ───────      ⎟     \n",
       "↪                       a₁₂⋅a₂₁               a₁₁        ⎟     \n",
       "↪                 a₂₂ - ───────                          ⎟     \n",
       "↪                         a₁₁                            ⎠     \n",
       "↪ ──────────────────────────────────────────────────────── = b₂\n",
       "↪                                                              \n",
       "↪                                                              \n",
       "↪                                                              \n",
       "↪                                                              \n",
       "↪                                                              \n",
       "↪                                                              \n",
       "↪                                                              "
      ]
     },
     "metadata": {},
     "output_type": "display_data"
    },
    {
     "data": {
      "image/png": "[encoded data removed]",
      "text/latex": [
       "$\\displaystyle \\frac{a_{32} \\left(b_{2} - \\frac{\\left(a_{23} - \\frac{a_{13} a_{21}}{a_{11}}\\right) \\left(b_{3} + \\frac{\\left(- a_{32} + \\frac{a_{12} a_{31}}{a_{11}}\\right) \\left(b_{2} - \\frac{a_{21} b_{1}}{a_{11}}\\right)}{a_{22} - \\frac{a_{12} a_{21}}{a_{11}}} - \\frac{a_{31} b_{1}}{a_{11}}\\right)}{a_{33} + \\frac{\\left(a_{23} - \\frac{a_{13} a_{21}}{a_{11}}\\right) \\left(- a_{32} + \\frac{a_{12} a_{31}}{a_{11}}\\right)}{a_{22} - \\frac{a_{12} a_{21}}{a_{11}}} - \\frac{a_{13} a_{31}}{a_{11}}} - \\frac{a_{21} b_{1}}{a_{11}}\\right)}{a_{22} - \\frac{a_{12} a_{21}}{a_{11}}} + \\frac{a_{33} \\left(b_{3} + \\frac{\\left(- a_{32} + \\frac{a_{12} a_{31}}{a_{11}}\\right) \\left(b_{2} - \\frac{a_{21} b_{1}}{a_{11}}\\right)}{a_{22} - \\frac{a_{12} a_{21}}{a_{11}}} - \\frac{a_{31} b_{1}}{a_{11}}\\right)}{a_{33} + \\frac{\\left(a_{23} - \\frac{a_{13} a_{21}}{a_{11}}\\right) \\left(- a_{32} + \\frac{a_{12} a_{31}}{a_{11}}\\right)}{a_{22} - \\frac{a_{12} a_{21}}{a_{11}}} - \\frac{a_{13} a_{31}}{a_{11}}} + \\frac{a_{31} \\left(- \\frac{a_{12} \\left(b_{2} - \\frac{\\left(a_{23} - \\frac{a_{13} a_{21}}{a_{11}}\\right) \\left(b_{3} + \\frac{\\left(- a_{32} + \\frac{a_{12} a_{31}}{a_{11}}\\right) \\left(b_{2} - \\frac{a_{21} b_{1}}{a_{11}}\\right)}{a_{22} - \\frac{a_{12} a_{21}}{a_{11}}} - \\frac{a_{31} b_{1}}{a_{11}}\\right)}{a_{33} + \\frac{\\left(a_{23} - \\frac{a_{13} a_{21}}{a_{11}}\\right) \\left(- a_{32} + \\frac{a_{12} a_{31}}{a_{11}}\\right)}{a_{22} - \\frac{a_{12} a_{21}}{a_{11}}} - \\frac{a_{13} a_{31}}{a_{11}}} - \\frac{a_{21} b_{1}}{a_{11}}\\right)}{a_{22} - \\frac{a_{12} a_{21}}{a_{11}}} - \\frac{a_{13} \\left(b_{3} + \\frac{\\left(- a_{32} + \\frac{a_{12} a_{31}}{a_{11}}\\right) \\left(b_{2} - \\frac{a_{21} b_{1}}{a_{11}}\\right)}{a_{22} - \\frac{a_{12} a_{21}}{a_{11}}} - \\frac{a_{31} b_{1}}{a_{11}}\\right)}{a_{33} + \\frac{\\left(a_{23} - \\frac{a_{13} a_{21}}{a_{11}}\\right) \\left(- a_{32} + \\frac{a_{12} a_{31}}{a_{11}}\\right)}{a_{22} - \\frac{a_{12} a_{21}}{a_{11}}} - \\frac{a_{13} a_{31}}{a_{11}}} + b_{1}\\right)}{a_{11}} = b_{3}$"
      ],
      "text/plain": [
       "                                                                               ↪\n",
       "                                                                               ↪\n",
       "                                                                               ↪\n",
       "                                                                               ↪\n",
       "                                                                               ↪\n",
       "                                                                               ↪\n",
       "                                                                               ↪\n",
       "                                                                               ↪\n",
       "    ⎛                     ⎛     ⎛       a₁₂⋅a₃₁⎞ ⎛     a₂₁⋅b₁⎞         ⎞       ↪\n",
       "    ⎜                     ⎜     ⎜-a₃₂ + ───────⎟⋅⎜b₂ - ──────⎟         ⎟       ↪\n",
       "    ⎜     ⎛      a₁₃⋅a₂₁⎞ ⎜     ⎝         a₁₁  ⎠ ⎝      a₁₁  ⎠   a₃₁⋅b₁⎟       ↪\n",
       "    ⎜     ⎜a₂₃ - ───────⎟⋅⎜b₃ + ────────────────────────────── - ──────⎟       ↪\n",
       "    ⎜     ⎝        a₁₁  ⎠ ⎜                   a₁₂⋅a₂₁             a₁₁  ⎟       ↪\n",
       "    ⎜                     ⎜             a₂₂ - ───────                  ⎟       ↪\n",
       "    ⎜                     ⎝                     a₁₁                    ⎠   a₂₁ ↪\n",
       "a₃₂⋅⎜b₂ - ────────────────────────────────────────────────────────────── - ─── ↪\n",
       "    ⎜                  ⎛      a₁₃⋅a₂₁⎞ ⎛       a₁₂⋅a₃₁⎞                     a₁ ↪\n",
       "    ⎜                  ⎜a₂₃ - ───────⎟⋅⎜-a₃₂ + ───────⎟                        ↪\n",
       "    ⎜                  ⎝        a₁₁  ⎠ ⎝         a₁₁  ⎠   a₁₃⋅a₃₁              ↪\n",
       "    ⎜            a₃₃ + ──────────────────────────────── - ───────              ↪\n",
       "    ⎜                                 a₁₂⋅a₂₁               a₁₁                ↪\n",
       "    ⎜                           a₂₂ - ───────                                  ↪\n",
       "    ⎝                                   a₁₁                                    ↪\n",
       "────────────────────────────────────────────────────────────────────────────── ↪\n",
       "                                        a₁₂⋅a₂₁                                ↪\n",
       "                                  a₂₂ - ───────                                ↪\n",
       "                                          a₁₁                                  ↪\n",
       "                                                                               ↪\n",
       "                                                                               ↪\n",
       "                                                                               ↪\n",
       "                                                                               ↪\n",
       "\n",
       "↪                                                                 ⎛      ⎛     ↪\n",
       "↪                                                                 ⎜      ⎜     ↪\n",
       "↪                                                                 ⎜      ⎜     ↪\n",
       "↪                                                                 ⎜      ⎜     ↪\n",
       "↪                                                                 ⎜      ⎜     ↪\n",
       "↪                                                                 ⎜      ⎜     ↪\n",
       "↪                                                                 ⎜      ⎜     ↪\n",
       "↪                                                                 ⎜  a₁₂⋅⎜b₂ - ↪\n",
       "↪    ⎞                                                            ⎜      ⎜     ↪\n",
       "↪    ⎟                                                            ⎜      ⎜     ↪\n",
       "↪    ⎟                                                            ⎜      ⎜     ↪\n",
       "↪    ⎟                                                            ⎜      ⎜     ↪\n",
       "↪    ⎟                                                            ⎜      ⎜     ↪\n",
       "↪    ⎟                                                            ⎜      ⎜     ↪\n",
       "↪ ⋅b₁⎟                                                            ⎜      ⎝     ↪\n",
       "↪ ───⎟                                                        a₃₁⋅⎜- ───────── ↪\n",
       "↪ ₁  ⎟       ⎛     ⎛       a₁₂⋅a₃₁⎞ ⎛     a₂₁⋅b₁⎞         ⎞       ⎜            ↪\n",
       "↪    ⎟       ⎜     ⎜-a₃₂ + ───────⎟⋅⎜b₂ - ──────⎟         ⎟       ⎜            ↪\n",
       "↪    ⎟       ⎜     ⎝         a₁₁  ⎠ ⎝      a₁₁  ⎠   a₃₁⋅b₁⎟       ⎜            ↪\n",
       "↪    ⎟   a₃₃⋅⎜b₃ + ────────────────────────────── - ──────⎟       ⎜            ↪\n",
       "↪    ⎟       ⎜                   a₁₂⋅a₂₁             a₁₁  ⎟       ⎜            ↪\n",
       "↪    ⎟       ⎜             a₂₂ - ───────                  ⎟       ⎜            ↪\n",
       "↪    ⎠       ⎝                     a₁₁                    ⎠       ⎝            ↪\n",
       "↪ ──── + ────────────────────────────────────────────────── + ──────────────── ↪\n",
       "↪               ⎛      a₁₃⋅a₂₁⎞ ⎛       a₁₂⋅a₃₁⎞                               ↪\n",
       "↪               ⎜a₂₃ - ───────⎟⋅⎜-a₃₂ + ───────⎟                               ↪\n",
       "↪               ⎝        a₁₁  ⎠ ⎝         a₁₁  ⎠   a₁₃⋅a₃₁                     ↪\n",
       "↪         a₃₃ + ──────────────────────────────── - ───────                     ↪\n",
       "↪                              a₁₂⋅a₂₁               a₁₁                       ↪\n",
       "↪                        a₂₂ - ───────                                         ↪\n",
       "↪                                a₁₁                                           ↪\n",
       "\n",
       "↪                  ⎛     ⎛       a₁₂⋅a₃₁⎞ ⎛     a₂₁⋅b₁⎞         ⎞         ⎞    ↪\n",
       "↪                  ⎜     ⎜-a₃₂ + ───────⎟⋅⎜b₂ - ──────⎟         ⎟         ⎟    ↪\n",
       "↪  ⎛      a₁₃⋅a₂₁⎞ ⎜     ⎝         a₁₁  ⎠ ⎝      a₁₁  ⎠   a₃₁⋅b₁⎟         ⎟    ↪\n",
       "↪  ⎜a₂₃ - ───────⎟⋅⎜b₃ + ────────────────────────────── - ──────⎟         ⎟    ↪\n",
       "↪  ⎝        a₁₁  ⎠ ⎜                   a₁₂⋅a₂₁             a₁₁  ⎟         ⎟    ↪\n",
       "↪                  ⎜             a₂₂ - ───────                  ⎟         ⎟    ↪\n",
       "↪                  ⎝                     a₁₁                    ⎠   a₂₁⋅b₁⎟    ↪\n",
       "↪  ────────────────────────────────────────────────────────────── - ──────⎟    ↪\n",
       "↪               ⎛      a₁₃⋅a₂₁⎞ ⎛       a₁₂⋅a₃₁⎞                     a₁₁  ⎟    ↪\n",
       "↪               ⎜a₂₃ - ───────⎟⋅⎜-a₃₂ + ───────⎟                          ⎟    ↪\n",
       "↪               ⎝        a₁₁  ⎠ ⎝         a₁₁  ⎠   a₁₃⋅a₃₁                ⎟    ↪\n",
       "↪         a₃₃ + ──────────────────────────────── - ───────                ⎟    ↪\n",
       "↪                              a₁₂⋅a₂₁               a₁₁                  ⎟    ↪\n",
       "↪                        a₂₂ - ───────                                    ⎟    ↪\n",
       "↪                                a₁₁                                      ⎠    ↪\n",
       "↪ ───────────────────────────────────────────────────────────────────────── -  ↪\n",
       "↪                                a₁₂⋅a₂₁                                       ↪\n",
       "↪                          a₂₂ - ───────                                       ↪\n",
       "↪                                  a₁₁                                         ↪\n",
       "↪                                                                              ↪\n",
       "↪                                                                              ↪\n",
       "↪                                                                              ↪\n",
       "↪                                                                              ↪\n",
       "↪ ──────────────────────────────────────────────────────────────────────────── ↪\n",
       "↪                                                         a₁₁                  ↪\n",
       "↪                                                                              ↪\n",
       "↪                                                                              ↪\n",
       "↪                                                                              ↪\n",
       "↪                                                                              ↪\n",
       "↪                                                                              ↪\n",
       "↪                                                                              ↪\n",
       "\n",
       "↪                                                        ⎞     \n",
       "↪                                                        ⎟     \n",
       "↪                                                        ⎟     \n",
       "↪                                                        ⎟     \n",
       "↪                                                        ⎟     \n",
       "↪                                                        ⎟     \n",
       "↪                                                        ⎟     \n",
       "↪                                                        ⎟     \n",
       "↪     ⎛     ⎛       a₁₂⋅a₃₁⎞ ⎛     a₂₁⋅b₁⎞         ⎞     ⎟     \n",
       "↪     ⎜     ⎜-a₃₂ + ───────⎟⋅⎜b₂ - ──────⎟         ⎟     ⎟     \n",
       "↪     ⎜     ⎝         a₁₁  ⎠ ⎝      a₁₁  ⎠   a₃₁⋅b₁⎟     ⎟     \n",
       "↪ a₁₃⋅⎜b₃ + ────────────────────────────── - ──────⎟     ⎟     \n",
       "↪     ⎜                   a₁₂⋅a₂₁             a₁₁  ⎟     ⎟     \n",
       "↪     ⎜             a₂₂ - ───────                  ⎟     ⎟     \n",
       "↪     ⎝                     a₁₁                    ⎠     ⎟     \n",
       "↪ ────────────────────────────────────────────────── + b₁⎟     \n",
       "↪        ⎛      a₁₃⋅a₂₁⎞ ⎛       a₁₂⋅a₃₁⎞                ⎟     \n",
       "↪        ⎜a₂₃ - ───────⎟⋅⎜-a₃₂ + ───────⎟                ⎟     \n",
       "↪        ⎝        a₁₁  ⎠ ⎝         a₁₁  ⎠   a₁₃⋅a₃₁      ⎟     \n",
       "↪  a₃₃ + ──────────────────────────────── - ───────      ⎟     \n",
       "↪                       a₁₂⋅a₂₁               a₁₁        ⎟     \n",
       "↪                 a₂₂ - ───────                          ⎟     \n",
       "↪                         a₁₁                            ⎠     \n",
       "↪ ──────────────────────────────────────────────────────── = b₃\n",
       "↪                                                              \n",
       "↪                                                              \n",
       "↪                                                              \n",
       "↪                                                              \n",
       "↪                                                              \n",
       "↪                                                              \n",
       "↪                                                              "
      ]
     },
     "metadata": {},
     "output_type": "display_data"
    }
   ],
   "source": [
    "A = sym.Matrix([[a11, a12, a13], [a21, a22, a23], [a31, a32, a33]])\n",
    "b = sym.Matrix([[b1],[b2],[b3]])\n",
    "display(sym.Eq(A[0,0] * x1 + A[0,1] * x2 + A[0,2] * x3, b[0]))\n",
    "display(sym.Eq(A[1,0] * x1 + A[1,1] * x2 + A[1,2] * x3, b[1]))\n",
    "display(sym.Eq(A[2,0] * x1 + A[2,1] * x2 + A[2,2] * x3, b[2]))"
   ]
  },
  {
   "cell_type": "markdown",
   "metadata": {},
   "source": [
    "Thus, the procedure we will use is the following:\n",
    "1. Build the _Tableu_ $B=[A|\\mathbf{b}]$.\n",
    "2. Apply **row operations** to make the _Tableu_ **upper triangular**.\n",
    "3. Solve the **NEW** and **EQUIVALENT** linear system of equations, $U\\,\\mathbf{x}=\\mathbf{c}$, using the algorithm _Backward Substitution_.\n",
    "\n",
    "To make this explicit, we will perform all steps for the $3\\times 3$ linear system of equations previously presented."
   ]
  },
  {
   "cell_type": "markdown",
   "metadata": {},
   "source": [
    "<a id=\"solvingWithGEStep1\"></a>\n",
    "\n",
    "### STEP 1\n",
    "Building the Tableu"
   ]
  },
  {
   "cell_type": "code",
   "execution_count": 196,
   "metadata": {},
   "outputs": [
    {
     "data": {
      "image/png": "[encoded data removed]",
      "text/latex": [
       "$\\displaystyle \\left[\\begin{matrix}a_{11} & a_{12} & a_{13} & b_{1}\\\\a_{21} & a_{22} & a_{23} & b_{2}\\\\a_{31} & a_{32} & a_{33} & b_{3}\\end{matrix}\\right]$"
      ],
      "text/plain": [
       "⎡a₁₁  a₁₂  a₁₃  b₁⎤\n",
       "⎢                 ⎥\n",
       "⎢a₂₁  a₂₂  a₂₃  b₂⎥\n",
       "⎢                 ⎥\n",
       "⎣a₃₁  a₃₂  a₃₃  b₃⎦"
      ]
     },
     "metadata": {},
     "output_type": "display_data"
    }
   ],
   "source": [
    "A = sym.Matrix([[a11, a12, a13], [a21, a22, a23], [a31, a32, a33]])\n",
    "b = sym.Matrix([[b1],[b2],[b3]])\n",
    "B = A.col_insert(3,b)\n",
    "# The \"Tableu\"\n",
    "display(B)"
   ]
  },
  {
   "cell_type": "markdown",
   "metadata": {},
   "source": [
    "<a id=\"solvingWithGEStep2\"></a>\n",
    "\n",
    "### STEP 2\n",
    "Applying **row operations**"
   ]
  },
  {
   "cell_type": "code",
   "execution_count": 197,
   "metadata": {},
   "outputs": [
    {
     "name": "stdout",
     "output_type": "stream",
     "text": [
      "\u001b[1mCanceling out the elements below the diagonal coefficient of first column\u001b[0m\n"
     ]
    },
    {
     "data": {
      "image/png": "[encoded data removed]",
      "text/latex": [
       "$\\displaystyle \\left[\\begin{matrix}a_{11} & a_{12} & a_{13} & b_{1}\\\\0 & a_{22} - \\frac{a_{12} a_{21}}{a_{11}} & a_{23} - \\frac{a_{13} a_{21}}{a_{11}} & b_{2} - \\frac{a_{21} b_{1}}{a_{11}}\\\\0 & a_{32} - \\frac{a_{12} a_{31}}{a_{11}} & a_{33} - \\frac{a_{13} a_{31}}{a_{11}} & b_{3} - \\frac{a_{31} b_{1}}{a_{11}}\\end{matrix}\\right]$"
      ],
      "text/plain": [
       "⎡a₁₁       a₁₂            a₁₃           b₁     ⎤\n",
       "⎢                                              ⎥\n",
       "⎢           a₁₂⋅a₂₁        a₁₃⋅a₂₁       a₂₁⋅b₁⎥\n",
       "⎢ 0   a₂₂ - ───────  a₂₃ - ───────  b₂ - ──────⎥\n",
       "⎢             a₁₁            a₁₁          a₁₁  ⎥\n",
       "⎢                                              ⎥\n",
       "⎢           a₁₂⋅a₃₁        a₁₃⋅a₃₁       a₃₁⋅b₁⎥\n",
       "⎢ 0   a₃₂ - ───────  a₃₃ - ───────  b₃ - ──────⎥\n",
       "⎣             a₁₁            a₁₁          a₁₁  ⎦"
      ]
     },
     "metadata": {},
     "output_type": "display_data"
    },
    {
     "name": "stdout",
     "output_type": "stream",
     "text": [
      "\u001b[1mFinally, canceling out the only element below the diagonal of the second column\u001b[0m\n"
     ]
    },
    {
     "data": {
      "image/png": "[encoded data removed]",
      "text/latex": [
       "$\\displaystyle \\left[\\begin{matrix}a_{11} & a_{12} & a_{13} & b_{1}\\\\0 & a_{22} - \\frac{a_{12} a_{21}}{a_{11}} & a_{23} - \\frac{a_{13} a_{21}}{a_{11}} & b_{2} - \\frac{a_{21} b_{1}}{a_{11}}\\\\0 & 0 & a_{33} + \\frac{\\left(a_{23} - \\frac{a_{13} a_{21}}{a_{11}}\\right) \\left(- a_{32} + \\frac{a_{12} a_{31}}{a_{11}}\\right)}{a_{22} - \\frac{a_{12} a_{21}}{a_{11}}} - \\frac{a_{13} a_{31}}{a_{11}} & b_{3} + \\frac{\\left(- a_{32} + \\frac{a_{12} a_{31}}{a_{11}}\\right) \\left(b_{2} - \\frac{a_{21} b_{1}}{a_{11}}\\right)}{a_{22} - \\frac{a_{12} a_{21}}{a_{11}}} - \\frac{a_{31} b_{1}}{a_{11}}\\end{matrix}\\right]$"
      ],
      "text/plain": [
       "⎡a₁₁       a₁₂                             a₁₃                                 ↪\n",
       "⎢                                                                              ↪\n",
       "⎢           a₁₂⋅a₂₁                         a₁₃⋅a₂₁                            ↪\n",
       "⎢ 0   a₂₂ - ───────                   a₂₃ - ───────                            ↪\n",
       "⎢             a₁₁                             a₁₁                              ↪\n",
       "⎢                                                                              ↪\n",
       "⎢                          ⎛      a₁₃⋅a₂₁⎞ ⎛       a₁₂⋅a₃₁⎞                 ⎛  ↪\n",
       "⎢                          ⎜a₂₃ - ───────⎟⋅⎜-a₃₂ + ───────⎟                 ⎜- ↪\n",
       "⎢                          ⎝        a₁₁  ⎠ ⎝         a₁₁  ⎠   a₁₃⋅a₃₁       ⎝  ↪\n",
       "⎢ 0         0        a₃₃ + ──────────────────────────────── - ───────  b₃ + ── ↪\n",
       "⎢                                         a₁₂⋅a₂₁               a₁₁            ↪\n",
       "⎢                                   a₂₂ - ───────                              ↪\n",
       "⎣                                           a₁₁                                ↪\n",
       "\n",
       "↪               b₁                     ⎤\n",
       "↪                                      ⎥\n",
       "↪               a₂₁⋅b₁                 ⎥\n",
       "↪          b₂ - ──────                 ⎥\n",
       "↪                a₁₁                   ⎥\n",
       "↪                                      ⎥\n",
       "↪       a₁₂⋅a₃₁⎞ ⎛     a₂₁⋅b₁⎞         ⎥\n",
       "↪ a₃₂ + ───────⎟⋅⎜b₂ - ──────⎟         ⎥\n",
       "↪         a₁₁  ⎠ ⎝      a₁₁  ⎠   a₃₁⋅b₁⎥\n",
       "↪ ──────────────────────────── - ──────⎥\n",
       "↪             a₁₂⋅a₂₁             a₁₁  ⎥\n",
       "↪       a₂₂ - ───────                  ⎥\n",
       "↪               a₁₁                    ⎦"
      ]
     },
     "metadata": {},
     "output_type": "display_data"
    }
   ],
   "source": [
    "# Row operations for first column\n",
    "L10 = sym.eye(3)\n",
    "L10[1,0] = -a21/a11\n",
    "L20 = sym.eye(3)\n",
    "L20[2,0] = -a31/a11\n",
    "# Applying the \"row\" operations for first column\n",
    "B = L20*L10*B\n",
    "print(textBoldH('Canceling out the elements below the diagonal coefficient of first column'))\n",
    "display(B)\n",
    "\n",
    "# Row operation for second column\n",
    "L21 = sym.eye(3)\n",
    "L21[2,1] = -B[2,1]/B[1,1]\n",
    "# Applying the \"row\" operation for second column\n",
    "B=L21*B\n",
    "print(textBoldH('Finally, canceling out the only element below the diagonal of the second column'))\n",
    "display(B)"
   ]
  },
  {
   "cell_type": "markdown",
   "metadata": {},
   "source": [
    "<a id=\"solvingWithGEStep3\"></a>\n",
    "\n",
    "### STEP 3\n",
    "Build the equivalent linear system of equations and solve it with _Backward Substitution_."
   ]
  },
  {
   "cell_type": "code",
   "execution_count": 198,
   "metadata": {},
   "outputs": [
    {
     "name": "stdout",
     "output_type": "stream",
     "text": [
      "\u001b[1mThe RHS $\\mathbf{c}$\u001b[0m\n"
     ]
    },
    {
     "data": {
      "image/png": "[encoded data removed]",
      "text/latex": [
       "$\\displaystyle \\left[\\begin{matrix}b_{1}\\\\b_{2} - \\frac{a_{21} b_{1}}{a_{11}}\\\\b_{3} + \\frac{\\left(- a_{32} + \\frac{a_{12} a_{31}}{a_{11}}\\right) \\left(b_{2} - \\frac{a_{21} b_{1}}{a_{11}}\\right)}{a_{22} - \\frac{a_{12} a_{21}}{a_{11}}} - \\frac{a_{31} b_{1}}{a_{11}}\\end{matrix}\\right]$"
      ],
      "text/plain": [
       "⎡                     b₁                     ⎤\n",
       "⎢                                            ⎥\n",
       "⎢                     a₂₁⋅b₁                 ⎥\n",
       "⎢                b₂ - ──────                 ⎥\n",
       "⎢                      a₁₁                   ⎥\n",
       "⎢                                            ⎥\n",
       "⎢     ⎛       a₁₂⋅a₃₁⎞ ⎛     a₂₁⋅b₁⎞         ⎥\n",
       "⎢     ⎜-a₃₂ + ───────⎟⋅⎜b₂ - ──────⎟         ⎥\n",
       "⎢     ⎝         a₁₁  ⎠ ⎝      a₁₁  ⎠   a₃₁⋅b₁⎥\n",
       "⎢b₃ + ────────────────────────────── - ──────⎥\n",
       "⎢                   a₁₂⋅a₂₁             a₁₁  ⎥\n",
       "⎢             a₂₂ - ───────                  ⎥\n",
       "⎣                     a₁₁                    ⎦"
      ]
     },
     "metadata": {},
     "output_type": "display_data"
    },
    {
     "name": "stdout",
     "output_type": "stream",
     "text": [
      "\u001b[1mThe upper triangular matrix U\u001b[0m\n"
     ]
    },
    {
     "data": {
      "image/png": "[encoded data removed]",
      "text/latex": [
       "$\\displaystyle \\left[\\begin{matrix}a_{11} & a_{12} & a_{13}\\\\0 & a_{22} - \\frac{a_{12} a_{21}}{a_{11}} & a_{23} - \\frac{a_{13} a_{21}}{a_{11}}\\\\0 & 0 & a_{33} + \\frac{\\left(a_{23} - \\frac{a_{13} a_{21}}{a_{11}}\\right) \\left(- a_{32} + \\frac{a_{12} a_{31}}{a_{11}}\\right)}{a_{22} - \\frac{a_{12} a_{21}}{a_{11}}} - \\frac{a_{13} a_{31}}{a_{11}}\\end{matrix}\\right]$"
      ],
      "text/plain": [
       "⎡a₁₁       a₁₂                             a₁₃                       ⎤\n",
       "⎢                                                                    ⎥\n",
       "⎢           a₁₂⋅a₂₁                         a₁₃⋅a₂₁                  ⎥\n",
       "⎢ 0   a₂₂ - ───────                   a₂₃ - ───────                  ⎥\n",
       "⎢             a₁₁                             a₁₁                    ⎥\n",
       "⎢                                                                    ⎥\n",
       "⎢                          ⎛      a₁₃⋅a₂₁⎞ ⎛       a₁₂⋅a₃₁⎞          ⎥\n",
       "⎢                          ⎜a₂₃ - ───────⎟⋅⎜-a₃₂ + ───────⎟          ⎥\n",
       "⎢                          ⎝        a₁₁  ⎠ ⎝         a₁₁  ⎠   a₁₃⋅a₃₁⎥\n",
       "⎢ 0         0        a₃₃ + ──────────────────────────────── - ───────⎥\n",
       "⎢                                         a₁₂⋅a₂₁               a₁₁  ⎥\n",
       "⎢                                   a₂₂ - ───────                    ⎥\n",
       "⎣                                           a₁₁                      ⎦"
      ]
     },
     "metadata": {},
     "output_type": "display_data"
    }
   ],
   "source": [
    "c = B.col(3)\n",
    "print(textBoldH(r'The RHS $\\mathbf{c}$'))\n",
    "display(c)\n",
    "B.col_del(3)\n",
    "U = B\n",
    "print(textBoldH('The upper triangular matrix U'))\n",
    "display(U)"
   ]
  },
  {
   "cell_type": "markdown",
   "metadata": {},
   "source": [
    "Now we have,\n",
    "$$\n",
    "U\\,\\mathbf{x} = \\mathbf{c}.\n",
    "$$\n",
    "Thus, we can now apply _Backward Substitution_, give the **upper triangular** form of the matrix $U$.\n",
    "Now, for completeness, we will show the three equation we have,"
   ]
  },
  {
   "cell_type": "code",
   "execution_count": 199,
   "metadata": {},
   "outputs": [
    {
     "data": {
      "image/png": "[encoded data removed]",
      "text/latex": [
       "$\\displaystyle \\text{True}$"
      ],
      "text/plain": [
       "True"
      ]
     },
     "metadata": {},
     "output_type": "display_data"
    },
    {
     "data": {
      "image/png": "[encoded data removed]",
      "text/latex": [
       "$\\displaystyle b_{2} + \\frac{\\left(a_{22} - \\frac{a_{12} a_{21}}{a_{11}}\\right) \\left(b_{3} + \\frac{\\left(- a_{32} + \\frac{a_{12} a_{31}}{a_{11}}\\right) \\left(b_{2} - \\frac{a_{21} b_{1}}{a_{11}}\\right)}{a_{22} - \\frac{a_{12} a_{21}}{a_{11}}} - \\frac{a_{31} b_{1}}{a_{11}}\\right)}{a_{33} + \\frac{\\left(a_{23} - \\frac{a_{13} a_{21}}{a_{11}}\\right) \\left(- a_{32} + \\frac{a_{12} a_{31}}{a_{11}}\\right)}{a_{22} - \\frac{a_{12} a_{21}}{a_{11}}} - \\frac{a_{13} a_{31}}{a_{11}}} - \\frac{\\left(a_{23} - \\frac{a_{13} a_{21}}{a_{11}}\\right) \\left(b_{3} + \\frac{\\left(- a_{32} + \\frac{a_{12} a_{31}}{a_{11}}\\right) \\left(b_{2} - \\frac{a_{21} b_{1}}{a_{11}}\\right)}{a_{22} - \\frac{a_{12} a_{21}}{a_{11}}} - \\frac{a_{31} b_{1}}{a_{11}}\\right)}{a_{33} + \\frac{\\left(a_{23} - \\frac{a_{13} a_{21}}{a_{11}}\\right) \\left(- a_{32} + \\frac{a_{12} a_{31}}{a_{11}}\\right)}{a_{22} - \\frac{a_{12} a_{21}}{a_{11}}} - \\frac{a_{13} a_{31}}{a_{11}}} - \\frac{a_{21} b_{1}}{a_{11}} = b_{2} - \\frac{a_{21} b_{1}}{a_{11}}$"
      ],
      "text/plain": [
       "                     ⎛     ⎛       a₁₂⋅a₃₁⎞ ⎛     a₂₁⋅b₁⎞         ⎞            ↪\n",
       "                     ⎜     ⎜-a₃₂ + ───────⎟⋅⎜b₂ - ──────⎟         ⎟            ↪\n",
       "     ⎛      a₁₂⋅a₂₁⎞ ⎜     ⎝         a₁₁  ⎠ ⎝      a₁₁  ⎠   a₃₁⋅b₁⎟   ⎛      a ↪\n",
       "     ⎜a₂₂ - ───────⎟⋅⎜b₃ + ────────────────────────────── - ──────⎟   ⎜a₂₃ - ─ ↪\n",
       "     ⎝        a₁₁  ⎠ ⎜                   a₁₂⋅a₂₁             a₁₁  ⎟   ⎝        ↪\n",
       "                     ⎜             a₂₂ - ───────                  ⎟            ↪\n",
       "                     ⎝                     a₁₁                    ⎠            ↪\n",
       "b₂ + ────────────────────────────────────────────────────────────── - ──────── ↪\n",
       "                  ⎛      a₁₃⋅a₂₁⎞ ⎛       a₁₂⋅a₃₁⎞                             ↪\n",
       "                  ⎜a₂₃ - ───────⎟⋅⎜-a₃₂ + ───────⎟                             ↪\n",
       "                  ⎝        a₁₁  ⎠ ⎝         a₁₁  ⎠   a₁₃⋅a₃₁                   ↪\n",
       "            a₃₃ + ──────────────────────────────── - ───────                 a ↪\n",
       "                                 a₁₂⋅a₂₁               a₁₁                     ↪\n",
       "                           a₂₂ - ───────                                       ↪\n",
       "                                   a₁₁                                         ↪\n",
       "\n",
       "↪         ⎛     ⎛       a₁₂⋅a₃₁⎞ ⎛     a₂₁⋅b₁⎞         ⎞                       ↪\n",
       "↪         ⎜     ⎜-a₃₂ + ───────⎟⋅⎜b₂ - ──────⎟         ⎟                       ↪\n",
       "↪ ₁₃⋅a₂₁⎞ ⎜     ⎝         a₁₁  ⎠ ⎝      a₁₁  ⎠   a₃₁⋅b₁⎟                       ↪\n",
       "↪ ──────⎟⋅⎜b₃ + ────────────────────────────── - ──────⎟                       ↪\n",
       "↪  a₁₁  ⎠ ⎜                   a₁₂⋅a₂₁             a₁₁  ⎟                       ↪\n",
       "↪         ⎜             a₂₂ - ───────                  ⎟                       ↪\n",
       "↪         ⎝                     a₁₁                    ⎠   a₂₁⋅b₁        a₂₁⋅b ↪\n",
       "↪ ────────────────────────────────────────────────────── - ────── = b₂ - ───── ↪\n",
       "↪      ⎛      a₁₃⋅a₂₁⎞ ⎛       a₁₂⋅a₃₁⎞                     a₁₁           a₁₁  ↪\n",
       "↪      ⎜a₂₃ - ───────⎟⋅⎜-a₃₂ + ───────⎟                                        ↪\n",
       "↪      ⎝        a₁₁  ⎠ ⎝         a₁₁  ⎠   a₁₃⋅a₃₁                              ↪\n",
       "↪ ₃₃ + ──────────────────────────────── - ───────                              ↪\n",
       "↪                     a₁₂⋅a₂₁               a₁₁                                ↪\n",
       "↪               a₂₂ - ───────                                                  ↪\n",
       "↪                       a₁₁                                                    ↪\n",
       "\n",
       "↪  \n",
       "↪  \n",
       "↪  \n",
       "↪  \n",
       "↪  \n",
       "↪  \n",
       "↪ ₁\n",
       "↪ ─\n",
       "↪  \n",
       "↪  \n",
       "↪  \n",
       "↪  \n",
       "↪  \n",
       "↪  \n",
       "↪  "
      ]
     },
     "metadata": {},
     "output_type": "display_data"
    },
    {
     "data": {
      "image/png": "[encoded data removed]",
      "text/latex": [
       "$\\displaystyle \\text{True}$"
      ],
      "text/plain": [
       "True"
      ]
     },
     "metadata": {},
     "output_type": "display_data"
    }
   ],
   "source": [
    "display(sym.Eq(U[0,0] * x1 + U[0,1] * x2 + U[0,2] * x3, c[0]))\n",
    "display(sym.Eq(U[1,1] * x2 + U[1,1] * x3, c[1]))\n",
    "display(sym.Eq(U[2,2] * x3, c[2]))\n"
   ]
  },
  {
   "cell_type": "markdown",
   "metadata": {},
   "source": [
    "It may be harder to see, but the last equation is the simplest one to solve.\n",
    "**Note that the 'formula' shown on the coefficients just represent a number, so it may be easier to see in the following form:**"
   ]
  },
  {
   "cell_type": "code",
   "execution_count": 200,
   "metadata": {},
   "outputs": [
    {
     "data": {
      "image/png": "[encoded data removed]",
      "text/latex": [
       "$\\displaystyle \\frac{u_{12} \\left(b_{2} - \\frac{\\left(a_{23} - \\frac{a_{13} a_{21}}{a_{11}}\\right) \\left(b_{3} + \\frac{\\left(- a_{32} + \\frac{a_{12} a_{31}}{a_{11}}\\right) \\left(b_{2} - \\frac{a_{21} b_{1}}{a_{11}}\\right)}{a_{22} - \\frac{a_{12} a_{21}}{a_{11}}} - \\frac{a_{31} b_{1}}{a_{11}}\\right)}{a_{33} + \\frac{\\left(a_{23} - \\frac{a_{13} a_{21}}{a_{11}}\\right) \\left(- a_{32} + \\frac{a_{12} a_{31}}{a_{11}}\\right)}{a_{22} - \\frac{a_{12} a_{21}}{a_{11}}} - \\frac{a_{13} a_{31}}{a_{11}}} - \\frac{a_{21} b_{1}}{a_{11}}\\right)}{a_{22} - \\frac{a_{12} a_{21}}{a_{11}}} + \\frac{u_{13} \\left(b_{3} + \\frac{\\left(- a_{32} + \\frac{a_{12} a_{31}}{a_{11}}\\right) \\left(b_{2} - \\frac{a_{21} b_{1}}{a_{11}}\\right)}{a_{22} - \\frac{a_{12} a_{21}}{a_{11}}} - \\frac{a_{31} b_{1}}{a_{11}}\\right)}{a_{33} + \\frac{\\left(a_{23} - \\frac{a_{13} a_{21}}{a_{11}}\\right) \\left(- a_{32} + \\frac{a_{12} a_{31}}{a_{11}}\\right)}{a_{22} - \\frac{a_{12} a_{21}}{a_{11}}} - \\frac{a_{13} a_{31}}{a_{11}}} + \\frac{u_{11} \\left(- \\frac{a_{12} \\left(b_{2} - \\frac{\\left(a_{23} - \\frac{a_{13} a_{21}}{a_{11}}\\right) \\left(b_{3} + \\frac{\\left(- a_{32} + \\frac{a_{12} a_{31}}{a_{11}}\\right) \\left(b_{2} - \\frac{a_{21} b_{1}}{a_{11}}\\right)}{a_{22} - \\frac{a_{12} a_{21}}{a_{11}}} - \\frac{a_{31} b_{1}}{a_{11}}\\right)}{a_{33} + \\frac{\\left(a_{23} - \\frac{a_{13} a_{21}}{a_{11}}\\right) \\left(- a_{32} + \\frac{a_{12} a_{31}}{a_{11}}\\right)}{a_{22} - \\frac{a_{12} a_{21}}{a_{11}}} - \\frac{a_{13} a_{31}}{a_{11}}} - \\frac{a_{21} b_{1}}{a_{11}}\\right)}{a_{22} - \\frac{a_{12} a_{21}}{a_{11}}} - \\frac{a_{13} \\left(b_{3} + \\frac{\\left(- a_{32} + \\frac{a_{12} a_{31}}{a_{11}}\\right) \\left(b_{2} - \\frac{a_{21} b_{1}}{a_{11}}\\right)}{a_{22} - \\frac{a_{12} a_{21}}{a_{11}}} - \\frac{a_{31} b_{1}}{a_{11}}\\right)}{a_{33} + \\frac{\\left(a_{23} - \\frac{a_{13} a_{21}}{a_{11}}\\right) \\left(- a_{32} + \\frac{a_{12} a_{31}}{a_{11}}\\right)}{a_{22} - \\frac{a_{12} a_{21}}{a_{11}}} - \\frac{a_{13} a_{31}}{a_{11}}} + b_{1}\\right)}{a_{11}} = c_{1}$"
      ],
      "text/plain": [
       "                                                                               ↪\n",
       "                                                                               ↪\n",
       "                                                                               ↪\n",
       "                                                                               ↪\n",
       "                                                                               ↪\n",
       "                                                                               ↪\n",
       "                                                                               ↪\n",
       "                                                                               ↪\n",
       "    ⎛                     ⎛     ⎛       a₁₂⋅a₃₁⎞ ⎛     a₂₁⋅b₁⎞         ⎞       ↪\n",
       "    ⎜                     ⎜     ⎜-a₃₂ + ───────⎟⋅⎜b₂ - ──────⎟         ⎟       ↪\n",
       "    ⎜     ⎛      a₁₃⋅a₂₁⎞ ⎜     ⎝         a₁₁  ⎠ ⎝      a₁₁  ⎠   a₃₁⋅b₁⎟       ↪\n",
       "    ⎜     ⎜a₂₃ - ───────⎟⋅⎜b₃ + ────────────────────────────── - ──────⎟       ↪\n",
       "    ⎜     ⎝        a₁₁  ⎠ ⎜                   a₁₂⋅a₂₁             a₁₁  ⎟       ↪\n",
       "    ⎜                     ⎜             a₂₂ - ───────                  ⎟       ↪\n",
       "    ⎜                     ⎝                     a₁₁                    ⎠   a₂₁ ↪\n",
       "u₁₂⋅⎜b₂ - ────────────────────────────────────────────────────────────── - ─── ↪\n",
       "    ⎜                  ⎛      a₁₃⋅a₂₁⎞ ⎛       a₁₂⋅a₃₁⎞                     a₁ ↪\n",
       "    ⎜                  ⎜a₂₃ - ───────⎟⋅⎜-a₃₂ + ───────⎟                        ↪\n",
       "    ⎜                  ⎝        a₁₁  ⎠ ⎝         a₁₁  ⎠   a₁₃⋅a₃₁              ↪\n",
       "    ⎜            a₃₃ + ──────────────────────────────── - ───────              ↪\n",
       "    ⎜                                 a₁₂⋅a₂₁               a₁₁                ↪\n",
       "    ⎜                           a₂₂ - ───────                                  ↪\n",
       "    ⎝                                   a₁₁                                    ↪\n",
       "────────────────────────────────────────────────────────────────────────────── ↪\n",
       "                                        a₁₂⋅a₂₁                                ↪\n",
       "                                  a₂₂ - ───────                                ↪\n",
       "                                          a₁₁                                  ↪\n",
       "                                                                               ↪\n",
       "                                                                               ↪\n",
       "                                                                               ↪\n",
       "                                                                               ↪\n",
       "\n",
       "↪                                                                 ⎛      ⎛     ↪\n",
       "↪                                                                 ⎜      ⎜     ↪\n",
       "↪                                                                 ⎜      ⎜     ↪\n",
       "↪                                                                 ⎜      ⎜     ↪\n",
       "↪                                                                 ⎜      ⎜     ↪\n",
       "↪                                                                 ⎜      ⎜     ↪\n",
       "↪                                                                 ⎜      ⎜     ↪\n",
       "↪                                                                 ⎜  a₁₂⋅⎜b₂ - ↪\n",
       "↪    ⎞                                                            ⎜      ⎜     ↪\n",
       "↪    ⎟                                                            ⎜      ⎜     ↪\n",
       "↪    ⎟                                                            ⎜      ⎜     ↪\n",
       "↪    ⎟                                                            ⎜      ⎜     ↪\n",
       "↪    ⎟                                                            ⎜      ⎜     ↪\n",
       "↪    ⎟                                                            ⎜      ⎜     ↪\n",
       "↪ ⋅b₁⎟                                                            ⎜      ⎝     ↪\n",
       "↪ ───⎟                                                        u₁₁⋅⎜- ───────── ↪\n",
       "↪ ₁  ⎟       ⎛     ⎛       a₁₂⋅a₃₁⎞ ⎛     a₂₁⋅b₁⎞         ⎞       ⎜            ↪\n",
       "↪    ⎟       ⎜     ⎜-a₃₂ + ───────⎟⋅⎜b₂ - ──────⎟         ⎟       ⎜            ↪\n",
       "↪    ⎟       ⎜     ⎝         a₁₁  ⎠ ⎝      a₁₁  ⎠   a₃₁⋅b₁⎟       ⎜            ↪\n",
       "↪    ⎟   u₁₃⋅⎜b₃ + ────────────────────────────── - ──────⎟       ⎜            ↪\n",
       "↪    ⎟       ⎜                   a₁₂⋅a₂₁             a₁₁  ⎟       ⎜            ↪\n",
       "↪    ⎟       ⎜             a₂₂ - ───────                  ⎟       ⎜            ↪\n",
       "↪    ⎠       ⎝                     a₁₁                    ⎠       ⎝            ↪\n",
       "↪ ──── + ────────────────────────────────────────────────── + ──────────────── ↪\n",
       "↪               ⎛      a₁₃⋅a₂₁⎞ ⎛       a₁₂⋅a₃₁⎞                               ↪\n",
       "↪               ⎜a₂₃ - ───────⎟⋅⎜-a₃₂ + ───────⎟                               ↪\n",
       "↪               ⎝        a₁₁  ⎠ ⎝         a₁₁  ⎠   a₁₃⋅a₃₁                     ↪\n",
       "↪         a₃₃ + ──────────────────────────────── - ───────                     ↪\n",
       "↪                              a₁₂⋅a₂₁               a₁₁                       ↪\n",
       "↪                        a₂₂ - ───────                                         ↪\n",
       "↪                                a₁₁                                           ↪\n",
       "\n",
       "↪                  ⎛     ⎛       a₁₂⋅a₃₁⎞ ⎛     a₂₁⋅b₁⎞         ⎞         ⎞    ↪\n",
       "↪                  ⎜     ⎜-a₃₂ + ───────⎟⋅⎜b₂ - ──────⎟         ⎟         ⎟    ↪\n",
       "↪  ⎛      a₁₃⋅a₂₁⎞ ⎜     ⎝         a₁₁  ⎠ ⎝      a₁₁  ⎠   a₃₁⋅b₁⎟         ⎟    ↪\n",
       "↪  ⎜a₂₃ - ───────⎟⋅⎜b₃ + ────────────────────────────── - ──────⎟         ⎟    ↪\n",
       "↪  ⎝        a₁₁  ⎠ ⎜                   a₁₂⋅a₂₁             a₁₁  ⎟         ⎟    ↪\n",
       "↪                  ⎜             a₂₂ - ───────                  ⎟         ⎟    ↪\n",
       "↪                  ⎝                     a₁₁                    ⎠   a₂₁⋅b₁⎟    ↪\n",
       "↪  ────────────────────────────────────────────────────────────── - ──────⎟    ↪\n",
       "↪               ⎛      a₁₃⋅a₂₁⎞ ⎛       a₁₂⋅a₃₁⎞                     a₁₁  ⎟    ↪\n",
       "↪               ⎜a₂₃ - ───────⎟⋅⎜-a₃₂ + ───────⎟                          ⎟    ↪\n",
       "↪               ⎝        a₁₁  ⎠ ⎝         a₁₁  ⎠   a₁₃⋅a₃₁                ⎟    ↪\n",
       "↪         a₃₃ + ──────────────────────────────── - ───────                ⎟    ↪\n",
       "↪                              a₁₂⋅a₂₁               a₁₁                  ⎟    ↪\n",
       "↪                        a₂₂ - ───────                                    ⎟    ↪\n",
       "↪                                a₁₁                                      ⎠    ↪\n",
       "↪ ───────────────────────────────────────────────────────────────────────── -  ↪\n",
       "↪                                a₁₂⋅a₂₁                                       ↪\n",
       "↪                          a₂₂ - ───────                                       ↪\n",
       "↪                                  a₁₁                                         ↪\n",
       "↪                                                                              ↪\n",
       "↪                                                                              ↪\n",
       "↪                                                                              ↪\n",
       "↪                                                                              ↪\n",
       "↪ ──────────────────────────────────────────────────────────────────────────── ↪\n",
       "↪                                                         a₁₁                  ↪\n",
       "↪                                                                              ↪\n",
       "↪                                                                              ↪\n",
       "↪                                                                              ↪\n",
       "↪                                                                              ↪\n",
       "↪                                                                              ↪\n",
       "↪                                                                              ↪\n",
       "\n",
       "↪                                                        ⎞     \n",
       "↪                                                        ⎟     \n",
       "↪                                                        ⎟     \n",
       "↪                                                        ⎟     \n",
       "↪                                                        ⎟     \n",
       "↪                                                        ⎟     \n",
       "↪                                                        ⎟     \n",
       "↪                                                        ⎟     \n",
       "↪     ⎛     ⎛       a₁₂⋅a₃₁⎞ ⎛     a₂₁⋅b₁⎞         ⎞     ⎟     \n",
       "↪     ⎜     ⎜-a₃₂ + ───────⎟⋅⎜b₂ - ──────⎟         ⎟     ⎟     \n",
       "↪     ⎜     ⎝         a₁₁  ⎠ ⎝      a₁₁  ⎠   a₃₁⋅b₁⎟     ⎟     \n",
       "↪ a₁₃⋅⎜b₃ + ────────────────────────────── - ──────⎟     ⎟     \n",
       "↪     ⎜                   a₁₂⋅a₂₁             a₁₁  ⎟     ⎟     \n",
       "↪     ⎜             a₂₂ - ───────                  ⎟     ⎟     \n",
       "↪     ⎝                     a₁₁                    ⎠     ⎟     \n",
       "↪ ────────────────────────────────────────────────── + b₁⎟     \n",
       "↪        ⎛      a₁₃⋅a₂₁⎞ ⎛       a₁₂⋅a₃₁⎞                ⎟     \n",
       "↪        ⎜a₂₃ - ───────⎟⋅⎜-a₃₂ + ───────⎟                ⎟     \n",
       "↪        ⎝        a₁₁  ⎠ ⎝         a₁₁  ⎠   a₁₃⋅a₃₁      ⎟     \n",
       "↪  a₃₃ + ──────────────────────────────── - ───────      ⎟     \n",
       "↪                       a₁₂⋅a₂₁               a₁₁        ⎟     \n",
       "↪                 a₂₂ - ───────                          ⎟     \n",
       "↪                         a₁₁                            ⎠     \n",
       "↪ ──────────────────────────────────────────────────────── = c₁\n",
       "↪                                                              \n",
       "↪                                                              \n",
       "↪                                                              \n",
       "↪                                                              \n",
       "↪                                                              \n",
       "↪                                                              \n",
       "↪                                                              "
      ]
     },
     "metadata": {},
     "output_type": "display_data"
    },
    {
     "data": {
      "image/png": "[encoded data removed]",
      "text/latex": [
       "$\\displaystyle \\frac{u_{22} \\left(b_{2} - \\frac{\\left(a_{23} - \\frac{a_{13} a_{21}}{a_{11}}\\right) \\left(b_{3} + \\frac{\\left(- a_{32} + \\frac{a_{12} a_{31}}{a_{11}}\\right) \\left(b_{2} - \\frac{a_{21} b_{1}}{a_{11}}\\right)}{a_{22} - \\frac{a_{12} a_{21}}{a_{11}}} - \\frac{a_{31} b_{1}}{a_{11}}\\right)}{a_{33} + \\frac{\\left(a_{23} - \\frac{a_{13} a_{21}}{a_{11}}\\right) \\left(- a_{32} + \\frac{a_{12} a_{31}}{a_{11}}\\right)}{a_{22} - \\frac{a_{12} a_{21}}{a_{11}}} - \\frac{a_{13} a_{31}}{a_{11}}} - \\frac{a_{21} b_{1}}{a_{11}}\\right)}{a_{22} - \\frac{a_{12} a_{21}}{a_{11}}} + \\frac{u_{23} \\left(b_{3} + \\frac{\\left(- a_{32} + \\frac{a_{12} a_{31}}{a_{11}}\\right) \\left(b_{2} - \\frac{a_{21} b_{1}}{a_{11}}\\right)}{a_{22} - \\frac{a_{12} a_{21}}{a_{11}}} - \\frac{a_{31} b_{1}}{a_{11}}\\right)}{a_{33} + \\frac{\\left(a_{23} - \\frac{a_{13} a_{21}}{a_{11}}\\right) \\left(- a_{32} + \\frac{a_{12} a_{31}}{a_{11}}\\right)}{a_{22} - \\frac{a_{12} a_{21}}{a_{11}}} - \\frac{a_{13} a_{31}}{a_{11}}} = c_{2}$"
      ],
      "text/plain": [
       "    ⎛                     ⎛     ⎛       a₁₂⋅a₃₁⎞ ⎛     a₂₁⋅b₁⎞         ⎞       ↪\n",
       "    ⎜                     ⎜     ⎜-a₃₂ + ───────⎟⋅⎜b₂ - ──────⎟         ⎟       ↪\n",
       "    ⎜     ⎛      a₁₃⋅a₂₁⎞ ⎜     ⎝         a₁₁  ⎠ ⎝      a₁₁  ⎠   a₃₁⋅b₁⎟       ↪\n",
       "    ⎜     ⎜a₂₃ - ───────⎟⋅⎜b₃ + ────────────────────────────── - ──────⎟       ↪\n",
       "    ⎜     ⎝        a₁₁  ⎠ ⎜                   a₁₂⋅a₂₁             a₁₁  ⎟       ↪\n",
       "    ⎜                     ⎜             a₂₂ - ───────                  ⎟       ↪\n",
       "    ⎜                     ⎝                     a₁₁                    ⎠   a₂₁ ↪\n",
       "u₂₂⋅⎜b₂ - ────────────────────────────────────────────────────────────── - ─── ↪\n",
       "    ⎜                  ⎛      a₁₃⋅a₂₁⎞ ⎛       a₁₂⋅a₃₁⎞                     a₁ ↪\n",
       "    ⎜                  ⎜a₂₃ - ───────⎟⋅⎜-a₃₂ + ───────⎟                        ↪\n",
       "    ⎜                  ⎝        a₁₁  ⎠ ⎝         a₁₁  ⎠   a₁₃⋅a₃₁              ↪\n",
       "    ⎜            a₃₃ + ──────────────────────────────── - ───────              ↪\n",
       "    ⎜                                 a₁₂⋅a₂₁               a₁₁                ↪\n",
       "    ⎜                           a₂₂ - ───────                                  ↪\n",
       "    ⎝                                   a₁₁                                    ↪\n",
       "────────────────────────────────────────────────────────────────────────────── ↪\n",
       "                                        a₁₂⋅a₂₁                                ↪\n",
       "                                  a₂₂ - ───────                                ↪\n",
       "                                          a₁₁                                  ↪\n",
       "                                                                               ↪\n",
       "                                                                               ↪\n",
       "                                                                               ↪\n",
       "                                                                               ↪\n",
       "\n",
       "↪    ⎞                                                          \n",
       "↪    ⎟                                                          \n",
       "↪    ⎟                                                          \n",
       "↪    ⎟                                                          \n",
       "↪    ⎟                                                          \n",
       "↪    ⎟                                                          \n",
       "↪ ⋅b₁⎟                                                          \n",
       "↪ ───⎟                                                          \n",
       "↪ ₁  ⎟       ⎛     ⎛       a₁₂⋅a₃₁⎞ ⎛     a₂₁⋅b₁⎞         ⎞     \n",
       "↪    ⎟       ⎜     ⎜-a₃₂ + ───────⎟⋅⎜b₂ - ──────⎟         ⎟     \n",
       "↪    ⎟       ⎜     ⎝         a₁₁  ⎠ ⎝      a₁₁  ⎠   a₃₁⋅b₁⎟     \n",
       "↪    ⎟   u₂₃⋅⎜b₃ + ────────────────────────────── - ──────⎟     \n",
       "↪    ⎟       ⎜                   a₁₂⋅a₂₁             a₁₁  ⎟     \n",
       "↪    ⎟       ⎜             a₂₂ - ───────                  ⎟     \n",
       "↪    ⎠       ⎝                     a₁₁                    ⎠     \n",
       "↪ ──── + ────────────────────────────────────────────────── = c₂\n",
       "↪               ⎛      a₁₃⋅a₂₁⎞ ⎛       a₁₂⋅a₃₁⎞                \n",
       "↪               ⎜a₂₃ - ───────⎟⋅⎜-a₃₂ + ───────⎟                \n",
       "↪               ⎝        a₁₁  ⎠ ⎝         a₁₁  ⎠   a₁₃⋅a₃₁      \n",
       "↪         a₃₃ + ──────────────────────────────── - ───────      \n",
       "↪                              a₁₂⋅a₂₁               a₁₁        \n",
       "↪                        a₂₂ - ───────                          \n",
       "↪                                a₁₁                            "
      ]
     },
     "metadata": {},
     "output_type": "display_data"
    },
    {
     "data": {
      "image/png": "[encoded data removed]",
      "text/latex": [
       "$\\displaystyle \\frac{u_{33} \\left(b_{3} + \\frac{\\left(- a_{32} + \\frac{a_{12} a_{31}}{a_{11}}\\right) \\left(b_{2} - \\frac{a_{21} b_{1}}{a_{11}}\\right)}{a_{22} - \\frac{a_{12} a_{21}}{a_{11}}} - \\frac{a_{31} b_{1}}{a_{11}}\\right)}{a_{33} + \\frac{\\left(a_{23} - \\frac{a_{13} a_{21}}{a_{11}}\\right) \\left(- a_{32} + \\frac{a_{12} a_{31}}{a_{11}}\\right)}{a_{22} - \\frac{a_{12} a_{21}}{a_{11}}} - \\frac{a_{13} a_{31}}{a_{11}}} = c_{3}$"
      ],
      "text/plain": [
       "    ⎛     ⎛       a₁₂⋅a₃₁⎞ ⎛     a₂₁⋅b₁⎞         ⎞     \n",
       "    ⎜     ⎜-a₃₂ + ───────⎟⋅⎜b₂ - ──────⎟         ⎟     \n",
       "    ⎜     ⎝         a₁₁  ⎠ ⎝      a₁₁  ⎠   a₃₁⋅b₁⎟     \n",
       "u₃₃⋅⎜b₃ + ────────────────────────────── - ──────⎟     \n",
       "    ⎜                   a₁₂⋅a₂₁             a₁₁  ⎟     \n",
       "    ⎜             a₂₂ - ───────                  ⎟     \n",
       "    ⎝                     a₁₁                    ⎠     \n",
       "────────────────────────────────────────────────── = c₃\n",
       "       ⎛      a₁₃⋅a₂₁⎞ ⎛       a₁₂⋅a₃₁⎞                \n",
       "       ⎜a₂₃ - ───────⎟⋅⎜-a₃₂ + ───────⎟                \n",
       "       ⎝        a₁₁  ⎠ ⎝         a₁₁  ⎠   a₁₃⋅a₃₁      \n",
       " a₃₃ + ──────────────────────────────── - ───────      \n",
       "                      a₁₂⋅a₂₁               a₁₁        \n",
       "                a₂₂ - ───────                          \n",
       "                        a₁₁                            "
      ]
     },
     "metadata": {},
     "output_type": "display_data"
    }
   ],
   "source": [
    "display(sym.Eq(u11 * x1 + u12 * x2 + u13 * x3, c1))\n",
    "display(sym.Eq(u22 * x2 + u23 * x3, c2))\n",
    "display(sym.Eq(u33 * x3, c3))"
   ]
  },
  {
   "cell_type": "markdown",
   "metadata": {},
   "source": [
    "Now, we clearly see that the simplest equation to solve is indeed the last one!\n",
    "\n",
    "We now solve the _transformed_ linear system of equations then:"
   ]
  },
  {
   "cell_type": "code",
   "execution_count": 201,
   "metadata": {},
   "outputs": [
    {
     "name": "stdout",
     "output_type": "stream",
     "text": [
      "\u001b[1mx3\u001b[0m\n"
     ]
    },
    {
     "data": {
      "image/png": "[encoded data removed]",
      "text/latex": [
       "$\\displaystyle \\frac{b_{3} + \\frac{\\left(- a_{32} + \\frac{a_{12} a_{31}}{a_{11}}\\right) \\left(b_{2} - \\frac{a_{21} b_{1}}{a_{11}}\\right)}{a_{22} - \\frac{a_{12} a_{21}}{a_{11}}} - \\frac{a_{31} b_{1}}{a_{11}}}{a_{33} + \\frac{\\left(a_{23} - \\frac{a_{13} a_{21}}{a_{11}}\\right) \\left(- a_{32} + \\frac{a_{12} a_{31}}{a_{11}}\\right)}{a_{22} - \\frac{a_{12} a_{21}}{a_{11}}} - \\frac{a_{13} a_{31}}{a_{11}}}$"
      ],
      "text/plain": [
       "       ⎛       a₁₂⋅a₃₁⎞ ⎛     a₂₁⋅b₁⎞           \n",
       "       ⎜-a₃₂ + ───────⎟⋅⎜b₂ - ──────⎟           \n",
       "       ⎝         a₁₁  ⎠ ⎝      a₁₁  ⎠   a₃₁⋅b₁  \n",
       "  b₃ + ────────────────────────────── - ──────  \n",
       "                     a₁₂⋅a₂₁             a₁₁    \n",
       "               a₂₂ - ───────                    \n",
       "                       a₁₁                      \n",
       "────────────────────────────────────────────────\n",
       "      ⎛      a₁₃⋅a₂₁⎞ ⎛       a₁₂⋅a₃₁⎞          \n",
       "      ⎜a₂₃ - ───────⎟⋅⎜-a₃₂ + ───────⎟          \n",
       "      ⎝        a₁₁  ⎠ ⎝         a₁₁  ⎠   a₁₃⋅a₃₁\n",
       "a₃₃ + ──────────────────────────────── - ───────\n",
       "                     a₁₂⋅a₂₁               a₁₁  \n",
       "               a₂₂ - ───────                    \n",
       "                       a₁₁                      "
      ]
     },
     "metadata": {},
     "output_type": "display_data"
    },
    {
     "name": "stdout",
     "output_type": "stream",
     "text": [
      "\u001b[1mx2\u001b[0m\n"
     ]
    },
    {
     "data": {
      "image/png": "[encoded data removed]",
      "text/latex": [
       "$\\displaystyle \\frac{b_{2} - \\frac{\\left(a_{23} - \\frac{a_{13} a_{21}}{a_{11}}\\right) \\left(b_{3} + \\frac{\\left(- a_{32} + \\frac{a_{12} a_{31}}{a_{11}}\\right) \\left(b_{2} - \\frac{a_{21} b_{1}}{a_{11}}\\right)}{a_{22} - \\frac{a_{12} a_{21}}{a_{11}}} - \\frac{a_{31} b_{1}}{a_{11}}\\right)}{a_{33} + \\frac{\\left(a_{23} - \\frac{a_{13} a_{21}}{a_{11}}\\right) \\left(- a_{32} + \\frac{a_{12} a_{31}}{a_{11}}\\right)}{a_{22} - \\frac{a_{12} a_{21}}{a_{11}}} - \\frac{a_{13} a_{31}}{a_{11}}} - \\frac{a_{21} b_{1}}{a_{11}}}{a_{22} - \\frac{a_{12} a_{21}}{a_{11}}}$"
      ],
      "text/plain": [
       "                     ⎛     ⎛       a₁₂⋅a₃₁⎞ ⎛     a₂₁⋅b₁⎞         ⎞         \n",
       "                     ⎜     ⎜-a₃₂ + ───────⎟⋅⎜b₂ - ──────⎟         ⎟         \n",
       "     ⎛      a₁₃⋅a₂₁⎞ ⎜     ⎝         a₁₁  ⎠ ⎝      a₁₁  ⎠   a₃₁⋅b₁⎟         \n",
       "     ⎜a₂₃ - ───────⎟⋅⎜b₃ + ────────────────────────────── - ──────⎟         \n",
       "     ⎝        a₁₁  ⎠ ⎜                   a₁₂⋅a₂₁             a₁₁  ⎟         \n",
       "                     ⎜             a₂₂ - ───────                  ⎟         \n",
       "                     ⎝                     a₁₁                    ⎠   a₂₁⋅b₁\n",
       "b₂ - ────────────────────────────────────────────────────────────── - ──────\n",
       "                  ⎛      a₁₃⋅a₂₁⎞ ⎛       a₁₂⋅a₃₁⎞                     a₁₁  \n",
       "                  ⎜a₂₃ - ───────⎟⋅⎜-a₃₂ + ───────⎟                          \n",
       "                  ⎝        a₁₁  ⎠ ⎝         a₁₁  ⎠   a₁₃⋅a₃₁                \n",
       "            a₃₃ + ──────────────────────────────── - ───────                \n",
       "                                 a₁₂⋅a₂₁               a₁₁                  \n",
       "                           a₂₂ - ───────                                    \n",
       "                                   a₁₁                                      \n",
       "────────────────────────────────────────────────────────────────────────────\n",
       "                                     a₁₂⋅a₂₁                                \n",
       "                               a₂₂ - ───────                                \n",
       "                                       a₁₁                                  "
      ]
     },
     "metadata": {},
     "output_type": "display_data"
    },
    {
     "name": "stdout",
     "output_type": "stream",
     "text": [
      "\u001b[1mx1\u001b[0m\n"
     ]
    },
    {
     "data": {
      "image/png": "[encoded data removed]",
      "text/latex": [
       "$\\displaystyle \\frac{- \\frac{a_{12} \\left(b_{2} - \\frac{\\left(a_{23} - \\frac{a_{13} a_{21}}{a_{11}}\\right) \\left(b_{3} + \\frac{\\left(- a_{32} + \\frac{a_{12} a_{31}}{a_{11}}\\right) \\left(b_{2} - \\frac{a_{21} b_{1}}{a_{11}}\\right)}{a_{22} - \\frac{a_{12} a_{21}}{a_{11}}} - \\frac{a_{31} b_{1}}{a_{11}}\\right)}{a_{33} + \\frac{\\left(a_{23} - \\frac{a_{13} a_{21}}{a_{11}}\\right) \\left(- a_{32} + \\frac{a_{12} a_{31}}{a_{11}}\\right)}{a_{22} - \\frac{a_{12} a_{21}}{a_{11}}} - \\frac{a_{13} a_{31}}{a_{11}}} - \\frac{a_{21} b_{1}}{a_{11}}\\right)}{a_{22} - \\frac{a_{12} a_{21}}{a_{11}}} - \\frac{a_{13} \\left(b_{3} + \\frac{\\left(- a_{32} + \\frac{a_{12} a_{31}}{a_{11}}\\right) \\left(b_{2} - \\frac{a_{21} b_{1}}{a_{11}}\\right)}{a_{22} - \\frac{a_{12} a_{21}}{a_{11}}} - \\frac{a_{31} b_{1}}{a_{11}}\\right)}{a_{33} + \\frac{\\left(a_{23} - \\frac{a_{13} a_{21}}{a_{11}}\\right) \\left(- a_{32} + \\frac{a_{12} a_{31}}{a_{11}}\\right)}{a_{22} - \\frac{a_{12} a_{21}}{a_{11}}} - \\frac{a_{13} a_{31}}{a_{11}}} + b_{1}}{a_{11}}$"
      ],
      "text/plain": [
       "      ⎛                     ⎛     ⎛       a₁₂⋅a₃₁⎞ ⎛     a₂₁⋅b₁⎞         ⎞     ↪\n",
       "      ⎜                     ⎜     ⎜-a₃₂ + ───────⎟⋅⎜b₂ - ──────⎟         ⎟     ↪\n",
       "      ⎜     ⎛      a₁₃⋅a₂₁⎞ ⎜     ⎝         a₁₁  ⎠ ⎝      a₁₁  ⎠   a₃₁⋅b₁⎟     ↪\n",
       "      ⎜     ⎜a₂₃ - ───────⎟⋅⎜b₃ + ────────────────────────────── - ──────⎟     ↪\n",
       "      ⎜     ⎝        a₁₁  ⎠ ⎜                   a₁₂⋅a₂₁             a₁₁  ⎟     ↪\n",
       "      ⎜                     ⎜             a₂₂ - ───────                  ⎟     ↪\n",
       "      ⎜                     ⎝                     a₁₁                    ⎠   a ↪\n",
       "  a₁₂⋅⎜b₂ - ────────────────────────────────────────────────────────────── - ─ ↪\n",
       "      ⎜                  ⎛      a₁₃⋅a₂₁⎞ ⎛       a₁₂⋅a₃₁⎞                      ↪\n",
       "      ⎜                  ⎜a₂₃ - ───────⎟⋅⎜-a₃₂ + ───────⎟                      ↪\n",
       "      ⎜                  ⎝        a₁₁  ⎠ ⎝         a₁₁  ⎠   a₁₃⋅a₃₁            ↪\n",
       "      ⎜            a₃₃ + ──────────────────────────────── - ───────            ↪\n",
       "      ⎜                                 a₁₂⋅a₂₁               a₁₁              ↪\n",
       "      ⎜                           a₂₂ - ───────                                ↪\n",
       "      ⎝                                   a₁₁                                  ↪\n",
       "- ──────────────────────────────────────────────────────────────────────────── ↪\n",
       "                                          a₁₂⋅a₂₁                              ↪\n",
       "                                    a₂₂ - ───────                              ↪\n",
       "                                            a₁₁                                ↪\n",
       "                                                                               ↪\n",
       "                                                                               ↪\n",
       "                                                                               ↪\n",
       "                                                                               ↪\n",
       "────────────────────────────────────────────────────────────────────────────── ↪\n",
       "                                                                     a₁₁       ↪\n",
       "\n",
       "↪      ⎞                                                          \n",
       "↪      ⎟                                                          \n",
       "↪      ⎟                                                          \n",
       "↪      ⎟                                                          \n",
       "↪      ⎟                                                          \n",
       "↪      ⎟                                                          \n",
       "↪ ₂₁⋅b₁⎟                                                          \n",
       "↪ ─────⎟                                                          \n",
       "↪ a₁₁  ⎟       ⎛     ⎛       a₁₂⋅a₃₁⎞ ⎛     a₂₁⋅b₁⎞         ⎞     \n",
       "↪      ⎟       ⎜     ⎜-a₃₂ + ───────⎟⋅⎜b₂ - ──────⎟         ⎟     \n",
       "↪      ⎟       ⎜     ⎝         a₁₁  ⎠ ⎝      a₁₁  ⎠   a₃₁⋅b₁⎟     \n",
       "↪      ⎟   a₁₃⋅⎜b₃ + ────────────────────────────── - ──────⎟     \n",
       "↪      ⎟       ⎜                   a₁₂⋅a₂₁             a₁₁  ⎟     \n",
       "↪      ⎟       ⎜             a₂₂ - ───────                  ⎟     \n",
       "↪      ⎠       ⎝                     a₁₁                    ⎠     \n",
       "↪ ────── - ────────────────────────────────────────────────── + b₁\n",
       "↪                 ⎛      a₁₃⋅a₂₁⎞ ⎛       a₁₂⋅a₃₁⎞                \n",
       "↪                 ⎜a₂₃ - ───────⎟⋅⎜-a₃₂ + ───────⎟                \n",
       "↪                 ⎝        a₁₁  ⎠ ⎝         a₁₁  ⎠   a₁₃⋅a₃₁      \n",
       "↪           a₃₃ + ──────────────────────────────── - ───────      \n",
       "↪                                a₁₂⋅a₂₁               a₁₁        \n",
       "↪                          a₂₂ - ───────                          \n",
       "↪                                  a₁₁                            \n",
       "↪ ────────────────────────────────────────────────────────────────\n",
       "↪                                                                 "
      ]
     },
     "metadata": {},
     "output_type": "display_data"
    }
   ],
   "source": [
    "# Backward substitution - here we solve the last equation, in this case the third equation. We show it for completeness: \n",
    "x3 = c[2]/U[2,2]\n",
    "print(textBoldH('x3'))\n",
    "display(x3)\n",
    "x2 = (c[1]-U[1,2]*x3)/U[1,1]\n",
    "print(textBoldH('x2'))\n",
    "display(x2)\n",
    "x1 = (c[0]-U[0,1]*x2-U[0,2]*x3)/U[0,0]\n",
    "print(textBoldH('x1'))\n",
    "display(x1)"
   ]
  },
  {
   "cell_type": "markdown",
   "metadata": {},
   "source": [
    "**For completeness, we will check with SymPy that what we found actually solves the original linear system of equations:**"
   ]
  },
  {
   "cell_type": "code",
   "execution_count": 202,
   "metadata": {},
   "outputs": [
    {
     "data": {
      "image/png": "[encoded data removed]",
      "text/latex": [
       "$\\displaystyle \\text{True}$"
      ],
      "text/plain": [
       "True"
      ]
     },
     "metadata": {},
     "output_type": "display_data"
    },
    {
     "data": {
      "image/png": "[encoded data removed]",
      "text/latex": [
       "$\\displaystyle \\text{True}$"
      ],
      "text/plain": [
       "True"
      ]
     },
     "metadata": {},
     "output_type": "display_data"
    },
    {
     "data": {
      "image/png": "[encoded data removed]",
      "text/latex": [
       "$\\displaystyle \\text{True}$"
      ],
      "text/plain": [
       "True"
      ]
     },
     "metadata": {},
     "output_type": "display_data"
    }
   ],
   "source": [
    "display(sym.Eq(sym.simplify(A[0,0] * x1 + A[0,1] * x2 + A[0,2] * x3), b[0]))\n",
    "display(sym.Eq(sym.simplify(A[1,0] * x1 + A[1,1] * x2 + A[1,2] * x3), b[1]))\n",
    "display(sym.Eq(sym.simplify(A[2,0] * x1 + A[2,1] * x2 + A[2,2] * x3), b[2]))"
   ]
  },
  {
   "cell_type": "markdown",
   "metadata": {},
   "source": [
    "**Therefore, since all the outcomes are _True_, it does solve the original linear system of equations!**\n",
    "\n",
    "What we have learnt here?\n",
    "\n",
    "**Advantages**:\n",
    "1. _Transforming_ the linear system of equation $A\\,\\mathbf{x}=\\mathbf{b}$ to $U\\,\\mathbf{x}=\\mathbf{c}$ by means of row operations, it does indeed gives an **algorithm** to solve a linear system of equations.\n",
    "\n",
    "**Disadvantages**\n",
    "1. If we need to solve another linear system of equations where the only difference is the RHS vector, i.e. we get $A\\,\\mathbf{x}=\\widetilde{\\mathbf{b}}$, we still need to perform all the row operation, this implies that we will get the same matrix $U$ and the only change will be on the RHS, because we will get $\\widetilde{\\mathbf{c}}$. This, actually, tells us that there is something we could take advantage of. This is what the _LU_ factorization does!\n",
    "2. _There is another disadvantage that will be solved by the PALU factorization later, we ommit it for now_.\n",
    "\n",
    "**Comments**\n",
    "- The symbolic approach performed before, it is of limited use for larger linear system of equations. But it has, hopefully, been useful for understanding the Gaussian Elimination!"
   ]
  },
  {
   "cell_type": "markdown",
   "metadata": {},
   "source": [
    "<a id=\"fromgetolu\"></a>\n",
    "\n",
    "# From GE to LU\n",
    "[Back to TOC](#toc)\n",
    "\n",
    "The main _disadvantage_ of GE is that it needs to be computed completely from zero for each linear system of equations.\n",
    "Thus, we will study now how the GE is actually more powerful, and it can produce the LU factorization of a matrix.\n",
    "This means, to be able to rewrite a matrix $A$ as a product of the matrices $L$ and $U$, in general for a $n\\times n$ matrix this takes the following form,\n",
    "$$\n",
    "\\begin{bmatrix}\n",
    "    a_{1,1} & a_{1,2} & a_{1,3} & \\cdots & a_{1,n} \\\\\n",
    "    a_{2,1} & a_{2,2} & a_{2,3} & \\ddots & a_{2,n} \\\\\n",
    "    a_{3,1} & a_{3,2} & a_{3,3} & \\ddots & a_{3,n} \\\\\n",
    "    \\vdots & & \\ddots  & \\ddots & \\vdots \\\\\n",
    "    a_{n,1} & a_{n,2} & \\cdots & \\cdots & a_{n,n} \n",
    "\\end{bmatrix}\n",
    "=\n",
    "\\begin{bmatrix}\n",
    "    1 & 0 & \\cdots & \\cdots & 0 \\\\\n",
    "    l_{2,1} & 1 & \\ddots & \\ddots & 0 \\\\\n",
    "    l_{3,1} & l_{3,2} & 1 & \\ddots & 0 \\\\\n",
    "    \\vdots & & \\ddots & \\ddots &\\vdots  \\\\\n",
    "    l_{n,1} & \\cdots & \\cdots & l_{n,n-1} & 1\n",
    "\\end{bmatrix}\n",
    "\\begin{bmatrix}\n",
    "    u_{1,1} & u_{1,2} & u_{1,3} & \\cdots & u_{1,n} \\\\\n",
    "    0 & u_{2,2} & u_{2,3} & \\ddots & u_{2,n} \\\\\n",
    "    0 & 0 & u_{3,3} & \\ddots & u_{3,n} \\\\\n",
    "    \\vdots & & \\ddots  & \\ddots & \\vdots \\\\\n",
    "    0 & 0 & \\cdots & 0 & u_{n,n} \n",
    "\\end{bmatrix}.$$\n",
    "\n",
    "We note right away that the matrices $L$ and $U$ are **lower triangular** and **upper triangular** matrices, respectively.\n",
    "Moreover, the diagonal of $L$ are only $1$'s.\n",
    "\n",
    "In particular, we will use _again_ a $3\\times 3$ example, i.e.\n",
    "$$\n",
    "\\begin{bmatrix}\n",
    "    a_{1,1} & a_{1,2} & a_{1,3} \\\\\n",
    "    a_{2,1} & a_{2,2} & a_{2,3} \\\\\n",
    "    a_{3,1} & a_{3,2} & a_{3,3} \n",
    "\\end{bmatrix}\n",
    "=\n",
    "\\begin{bmatrix}\n",
    "    1 & 0 &  0 \\\\\n",
    "    l_{2,1} & 1 & 0 \\\\\n",
    "    l_{3,1} & l_{3,2} & 1\n",
    "\\end{bmatrix}\n",
    "\\begin{bmatrix}\n",
    "    u_{1,1} & u_{1,2} & u_{1,3}\\\\\n",
    "    0 & u_{2,2} & u_{2,3}\\\\\n",
    "    0 & 0 & u_{3,3}\n",
    "\\end{bmatrix}.$$\n"
   ]
  },
  {
   "cell_type": "code",
   "execution_count": 152,
   "metadata": {},
   "outputs": [
    {
     "data": {
      "image/png": "[encoded data removed]",
      "text/latex": [
       "$\\displaystyle \\left[\\begin{matrix}a_{11} & a_{12} & a_{13}\\\\a_{21} & a_{22} & a_{23}\\\\a_{31} & a_{32} & a_{33}\\end{matrix}\\right]$"
      ],
      "text/plain": [
       "⎡a₁₁  a₁₂  a₁₃⎤\n",
       "⎢             ⎥\n",
       "⎢a₂₁  a₂₂  a₂₃⎥\n",
       "⎢             ⎥\n",
       "⎣a₃₁  a₃₂  a₃₃⎦"
      ]
     },
     "metadata": {},
     "output_type": "display_data"
    }
   ],
   "source": [
    "A = sym.Matrix([[a11, a12, a13], [a21, a22, a23], [a31, a32, a33]])\n",
    "display(A)"
   ]
  },
  {
   "cell_type": "markdown",
   "metadata": {},
   "source": [
    "As we did before, the first two row operation can be expressed as a matrix-matrix product with $L_1=L_{1,0}(-\\frac{a_{2,1}}{a_{1,1}})$ and $L_2=L_{1,0}(-\\frac{a_{3,1}}{a_{1,1}})$, respectively.\n",
    "And, \n",
    "\n",
    "_A more detailed explanation of the use of the matrices $L_{i,j}(c)$ is presented in the classnotes, please take a look at them_."
   ]
  },
  {
   "cell_type": "code",
   "execution_count": 153,
   "metadata": {},
   "outputs": [
    {
     "data": {
      "image/png": "[encoded data removed]",
      "text/latex": [
       "$\\displaystyle \\left[\\begin{matrix}1 & 0 & 0\\\\- \\frac{a_{21}}{a_{11}} & 1 & 0\\\\0 & 0 & 1\\end{matrix}\\right]$"
      ],
      "text/plain": [
       "⎡  1    0  0⎤\n",
       "⎢           ⎥\n",
       "⎢-a₂₁       ⎥\n",
       "⎢─────  1  0⎥\n",
       "⎢ a₁₁       ⎥\n",
       "⎢           ⎥\n",
       "⎣  0    0  1⎦"
      ]
     },
     "metadata": {},
     "output_type": "display_data"
    },
    {
     "data": {
      "image/png": "[encoded data removed]",
      "text/latex": [
       "$\\displaystyle \\left[\\begin{matrix}1 & 0 & 0\\\\0 & 1 & 0\\\\- \\frac{a_{31}}{a_{11}} & 0 & 1\\end{matrix}\\right]$"
      ],
      "text/plain": [
       "⎡  1    0  0⎤\n",
       "⎢           ⎥\n",
       "⎢  0    1  0⎥\n",
       "⎢           ⎥\n",
       "⎢-a₃₁       ⎥\n",
       "⎢─────  0  1⎥\n",
       "⎣ a₁₁       ⎦"
      ]
     },
     "metadata": {},
     "output_type": "display_data"
    }
   ],
   "source": [
    "# Row operations for first column\n",
    "L10 = sym.eye(3)\n",
    "L10[1,0] = -a21/a11\n",
    "L1 = L10\n",
    "display(L1)\n",
    "L20 = sym.eye(3)\n",
    "L20[2,0] = -a31/a11\n",
    "L2 = L20\n",
    "display(L2)"
   ]
  },
  {
   "cell_type": "markdown",
   "metadata": {},
   "source": [
    "To compute the third, and last, row operation as a matrix-matrix product, we need to apply the first two row operations.\n",
    "After applying them, we can get the _updated_ coefficient of the diagonal of the second column, $A[1,1]$, needed to cancel out the _updated_ coefficient, $A[2,1]$, of the 3rd row and 2nd column.\n",
    "Now,we can build $L_3=L_{2,1}(-A[2,1]/A[1,1])$."
   ]
  },
  {
   "cell_type": "code",
   "execution_count": 154,
   "metadata": {},
   "outputs": [
    {
     "data": {
      "image/png": "[encoded data removed]",
      "text/latex": [
       "$\\displaystyle \\left[\\begin{matrix}a_{11} & a_{12} & a_{13}\\\\0 & a_{22} - \\frac{a_{12} a_{21}}{a_{11}} & a_{23} - \\frac{a_{13} a_{21}}{a_{11}}\\\\0 & a_{32} - \\frac{a_{12} a_{31}}{a_{11}} & a_{33} - \\frac{a_{13} a_{31}}{a_{11}}\\end{matrix}\\right]$"
      ],
      "text/plain": [
       "⎡a₁₁       a₁₂            a₁₃     ⎤\n",
       "⎢                                 ⎥\n",
       "⎢           a₁₂⋅a₂₁        a₁₃⋅a₂₁⎥\n",
       "⎢ 0   a₂₂ - ───────  a₂₃ - ───────⎥\n",
       "⎢             a₁₁            a₁₁  ⎥\n",
       "⎢                                 ⎥\n",
       "⎢           a₁₂⋅a₃₁        a₁₃⋅a₃₁⎥\n",
       "⎢ 0   a₃₂ - ───────  a₃₃ - ───────⎥\n",
       "⎣             a₁₁            a₁₁  ⎦"
      ]
     },
     "metadata": {},
     "output_type": "display_data"
    },
    {
     "data": {
      "image/png": "[encoded data removed]",
      "text/latex": [
       "$\\displaystyle \\left[\\begin{matrix}1 & 0 & 0\\\\0 & 1 & 0\\\\0 & \\frac{- a_{32} + \\frac{a_{12} a_{31}}{a_{11}}}{a_{22} - \\frac{a_{12} a_{21}}{a_{11}}} & 1\\end{matrix}\\right]$"
      ],
      "text/plain": [
       "⎡1        0         0⎤\n",
       "⎢                    ⎥\n",
       "⎢0        1         0⎥\n",
       "⎢                    ⎥\n",
       "⎢          a₁₂⋅a₃₁   ⎥\n",
       "⎢   -a₃₂ + ───────   ⎥\n",
       "⎢            a₁₁     ⎥\n",
       "⎢0  ──────────────  1⎥\n",
       "⎢         a₁₂⋅a₂₁    ⎥\n",
       "⎢   a₂₂ - ───────    ⎥\n",
       "⎣           a₁₁      ⎦"
      ]
     },
     "metadata": {},
     "output_type": "display_data"
    },
    {
     "data": {
      "image/png": "[encoded data removed]",
      "text/latex": [
       "$\\displaystyle \\left[\\begin{matrix}a_{11} & a_{12} & a_{13}\\\\0 & a_{22} - \\frac{a_{12} a_{21}}{a_{11}} & a_{23} - \\frac{a_{13} a_{21}}{a_{11}}\\\\0 & 0 & a_{33} + \\frac{\\left(a_{23} - \\frac{a_{13} a_{21}}{a_{11}}\\right) \\left(- a_{32} + \\frac{a_{12} a_{31}}{a_{11}}\\right)}{a_{22} - \\frac{a_{12} a_{21}}{a_{11}}} - \\frac{a_{13} a_{31}}{a_{11}}\\end{matrix}\\right]$"
      ],
      "text/plain": [
       "⎡a₁₁       a₁₂                             a₁₃                       ⎤\n",
       "⎢                                                                    ⎥\n",
       "⎢           a₁₂⋅a₂₁                         a₁₃⋅a₂₁                  ⎥\n",
       "⎢ 0   a₂₂ - ───────                   a₂₃ - ───────                  ⎥\n",
       "⎢             a₁₁                             a₁₁                    ⎥\n",
       "⎢                                                                    ⎥\n",
       "⎢                          ⎛      a₁₃⋅a₂₁⎞ ⎛       a₁₂⋅a₃₁⎞          ⎥\n",
       "⎢                          ⎜a₂₃ - ───────⎟⋅⎜-a₃₂ + ───────⎟          ⎥\n",
       "⎢                          ⎝        a₁₁  ⎠ ⎝         a₁₁  ⎠   a₁₃⋅a₃₁⎥\n",
       "⎢ 0         0        a₃₃ + ──────────────────────────────── - ───────⎥\n",
       "⎢                                         a₁₂⋅a₂₁               a₁₁  ⎥\n",
       "⎢                                   a₂₂ - ───────                    ⎥\n",
       "⎣                                           a₁₁                      ⎦"
      ]
     },
     "metadata": {},
     "output_type": "display_data"
    }
   ],
   "source": [
    "A = sym.Matrix([[a11, a12, a13], [a21, a22, a23], [a31, a32, a33]])\n",
    "A = L2*L1*A\n",
    "display(A)\n",
    "L21 = sym.eye(3)\n",
    "L21[2,1] = -A[2,1]/A[1,1]\n",
    "L3 = L21\n",
    "display(L3)\n",
    "U = L3*A\n",
    "display(U)"
   ]
  },
  {
   "cell_type": "markdown",
   "metadata": {},
   "source": [
    "Thus, we have sucessfully computed $L_1$, $L_2$, and $L_3$.\n",
    "This actually show we have the following identity,\n",
    "$$\n",
    "L_3\\,L_2\\,L_1\\,A=U.\n",
    "$$\n",
    "To verify it, we do it with SymPy,"
   ]
  },
  {
   "cell_type": "code",
   "execution_count": 155,
   "metadata": {},
   "outputs": [
    {
     "data": {
      "image/png": "[encoded data removed]",
      "text/latex": [
       "$\\displaystyle \\text{True}$"
      ],
      "text/plain": [
       "True"
      ]
     },
     "execution_count": 155,
     "metadata": {},
     "output_type": "execute_result"
    }
   ],
   "source": [
    "A = sym.Matrix([[a11, a12, a13], [a21, a22, a23], [a31, a32, a33]])\n",
    "sym.Eq(sym.simplify(L3*L2*L1*A),sym.simplify(U))"
   ]
  },
  {
   "cell_type": "markdown",
   "metadata": {},
   "source": [
    "This output equal to _True_ shows that the identity holds!\n",
    "\n",
    "Now, we are one step closer to the _LU_ factorization.\n",
    "We may notice that $L$ should be conencted to the matrices $L_1$, $L_2$ and $L_3$.\n",
    "But, before we continue we need to point out a property of the $L_k$ matrices.\n",
    "This is that the computation of the inverse of each of them is very simply, it is just the same matrix but with the opposite sign in the coefficient used for the row operation.\n",
    "In particular, as we defined before, if we write the _row-operation matrices_ as $L_{i,j}(c)$, then its inverse is simply $L_{i,j}(-c)$.\n",
    "For instace, let's considerr $L_1$.\n"
   ]
  },
  {
   "cell_type": "code",
   "execution_count": 156,
   "metadata": {},
   "outputs": [
    {
     "data": {
      "image/png": "[encoded data removed]",
      "text/latex": [
       "$\\displaystyle \\left[\\begin{matrix}1 & 0 & 0\\\\- \\frac{a_{21}}{a_{11}} & 1 & 0\\\\0 & 0 & 1\\end{matrix}\\right]$"
      ],
      "text/plain": [
       "⎡  1    0  0⎤\n",
       "⎢           ⎥\n",
       "⎢-a₂₁       ⎥\n",
       "⎢─────  1  0⎥\n",
       "⎢ a₁₁       ⎥\n",
       "⎢           ⎥\n",
       "⎣  0    0  1⎦"
      ]
     },
     "metadata": {},
     "output_type": "display_data"
    },
    {
     "data": {
      "image/png": "[encoded data removed]",
      "text/latex": [
       "$\\displaystyle \\left[\\begin{matrix}1 & 0 & 0\\\\\\frac{a_{21}}{a_{11}} & 1 & 0\\\\0 & 0 & 1\\end{matrix}\\right]$"
      ],
      "text/plain": [
       "⎡ 1   0  0⎤\n",
       "⎢         ⎥\n",
       "⎢a₂₁      ⎥\n",
       "⎢───  1  0⎥\n",
       "⎢a₁₁      ⎥\n",
       "⎢         ⎥\n",
       "⎣ 0   0  1⎦"
      ]
     },
     "metadata": {},
     "output_type": "display_data"
    },
    {
     "data": {
      "image/png": "[encoded data removed]",
      "text/latex": [
       "$\\displaystyle \\left[\\begin{matrix}1 & 0 & 0\\\\0 & 1 & 0\\\\0 & 0 & 1\\end{matrix}\\right]$"
      ],
      "text/plain": [
       "⎡1  0  0⎤\n",
       "⎢       ⎥\n",
       "⎢0  1  0⎥\n",
       "⎢       ⎥\n",
       "⎣0  0  1⎦"
      ]
     },
     "metadata": {},
     "output_type": "display_data"
    }
   ],
   "source": [
    "display(L1)\n",
    "display(L1.inv())\n",
    "display(L1*L1.inv())"
   ]
  },
  {
   "cell_type": "markdown",
   "metadata": {},
   "source": [
    "This allow us to move to the RHS the matrices $L_1$, $L_2$ and $L_3$ in the identity $L_3\\,L_2\\,L_1\\,A=U$ as follows,\n",
    "$$\n",
    "A = L_1^{-1}\\,L_2^{-1}\\,L_3^{-1}\\,U.\n",
    "$$\n",
    "In particular, if we re-write $L_1$, $L_2$ and $L_3$ as follows,\n",
    "$$\n",
    "L_1=\n",
    "\\begin{bmatrix}\n",
    "    1 & 0 & 0\\\\\n",
    "    -l_1 & 1 & 0\\\\\n",
    "    0 & 0 & 1\n",
    "\\end{bmatrix},\n",
    "\\quad\n",
    "L_2=\n",
    "\\begin{bmatrix}\n",
    "    1 & 0 & 0\\\\\n",
    "    0 & 1 & 0\\\\\n",
    "    -l_2 & 0 & 1\n",
    "\\end{bmatrix},\n",
    "\\quad\n",
    "\\textrm{and}\n",
    "\\quad\n",
    "L_3=\n",
    "\\begin{bmatrix}\n",
    "    1 & 0 & 0\\\\\n",
    "    0 & 1 & 0\\\\\n",
    "    0 & -l_3 & 1\n",
    "\\end{bmatrix}.\n",
    "$$"
   ]
  },
  {
   "cell_type": "code",
   "execution_count": 157,
   "metadata": {},
   "outputs": [
    {
     "data": {
      "image/png": "[encoded data removed]",
      "text/latex": [
       "$\\displaystyle \\left[\\begin{matrix}1 & 0 & 0\\\\- l_{1} & 1 & 0\\\\0 & 0 & 1\\end{matrix}\\right]$"
      ],
      "text/plain": [
       "⎡ 1   0  0⎤\n",
       "⎢         ⎥\n",
       "⎢-l₁  1  0⎥\n",
       "⎢         ⎥\n",
       "⎣ 0   0  1⎦"
      ]
     },
     "metadata": {},
     "output_type": "display_data"
    },
    {
     "data": {
      "image/png": "[encoded data removed]",
      "text/latex": [
       "$\\displaystyle \\left[\\begin{matrix}1 & 0 & 0\\\\0 & 1 & 0\\\\- l_{2} & 0 & 1\\end{matrix}\\right]$"
      ],
      "text/plain": [
       "⎡ 1   0  0⎤\n",
       "⎢         ⎥\n",
       "⎢ 0   1  0⎥\n",
       "⎢         ⎥\n",
       "⎣-l₂  0  1⎦"
      ]
     },
     "metadata": {},
     "output_type": "display_data"
    },
    {
     "data": {
      "image/png": "[encoded data removed]",
      "text/latex": [
       "$\\displaystyle \\left[\\begin{matrix}1 & 0 & 0\\\\0 & 1 & 0\\\\0 & - l_{3} & 1\\end{matrix}\\right]$"
      ],
      "text/plain": [
       "⎡1   0   0⎤\n",
       "⎢         ⎥\n",
       "⎢0   1   0⎥\n",
       "⎢         ⎥\n",
       "⎣0  -l₃  1⎦"
      ]
     },
     "metadata": {},
     "output_type": "display_data"
    }
   ],
   "source": [
    "L1 = sym.Matrix([[1,0,0],[-l1,1,0],[0,0,1]])\n",
    "L2 = sym.Matrix([[1,0,0],[0,1,0],[-l2,0,1]])\n",
    "L3 = sym.Matrix([[1,0,0],[0,1,0],[0,-l3,1]])\n",
    "display(L1,L2,L3)"
   ]
  },
  {
   "cell_type": "markdown",
   "metadata": {},
   "source": [
    "Compute the inverse of each one explicitly, we notice the property mentioend before, i.e. $L_{i,j}^{-1}(c)=L_{i,j}(-c)$."
   ]
  },
  {
   "cell_type": "code",
   "execution_count": 158,
   "metadata": {},
   "outputs": [
    {
     "data": {
      "image/png": "[encoded data removed]",
      "text/latex": [
       "$\\displaystyle \\left[\\begin{matrix}1 & 0 & 0\\\\l_{1} & 1 & 0\\\\0 & 0 & 1\\end{matrix}\\right]$"
      ],
      "text/plain": [
       "⎡1   0  0⎤\n",
       "⎢        ⎥\n",
       "⎢l₁  1  0⎥\n",
       "⎢        ⎥\n",
       "⎣0   0  1⎦"
      ]
     },
     "metadata": {},
     "output_type": "display_data"
    },
    {
     "data": {
      "image/png": "[encoded data removed]",
      "text/latex": [
       "$\\displaystyle \\left[\\begin{matrix}1 & 0 & 0\\\\0 & 1 & 0\\\\l_{2} & 0 & 1\\end{matrix}\\right]$"
      ],
      "text/plain": [
       "⎡1   0  0⎤\n",
       "⎢        ⎥\n",
       "⎢0   1  0⎥\n",
       "⎢        ⎥\n",
       "⎣l₂  0  1⎦"
      ]
     },
     "metadata": {},
     "output_type": "display_data"
    },
    {
     "data": {
      "image/png": "[encoded data removed]",
      "text/latex": [
       "$\\displaystyle \\left[\\begin{matrix}1 & 0 & 0\\\\0 & 1 & 0\\\\0 & l_{3} & 1\\end{matrix}\\right]$"
      ],
      "text/plain": [
       "⎡1  0   0⎤\n",
       "⎢        ⎥\n",
       "⎢0  1   0⎥\n",
       "⎢        ⎥\n",
       "⎣0  l₃  1⎦"
      ]
     },
     "metadata": {},
     "output_type": "display_data"
    }
   ],
   "source": [
    "display(L1.inv())\n",
    "display(L2.inv())\n",
    "display(L3.inv())"
   ]
  },
  {
   "cell_type": "markdown",
   "metadata": {},
   "source": [
    "Another important property of this $L_{i,j}(c)$ matrices is that if we multiply them in the actual order we showed before we get the following identity,\n",
    "$$\n",
    "\\begin{align*}\n",
    "\\begin{bmatrix}\n",
    "    1 & 0 & 0\\\\\n",
    "    -l_1 & 1 & 0\\\\\n",
    "    0 & 0 & 1\n",
    "\\end{bmatrix}^{-1}\n",
    "\\begin{bmatrix}\n",
    "    1 & 0 & 0\\\\\n",
    "    0 & 1 & 0\\\\\n",
    "    -l_2 & 0 & 1\n",
    "\\end{bmatrix}^{-1}\n",
    "\\begin{bmatrix}\n",
    "    1 & 0 & 0\\\\\n",
    "    0 & 1 & 0\\\\\n",
    "    0 & -l_3 & 1\n",
    "\\end{bmatrix}^{-1}\n",
    "&=\n",
    "\\begin{bmatrix}\n",
    "    1 & 0 & 0\\\\\n",
    "    l_1 & 1 & 0\\\\\n",
    "    0 & 0 & 1\n",
    "\\end{bmatrix}\n",
    "\\begin{bmatrix}\n",
    "    1 & 0 & 0\\\\\n",
    "    0 & 1 & 0\\\\\n",
    "    l_2 & 0 & 1\n",
    "\\end{bmatrix}\n",
    "\\begin{bmatrix}\n",
    "    1 & 0 & 0\\\\\n",
    "    0 & 1 & 0\\\\\n",
    "    0 & l_3 & 1\n",
    "\\end{bmatrix}\\\\\n",
    "&=\n",
    "\\begin{bmatrix}\n",
    "    1 & 0 & 0\\\\\n",
    "    l_1 & 1 & 0\\\\\n",
    "    l_2 & l_3 & 1\n",
    "\\end{bmatrix}\n",
    "\\end{align*}.\n",
    "$$\n",
    "\n",
    "This means that the product $L_1^{-1}\\,L_2^{-1}\\,L_3^{-1}$ actually collects the coefficients of the corresponding component, without changing anything else."
   ]
  },
  {
   "cell_type": "code",
   "execution_count": 159,
   "metadata": {},
   "outputs": [
    {
     "data": {
      "image/png": "[encoded data removed]",
      "text/latex": [
       "$\\displaystyle \\left[\\begin{matrix}1 & 0 & 0\\\\l_{1} & 1 & 0\\\\l_{2} & l_{3} & 1\\end{matrix}\\right]$"
      ],
      "text/plain": [
       "⎡1   0   0⎤\n",
       "⎢         ⎥\n",
       "⎢l₁  1   0⎥\n",
       "⎢         ⎥\n",
       "⎣l₂  l₃  1⎦"
      ]
     },
     "metadata": {},
     "output_type": "display_data"
    }
   ],
   "source": [
    "display(L1.inv()*L2.inv()*L3.inv())"
   ]
  },
  {
   "cell_type": "markdown",
   "metadata": {},
   "source": [
    "**This is wonderful! Since it actually gives the WANTED matrix $L$**.\n",
    "\n",
    "We can verify this now con SymPy again, but using the $3\\times 3$ original matrix with coefficients,"
   ]
  },
  {
   "cell_type": "code",
   "execution_count": 160,
   "metadata": {},
   "outputs": [
    {
     "name": "stdout",
     "output_type": "stream",
     "text": [
      "\u001b[1mL\u001b[0m\n"
     ]
    },
    {
     "data": {
      "image/png": "[encoded data removed]",
      "text/latex": [
       "$\\displaystyle \\left[\\begin{matrix}1 & 0 & 0\\\\\\frac{a_{21}}{a_{11}} & 1 & 0\\\\\\frac{a_{31}}{a_{11}} & \\frac{a_{11} a_{32} - a_{12} a_{31}}{a_{11} a_{22} - a_{12} a_{21}} & 1\\end{matrix}\\right]$"
      ],
      "text/plain": [
       "⎡ 1           0          0⎤\n",
       "⎢                         ⎥\n",
       "⎢a₂₁                      ⎥\n",
       "⎢───          1          0⎥\n",
       "⎢a₁₁                      ⎥\n",
       "⎢                         ⎥\n",
       "⎢a₃₁  a₁₁⋅a₃₂ - a₁₂⋅a₃₁   ⎥\n",
       "⎢───  ─────────────────  1⎥\n",
       "⎣a₁₁  a₁₁⋅a₂₂ - a₁₂⋅a₂₁   ⎦"
      ]
     },
     "metadata": {},
     "output_type": "display_data"
    },
    {
     "name": "stdout",
     "output_type": "stream",
     "text": [
      "\u001b[1mU\u001b[0m\n"
     ]
    },
    {
     "data": {
      "image/png": "[encoded data removed]",
      "text/latex": [
       "$\\displaystyle \\left[\\begin{matrix}a_{11} & a_{12} & a_{13}\\\\0 & a_{22} - \\frac{a_{12} a_{21}}{a_{11}} & a_{23} - \\frac{a_{13} a_{21}}{a_{11}}\\\\0 & 0 & \\frac{a_{11} a_{22} a_{33} - a_{11} a_{23} a_{32} - a_{12} a_{21} a_{33} + a_{12} a_{23} a_{31} + a_{13} a_{21} a_{32} - a_{13} a_{22} a_{31}}{a_{11} a_{22} - a_{12} a_{21}}\\end{matrix}\\right]$"
      ],
      "text/plain": [
       "⎡a₁₁       a₁₂                                              a₁₃                ↪\n",
       "⎢                                                                              ↪\n",
       "⎢           a₁₂⋅a₂₁                                          a₁₃⋅a₂₁           ↪\n",
       "⎢ 0   a₂₂ - ───────                                    a₂₃ - ───────           ↪\n",
       "⎢             a₁₁                                              a₁₁             ↪\n",
       "⎢                                                                              ↪\n",
       "⎢                    a₁₁⋅a₂₂⋅a₃₃ - a₁₁⋅a₂₃⋅a₃₂ - a₁₂⋅a₂₁⋅a₃₃ + a₁₂⋅a₂₃⋅a₃₁ + a ↪\n",
       "⎢ 0         0        ───────────────────────────────────────────────────────── ↪\n",
       "⎣                                                    a₁₁⋅a₂₂ - a₁₂⋅a₂₁         ↪\n",
       "\n",
       "↪                         ⎤\n",
       "↪                         ⎥\n",
       "↪                         ⎥\n",
       "↪                         ⎥\n",
       "↪                         ⎥\n",
       "↪                         ⎥\n",
       "↪ ₁₃⋅a₂₁⋅a₃₂ - a₁₃⋅a₂₂⋅a₃₁⎥\n",
       "↪ ────────────────────────⎥\n",
       "↪                         ⎦"
      ]
     },
     "metadata": {},
     "output_type": "display_data"
    },
    {
     "name": "stdout",
     "output_type": "stream",
     "text": [
      "\u001b[1mProduct of $L\\,U$ which should be $A$\u001b[0m\n"
     ]
    },
    {
     "data": {
      "image/png": "[encoded data removed]",
      "text/latex": [
       "$\\displaystyle \\left[\\begin{matrix}a_{11} & a_{12} & a_{13}\\\\a_{21} & a_{22} & a_{23}\\\\a_{31} & a_{32} & a_{33}\\end{matrix}\\right]$"
      ],
      "text/plain": [
       "⎡a₁₁  a₁₂  a₁₃⎤\n",
       "⎢             ⎥\n",
       "⎢a₂₁  a₂₂  a₂₃⎥\n",
       "⎢             ⎥\n",
       "⎣a₃₁  a₃₂  a₃₃⎦"
      ]
     },
     "metadata": {},
     "output_type": "display_data"
    }
   ],
   "source": [
    "# L1\n",
    "L10 = sym.eye(3)\n",
    "L10[1,0] = -a21/a11\n",
    "L1 = L10\n",
    "# L2\n",
    "L20 = sym.eye(3)\n",
    "L20[2,0] = -a31/a11\n",
    "L2 = L20\n",
    "# L3\n",
    "A = sym.Matrix([[a11, a12, a13], [a21, a22, a23], [a31, a32, a33]])\n",
    "A = L2*L1*A\n",
    "L21 = sym.eye(3)\n",
    "L21[2,1] = -A[2,1]/A[1,1]\n",
    "L3 = L21\n",
    "U = L3*A\n",
    "L = L1.inv()*L2.inv()*L3.inv()\n",
    "print(textBoldH('L'))\n",
    "display(sym.simplify(L))\n",
    "print(textBoldH('U'))\n",
    "display(sym.simplify(U))\n",
    "print(textBoldH(r'Product of $L\\,U$ which should be $A$'))\n",
    "display(sym.simplify(L*U))"
   ]
  },
  {
   "cell_type": "markdown",
   "metadata": {},
   "source": [
    "**We have then successfully built the _LU_ factorization!**.\n",
    "\n",
    "**SUMMARY:**\n",
    "1. The computation of the $U$ matrix is exactly the same procedure used in GE.\n",
    "2. The computation of the $L$ matrix only requires to store the negative of the coefficients used for the row-operations, so, it does not requiere additional computation, it only requires to _store_ the coefficient at each step.\n",
    "\n",
    "Now, all the analysis have been done with SymPy, however we need to do it numerically to scale for larger matrices.\n",
    "This will be performed on the next section."
   ]
  },
  {
   "cell_type": "markdown",
   "metadata": {},
   "source": [
    "<a id=\"lu\"></a>\n",
    "\n",
    "\n",
    "# Numerical LU factorization\n",
    "[Back to TOC](#toc)"
   ]
  },
  {
   "cell_type": "markdown",
   "metadata": {},
   "source": [
    "Let $A \\in \\mathbb{R}^{n \\times n}$ be a square and non-singular matrix.\n",
    "We plan now to build the _LU_ factorization of $A$ such that $A = L\\,U$ where $L,U \\in \\mathbb{R}^{n \\times n}$ are lower and upper triangular matrices respectively.\n",
    "For completeness, we show them explicitly here again,\n",
    "$$\\begin{bmatrix}\n",
    "    a_{1,1} & a_{1,2} & a_{1,3} & \\cdots & a_{1,n} \\\\\n",
    "    a_{2,1} & a_{2,2} & a_{2,3} & \\ddots & a_{2,n} \\\\\n",
    "    a_{3,1} & a_{3,2} & a_{3,3} & \\ddots & a_{3,n} \\\\\n",
    "    \\vdots & & \\ddots  & \\ddots & \\vdots \\\\\n",
    "    a_{n,1} & a_{n,2} & \\cdots & \\cdots & a_{n,n} \n",
    "\\end{bmatrix}\n",
    "=\n",
    "\\begin{bmatrix}\n",
    "    1 & 0 & \\cdots & \\cdots & 0 \\\\\n",
    "    l_{2,1} & 1 & \\ddots & \\ddots & 0 \\\\\n",
    "    l_{3,1} & l_{3,2} & 1 & \\ddots & 0 \\\\\n",
    "    \\vdots & & \\ddots & \\ddots &\\vdots  \\\\\n",
    "    l_{n,1} & \\cdots & \\cdots & l_{n,n-1} & 1\n",
    "\\end{bmatrix}\n",
    "\\begin{bmatrix}\n",
    "    u_{1,1} & u_{1,2} & u_{1,3} & \\cdots & u_{1,n} \\\\\n",
    "    0 & u_{2,2} & u_{2,3} & \\ddots & u_{2,n} \\\\\n",
    "    0 & 0 & u_{3,3} & \\ddots & u_{3,n} \\\\\n",
    "    \\vdots & & \\ddots  & \\ddots & \\vdots \\\\\n",
    "    0 & 0 & \\cdots & 0 & u_{n,n} \n",
    "\\end{bmatrix}$$\n",
    "\n",
    "The main difference between a _symbolic computation_ and a _numerical computation_ for the _LU_ factorization is that at each step of the _numerical computation_ we apply the algorithm over numerical values of the matrices used and when we do the **pivoting**, i.e. the row operation, we actually compute the values required and we don't _store_ the **formulas** as we do in the symbolic computation.\n",
    "\n",
    "We next code shows is a _academic_ implementation of the _GE_ for the _LU_ factorization, this means it purpose is to show the steps and it it not performance.\n",
    "Most of the idea has been explained before, so here we focus directly on the implementation and some numerical examples."
   ]
  },
  {
   "cell_type": "code",
   "execution_count": 161,
   "metadata": {},
   "outputs": [],
   "source": [
    "'''\n",
    "LU factorization\n",
    "Input:\n",
    "    A                   : (ndarray) Input matrix of nxn\n",
    "    show=False          : (bool) Bool variable to define if showing or not intermediate steps\n",
    "    print_precision=2   : (int) Number of decimals to be used when showing intermediate steps\n",
    "Output:\n",
    "    L   : (ndarray) Output matrix L of LU factorization\n",
    "    U   : (ndarray) Output matrix U of LU factorization\n",
    "'''\n",
    "def lu_factorization(A, show=False, print_precision=2):\n",
    "    n,_ = A.shape\n",
    "    U = np.copy(A)\n",
    "    L = np.identity(n)\n",
    "    if show:\n",
    "        print(textBold('Initial matrices'))\n",
    "        print('L = '); print(np.array_str(L, precision=print_precision, suppress_small=True))\n",
    "        print('U = '); print(np.array_str(U, precision=print_precision, suppress_small=True))\n",
    "        print('----------------------------------------')\n",
    "    # Iterating through columns\n",
    "    for j in range(n-1):\n",
    "        # Iterating through rows\n",
    "        for i in range(j+1,n):\n",
    "            # STORING the coefficient with opposite sign\n",
    "            L[i,j] = U[i,j]/U[j,j]\n",
    "            # Applying the 'row-operation' with the negative sign.\n",
    "            # Notice that this is a 'vectorize' operation since U[i,j:] and U[j,j:] are vectors. \n",
    "            U[i,j:] -= L[i,j]*U[j,j:]\n",
    "            if show:\n",
    "                print(textBoldH(f'Cancelling out coefficient ({i},{j})'))\n",
    "                print('L = '); print(np.array_str(L, precision=print_precision, suppress_small=True))\n",
    "                print('U = '); print(np.array_str(U, precision=print_precision, suppress_small=True))\n",
    "                print('----------------------------------------')\n",
    "    return L,U"
   ]
  },
  {
   "cell_type": "markdown",
   "metadata": {},
   "source": [
    "We show in the next example a $3\\times 3$ example."
   ]
  },
  {
   "cell_type": "code",
   "execution_count": 162,
   "metadata": {},
   "outputs": [
    {
     "name": "stdout",
     "output_type": "stream",
     "text": [
      "\u001b[1mInitial matrices\u001b[0m\n",
      "L = \n",
      "[[1. 0. 0.]\n",
      " [0. 1. 0.]\n",
      " [0. 0. 1.]]\n",
      "U = \n",
      "[[ 0.13 -0.13  0.64]\n",
      " [ 0.1  -0.54  0.36]\n",
      " [ 1.3   0.95 -0.7 ]]\n",
      "----------------------------------------\n",
      "\u001b[1mCancelling out coefficient (1,0)\u001b[0m\n",
      "L = \n",
      "[[1.   0.   0.  ]\n",
      " [0.83 1.   0.  ]\n",
      " [0.   0.   1.  ]]\n",
      "U = \n",
      "[[ 0.13 -0.13  0.64]\n",
      " [ 0.   -0.43 -0.17]\n",
      " [ 1.3   0.95 -0.7 ]]\n",
      "----------------------------------------\n",
      "\u001b[1mCancelling out coefficient (2,0)\u001b[0m\n",
      "L = \n",
      "[[ 1.    0.    0.  ]\n",
      " [ 0.83  1.    0.  ]\n",
      " [10.37  0.    1.  ]]\n",
      "U = \n",
      "[[ 0.13 -0.13  0.64]\n",
      " [ 0.   -0.43 -0.17]\n",
      " [ 0.    2.32 -7.35]]\n",
      "----------------------------------------\n",
      "\u001b[1mCancelling out coefficient (2,1)\u001b[0m\n",
      "L = \n",
      "[[ 1.    0.    0.  ]\n",
      " [ 0.83  1.    0.  ]\n",
      " [10.37 -5.45  1.  ]]\n",
      "U = \n",
      "[[ 0.13 -0.13  0.64]\n",
      " [ 0.   -0.43 -0.17]\n",
      " [ 0.    0.   -8.29]]\n",
      "----------------------------------------\n"
     ]
    }
   ],
   "source": [
    "# YOU CAN TRY WITH A LARGER VALUE OF 'n' AND SEE WHAT HAPPENDS!\n",
    "n = 3\n",
    "# Fixing the 'seed' of the random number generator to obtain reproducible outcomes.\n",
    "rng = np.random.Generator(np.random.PCG64(seed=0))\n",
    "A = rng.standard_normal((n,n))\n",
    "L, U = lu_factorization(A, show=True)"
   ]
  },
  {
   "cell_type": "markdown",
   "metadata": {},
   "source": [
    "Now, we compute the difference between the product $L\\,U$ and $A$, which should generate the zero-matriz, since they should be the same."
   ]
  },
  {
   "cell_type": "code",
   "execution_count": 163,
   "metadata": {},
   "outputs": [
    {
     "name": "stdout",
     "output_type": "stream",
     "text": [
      "[[ 0.00000000e+00  0.00000000e+00  0.00000000e+00]\n",
      " [ 0.00000000e+00  0.00000000e+00  0.00000000e+00]\n",
      " [ 0.00000000e+00 -3.33066907e-16 -8.88178420e-16]]\n"
     ]
    }
   ],
   "source": [
    "print((L@U)-A)"
   ]
  },
  {
   "cell_type": "markdown",
   "metadata": {},
   "source": [
    "The outcome are _numerically_ equal!\n",
    "This is what was expected. \n",
    "\n",
    "- **Why do we get _small coefficients_ in the matrix?**"
   ]
  },
  {
   "cell_type": "markdown",
   "metadata": {},
   "source": [
    "<a id=\"luls\"></a>\n",
    "\n",
    "## Solving a linear system of equation with the Numerical LU Factorization\n",
    "[Back to TOC](#toc)\n",
    "\n",
    "For solving a linear system of equations, say $A\\,\\mathbf{x} = \\mathbf{b}$, we need to perform the following steps:\n",
    "\n",
    "1. Compute the _LU_ factorization of $A$, such that $A=L\\,U$.\n",
    "2. Solve for $\\mathbf{c}$: $L\\,\\mathbf{c}=\\mathbf{b}$, with _Forward Substitution_.\n",
    "3. Solve for $\\mathbf{x}$: $U\\,\\mathbf{x}=\\mathbf{c}$, with _Backward Subtitution_.\n",
    "\n",
    "Done, $\\mathbf{x}$ has been found!\n",
    "\n",
    "These steps come from the following analysis:\n",
    "$$\n",
    "\\begin{align*}\n",
    "    A\\,\\mathbf{x} &= \\mathbf{b}. \\quad \\textrm{Original problem,}\\\\\n",
    "    L\\,U\\,\\mathbf{x} &= \\mathbf{b}. \\quad \\textrm{Replacing $A=L\\,U$. \\textbf{Step ``1''}.}\\\\\n",
    "    L\\,\\underbrace{U\\,\\mathbf{x}}_{\\displaystyle\\mathbf{c}} &= \\mathbf{b}. \\quad \\textrm{Defining intermediate unknown vector $\\mathbf{c}$.}\\\\\n",
    "    L\\,\\mathbf{c} &= \\mathbf{b}. \\quad \\textrm{Solve for $\\mathbf{c}$ with \\textit{Forward Substitution}. \\textbf{Step ``2''}.}\\\\\n",
    "    U\\,\\mathbf{x} &= \\mathbf{c}. \\quad \\textrm{From definition of the intermediate unknown vector $\\mathbf{c}$ we have this equation.}\\\\\n",
    "    U\\,\\mathbf{x} &= \\mathbf{c}. \\quad \\textrm{Solve for $\\mathbf{x}$ with \\textit{Backward Substitution}. \\textbf{Step ``3''}.}\\\\\n",
    "\\end{align*}\n",
    "$$\n",
    "\n",
    "To be more explicit, we write down the intermediate linear system that need to be solve, i.e. $L\\,\\mathbf{c} = \\mathbf{b}$ and $U\\,\\mathbf{x} = \\mathbf{c}$,\n",
    "$$\n",
    "\\begin{align*}\n",
    "    L\\,\\mathbf{c}&= \\mathbf{b}\\\\\n",
    "\\underbrace{\\begin{bmatrix}\n",
    "    1 & 0 & \\cdots & \\cdots & 0 \\\\\n",
    "    l_{2,1} & 1 & \\ddots & \\ddots & 0 \\\\\n",
    "    l_{3,1} & l_{3,2} & 1 & \\ddots & 0 \\\\\n",
    "    \\vdots & & \\ddots & \\ddots &\\vdots  \\\\\n",
    "    l_{n,1} & \\cdots & \\cdots & l_{n,n-1} & 1\n",
    "\\end{bmatrix}}_{\\displaystyle{L}}\n",
    "\\underbrace{\\begin{bmatrix}\n",
    "    c_1 \\\\\n",
    "    c_2 \\\\\n",
    "    c_3 \\\\\n",
    "    \\vdots \\\\\n",
    "    c_{n-1} \\\\\n",
    "    c_n\n",
    "\\end{bmatrix}}_{\\displaystyle{\\mathbf{c}}}\n",
    "&=\n",
    "\\underbrace{\\begin{bmatrix}\n",
    "    b_1 \\\\\n",
    "    b_2 \\\\\n",
    "    b_3 \\\\\n",
    "    \\vdots \\\\\n",
    "    b_{n-1} \\\\\n",
    "    b_n\n",
    "\\end{bmatrix}}_{\\displaystyle{\\mathbf{b}}}.\n",
    "\\end{align*}$$\n",
    "and\n",
    "$$\n",
    "\\begin{align*}\n",
    "    U\\,\\mathbf{x}&= \\mathbf{c}\\\\\n",
    "\\underbrace{\\begin{bmatrix}\n",
    "    u_{1,1} & u_{1,2} & u_{1,3} & \\cdots & u_{1,n} \\\\\n",
    "    0 & u_{2,2} & u_{2,3} & \\ddots & u_{2,n} \\\\\n",
    "    0 & 0 & u_{3,3} & \\ddots & u_{3,n} \\\\\n",
    "    \\vdots & & \\ddots  & \\ddots & \\vdots \\\\\n",
    "    0 & 0 & \\cdots & 0 & u_{n,n} \n",
    "\\end{bmatrix}}_{\\displaystyle{U}}\n",
    "\\underbrace{\\begin{bmatrix}\n",
    "    x_1\\\\\n",
    "    x_2\\\\\n",
    "    x_3\\\\\n",
    "    \\vdots\\\\\n",
    "    x_{n-1}\\\\\n",
    "    x_n\n",
    "\\end{bmatrix}}_{\\displaystyle{\\mathbf{x}}}\n",
    "&=\n",
    "\\underbrace{\\begin{bmatrix}\n",
    "    c_1\\\\\n",
    "    c_2\\\\\n",
    "    c_3\\\\\n",
    "    \\vdots\\\\\n",
    "    c_{n-1}\\\\\n",
    "    c_n\n",
    "\\end{bmatrix}}_{\\displaystyle{\\mathbf{c}}}\n",
    "\\end{align*}.$$\n",
    "\n",
    "From which we can easily see that to solve $L\\,\\mathbf{c} = \\mathbf{b}$ by _Forward substitution_ means that we solve the **first equation**, we get $c_1$, then since we know $c_1$ we consider the second equation and we obtain $c_2$, and so on.\n",
    "This makes solving this linear system of equation very easily!\n",
    "Similarly, we can solve $U\\,\\mathbf{x} = \\mathbf{c}$, but instead of starting from the first equation we start from the **last equation**, which allows us to obtain $x_n$, and then we replace $x_n$ in the before last equation to get $x_{n-1}$, and so on.\n",
    "It is also very easily solved.\n",
    "\n",
    "Therefore, having the _LU_ factorization of the matrix $A$ is very useful.\n",
    "\n",
    "The next code implements the _Forward_ and _Backward_ substitutions:"
   ]
  },
  {
   "cell_type": "code",
   "execution_count": 164,
   "metadata": {},
   "outputs": [],
   "source": [
    "'''\n",
    "Solves a linear system A x = b, where A is a\n",
    "triangular (upper or lower) matrix.\n",
    "\n",
    "Input:\n",
    "    A           : (ndarray) Input \"upper\" or \"lower\" triangular matrix.\n",
    "    b           : (ndarray) RHS\n",
    "    upper=True  : (Bool) If True, it considers the matrix A is \"upper\" triangular and performs \"Backward substitution\",\n",
    "                            else, it considers the matrix A is \"lower\" triangular and performs \"Forward substitution\".\n",
    "Outout:\n",
    "    x : (ndarray) It returns the numerical solution of 'A x=b'\n",
    "\n",
    "'''\n",
    "def solve_triangular(A, b, upper=True):\n",
    "    n = b.shape[0]\n",
    "    x = np.zeros_like(b)\n",
    "    if upper==True:\n",
    "        # Backward-substitution\n",
    "        x[-1] = (1./A[-1,-1]) * b[-1]\n",
    "        for i in range(n-2, -1, -1):\n",
    "            x[i] = (1./A[i,i]) * (b[i] - np.dot(A[i,i+1:],x[i+1:]))\n",
    "    else:\n",
    "        # Forward-substitution\n",
    "        x[0] = (1./A[0,0]) * b[0]\n",
    "        for i in range(1,n):\n",
    "            x[i] = (1./A[i,i]) * (b[i] - np.dot(A[i,:i],x[:i]))\n",
    "    return x"
   ]
  },
  {
   "cell_type": "markdown",
   "metadata": {},
   "source": [
    "Now, we have implemented the _Forward_ and _Backward_ substitutions, we can solve a linear system of equations for larger problems! \n",
    "For doing this, we implement the following _solver_,"
   ]
  },
  {
   "cell_type": "code",
   "execution_count": 165,
   "metadata": {},
   "outputs": [],
   "source": [
    "'''\n",
    "This code solves a linear system of equations Ax=b using the LU factorization\n",
    "\n",
    "Input:\n",
    "    A                   : (ndarray) Input matrix 'A'.\n",
    "    b                   : (ndarray) RHS\n",
    "    show=False          : (bool) Boolean variable to show interrmediate steps of LU factorization\n",
    "    print_precision=2   : (int) Number of decimals to show when showing intermediate steps in the LU factorization\n",
    "    \n",
    "Output:\n",
    "    x : (ndarray) It returns the numerical solution of 'A x=b'\n",
    "'''\n",
    "def solve_lu(A, b, show=False, print_precision=2):\n",
    "    # STEP 1: Computing the LU factorization\n",
    "    L,U = lu_factorization(A, show=show, print_precision=print_precision)\n",
    "    # L.c = b with c = U.x\n",
    "    # STEP 2:\n",
    "    c = solve_triangular(L, b, upper=False)\n",
    "    # STEP 3:\n",
    "    x = solve_triangular(U, c)\n",
    "    return x"
   ]
  },
  {
   "cell_type": "markdown",
   "metadata": {},
   "source": [
    "Let's now try our implementations. We begin by creating a random $3 \\times 3$ linear system:"
   ]
  },
  {
   "cell_type": "code",
   "execution_count": 166,
   "metadata": {},
   "outputs": [
    {
     "name": "stdout",
     "output_type": "stream",
     "text": [
      "\u001b[1mExact solution\u001b[0m\n",
      "[ 0.50268285  0.98971303 -0.16429459 -1.07436486  0.87304215 -1.28039394\n",
      " -0.7130681   0.62101785 -2.25014117  0.3863696 ]\n",
      "\u001b[1mNumerical solution with LU factorization\u001b[0m\n",
      "[ 0.50268285  0.98971303 -0.16429459 -1.07436486  0.87304215 -1.28039394\n",
      " -0.7130681   0.62101785 -2.25014117  0.3863696 ]\n",
      "\u001b[1mNumerical solution with NumPy solver\u001b[0m\n",
      "[ 0.50268285  0.98971303 -0.16429459 -1.07436486  0.87304215 -1.28039394\n",
      " -0.7130681   0.62101785 -2.25014117  0.3863696 ]\n",
      "\u001b[1m\n",
      " To make the comparison better, we compute the norms of the difference for each case:\u001b[0m\n",
      "\u001b[1m||x_lu_sol-x_exact||_2=\u001b[0m 4.071788350454239e-14\n",
      "\u001b[1m||x_np_sol-x_exact||_2=\u001b[0m 6.209561838856907e-15\n",
      "\u001b[1mand for completeness, we compare the norm between the approximations\u001b[0m\n",
      "\u001b[1m||x_np_sol-x_lu_sol||_2=\u001b[0m 4.6766464722680055e-14\n"
     ]
    }
   ],
   "source": [
    "n = 10\n",
    "# Fixing the 'seed' of the random number generator to obtain reproducible outcomes.\n",
    "rng = np.random.Generator(np.random.PCG64(seed=0))\n",
    "A = rng.standard_normal((n,n))\n",
    "x_exact = rng.standard_normal(n)\n",
    "# We do this here so we can compare later the numerical solution\n",
    "# with what we should have obtained.\n",
    "b = np.dot(A,x_exact)\n",
    "\n",
    "# Solving Ax=b with LU\n",
    "x_lu_sol = solve_lu(A,b)\n",
    "\n",
    "# Solving Ax=b with NumPy\n",
    "x_np_sol = np.linalg.solve(A,b)\n",
    "\n",
    "print(textBoldH('Exact solution'))\n",
    "print(x_exact)\n",
    "print(textBoldH('Numerical solution with LU factorization'))\n",
    "print(x_lu_sol)\n",
    "print(textBoldH('Numerical solution with NumPy solver'))\n",
    "print(x_np_sol)\n",
    "\n",
    "print(textBoldH('\\n To make the comparison better, we compute the norms of the difference for each case:'))\n",
    "print(textBold('||x_lu_sol-x_exact||_2='),np.linalg.norm(x_lu_sol-x_exact))\n",
    "print(textBold('||x_np_sol-x_exact||_2='),np.linalg.norm(x_np_sol-x_exact))\n",
    "print(textBoldH('and for completeness, we compare the norm between the approximations'))\n",
    "print(textBold('||x_np_sol-x_lu_sol||_2='),np.linalg.norm(x_np_sol-x_lu_sol))"
   ]
  },
  {
   "cell_type": "markdown",
   "metadata": {},
   "source": [
    "This method has the following important facts to be noted:\n",
    "\n",
    "1. Computing the LU factorization requires $\\sim 2\\,n^3/3$ floating point operations (FLOPS). **Can you check that?** (it is an interesting challenge!)\n",
    "2. The computation of the _Backward_ and _Forward_ substitutions requiere $n^2$ FLOPS, this is much smaller that the $\\sim 2\\,n^3/3$ FLOPS required by the _LU_ factorization, thus we just say that solving a linear system of equations with the _LU_ factorization requires $\\sim 2\\,n^3/3$ FLOPS. \n",
    "3. An important issue with the _LU_ factorization is when we encounter a very small value or even a $0$ on the main diagonal during the computation, this will make the implementation fail. It particular the instruction `L[i,j] = U[i,j]/U[j,j]` will produce the issue. The issue is that we will be _pivoting_ with near $0$ values, with would produce large values for the coefficients used in the _row-operation_, i.e. it will produce large $l_{i,j}$ coefficients. This will challenge the computation and possible produce some loss of significance or even cancellation errors.\n",
    "4. A simple way to solve this issue is the _swap_ rows before we use them for cancelling out the coefficients below the diagonal. More detail on how this is done, see the classnote.\n",
    "\n",
    "To understand the issue, we present a very simple problem, alse studied in the classnotes. Consider the following matrix,\n",
    "$$\n",
    "A=\n",
    "\\begin{bmatrix}\n",
    "    10^{-10} & 1\\\\\n",
    "    1 & 2\n",
    "\\end{bmatrix}.$$\n",
    "\n",
    "We will now compute its _LU_ factorization and verify if it produces the matrix $A$ back."
   ]
  },
  {
   "cell_type": "code",
   "execution_count": 167,
   "metadata": {},
   "outputs": [
    {
     "name": "stdout",
     "output_type": "stream",
     "text": [
      "\u001b[1mInitial matrices\u001b[0m\n",
      "L = \n",
      "[[1. 0.]\n",
      " [0. 1.]]\n",
      "U = \n",
      "[[0. 1.]\n",
      " [1. 2.]]\n",
      "----------------------------------------\n",
      "\u001b[1mCancelling out coefficient (1,0)\u001b[0m\n",
      "L = \n",
      "[[1.e+00 0.e+00]\n",
      " [1.e+20 1.e+00]]\n",
      "U = \n",
      "[[ 1.e-20  1.e+00]\n",
      " [ 0.e+00 -1.e+20]]\n",
      "----------------------------------------\n"
     ]
    }
   ],
   "source": [
    "A=np.array([[1e-20, 1],[1,2]])\n",
    "L,U=lu_factorization(A, show=True)"
   ]
  },
  {
   "cell_type": "markdown",
   "metadata": {},
   "source": [
    "We compute the product of $L$ and $U$, and compare it with $A$,"
   ]
  },
  {
   "cell_type": "code",
   "execution_count": 168,
   "metadata": {},
   "outputs": [
    {
     "name": "stdout",
     "output_type": "stream",
     "text": [
      "\u001b[1mL\\,U\u001b[0m\n",
      "[[1.e-20 1.e+00]\n",
      " [1.e+00 0.e+00]]\n",
      "\u001b[1mA\u001b[0m\n",
      "[[1.e-20 1.e+00]\n",
      " [1.e+00 2.e+00]]\n",
      "\u001b[1mA-L\\,U\u001b[0m\n",
      "[[0. 0.]\n",
      " [0. 2.]]\n"
     ]
    }
   ],
   "source": [
    "print(textBoldH(r'L\\,U'))\n",
    "print(L@U)\n",
    "print(textBoldH(r'A'))\n",
    "print(A)\n",
    "print(textBoldH(r'A-L\\,U'))\n",
    "print(A-L@U)"
   ]
  },
  {
   "cell_type": "markdown",
   "metadata": {},
   "source": [
    "We conclude that $L\\,U$ is not _numerically close_ to $A$.\n",
    "Thus, we may not actually be able to get sucessful results when solving a linear system of equations.\n",
    "\n",
    "Just to be explicit, we solve the following linear system of equations,"
   ]
  },
  {
   "cell_type": "code",
   "execution_count": 169,
   "metadata": {},
   "outputs": [
    {
     "name": "stdout",
     "output_type": "stream",
     "text": [
      "\u001b[1mExact solution\u001b[0m\n",
      "[[2]\n",
      " [1]]\n",
      "\u001b[1mNumerical solution with LU factorization\u001b[0m\n",
      "[[0.]\n",
      " [1.]]\n",
      "\u001b[1mNumerical solution with NumPy solver\u001b[0m\n",
      "[[2.]\n",
      " [1.]]\n",
      "\u001b[1m\n",
      " To make the comparison better, we compute the norms of the difference for each case:\u001b[0m\n",
      "\u001b[1m||x_lu_sol-x_exact||_2=\u001b[0m 2.0\n",
      "\u001b[1m||x_np_sol-x_exact||_2=\u001b[0m 0.0\n",
      "\u001b[1mand for completeness, we compare the norm between the approximations\u001b[0m\n",
      "\u001b[1m||x_np_sol-x_lu_sol||_2=\u001b[0m 2.0\n"
     ]
    }
   ],
   "source": [
    "A=np.array([[1e-20, 1],[1,2]])\n",
    "x_exact = np.array([[2],[1]])\n",
    "# We do this here so we can compare later the numerical solution\n",
    "# with what we should have obtained.\n",
    "b = np.dot(A,x_exact)\n",
    "\n",
    "# Solving Ax=b with LU\n",
    "x_lu_sol = solve_lu(A,b)\n",
    "\n",
    "# Solving Ax=b with NumPy\n",
    "x_np_sol = np.linalg.solve(A,b)\n",
    "\n",
    "print(textBoldH('Exact solution'))\n",
    "print(x_exact)\n",
    "print(textBoldH('Numerical solution with LU factorization'))\n",
    "print(x_lu_sol)\n",
    "print(textBoldH('Numerical solution with NumPy solver'))\n",
    "print(x_np_sol)\n",
    "\n",
    "print(textBoldH('\\n To make the comparison better, we compute the norms of the difference for each case:'))\n",
    "print(textBold(r'||x_lu_sol-x_exact||_2='),np.linalg.norm(x_lu_sol-x_exact))\n",
    "print(textBold(r'||x_np_sol-x_exact||_2='),np.linalg.norm(x_np_sol-x_exact))\n",
    "print(textBoldH('and for completeness, we compare the norm between the approximations'))\n",
    "print(textBold(r'||x_np_sol-x_lu_sol||_2='),np.linalg.norm(x_np_sol-x_lu_sol))"
   ]
  },
  {
   "cell_type": "markdown",
   "metadata": {},
   "source": [
    "We conclude, unfortunately for this case, that the _LU_ factorization did not solve the linear system of equations correctly.\n",
    "\n",
    "**To solve this issue, we finally get to the _PALU_ factorization!**"
   ]
  },
  {
   "cell_type": "markdown",
   "metadata": {},
   "source": [
    "<a id=\"palu\"></a>\n",
    "\n",
    "# PALU factorization\n",
    "[Back to TOC](#toc)\n",
    "\n",
    "As just analized, the _LU_ factorization has issues when the _pivot_ used is $0$ or even close to $0$.\n",
    "This issue can be reduced by a _row permutation_ before we cancel out the coefficients below the diagonal using the _Gaussian Elimination_.\n",
    "\n",
    "This is handle as follows,\n",
    "1. When visiting the column $j$, search for $k_{\\textrm{max}}=\\argmax_{k\\in\\{j,j+1,\\dots,n\\}} |a_{k,j}|$, the index of the maximum absolute value between the current pivot and the entries below it.\n",
    "2. _Swap_ the rows $j$ and $k_{\\textrm{max}}$ making $a_{_{\\textrm{max}},j}$ the new pivot on the diagonal.\n",
    "\n",
    "This clearly modifies the factorization, fortunately, this can be translated to the $P\\,A=L\\,U$ factorization!\n",
    "As already mentined, the details are on the classnotes, please review them!\n",
    "Here, we only present the corresponding implementation."
   ]
  },
  {
   "cell_type": "code",
   "execution_count": 170,
   "metadata": {},
   "outputs": [],
   "source": [
    "# Permutation between rows i and j on matrix A\n",
    "def row_perm(A, i, j):\n",
    "    tmp = np.copy(A[i])\n",
    "    A[i] = A[j]\n",
    "    A[j] = tmp\n",
    "\n",
    "'''\n",
    "PALU factorization\n",
    "Input:\n",
    "    A                   : (ndarray) Input matrix of nxn\n",
    "    show=False          : (bool) Bool variable to define if showing or not intermediate steps\n",
    "    print_precision=2   : (int) Number of decimals to be used when showing intermediate steps\n",
    "Output:\n",
    "    P   : (ndarray) Permutation matrix\n",
    "    L   : (ndarray) Output matrix L of LU factorization\n",
    "    U   : (ndarray) Output matrix U of LU factorization\n",
    "'''\n",
    "def palu_factorization(A, show=False, print_precision=2):\n",
    "    n,_ = A.shape\n",
    "    P = np.identity(n)\n",
    "    L = np.zeros((n,n))\n",
    "    U = np.copy(A)\n",
    "    if show:\n",
    "        print(textBold('Initial matrices'))\n",
    "        print('P = '); print(np.array_str(P, precision=print_precision, suppress_small=True))\n",
    "        print('L = '); print(np.array_str(L+np.eye(n), precision=print_precision, suppress_small=True))\n",
    "        print('U = '); print(np.array_str(U, precision=print_precision, suppress_small=True))\n",
    "        print('----------------------------------------')\n",
    "    # Iterating through columns\n",
    "    for j in range(n-1):\n",
    "        # Determine the new pivot\n",
    "        k_max = np.argmax(np.abs(U[j:,j]))\n",
    "        if k_max != 0:\n",
    "            row_perm(P, j, j+k_max)\n",
    "            row_perm(U, j, j+k_max)\n",
    "            row_perm(L, j, j+k_max)\n",
    "            if show:\n",
    "                print('A permutation has been made')\n",
    "                print('P = '); print(np.array_str(P, precision=print_precision, suppress_small=True))\n",
    "                print('L = '); print(np.array_str(L+np.eye(n), precision=print_precision, suppress_small=True))\n",
    "                print('U = '); print(np.array_str(U, precision=print_precision, suppress_small=True))\n",
    "                print('----------------------------------------')\n",
    "        # Iterating through rows\n",
    "        for i in range(j+1,n):           \n",
    "            # STORING the coefficient with opposite sign\n",
    "            L[i,j] = U[i,j]/U[j,j]\n",
    "            # Applying the 'row-operation' with the negative sign.\n",
    "            # Notice that this is a 'vectorize' operation since U[i,j:] and U[j,j:] are vectors. \n",
    "            U[i,j:] -= L[i,j]*U[j,j:]\n",
    "            if show:\n",
    "                print(textBoldH(f'Cancelling out coefficient ({i},{j})'))\n",
    "                print('P = '); print(np.array_str(P, precision=print_precision, suppress_small=True))\n",
    "                print('L = '); print(np.array_str(L+np.eye(n), precision=print_precision, suppress_small=True))\n",
    "                print('U = '); print(np.array_str(U, precision=print_precision, suppress_small=True))\n",
    "                print('----------------------------------------')\n",
    "    np.fill_diagonal(L,1)\n",
    "    return P,L,U"
   ]
  },
  {
   "cell_type": "markdown",
   "metadata": {},
   "source": [
    "The procedure to solve the system $A\\,\\mathbf{x}=\\mathbf{b}$ remains almost the same. We have to add the efect of the permutation matrix $P$:\n",
    "\n",
    "$$A\\, \\mathbf{x} = \\mathbf{b} \\rightarrow P\\, A\\, \\mathbf{x} = P\\, \\mathbf{b} = \\widehat{\\mathbf{b}} \\rightarrow L\\, U\\, \\mathbf{x} = \\widehat{\\mathbf{b}} \\ \\ \\text{ if we set } \\ \\  U\\, \\mathbf{x} = \\mathbf{c} \\rightarrow L\\, \\mathbf{c} = \\widehat{\\mathbf{b}} \\ \\ \\text{ (solve for $\\mathbf{c}$) } \\ \\rightarrow U\\, \\mathbf{x} = \\mathbf{c}$$"
   ]
  },
  {
   "cell_type": "code",
   "execution_count": 171,
   "metadata": {},
   "outputs": [],
   "source": [
    "def solve_palu(A, b, show=False, print_precision=2):\n",
    "    P,L,U = palu_factorization(A, show, print_precision=print_precision)\n",
    "    # A.x = b -> P.A.x = P.b = b' -> L.U.x = b'\n",
    "    b = np.dot(P,b)\n",
    "    # L.c = b' with c = U.x\n",
    "    c = solve_triangular(L, b, upper=False)\n",
    "    x = solve_triangular(U, c)\n",
    "    return x"
   ]
  },
  {
   "cell_type": "markdown",
   "metadata": {},
   "source": [
    "Now that we have a new solver, we should try it with the previous example."
   ]
  },
  {
   "cell_type": "code",
   "execution_count": 172,
   "metadata": {},
   "outputs": [
    {
     "name": "stdout",
     "output_type": "stream",
     "text": [
      "\u001b[1mExact solution\u001b[0m\n",
      "[[2]\n",
      " [1]]\n",
      "\u001b[1mNumerical solution with LU factorization\u001b[0m\n",
      "[[0.]\n",
      " [1.]]\n",
      "\u001b[1mNumerical solution with NumPy solver\u001b[0m\n",
      "[[2.]\n",
      " [1.]]\n",
      "\u001b[1mNumerical solution with PALU factorization\u001b[0m\n",
      "[[2.]\n",
      " [1.]]\n",
      "\u001b[1m\n",
      " To make the comparison better, we compute the norms of the difference for each case:\u001b[0m\n",
      "\u001b[1m||x_lu_sol-x_exact||_2=\u001b[0m 2.0\n",
      "\u001b[1m||x_np_sol-x_exact||_2=\u001b[0m 0.0\n",
      "\u001b[1m||x_palu_sol-x_exact||_2=\u001b[0m 0.0\n"
     ]
    }
   ],
   "source": [
    "A=np.array([[1e-20, 1],[1,2]])\n",
    "x_exact = np.array([[2],[1]])\n",
    "# We do this here so we can compare later the numerical solution\n",
    "# with what we should have obtained.\n",
    "b = np.dot(A,x_exact)\n",
    "\n",
    "# Solving Ax=b with LU\n",
    "x_lu_sol = solve_lu(A,b)\n",
    "\n",
    "# Solving Ax=b with NumPy\n",
    "x_np_sol = np.linalg.solve(A,b)\n",
    "\n",
    "# Solving Ax=b with PALU\n",
    "x_palu_sol = solve_palu(A, b)\n",
    "\n",
    "print(textBoldH('Exact solution'))\n",
    "print(x_exact)\n",
    "print(textBoldH('Numerical solution with LU factorization'))\n",
    "print(x_lu_sol)\n",
    "print(textBoldH('Numerical solution with NumPy solver'))\n",
    "print(x_np_sol)\n",
    "print(textBoldH('Numerical solution with PALU factorization'))\n",
    "print(x_np_sol)\n",
    "\n",
    "print(textBoldH('\\n To make the comparison better, we compute the norms of the difference for each case:'))\n",
    "print(textBold('||x_lu_sol-x_exact||_2='),np.linalg.norm(x_lu_sol-x_exact))\n",
    "print(textBold('||x_np_sol-x_exact||_2='),np.linalg.norm(x_np_sol-x_exact))\n",
    "print(textBold('||x_palu_sol-x_exact||_2='),np.linalg.norm(x_palu_sol-x_exact))"
   ]
  },
  {
   "cell_type": "markdown",
   "metadata": {},
   "source": [
    "For completeness, let's take a look to the solution found by NumPy and by PALU."
   ]
  },
  {
   "cell_type": "code",
   "execution_count": 173,
   "metadata": {},
   "outputs": [
    {
     "name": "stdout",
     "output_type": "stream",
     "text": [
      "[[2.]\n",
      " [1.]]\n"
     ]
    }
   ],
   "source": [
    "print(x_palu_sol)"
   ]
  },
  {
   "cell_type": "code",
   "execution_count": 174,
   "metadata": {},
   "outputs": [
    {
     "name": "stdout",
     "output_type": "stream",
     "text": [
      "[[2.]\n",
      " [1.]]\n"
     ]
    }
   ],
   "source": [
    "print(x_np_sol)"
   ]
  },
  {
   "cell_type": "markdown",
   "metadata": {},
   "source": [
    "Here are some questions about PALU:\n",
    "1. How much computational complexity has been added to the original $\\sim 2n^3/3$ of LU?\n",
    "2. Clearly PALU is more robust than LU, but given a non sigular matrix $A$, will it always be possible to perform the PALU factorization?"
   ]
  },
  {
   "cell_type": "markdown",
   "metadata": {},
   "source": [
    "<a id=\"acknowledgements\"></a>\n",
    "\n",
    "# Acknowledgements\n",
    "[Back to TOC](#toc)\n",
    "* _Material created by professor Claudio Torres_ (`ctorres@inf.utfsm.cl`) - v1.00: This Jupyter Notebook is based on the Jupyter Notebook _04_linear_systems_of_equations_. _DI UTFSM. April 2024._\n",
    "* _Update April 2024 - v1.01 - C.Torres_ : Adding 'r' before strings with LaTeX commands, it is required in Python 3.12.* to avoid SyntaxWarning.\n",
    "* _Update April 2024 - v1.02 - C.Torres_ : Update plot in \"BONUS: Computing time for a FLOP\".\n",
    "* _Update April 2024 - v1.03 - C.Torres_ : Thanks Mr. Raúl Cuello.\n",
    "* _Update May 2024 - v1.04 - C.Torres_ : Thanks Mr. Sebastián Garay Barria.\n",
    "* _Update March 2025 - v1.05 - C.Torres_ : Adding Colab link.\n",
    "* _Update September 2025 - v1.06 - C.Torres_ : Adding Colab requirements, fixing anchors and updating title.\n",
    "* _Update September 2025 - v1.07 - C.Torres_ : Updating BONUS."
   ]
  },
  {
   "cell_type": "markdown",
   "metadata": {},
   "source": [
    "<a id=\"bonus\"></a>\n",
    "\n",
    "# BONUS: Computing time for a FLOPS (FLoating point OPerations per Second)\n",
    "[Back to TOC](#toc)"
   ]
  },
  {
   "cell_type": "code",
   "execution_count": 179,
   "metadata": {},
   "outputs": [
    {
     "name": "stdout",
     "output_type": "stream",
     "text": [
      "\u001b[1mTime required for the ADDITION of two double precision numbers\u001b[0m\n",
      "73.1 ns ± 1.13 ns per loop (mean ± std. dev. of 7 runs, 10,000,000 loops each)\n",
      "\u001b[1mTime required for the SUBSTRACTION of two double precision numbers\u001b[0m\n",
      "72.7 ns ± 4.21 ns per loop (mean ± std. dev. of 7 runs, 10,000,000 loops each)\n",
      "\u001b[1mTime required for the MULTIPLICATION of two double precision numbers\u001b[0m\n",
      "77.9 ns ± 4.29 ns per loop (mean ± std. dev. of 7 runs, 10,000,000 loops each)\n",
      "\u001b[1mTime required for the DIVISION of two double precision numbers\u001b[0m\n",
      "80.2 ns ± 9.86 ns per loop (mean ± std. dev. of 7 runs, 10,000,000 loops each)\n"
     ]
    }
   ],
   "source": [
    "a = np.pi\n",
    "b = np.exp(1)\n",
    "\n",
    "print(textBoldH('Time required for the ADDITION of two double precision numbers'))\n",
    "%timeit a+b\n",
    "print(textBoldH('Time required for the SUBSTRACTION of two double precision numbers'))\n",
    "%timeit a-b\n",
    "print(textBoldH('Time required for the MULTIPLICATION of two double precision numbers'))\n",
    "%timeit a*b\n",
    "print(textBoldH('Time required for the DIVISION of two double precision numbers'))\n",
    "%timeit a/b"
   ]
  },
  {
   "cell_type": "code",
   "execution_count": null,
   "metadata": {},
   "outputs": [
    {
     "name": "stdout",
     "output_type": "stream",
     "text": [
      "1.11 μs ± 67.3 ns per loop (mean ± std. dev. of 7 runs, 100,000 loops each)\n",
      "1.16 μs ± 79 ns per loop (mean ± std. dev. of 7 runs, 1,000,000 loops each)\n",
      "1.04 μs ± 24.6 ns per loop (mean ± std. dev. of 7 runs, 1,000,000 loops each)\n",
      "1.37 μs ± 12.1 ns per loop (mean ± std. dev. of 7 runs, 1,000,000 loops each)\n"
     ]
    }
   ],
   "source": [
    "n = 1024\n",
    "a = np.pi*np.ones(n)\n",
    "b = np.exp(1)*np.ones(n)\n",
    "outFLOP_ADD = %timeit -o a+b # type: ignore\n",
    "outFLOP_SUB = %timeit -o a-b # type: ignore\n",
    "outFLOP_MUL = %timeit -o a*b # type: ignore\n",
    "outFLOP_DIV = %timeit -o a/b # type: ignore"
   ]
  },
  {
   "cell_type": "code",
   "execution_count": 184,
   "metadata": {},
   "outputs": [
    {
     "name": "stdout",
     "output_type": "stream",
     "text": [
      "\u001b[1mTime required for the ADDITION of two double precision numbers\u001b[0m\n",
      "1.0870257407916535  ns\n",
      "\u001b[1mTime required for the SUBSTRACTION of two double precision numbers\u001b[0m\n",
      "1.1343411010044895  ns\n",
      "\u001b[1mTime required for the MULTIPLICATION of two double precision numbers\u001b[0m\n",
      "1.0158257952008118  ns\n",
      "\u001b[1mTime required for the DIVISION of two double precision numbers\u001b[0m\n",
      "1.339732563197542  ns\n"
     ]
    }
   ],
   "source": [
    "print(textBoldH('Time required for the ADDITION of two double precision numbers'))\n",
    "print((outFLOP_ADD.average/n)/1e-9,' ns')\n",
    "print(textBoldH('Time required for the SUBSTRACTION of two double precision numbers'))\n",
    "print((outFLOP_SUB.average/n)/1e-9,' ns')\n",
    "print(textBoldH('Time required for the MULTIPLICATION of two double precision numbers'))\n",
    "print((outFLOP_MUL.average/n)/1e-9,' ns')\n",
    "print(textBoldH('Time required for the DIVISION of two double precision numbers'))\n",
    "print((outFLOP_DIV.average/n)/1e-9,' ns')"
   ]
  },
  {
   "cell_type": "code",
   "execution_count": 185,
   "metadata": {},
   "outputs": [
    {
     "name": "stdout",
     "output_type": "stream",
     "text": [
      "1.3397325631975423e-09\n"
     ]
    }
   ],
   "source": [
    "# Time for a FLOP\n",
    "tauOpe =(outFLOP_DIV.average/n)\n",
    "print(tauOpe)"
   ]
  },
  {
   "cell_type": "code",
   "execution_count": 186,
   "metadata": {},
   "outputs": [
    {
     "data": {
      "image/png": "[encoded data removed]",
      "text/plain": [
       "<Figure size 500x500 with 1 Axes>"
      ]
     },
     "metadata": {},
     "output_type": "display_data"
    }
   ],
   "source": [
    "n = np.logspace(1,6,20)\n",
    "# n = np.linspace(1,1e5,200)\n",
    "plt.figure(figsize=(5,5))\n",
    "plt.loglog(n,tauOpe*(2./3)*np.power(n,3),'k.',label=r'$\\sim\\frac{2}{3}\\,n^3$')\n",
    "plt.plot(n,tauOpe*np.power(n,2),'kd',label=r'$\\mathcal{O}(n^2)$')\n",
    "plt.plot(n,tauOpe*np.power(n,1),'k*',label=r'$\\mathcal{O}(n)$')\n",
    "plt.plot(n,1+n*0,color='k',linestyle=(5, (10, 3)))\n",
    "plt.plot(n,60+n*0,color='k',linestyle='-')\n",
    "plt.plot(n,60*60+n*0,color='k',linestyle='--')\n",
    "plt.plot(n,60*60*24+n*0,color='k',linestyle='-.')\n",
    "plt.plot(n,60*60*24*30+n*0,color='k',linestyle=':')\n",
    "plt.plot(n,60*60*24*30*12+n*0,color='k',linestyle=(0, (3, 5, 1, 5)))\n",
    "plt.yticks([1,60,60*60,60*60*24,60*60*24*30,60*60*24*30*12,60*60*24*30*12*100,60*60*24*30*12*1000],['1 sec','1 min','1 hr','1 day','1 month','1 year','1 century','1 m'])\n",
    "plt.xlabel(r'$n$')\n",
    "plt.title(r'$\\mathrm{Comparison \\, of \\, different \\, computational \\, complexities}$')\n",
    "plt.grid(True)\n",
    "plt.legend(loc='best')\n",
    "plt.show()"
   ]
  },
  {
   "cell_type": "code",
   "execution_count": null,
   "metadata": {},
   "outputs": [],
   "source": []
  }
 ],
 "metadata": {
  "anaconda-cloud": {},
  "kernelspec": {
   "display_name": "base",
   "language": "python",
   "name": "python3"
  },
  "language_info": {
   "codemirror_mode": {
    "name": "ipython",
    "version": 3
   },
   "file_extension": ".py",
   "mimetype": "text/x-python",
   "name": "python",
   "nbconvert_exporter": "python",
   "pygments_lexer": "ipython3",
   "version": "3.13.5"
  }
 },
 "nbformat": 4,
 "nbformat_minor": 1
}
