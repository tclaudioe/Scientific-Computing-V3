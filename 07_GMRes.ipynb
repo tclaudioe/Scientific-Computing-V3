{
 "cells": [
  {
   "attachments": {},
   "cell_type": "markdown",
   "metadata": {},
   "source": [
    "<center>\n",
    "    <img src=\"http://sct.inf.utfsm.cl/wp-content/uploads/2020/04/logo_di.png\" style=\"width:60%\">\n",
    "    <h1> INF285 - Computación Científica </h1>\n",
    "    <h2> Generalized Minimal Residual Method (GMRes) </h2>\n",
    "    <h2> <a href=\"#acknowledgements\"> [S]cientific [C]omputing [T]eam </a> </h2>\n",
    "    <h2> Version: 1.26</h2>\n",
    "</center>\n",
    "\n",
    "[![Open In Colab](https://colab.research.google.com/assets/colab-badge.svg)](https://colab.research.google.com/github/tclaudioe/Scientific-Computing-V3/blob/main/07_GMRes.ipynb)"
   ]
  },
  {
   "attachments": {},
   "cell_type": "markdown",
   "metadata": {},
   "source": [
    "<div id='toc' />\n",
    "\n",
    "## Table of Contents\n",
    "* [Introduction](#intro)\n",
    "* [A quick review on Least Squares](#LS)\n",
    "* [GMRes](#GMRes)\n",
    "    * [A very simple example](#AVSE)\n",
    "    * [Another example, how may iteration does it need to converge?](#AEx)\n",
    "    * [Plotting the residual over the iterations](#Proi)\n",
    "* [Theoretical Problems](#TP)\n",
    "* [Practical Problems](#PP)\n",
    "* [Acknowledgements](#acknowledgements)"
   ]
  },
  {
   "cell_type": "code",
   "execution_count": 1,
   "metadata": {},
   "outputs": [],
   "source": [
    "import numpy as np\n",
    "import scipy as sp\n",
    "from scipy import linalg as la\n",
    "import matplotlib.pyplot as plt\n",
    "import scipy.sparse.linalg\n",
    "%matplotlib inline\n",
    "#%load_ext memory_profiler\n",
    "import matplotlib as mpl\n",
    "mpl.rcParams['font.size'] = 14\n",
    "mpl.rcParams['axes.labelsize'] = 20\n",
    "mpl.rcParams['xtick.labelsize'] = 14\n",
    "mpl.rcParams['ytick.labelsize'] = 14\n",
    "M=8\n",
    "\n",
    "# Fixing the 'seed' of the random number generator to obtain reproducible outcomes.\n",
    "rng = np.random.Generator(np.random.PCG64(seed=0))"
   ]
  },
  {
   "attachments": {},
   "cell_type": "markdown",
   "metadata": {},
   "source": [
    "<div id='intro' />\n",
    "\n",
    "## Introduction\n",
    "[Back to TOC](#toc)\n",
    "\n",
    "In this Jupyter Notebook we will learn about the Generalized Minimum Residual Method (GMRes).\n",
    "This algorithm solves **square** linear system of equations.\n",
    "We already learned several algorithms to solve linear system of equations, such as the Gaussian Elimination, the LU factorization, the PALU factorization, which are complete algorithms, and iterative methods, such as the Jacobi and the Gauss-Seidel methods.\n",
    "So, you may ask, _why do we need to learn another algorithm since I already know enough methods?_\n",
    "The answer is simple, GMRes is a complete algorithm (which means it finishes after a finite number of FLOPS) that also behaves as an iterative algorithm.\n",
    "Moreover, it can handle square linear system of equations that are not written in the standard form $A\\,\\mathbf{x}=\\mathbf{b}$.\n",
    "\n",
    "In general, GMRes works really well for finding the solution of large, sparse (and dense as well), nonsymmetric linear systems of equations. \n",
    "Of course, it will also have trouble for ill-conditioned linear system of equations. \n",
    "But it is really easy to add a left or right or both preconditioners!"
   ]
  },
  {
   "attachments": {},
   "cell_type": "markdown",
   "metadata": {},
   "source": [
    "<div id='LS' />\n",
    "\n",
    "## A quick review on Least Squares\n",
    "[Back to TOC](#toc)"
   ]
  },
  {
   "attachments": {},
   "cell_type": "markdown",
   "metadata": {},
   "source": [
    "Least Squares is used to solve overdetemined linear systems of equations $A\\,\\mathbf{x} \\approx \\mathbf{b}$. \n",
    "That is, a linear system of equations where there are more equations than unknowns. \n",
    "The least-square approximation finds the $\\overline{\\mathbf{x}}$ such that it minimizes the 2-norm of $\\mathbf{r} = \\mathbf{b} - A\\,\\mathbf{x}$.\n",
    "\n",
    "Now, you might be wondering, \n",
    "- _How are linear least squares problems connected with GMRes?_\n",
    "\n",
    "They are connected since GMRes is an iterative algorithm that minimizes the least-square error on each iteration where the approximation to the solution is restricted to live in a lower dimensional vector space."
   ]
  },
  {
   "attachments": {},
   "cell_type": "markdown",
   "metadata": {},
   "source": [
    "<div id='GMRes' />\n",
    "\n",
    "## GMRes\n",
    "[Back to TOC](#toc)\n",
    "\n",
    "GMRes is a member of the family of Krylov methods.\n",
    "It solve a square linear system of equations $A\\,\\mathbf{x}=\\mathbf{b}$, for $A\\in\\mathbb{R}^{n \\times n}$ nonsingular, $\\mathbf{x}\\in\\mathbb{R}^n$ and $\\mathbf{b}\\in\\mathbb{R}^n$.\n",
    "It finds an approximation of $\\mathbf{x}$ restricted to _live_ on the Krylov sub-space $\\mathcal{K}_k$,  where $\\mathcal{K}_k=\\textrm{span}\\left(\\mathbf{r}_0, A\\,\\mathbf{r}_0, A^2\\,\\mathbf{r}_0, \\cdots, A^{k-1}\\,\\mathbf{r}_0\\right)$ and $\\mathbf{r}_0 = \\mathbf{b} - A\\,\\mathbf{x}_0$ is the residual vector of the initial guess.\n",
    "\n",
    "The idea behind this method is to look for improvements to the initial guess $\\mathbf{x}_0$ in the Krylov sub-space. \n",
    "At the $(k+1)$-th iteration, we enlarge the Krylov space by adding $A^k\\,\\mathbf{r}_0$, re-orthogonalize it against  the basis, and then use least squares to find the best improvement to add to $\\mathbf{x}_0$.\n",
    "\n",
    "The algorithm is as follows:"
   ]
  },
  {
   "attachments": {},
   "cell_type": "markdown",
   "metadata": {},
   "source": [
    "`Generalized Minimum Residual Method`\n",
    "\n",
    "$\\mathbf{x}_0$ `= initial guess`<br>\n",
    "$\\mathbf{r}$ `=` $\\mathbf{b} - A\\,\\mathbf{x}_0$<br>\n",
    "$\\mathbf{q}_1$ `=` $\\mathbf{r} / \\|\\mathbf{r}\\|_2$<br>\n",
    "`for` $k = 1, ..., n$<br>\n",
    "$\\qquad \\ \\ \\mathbf{y} = A\\,\\mathbf{q}_k$<br>\n",
    "$\\qquad$ `for` $j = 1,2,...,k$ <br>\n",
    "$\\qquad \\qquad$ $h_{jk} = \\mathbf{q}_j^*\\,\\mathbf{y}$<br>\n",
    "$\\qquad \\qquad$ $\\mathbf{y} = \\mathbf{y} - h_{jk}\\, \\mathbf{q}_j$<br>\n",
    "$\\qquad$ `end`<br>\n",
    "$\\qquad h_{k+1,k} = \\|\\mathbf{y}\\|_2$ <br>\n",
    "$\\qquad$ `if` $h_{k+1,k}>0:$ <br>\n",
    "$\\qquad \\qquad\\ \\mathbf{q}_{k+1} = \\mathbf{y}/h_{k+1,k}$ <br>\n",
    "$\\qquad \\overline{\\mathbf{c}}_k=\\text{argmin}_{\\mathbf{c}_k}\\left\\|[\\|\\mathbf{r}\\|_2, 0, 0, \\dots, 0]^T-\\widehat{H}_k\\,\\mathbf{c}_k\\right\\|_2$ <br>\n",
    "$\\qquad$ $\\mathbf{x}_k = Q_k \\, \\overline{\\mathbf{c}}_k + \\mathbf{x}_0$ <br>\n",
    "`end`"
   ]
  },
  {
   "attachments": {},
   "cell_type": "markdown",
   "metadata": {},
   "source": [
    "Now we have to implement it."
   ]
  },
  {
   "cell_type": "code",
   "execution_count": 2,
   "metadata": {},
   "outputs": [],
   "source": [
    "# This is a very instructive implementation of GMRes.\n",
    "def GMRes(A, b, x0=np.array([0.0]), m=10, flag_display=True, threshold=1e-12):\n",
    "    n = len(b)\n",
    "    if len(x0)==1:\n",
    "        x0=np.zeros(n)\n",
    "    r0 = b - np.dot(A, x0)\n",
    "    nr0=np.linalg.norm(r0)\n",
    "    out_res=np.array(nr0)\n",
    "    Q = np.zeros((n,min(n,m+1)))\n",
    "    H = np.zeros((min(n,m+1),min(n,m)))\n",
    "    Q[:,0] = r0 / nr0\n",
    "    flag_break=False\n",
    "    for k in np.arange(min(m,n)):\n",
    "        y = np.dot(A, Q[:,k])\n",
    "        if flag_display:\n",
    "            print('||y||=',np.linalg.norm(y))\n",
    "        for j in np.arange(k+1):\n",
    "            H[j][k] = np.dot(Q[:,j], y)\n",
    "            if flag_display:\n",
    "                print('H[',j,'][',k,']=',H[j][k])\n",
    "            y = y - np.dot(H[j][k],Q[:,j])\n",
    "            if flag_display:\n",
    "                print('||y||=',np.linalg.norm(y))\n",
    "        # All but the last equation are treated equally. Why?\n",
    "        if k+1<n:\n",
    "            H[k+1][k] = np.linalg.norm(y)\n",
    "            if flag_display:\n",
    "                print('H[',k+1,'][',k,']=',H[k+1][k])\n",
    "            if (np.abs(H[k+1][k]) > 1e-16):\n",
    "                Q[:,k+1] = y/H[k+1][k]\n",
    "            else:\n",
    "                print('flag_break has been activated')\n",
    "                flag_break=True\n",
    "            # Do you remember e_1? The canonical vector.\n",
    "            e1 = np.zeros((k+1)+1)        \n",
    "            e1[0]=1\n",
    "            H_tilde=H[0:(k+1)+1,0:k+1]\n",
    "        else:\n",
    "            H_tilde=H[0:k+1,0:k+1]\n",
    "        # Solving the 'SMALL' least square problem. \n",
    "        # This could be improved with Givens rotations!\n",
    "        ck = np.linalg.lstsq(H_tilde, nr0*e1,rcond=None)[0] \n",
    "        if k+1<n:\n",
    "            x = x0 + np.dot(Q[:,0:(k+1)], ck)\n",
    "        else:\n",
    "            x = x0 + np.dot(Q, ck)\n",
    "        # Why is 'norm_small' equal to 'norm_full'?\n",
    "        norm_small=np.linalg.norm(np.dot(H_tilde,ck)-nr0*e1)\n",
    "        out_res = np.append(out_res,norm_small)\n",
    "        if flag_display:\n",
    "            norm_full=np.linalg.norm(b-np.dot(A,x))\n",
    "            print(r'..........||b-A\\,x_k||=',norm_full)\n",
    "            print(r'..........||H_k\\,c_k-nr0*e1||',norm_small);\n",
    "        if flag_break:\n",
    "            if flag_display: \n",
    "                print('EXIT: flag_break=True')\n",
    "            break\n",
    "        if norm_small<threshold:\n",
    "            if flag_display:\n",
    "                print('EXIT: norm_small<threshold')\n",
    "            break\n",
    "    return x, out_res"
   ]
  },
  {
   "attachments": {},
   "cell_type": "markdown",
   "metadata": {},
   "source": [
    "<div id='AVSE' />\n",
    "\n",
    "## A very simple example\n",
    "[Back to TOC](#toc)"
   ]
  },
  {
   "cell_type": "code",
   "execution_count": 3,
   "metadata": {},
   "outputs": [],
   "source": [
    "A = np.array([[1,1,0],[0,1,0],[0,1,1]])\n",
    "b = np.array([1,2,3])\n",
    "x0 = np.zeros(3)"
   ]
  },
  {
   "cell_type": "code",
   "execution_count": 4,
   "metadata": {},
   "outputs": [
    {
     "name": "stdout",
     "output_type": "stream",
     "text": [
      "||y||= 1.647508942095828\n",
      "H[ 0 ][ 0 ]= 1.5714285714285714\n",
      "||y||= 0.4948716593053935\n",
      "H[ 1 ][ 0 ]= 0.4948716593053935\n",
      "..........||b-A\\,x_k||= 1.1239029738980326\n",
      "..........||H_k\\,c_k-nr0*e1|| 1.1239029738980326\n",
      "||y||= 0.7867957924694432\n",
      "H[ 0 ][ 1 ]= -0.6598288790738581\n",
      "||y||= 0.4285714285714286\n",
      "H[ 1 ][ 1 ]= 0.4285714285714286\n",
      "||y||= 1.1443916996305594e-16\n",
      "H[ 2 ][ 1 ]= 1.1443916996305594e-16\n",
      "..........||b-A\\,x_k||= 9.992007221626409e-16\n",
      "..........||H_k\\,c_k-nr0*e1|| 4.920537646379665e-16\n",
      "EXIT: norm_small<threshold\n",
      "--------------------------------\n",
      "x_scipy [-1.  2.  1.]\n",
      "x_our [-1.  2.  1.]\n",
      "x_np [-1.  2.  1.]\n"
     ]
    }
   ],
   "source": [
    "# scipy gmres\n",
    "x_scipy = scipy.sparse.linalg.gmres(A,b,x0)[0]\n",
    "# our gmres\n",
    "x_our, _ = GMRes(A,b)\n",
    "# numpy solve\n",
    "x_np= np.linalg.solve(A,b)\n",
    "\n",
    "# Showing the solutions\n",
    "print('--------------------------------')\n",
    "print('x_scipy',x_scipy)\n",
    "print('x_our',x_our)\n",
    "print('x_np',x_np)"
   ]
  },
  {
   "attachments": {},
   "cell_type": "markdown",
   "metadata": {},
   "source": [
    "<div id='AEx' />\n",
    "\n",
    "## Another example, how may iteration does it need to converge?\n",
    "[Back to TOC](#toc)"
   ]
  },
  {
   "cell_type": "code",
   "execution_count": 5,
   "metadata": {},
   "outputs": [
    {
     "name": "stdout",
     "output_type": "stream",
     "text": [
      "||y||= 0.9999999999999999\n",
      "H[ 0 ][ 0 ]= 0.0\n",
      "||y||= 0.9999999999999999\n",
      "H[ 1 ][ 0 ]= 0.9999999999999999\n",
      "..........||b-A\\,x_k||= 1.4142135623730951\n",
      "..........||H_k\\,c_k-nr0*e1|| 1.4142135623730951\n",
      "||y||= 1.0\n",
      "H[ 0 ][ 1 ]= 1.0\n",
      "||y||= 1.5700924586837752e-16\n",
      "H[ 1 ][ 1 ]= 0.0\n",
      "||y||= 1.5700924586837752e-16\n",
      "H[ 2 ][ 1 ]= 1.5700924586837752e-16\n",
      "..........||b-A\\,x_k||= 3.1401849173675503e-16\n",
      "..........||H_k\\,c_k-nr0*e1|| 2.2204460492503136e-16\n",
      "EXIT: norm_small<threshold\n",
      "3.1401849173675503e-16\n"
     ]
    }
   ],
   "source": [
    "A = np.array([[0,0,0,1],[1,0,0,0],[0,1,0,0],[0,0,1,0]])\n",
    "b = np.array([1,0,1,0])\n",
    "x_our, _ = GMRes(A, b, m=10)\n",
    "norm_full=np.linalg.norm(b-np.dot(A,x_our))\n",
    "print(norm_full)"
   ]
  },
  {
   "cell_type": "code",
   "execution_count": 6,
   "metadata": {
    "scrolled": false
   },
   "outputs": [
    {
     "name": "stdout",
     "output_type": "stream",
     "text": [
      "||y||= 14.69996742016142\n",
      "H[ 0 ][ 0 ]= 14.49774658917534\n",
      "||y||= 2.4298942342953858\n",
      "H[ 1 ][ 0 ]= 2.4298942342953858\n",
      "..........||b-A\\,x_k||= 0.3197539181536269\n",
      "..........||H_k\\,c_k-nr0*e1|| 0.3197539181536269\n",
      "||y||= 10.738549952497722\n",
      "H[ 0 ][ 1 ]= 2.234737033433521\n",
      "||y||= 10.503447313796057\n",
      "H[ 1 ][ 1 ]= 10.47783847847944\n",
      "||y||= 0.7330117956658548\n",
      "H[ 2 ][ 1 ]= 0.7330117956658548\n",
      "..........||b-A\\,x_k||= 0.02345892619396705\n",
      "..........||H_k\\,c_k-nr0*e1|| 0.02345892619396711\n",
      "||y||= 10.439945572017258\n",
      "H[ 0 ][ 2 ]= -0.10980359241155835\n",
      "||y||= 10.439368118702218\n",
      "H[ 1 ][ 2 ]= 0.10198953692525126\n",
      "||y||= 10.438869903017952\n",
      "H[ 2 ][ 2 ]= 10.416001583301435\n",
      "||y||= 0.69059095620785\n",
      "H[ 3 ][ 2 ]= 0.69059095620785\n",
      "..........||b-A\\,x_k||= 0.0015574176185953238\n",
      "..........||H_k\\,c_k-nr0*e1|| 0.001557417618595218\n",
      "||y||= 9.918149718293709\n",
      "H[ 0 ][ 3 ]= 0.34299727495727805\n",
      "||y||= 9.912217042814461\n",
      "H[ 1 ][ 3 ]= 0.013823213049490413\n",
      "||y||= 9.912207404137712\n",
      "H[ 2 ][ 3 ]= 0.3150352978419234\n",
      "||y||= 9.907199825569085\n",
      "H[ 3 ][ 3 ]= 9.876976801329244\n",
      "||y||= 0.7732642819631811\n",
      "H[ 4 ][ 3 ]= 0.7732642819631811\n",
      "..........||b-A\\,x_k||= 0.00012208411930801584\n",
      "..........||H_k\\,c_k-nr0*e1|| 0.00012208411930804465\n",
      "||y||= 9.436491317068867\n",
      "H[ 0 ][ 4 ]= -0.41613647441129054\n",
      "||y||= 9.427311324645041\n",
      "H[ 1 ][ 4 ]= -0.20818493317168907\n",
      "||y||= 9.425012352532008\n",
      "H[ 2 ][ 4 ]= -0.21601815257650658\n",
      "||y||= 9.422536495187396\n",
      "H[ 3 ][ 4 ]= -0.7559497917636602\n",
      "||y||= 9.392163431045633\n",
      "H[ 4 ][ 4 ]= 9.380453206573582\n",
      "||y||= 0.4688619783627664\n",
      "H[ 5 ][ 4 ]= 0.4688619783627664\n",
      "..........||b-A\\,x_k||= 6.075645348802134e-06\n",
      "..........||H_k\\,c_k-nr0*e1|| 6.075645348590631e-06\n",
      "||y||= 10.059735787765385\n",
      "H[ 0 ][ 5 ]= -0.07358391198656444\n",
      "||y||= 10.05946666218167\n",
      "H[ 1 ][ 5 ]= -0.6380315596107307\n",
      "||y||= 10.03921238227806\n",
      "H[ 2 ][ 5 ]= -0.07917869270255035\n",
      "||y||= 10.038900138516523\n",
      "H[ 3 ][ 5 ]= 0.6825697700349738\n",
      "||y||= 10.015668449990818\n",
      "H[ 4 ][ 5 ]= 0.20498447523382923\n",
      "||y||= 10.013570585213577\n",
      "H[ 5 ][ 5 ]= 9.981892464999941\n",
      "||y||= 0.7958760470274135\n",
      "H[ 6 ][ 5 ]= 0.7958760470274135\n",
      "..........||b-A\\,x_k||= 4.838479435890158e-07\n",
      "..........||H_k\\,c_k-nr0*e1|| 4.838479435566998e-07\n",
      "||y||= 10.285297363947626\n",
      "H[ 0 ][ 6 ]= -0.37587139288938176\n",
      "||y||= 10.27842704701626\n",
      "H[ 1 ][ 6 ]= -0.58202469740075\n",
      "||y||= 10.261934993579473\n",
      "H[ 2 ][ 6 ]= -0.45964979138778794\n",
      "||y||= 10.251635571055388\n",
      "H[ 3 ][ 6 ]= -0.3486245885702218\n",
      "||y||= 10.245706065370623\n",
      "H[ 4 ][ 6 ]= 0.005965808380352433\n",
      "||y||= 10.245704328502885\n",
      "H[ 5 ][ 6 ]= 0.06723721471985145\n",
      "||y||= 10.24548370473837\n",
      "H[ 6 ][ 6 ]= 10.241137476092137\n",
      "||y||= 0.29839493936832706\n",
      "H[ 7 ][ 6 ]= 0.29839493936832706\n",
      "..........||b-A\\,x_k||= 1.4143940247132702e-08\n",
      "..........||H_k\\,c_k-nr0*e1|| 1.414394027647708e-08\n",
      "||y||= 9.610295716191287\n",
      "H[ 0 ][ 7 ]= -0.030328949996637822\n",
      "||y||= 9.610247858793064\n",
      "H[ 1 ][ 7 ]= -0.12432709755350979\n",
      "||y||= 9.609443619702995\n",
      "H[ 2 ][ 7 ]= -0.10888695356163325\n",
      "||y||= 9.60882668756153\n",
      "H[ 3 ][ 7 ]= 0.07891808412489798\n",
      "||y||= 9.608502601737314\n",
      "H[ 4 ][ 7 ]= -0.25094359475920675\n",
      "||y||= 9.605225117603545\n",
      "H[ 5 ][ 7 ]= -0.0388357760236131\n",
      "||y||= 9.605146607019734\n",
      "H[ 6 ][ 7 ]= -0.31766989196478435\n",
      "||y||= 9.599892040126377\n",
      "H[ 7 ][ 7 ]= 9.59926403532659\n",
      "||y||= 0.10980510993237715\n",
      "H[ 8 ][ 7 ]= 0.10980510993237715\n",
      "..........||b-A\\,x_k||= 1.6169494500088014e-10\n",
      "..........||H_k\\,c_k-nr0*e1|| 1.6169487198950182e-10\n",
      "||y||= 10.286960365416276\n",
      "H[ 0 ][ 8 ]= -0.9528735876634213\n",
      "||y||= 10.242733301496177\n",
      "H[ 1 ][ 8 ]= 0.09650665035816663\n",
      "||y||= 10.242278650379292\n",
      "H[ 2 ][ 8 ]= 0.1455907405643846\n",
      "||y||= 10.241243835017178\n",
      "H[ 3 ][ 8 ]= -0.08723782407492298\n",
      "||y||= 10.240872269993803\n",
      "H[ 4 ][ 8 ]= 0.1854743972536274\n",
      "||y||= 10.239192551089731\n",
      "H[ 5 ][ 8 ]= -0.11435941540678218\n",
      "||y||= 10.238553902890743\n",
      "H[ 6 ][ 8 ]= -0.29456501236464083\n",
      "||y||= 10.234315681856303\n",
      "H[ 7 ][ 8 ]= 0.3059410642027123\n",
      "||y||= 10.229741812046107\n",
      "H[ 8 ][ 8 ]= 10.22062118470566\n",
      "||y||= 0.4318797747872137\n",
      "H[ 9 ][ 8 ]= 0.4318797747872137\n",
      "..........||b-A\\,x_k||= 6.829349601268547e-12\n",
      "..........||H_k\\,c_k-nr0*e1|| 6.829283166455979e-12\n",
      "||y||= 10.01907227703509\n",
      "H[ 0 ][ 9 ]= -0.04760959551829291\n",
      "||y||= 10.01895915845891\n",
      "H[ 1 ][ 9 ]= 0.06741443991629592\n",
      "||y||= 10.018732350560047\n",
      "H[ 2 ][ 9 ]= 0.11675767387325209\n",
      "||y||= 10.018051984180865\n",
      "H[ 3 ][ 9 ]= -0.17769637850485043\n",
      "||y||= 10.016475904968592\n",
      "H[ 4 ][ 9 ]= -0.15762928018099365\n",
      "||y||= 10.015235522185488\n",
      "H[ 5 ][ 9 ]= -0.03715577772131365\n",
      "||y||= 10.015166599364582\n",
      "H[ 6 ][ 9 ]= 0.02229392596445523\n",
      "||y||= 10.015141786010473\n",
      "H[ 7 ][ 9 ]= 0.016731403685540935\n",
      "||y||= 10.01512781016916\n",
      "H[ 8 ][ 9 ]= 0.16922606170905552\n",
      "||y||= 10.013697997945723\n",
      "H[ 9 ][ 9 ]= 10.013697996047698\n",
      "||y||= 0.00019496785511370106\n",
      "..........||b-A\\,x_k||= 4.135208191884103e-15\n",
      "..........||H_k\\,c_k-nr0*e1|| 4.0091595220786965e-15\n",
      "4.135208191884103e-15\n"
     ]
    }
   ],
   "source": [
    "A = rng.uniform(low=0.0, high=1.0, size=(10,10))+10*np.eye(10)\n",
    "b = rng.uniform(low=0.0, high=1.0, size=10)\n",
    "x_our, out_res = GMRes(A, b, m=10,flag_display=True, threshold=1e-15)\n",
    "norm_full=np.linalg.norm(b-np.dot(A,x_our))\n",
    "print(norm_full)"
   ]
  },
  {
   "attachments": {},
   "cell_type": "markdown",
   "metadata": {},
   "source": [
    "<div id='Proi' />\n",
    "\n",
    "## Plotting the residual over the iterations\n",
    "[Back to TOC](#toc)"
   ]
  },
  {
   "cell_type": "code",
   "execution_count": 7,
   "metadata": {},
   "outputs": [
    {
     "data": {
      "image/png": "[encoded data removed]",
      "text/plain": [
       "<Figure size 800x800 with 1 Axes>"
      ]
     },
     "metadata": {},
     "output_type": "display_data"
    }
   ],
   "source": [
    "plt.figure(figsize=(M,M))\n",
    "plt.semilogy(out_res,'.k',markersize=20,label='residual')\n",
    "plt.grid(True)\n",
    "plt.xlabel(r'$k$')\n",
    "plt.ylabel(r'$\\|\\mathbf{b}-A\\,\\mathbf{x}_k\\|_2$')\n",
    "plt.grid(True)\n",
    "plt.show()"
   ]
  },
  {
   "attachments": {},
   "cell_type": "markdown",
   "metadata": {},
   "source": [
    "<div id='TP' />\n",
    "\n",
    "## Theoretical Problems\n",
    "[Back to TOC](#toc)"
   ]
  },
  {
   "attachments": {},
   "cell_type": "markdown",
   "metadata": {},
   "source": [
    "1. Prove that in GMRES method, the backward error $||b- Ax_k||$ decreases monotonically with k.\n",
    "2. What would happen if we pass a singular matrix $A$ to the previous implementation of GMRes?\n",
    "3. Prove that for\n",
    "\\begin{equation}\n",
    "A=\n",
    "\\left[\n",
    "\\begin{array}{c|c}\n",
    "I & C \\\\\n",
    "\\hline\n",
    "0 & I\n",
    "\\end{array}\n",
    "\\right]\n",
    "\\end{equation}\n",
    "and any $x_0$ and $b$, GMRES converges to the exact solution after **two** steps. Here $C$ is a $m_1 \\times m_2$ submatrix, $0$ denotes the $m_2 \\times m_1$ matrix of zeros, and $I$ denotes the appropiate-sized identity matrix."
   ]
  },
  {
   "attachments": {},
   "cell_type": "markdown",
   "metadata": {},
   "source": [
    "<div id='PP' />\n",
    "\n",
    "## Practical Problems\n",
    "[Back to TOC](#toc)"
   ]
  },
  {
   "attachments": {},
   "cell_type": "markdown",
   "metadata": {},
   "source": [
    "1. A possible improvement to the present algorithm consists on taking out of the loop the least squares computations, since the _Krylov_ subspace spaned by $Q_k$ doesn't depend on previous least squares calculations.\n",
    "    * Verify the truth of the above statement.\n",
    "    * Verify if it is really an improvement.\n",
    "    * Implement it.\n",
    "    * Test both implementations using `%timeit`\n",
    "1. The GMRES method is meant for huge $n\\times n$ sparse matrices $A$. In most cases, the goal is to run the method for $k$ steps (with $k << n$), reducing the complexity of the subproblems (Least squares). Neverthless for $k$ values too small, the solution $x_k$ could be not as good as needed. So to keep the values $k$ small and avoid bad solutions, there exists a variation of the algorithm known as **Restarted GMRES**: If no enough progress is made toward the solution after $k$ iterations, discard $Q_k$ and start GMRES from the beginning, using the current best guess $x_k$ as the new $x_0$.\n",
    "    * Implement the Restarted GMRES method. Introduce a tolerance parameter to stop restarting.\n",
    "    * Compare the asymptotic operation count and storage requirements of GMRES and Restarted GMRES, for fixed $k$ and increasing $n$.\n",
    "    * Execute it on a _huge_ linear system $A x = b$, and compare the solution with the solution of standard GMRES. Keep a value of $k$ small, and count how many times Restarted GMRES has to restart. Perform benchmarks using `%timeit` and `%memit` and verify the results.\n",
    "    * Describe an example in which Restared GMRES can be expected to fail to converge, whereas GMRES succeds."
   ]
  },
  {
   "attachments": {},
   "cell_type": "markdown",
   "metadata": {},
   "source": [
    "<div id='acknowledgements' />\n",
    "\n",
    "# Acknowledgements\n",
    "[Back to TOC](#toc)\n",
    "\n",
    "* _Material created by professor Claudio Torres_ (`ctorres@inf.utfsm.cl`) _and assistants: Laura Bermeo, Alvaro Salinas, Axel Simonsen and Martín Villanueva. DI UTFSM. April 2016._\n",
    "* _Material updated by professor Claudio Torres_ (`ctorres@inf.utfsm.cl`). DI UTFSM. June 2017.\n",
    "* _Update July 2020 - v1.21 - C.Torres_ : Fixing formatting issues.\n",
    "* _Update June 2021 - v1.22 - C.Torres_ : Updating format and adding link to TOC. Improving GMRes description. Adding `rcond=None` to  np.linalg.lstsq.\n",
    "* _Update June 2022 - v1.23 - C.Torres_ : Fixing some LaTeX issues.\n",
    "* _Update May 2024 - v1.24 - C.Torres_ : Re-visiting the descriptions and redusing memory usage for the GMRes implementation.\n",
    "* _Update March 2025 - v1.25 - C.Torres_ : Moved to new github repo.\n",
    "* _Update March 2025 - v1.25 - C.Torres_ : Adding Colab link and changing title a bit."
   ]
  },
  {
   "cell_type": "code",
   "execution_count": null,
   "metadata": {},
   "outputs": [],
   "source": []
  }
 ],
 "metadata": {
  "anaconda-cloud": {},
  "kernelspec": {
   "display_name": "base",
   "language": "python",
   "name": "python3"
  },
  "language_info": {
   "codemirror_mode": {
    "name": "ipython",
    "version": 3
   },
   "file_extension": ".py",
   "mimetype": "text/x-python",
   "name": "python",
   "nbconvert_exporter": "python",
   "pygments_lexer": "ipython3",
   "version": "3.12.2"
  }
 },
 "nbformat": 4,
 "nbformat_minor": 4
}
